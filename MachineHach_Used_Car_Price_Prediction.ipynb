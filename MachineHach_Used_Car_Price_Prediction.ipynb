{
  "nbformat": 4,
  "nbformat_minor": 0,
  "metadata": {
    "colab": {
      "name": "MachineHach_Used_Car_Price_Prediction.ipynb",
      "provenance": [],
      "collapsed_sections": [
        "NbaX-2CUxzqy",
        "10hSWY5OX7V7",
        "aQgIA9TYrBOJ",
        "rjuQIY4OYQFn",
        "B5nMi5mt-ZRk",
        "GcOj4vma-O5k",
        "crIac-EGrRFF",
        "k5VFbOLrrdDa",
        "PXLcOlKi9IEL",
        "YBENJ-Cb93rU",
        "_bIfwzfj9Ozv",
        "ZIxGLWl7F56Q",
        "PJNYmNXrD_zv",
        "X1Mgz07syaXb",
        "bZ2ZubbcI0w3",
        "Tjc8hesnK4Ul",
        "osF_VajvLBd9",
        "-ZvLjvbCyzBn",
        "WhQlubbhzhwy",
        "O6u4Nnj7QCF6",
        "BEA5BfvEnMbG"
      ],
      "authorship_tag": "ABX9TyPfrITOLBPD4RPTuSoGSse+",
      "include_colab_link": true
    },
    "kernelspec": {
      "name": "python3",
      "display_name": "Python 3"
    },
    "accelerator": "TPU"
  },
  "cells": [
    {
      "cell_type": "markdown",
      "metadata": {
        "id": "view-in-github",
        "colab_type": "text"
      },
      "source": [
        "<a href=\"https://colab.research.google.com/github/ArpanSM/MachineLearningHackathons/blob/master/MachineHach_Used_Car_Price_Prediction.ipynb\" target=\"_parent\"><img src=\"https://colab.research.google.com/assets/colab-badge.svg\" alt=\"Open In Colab\"/></a>"
      ]
    },
    {
      "cell_type": "code",
      "metadata": {
        "id": "BtJVGr7VkkRE",
        "colab_type": "code",
        "colab": {
          "base_uri": "https://localhost:8080/",
          "height": 121
        },
        "outputId": "37607838-3c00-4f93-fca9-106411faa2a1"
      },
      "source": [
        "from google.colab import drive\n",
        "drive.mount('/content/drive')"
      ],
      "execution_count": null,
      "outputs": [
        {
          "output_type": "stream",
          "text": [
            "Go to this URL in a browser: https://accounts.google.com/o/oauth2/auth?client_id=947318989803-6bn6qk8qdgf4n4g3pfee6491hc0brc4i.apps.googleusercontent.com&redirect_uri=urn%3aietf%3awg%3aoauth%3a2.0%3aoob&response_type=code&scope=email%20https%3a%2f%2fwww.googleapis.com%2fauth%2fdocs.test%20https%3a%2f%2fwww.googleapis.com%2fauth%2fdrive%20https%3a%2f%2fwww.googleapis.com%2fauth%2fdrive.photos.readonly%20https%3a%2f%2fwww.googleapis.com%2fauth%2fpeopleapi.readonly\n",
            "\n",
            "Enter your authorization code:\n",
            "··········\n",
            "Mounted at /content/drive\n"
          ],
          "name": "stdout"
        }
      ]
    },
    {
      "cell_type": "markdown",
      "metadata": {
        "id": "NbaX-2CUxzqy",
        "colab_type": "text"
      },
      "source": [
        "# Load data"
      ]
    },
    {
      "cell_type": "code",
      "metadata": {
        "id": "nRcdWNTtfpcE",
        "colab_type": "code",
        "colab": {}
      },
      "source": [
        "train = \"/content/drive/My Drive/Work/Datasets/Participants_Data_Used_Cars/Data_Train.xlsx\"\n",
        "import pandas as pd\n",
        "df = pd.read_excel(train)"
      ],
      "execution_count": null,
      "outputs": []
    },
    {
      "cell_type": "code",
      "metadata": {
        "id": "GZ0zBxuWNwRT",
        "colab_type": "code",
        "colab": {
          "base_uri": "https://localhost:8080/",
          "height": 195
        },
        "outputId": "02a08d5c-9cd8-4880-ba56-1db33329e15d"
      },
      "source": [
        "df.head()"
      ],
      "execution_count": null,
      "outputs": [
        {
          "output_type": "execute_result",
          "data": {
            "text/html": [
              "<div>\n",
              "<style scoped>\n",
              "    .dataframe tbody tr th:only-of-type {\n",
              "        vertical-align: middle;\n",
              "    }\n",
              "\n",
              "    .dataframe tbody tr th {\n",
              "        vertical-align: top;\n",
              "    }\n",
              "\n",
              "    .dataframe thead th {\n",
              "        text-align: right;\n",
              "    }\n",
              "</style>\n",
              "<table border=\"1\" class=\"dataframe\">\n",
              "  <thead>\n",
              "    <tr style=\"text-align: right;\">\n",
              "      <th></th>\n",
              "      <th>Name</th>\n",
              "      <th>Location</th>\n",
              "      <th>Year</th>\n",
              "      <th>Kilometers_Driven</th>\n",
              "      <th>Fuel_Type</th>\n",
              "      <th>Transmission</th>\n",
              "      <th>Owner_Type</th>\n",
              "      <th>Mileage</th>\n",
              "      <th>Engine</th>\n",
              "      <th>Power</th>\n",
              "      <th>Seats</th>\n",
              "      <th>New_Price</th>\n",
              "      <th>Price</th>\n",
              "    </tr>\n",
              "  </thead>\n",
              "  <tbody>\n",
              "    <tr>\n",
              "      <th>0</th>\n",
              "      <td>Maruti Wagon R LXI CNG</td>\n",
              "      <td>Mumbai</td>\n",
              "      <td>2010</td>\n",
              "      <td>72000</td>\n",
              "      <td>CNG</td>\n",
              "      <td>Manual</td>\n",
              "      <td>First</td>\n",
              "      <td>26.6 km/kg</td>\n",
              "      <td>998 CC</td>\n",
              "      <td>58.16 bhp</td>\n",
              "      <td>5.0</td>\n",
              "      <td>NaN</td>\n",
              "      <td>1.75</td>\n",
              "    </tr>\n",
              "    <tr>\n",
              "      <th>1</th>\n",
              "      <td>Hyundai Creta 1.6 CRDi SX Option</td>\n",
              "      <td>Pune</td>\n",
              "      <td>2015</td>\n",
              "      <td>41000</td>\n",
              "      <td>Diesel</td>\n",
              "      <td>Manual</td>\n",
              "      <td>First</td>\n",
              "      <td>19.67 kmpl</td>\n",
              "      <td>1582 CC</td>\n",
              "      <td>126.2 bhp</td>\n",
              "      <td>5.0</td>\n",
              "      <td>NaN</td>\n",
              "      <td>12.50</td>\n",
              "    </tr>\n",
              "    <tr>\n",
              "      <th>2</th>\n",
              "      <td>Honda Jazz V</td>\n",
              "      <td>Chennai</td>\n",
              "      <td>2011</td>\n",
              "      <td>46000</td>\n",
              "      <td>Petrol</td>\n",
              "      <td>Manual</td>\n",
              "      <td>First</td>\n",
              "      <td>18.2 kmpl</td>\n",
              "      <td>1199 CC</td>\n",
              "      <td>88.7 bhp</td>\n",
              "      <td>5.0</td>\n",
              "      <td>8.61 Lakh</td>\n",
              "      <td>4.50</td>\n",
              "    </tr>\n",
              "    <tr>\n",
              "      <th>3</th>\n",
              "      <td>Maruti Ertiga VDI</td>\n",
              "      <td>Chennai</td>\n",
              "      <td>2012</td>\n",
              "      <td>87000</td>\n",
              "      <td>Diesel</td>\n",
              "      <td>Manual</td>\n",
              "      <td>First</td>\n",
              "      <td>20.77 kmpl</td>\n",
              "      <td>1248 CC</td>\n",
              "      <td>88.76 bhp</td>\n",
              "      <td>7.0</td>\n",
              "      <td>NaN</td>\n",
              "      <td>6.00</td>\n",
              "    </tr>\n",
              "    <tr>\n",
              "      <th>4</th>\n",
              "      <td>Audi A4 New 2.0 TDI Multitronic</td>\n",
              "      <td>Coimbatore</td>\n",
              "      <td>2013</td>\n",
              "      <td>40670</td>\n",
              "      <td>Diesel</td>\n",
              "      <td>Automatic</td>\n",
              "      <td>Second</td>\n",
              "      <td>15.2 kmpl</td>\n",
              "      <td>1968 CC</td>\n",
              "      <td>140.8 bhp</td>\n",
              "      <td>5.0</td>\n",
              "      <td>NaN</td>\n",
              "      <td>17.74</td>\n",
              "    </tr>\n",
              "  </tbody>\n",
              "</table>\n",
              "</div>"
            ],
            "text/plain": [
              "                               Name    Location  Year  ...  Seats  New_Price  Price\n",
              "0            Maruti Wagon R LXI CNG      Mumbai  2010  ...    5.0        NaN   1.75\n",
              "1  Hyundai Creta 1.6 CRDi SX Option        Pune  2015  ...    5.0        NaN  12.50\n",
              "2                      Honda Jazz V     Chennai  2011  ...    5.0  8.61 Lakh   4.50\n",
              "3                 Maruti Ertiga VDI     Chennai  2012  ...    7.0        NaN   6.00\n",
              "4   Audi A4 New 2.0 TDI Multitronic  Coimbatore  2013  ...    5.0        NaN  17.74\n",
              "\n",
              "[5 rows x 13 columns]"
            ]
          },
          "metadata": {
            "tags": []
          },
          "execution_count": 75
        }
      ]
    },
    {
      "cell_type": "code",
      "metadata": {
        "id": "GWd5N_r6OYiz",
        "colab_type": "code",
        "colab": {
          "base_uri": "https://localhost:8080/",
          "height": 34
        },
        "outputId": "161fc42b-b5bf-4840-f896-11b8687e4614"
      },
      "source": [
        "test = \"/content/drive/My Drive/Work/Datasets/Participants_Data_Used_Cars/Data_Test.xlsx\"\n",
        "dftest = pd.read_excel(test)\n",
        "dftest.shape"
      ],
      "execution_count": null,
      "outputs": [
        {
          "output_type": "execute_result",
          "data": {
            "text/plain": [
              "(1234, 12)"
            ]
          },
          "metadata": {
            "tags": []
          },
          "execution_count": 76
        }
      ]
    },
    {
      "cell_type": "code",
      "metadata": {
        "id": "X3aLNmCXnLax",
        "colab_type": "code",
        "colab": {
          "base_uri": "https://localhost:8080/",
          "height": 34
        },
        "outputId": "41498c82-7f2d-4d25-dd17-ef75d40d11d2"
      },
      "source": [
        "s = '/content/drive/My Drive/Work/Datasets/Participants_Data_Used_Cars/Sample_submission.xlsx'\n",
        "sub = pd.read_excel(s)\n",
        "sub.shape"
      ],
      "execution_count": null,
      "outputs": [
        {
          "output_type": "execute_result",
          "data": {
            "text/plain": [
              "(1234, 1)"
            ]
          },
          "metadata": {
            "tags": []
          },
          "execution_count": 77
        }
      ]
    },
    {
      "cell_type": "markdown",
      "metadata": {
        "id": "10hSWY5OX7V7",
        "colab_type": "text"
      },
      "source": [
        "# Cleaning and Preprocessing"
      ]
    },
    {
      "cell_type": "code",
      "metadata": {
        "id": "iTXR0frSlQzl",
        "colab_type": "code",
        "colab": {
          "base_uri": "https://localhost:8080/",
          "height": 487
        },
        "outputId": "69c3931f-1561-40af-ddad-98fe033f136d"
      },
      "source": [
        "print(df.isnull().sum())\n",
        "print(\"-------------------------------\")\n",
        "print(dftest.isnull().sum())"
      ],
      "execution_count": null,
      "outputs": [
        {
          "output_type": "stream",
          "text": [
            "Name                    0\n",
            "Location                0\n",
            "Year                    0\n",
            "Kilometers_Driven       0\n",
            "Fuel_Type               0\n",
            "Transmission            0\n",
            "Owner_Type              0\n",
            "Mileage                 2\n",
            "Engine                 36\n",
            "Power                  36\n",
            "Seats                  42\n",
            "New_Price            5195\n",
            "Price                   0\n",
            "dtype: int64\n",
            "-------------------------------\n",
            "Name                    0\n",
            "Location                0\n",
            "Year                    0\n",
            "Kilometers_Driven       0\n",
            "Fuel_Type               0\n",
            "Transmission            0\n",
            "Owner_Type              0\n",
            "Mileage                 0\n",
            "Engine                 10\n",
            "Power                  10\n",
            "Seats                  11\n",
            "New_Price            1052\n",
            "dtype: int64\n"
          ],
          "name": "stdout"
        }
      ]
    },
    {
      "cell_type": "code",
      "metadata": {
        "id": "Fhqz1hseu6Au",
        "colab_type": "code",
        "colab": {
          "base_uri": "https://localhost:8080/",
          "height": 403
        },
        "outputId": "bb403ce4-9435-4fc4-a49a-bb40c47a3385"
      },
      "source": [
        "del df['New_Price']\n",
        "del dftest['New_Price']\n",
        "del df['Name']\n",
        "del dftest['Name']\n",
        "del df['Location']\n",
        "del dftest['Location']\n",
        "print(df.isnull().sum())\n",
        "print(\"-------------------------------\")\n",
        "print(dftest.isnull().sum())\n",
        "print(dftest.shape)"
      ],
      "execution_count": null,
      "outputs": [
        {
          "output_type": "stream",
          "text": [
            "Year                  0\n",
            "Kilometers_Driven     0\n",
            "Fuel_Type             0\n",
            "Transmission          0\n",
            "Owner_Type            0\n",
            "Mileage               2\n",
            "Engine               36\n",
            "Power                36\n",
            "Seats                42\n",
            "Price                 0\n",
            "dtype: int64\n",
            "-------------------------------\n",
            "Year                  0\n",
            "Kilometers_Driven     0\n",
            "Fuel_Type             0\n",
            "Transmission          0\n",
            "Owner_Type            0\n",
            "Mileage               0\n",
            "Engine               10\n",
            "Power                10\n",
            "Seats                11\n",
            "dtype: int64\n",
            "(1234, 9)\n"
          ],
          "name": "stdout"
        }
      ]
    },
    {
      "cell_type": "code",
      "metadata": {
        "id": "tpzd_xxOlYAW",
        "colab_type": "code",
        "colab": {
          "base_uri": "https://localhost:8080/",
          "height": 403
        },
        "outputId": "b39fbb9c-a42e-4430-96cc-153d910dd15d"
      },
      "source": [
        "#train\n",
        "df['Power'] = df.Power.str.extract('^([-\\d\\.,\\s]+)')\n",
        "df['Power'] = df['Power'].astype('float64')\n",
        "df['Engine'] = df.Engine.str.extract('^([-\\d\\.,\\s]+)')\n",
        "df['Engine'] = df['Engine'].astype('float64')\n",
        "df['Mileage'] = df.Mileage.str.extract('^([-\\d\\.,\\s]+)')\n",
        "df['Mileage'] = df['Mileage'].astype('float64')\n",
        "#test\n",
        "dftest['Power'] = dftest.Power.str.extract('^([-\\d\\.,\\s]+)')\n",
        "dftest['Power'] = dftest['Power'].astype('float64')\n",
        "dftest['Engine'] = dftest.Engine.str.extract('^([-\\d\\.,\\s]+)')\n",
        "dftest['Engine'] = dftest['Engine'].astype('float64')\n",
        "dftest['Mileage'] = dftest.Mileage.str.extract('^([-\\d\\.,\\s]+)')\n",
        "dftest['Mileage'] = dftest['Mileage'].astype('float64')\n",
        "#train\n",
        "df = df[df.Mileage != 0]\n",
        "df = df[df.Seats != 0]\n",
        "df = df[df.Power != 0]\n",
        "df = df[df.Engine != 0]\n",
        "df = df[df.Price != 0]\n",
        "print(df.isnull().sum())\n",
        "print(\"-------------------------------\")\n",
        "print(dftest.isnull().sum())\n",
        "print(dftest.shape)"
      ],
      "execution_count": null,
      "outputs": [
        {
          "output_type": "stream",
          "text": [
            "Year                   0\n",
            "Kilometers_Driven      0\n",
            "Fuel_Type              0\n",
            "Transmission           0\n",
            "Owner_Type             0\n",
            "Mileage                2\n",
            "Engine                25\n",
            "Power                103\n",
            "Seats                 30\n",
            "Price                  0\n",
            "dtype: int64\n",
            "-------------------------------\n",
            "Year                  0\n",
            "Kilometers_Driven     0\n",
            "Fuel_Type             0\n",
            "Transmission          0\n",
            "Owner_Type            0\n",
            "Mileage               0\n",
            "Engine               10\n",
            "Power                32\n",
            "Seats                11\n",
            "dtype: int64\n",
            "(1234, 9)\n"
          ],
          "name": "stdout"
        }
      ]
    },
    {
      "cell_type": "code",
      "metadata": {
        "id": "FnSuJJfQr82f",
        "colab_type": "code",
        "colab": {
          "base_uri": "https://localhost:8080/",
          "height": 947
        },
        "outputId": "0adf8e46-f0cb-4dd2-8486-8134f6c65626"
      },
      "source": [
        "import matplotlib.pyplot as plt\n",
        "fig, ax  = plt.subplots(nrows=2,ncols=2,figsize=(20,16))\n",
        "#fig.set_facecolor('xkcd:salmon')\n",
        "ax[0,0].scatter(df['Mileage'],df['Price'])\n",
        "ax[0,1].scatter(df['Engine'],df['Price'])\n",
        "ax[1,0].scatter(df['Kilometers_Driven'],df['Price'])\n",
        "ax[1,1].scatter(df['Power'],df['Price'])\n",
        "ax[0,0].set_title('Mileage')\n",
        "ax[0,1].set_title('Engine')\n",
        "ax[1,0].set_title('Kilometers_Driven')\n",
        "ax[1,1].set_title('Power')\n",
        "plt.show()"
      ],
      "execution_count": null,
      "outputs": [
        {
          "output_type": "display_data",
          "data": {
            "image/png": "[encoded data removed]",
            "text/plain": [
              "<Figure size 1440x1152 with 4 Axes>"
            ]
          },
          "metadata": {
            "tags": [],
            "needs_background": "light"
          }
        }
      ]
    },
    {
      "cell_type": "code",
      "metadata": {
        "id": "SSQIRaiVqSSF",
        "colab_type": "code",
        "colab": {}
      },
      "source": [
        "df = df.drop(df[(df['Mileage']<10) & (df['Price']>100)].index).reset_index(drop=True)\n",
        "df = df.drop(df[(df['Power']<300) & (df['Price']>140)].index).reset_index(drop=True)\n",
        "df = df.drop(df[(df['Kilometers_Driven']>60000)].index).reset_index(drop=True)\n",
        "df = df.drop(df[(df['Power']>450)].index).reset_index(drop=True)\n",
        "df = df.drop(df[(df['Engine']>5000)].index).reset_index(drop=True)"
      ],
      "execution_count": null,
      "outputs": []
    },
    {
      "cell_type": "code",
      "metadata": {
        "id": "lQuyA5O9XA90",
        "colab_type": "code",
        "colab": {
          "base_uri": "https://localhost:8080/",
          "height": 934
        },
        "outputId": "da3097b2-a2a9-43c7-cabd-fb810aef7b48"
      },
      "source": [
        "fig, ax  = plt.subplots(nrows=2,ncols=2,figsize=(20,16))\n",
        "ax[0,0].scatter(df['Mileage'],df['Price'])\n",
        "ax[0,1].scatter(df['Engine'],df['Price'])\n",
        "ax[1,0].scatter(df['Kilometers_Driven'],df['Price'])\n",
        "ax[1,1].scatter(df['Power'],df['Price'])\n",
        "ax[0,0].set_title('Mileage')\n",
        "ax[0,1].set_title('Engine')\n",
        "ax[1,0].set_title('Kilometers_Driven')\n",
        "ax[1,1].set_title('Power')\n",
        "plt.show()"
      ],
      "execution_count": null,
      "outputs": [
        {
          "output_type": "display_data",
          "data": {
            "image/png": "[encoded data removed]",
            "text/plain": [
              "<Figure size 1440x1152 with 4 Axes>"
            ]
          },
          "metadata": {
            "tags": [],
            "needs_background": "light"
          }
        }
      ]
    },
    {
      "cell_type": "code",
      "metadata": {
        "id": "bsSPX8DSa4XB",
        "colab_type": "code",
        "colab": {
          "base_uri": "https://localhost:8080/",
          "height": 202
        },
        "outputId": "2ae51566-cdef-490b-c69f-9bc8c40f4d6c"
      },
      "source": [
        "df.dropna(inplace=True)\n",
        "df.isnull().sum()"
      ],
      "execution_count": null,
      "outputs": [
        {
          "output_type": "execute_result",
          "data": {
            "text/plain": [
              "Year                 0\n",
              "Kilometers_Driven    0\n",
              "Fuel_Type            0\n",
              "Transmission         0\n",
              "Owner_Type           0\n",
              "Mileage              0\n",
              "Engine               0\n",
              "Power                0\n",
              "Seats                0\n",
              "Price                0\n",
              "dtype: int64"
            ]
          },
          "metadata": {
            "tags": []
          },
          "execution_count": 84
        }
      ]
    },
    {
      "cell_type": "code",
      "metadata": {
        "id": "fpUmH2AtbTg0",
        "colab_type": "code",
        "colab": {
          "base_uri": "https://localhost:8080/",
          "height": 373
        },
        "outputId": "4c03b091-ce12-46e1-f038-fc794157f233"
      },
      "source": [
        "df.describe(include = 'all')"
      ],
      "execution_count": null,
      "outputs": [
        {
          "output_type": "execute_result",
          "data": {
            "text/html": [
              "<div>\n",
              "<style scoped>\n",
              "    .dataframe tbody tr th:only-of-type {\n",
              "        vertical-align: middle;\n",
              "    }\n",
              "\n",
              "    .dataframe tbody tr th {\n",
              "        vertical-align: top;\n",
              "    }\n",
              "\n",
              "    .dataframe thead th {\n",
              "        text-align: right;\n",
              "    }\n",
              "</style>\n",
              "<table border=\"1\" class=\"dataframe\">\n",
              "  <thead>\n",
              "    <tr style=\"text-align: right;\">\n",
              "      <th></th>\n",
              "      <th>Year</th>\n",
              "      <th>Kilometers_Driven</th>\n",
              "      <th>Fuel_Type</th>\n",
              "      <th>Transmission</th>\n",
              "      <th>Owner_Type</th>\n",
              "      <th>Mileage</th>\n",
              "      <th>Engine</th>\n",
              "      <th>Power</th>\n",
              "      <th>Seats</th>\n",
              "      <th>Price</th>\n",
              "    </tr>\n",
              "  </thead>\n",
              "  <tbody>\n",
              "    <tr>\n",
              "      <th>count</th>\n",
              "      <td>3529.000000</td>\n",
              "      <td>3529.000000</td>\n",
              "      <td>3529</td>\n",
              "      <td>3529</td>\n",
              "      <td>3529</td>\n",
              "      <td>3529.000000</td>\n",
              "      <td>3529.000000</td>\n",
              "      <td>3529.000000</td>\n",
              "      <td>3529.000000</td>\n",
              "      <td>3529.000000</td>\n",
              "    </tr>\n",
              "    <tr>\n",
              "      <th>unique</th>\n",
              "      <td>NaN</td>\n",
              "      <td>NaN</td>\n",
              "      <td>4</td>\n",
              "      <td>2</td>\n",
              "      <td>4</td>\n",
              "      <td>NaN</td>\n",
              "      <td>NaN</td>\n",
              "      <td>NaN</td>\n",
              "      <td>NaN</td>\n",
              "      <td>NaN</td>\n",
              "    </tr>\n",
              "    <tr>\n",
              "      <th>top</th>\n",
              "      <td>NaN</td>\n",
              "      <td>NaN</td>\n",
              "      <td>Petrol</td>\n",
              "      <td>Manual</td>\n",
              "      <td>First</td>\n",
              "      <td>NaN</td>\n",
              "      <td>NaN</td>\n",
              "      <td>NaN</td>\n",
              "      <td>NaN</td>\n",
              "      <td>NaN</td>\n",
              "    </tr>\n",
              "    <tr>\n",
              "      <th>freq</th>\n",
              "      <td>NaN</td>\n",
              "      <td>NaN</td>\n",
              "      <td>1894</td>\n",
              "      <td>2379</td>\n",
              "      <td>3130</td>\n",
              "      <td>NaN</td>\n",
              "      <td>NaN</td>\n",
              "      <td>NaN</td>\n",
              "      <td>NaN</td>\n",
              "      <td>NaN</td>\n",
              "    </tr>\n",
              "    <tr>\n",
              "      <th>mean</th>\n",
              "      <td>2014.590819</td>\n",
              "      <td>36420.135449</td>\n",
              "      <td>NaN</td>\n",
              "      <td>NaN</td>\n",
              "      <td>NaN</td>\n",
              "      <td>18.748850</td>\n",
              "      <td>1550.574384</td>\n",
              "      <td>112.644795</td>\n",
              "      <td>5.176254</td>\n",
              "      <td>10.910298</td>\n",
              "    </tr>\n",
              "    <tr>\n",
              "      <th>std</th>\n",
              "      <td>2.655116</td>\n",
              "      <td>15233.810474</td>\n",
              "      <td>NaN</td>\n",
              "      <td>NaN</td>\n",
              "      <td>NaN</td>\n",
              "      <td>3.974467</td>\n",
              "      <td>558.077827</td>\n",
              "      <td>53.635686</td>\n",
              "      <td>0.674354</td>\n",
              "      <td>12.231428</td>\n",
              "    </tr>\n",
              "    <tr>\n",
              "      <th>min</th>\n",
              "      <td>1998.000000</td>\n",
              "      <td>171.000000</td>\n",
              "      <td>NaN</td>\n",
              "      <td>NaN</td>\n",
              "      <td>NaN</td>\n",
              "      <td>7.500000</td>\n",
              "      <td>624.000000</td>\n",
              "      <td>34.200000</td>\n",
              "      <td>2.000000</td>\n",
              "      <td>0.450000</td>\n",
              "    </tr>\n",
              "    <tr>\n",
              "      <th>25%</th>\n",
              "      <td>2013.000000</td>\n",
              "      <td>25000.000000</td>\n",
              "      <td>NaN</td>\n",
              "      <td>NaN</td>\n",
              "      <td>NaN</td>\n",
              "      <td>16.200000</td>\n",
              "      <td>1197.000000</td>\n",
              "      <td>78.900000</td>\n",
              "      <td>5.000000</td>\n",
              "      <td>3.950000</td>\n",
              "    </tr>\n",
              "    <tr>\n",
              "      <th>50%</th>\n",
              "      <td>2015.000000</td>\n",
              "      <td>37822.000000</td>\n",
              "      <td>NaN</td>\n",
              "      <td>NaN</td>\n",
              "      <td>NaN</td>\n",
              "      <td>18.600000</td>\n",
              "      <td>1396.000000</td>\n",
              "      <td>88.800000</td>\n",
              "      <td>5.000000</td>\n",
              "      <td>6.200000</td>\n",
              "    </tr>\n",
              "    <tr>\n",
              "      <th>75%</th>\n",
              "      <td>2017.000000</td>\n",
              "      <td>49663.000000</td>\n",
              "      <td>NaN</td>\n",
              "      <td>NaN</td>\n",
              "      <td>NaN</td>\n",
              "      <td>21.190000</td>\n",
              "      <td>1968.000000</td>\n",
              "      <td>138.020000</td>\n",
              "      <td>5.000000</td>\n",
              "      <td>11.560000</td>\n",
              "    </tr>\n",
              "    <tr>\n",
              "      <th>max</th>\n",
              "      <td>2019.000000</td>\n",
              "      <td>60000.000000</td>\n",
              "      <td>NaN</td>\n",
              "      <td>NaN</td>\n",
              "      <td>NaN</td>\n",
              "      <td>33.540000</td>\n",
              "      <td>4951.000000</td>\n",
              "      <td>450.000000</td>\n",
              "      <td>10.000000</td>\n",
              "      <td>97.070000</td>\n",
              "    </tr>\n",
              "  </tbody>\n",
              "</table>\n",
              "</div>"
            ],
            "text/plain": [
              "               Year  Kilometers_Driven  ...        Seats        Price\n",
              "count   3529.000000        3529.000000  ...  3529.000000  3529.000000\n",
              "unique          NaN                NaN  ...          NaN          NaN\n",
              "top             NaN                NaN  ...          NaN          NaN\n",
              "freq            NaN                NaN  ...          NaN          NaN\n",
              "mean    2014.590819       36420.135449  ...     5.176254    10.910298\n",
              "std        2.655116       15233.810474  ...     0.674354    12.231428\n",
              "min     1998.000000         171.000000  ...     2.000000     0.450000\n",
              "25%     2013.000000       25000.000000  ...     5.000000     3.950000\n",
              "50%     2015.000000       37822.000000  ...     5.000000     6.200000\n",
              "75%     2017.000000       49663.000000  ...     5.000000    11.560000\n",
              "max     2019.000000       60000.000000  ...    10.000000    97.070000\n",
              "\n",
              "[11 rows x 10 columns]"
            ]
          },
          "metadata": {
            "tags": []
          },
          "execution_count": 85
        }
      ]
    },
    {
      "cell_type": "code",
      "metadata": {
        "id": "33E69h5qpzdv",
        "colab_type": "code",
        "colab": {
          "base_uri": "https://localhost:8080/",
          "height": 202
        },
        "outputId": "23c7e51a-ab23-4a5c-e5bb-7c5dd011f8c2"
      },
      "source": [
        "#test\n",
        "dftest['Engine'] = dftest['Engine'].fillna((dftest['Engine'].mean()))\n",
        "dftest['Power'] = dftest['Power'].fillna((dftest['Power'].mean()))\n",
        "dftest['Seats'] = dftest['Seats'].fillna((dftest['Seats'].mean()))\n",
        "mean_mileage = dftest['Mileage'].mean(skipna=True)\n",
        "dftest['Mileage']=dftest.Mileage.mask(dftest.Mileage==0,mean_mileage)\n",
        "print(dftest.isnull().sum())\n",
        "print(dftest.shape)"
      ],
      "execution_count": null,
      "outputs": [
        {
          "output_type": "stream",
          "text": [
            "Year                 0\n",
            "Kilometers_Driven    0\n",
            "Fuel_Type            0\n",
            "Transmission         0\n",
            "Owner_Type           0\n",
            "Mileage              0\n",
            "Engine               0\n",
            "Power                0\n",
            "Seats                0\n",
            "dtype: int64\n",
            "(1234, 9)\n"
          ],
          "name": "stdout"
        }
      ]
    },
    {
      "cell_type": "code",
      "metadata": {
        "id": "2w5BhKQUpSyJ",
        "colab_type": "code",
        "colab": {
          "base_uri": "https://localhost:8080/",
          "height": 373
        },
        "outputId": "e7132904-967c-43d5-c4e4-21653b827102"
      },
      "source": [
        "dftest.describe(include='all')"
      ],
      "execution_count": null,
      "outputs": [
        {
          "output_type": "execute_result",
          "data": {
            "text/html": [
              "<div>\n",
              "<style scoped>\n",
              "    .dataframe tbody tr th:only-of-type {\n",
              "        vertical-align: middle;\n",
              "    }\n",
              "\n",
              "    .dataframe tbody tr th {\n",
              "        vertical-align: top;\n",
              "    }\n",
              "\n",
              "    .dataframe thead th {\n",
              "        text-align: right;\n",
              "    }\n",
              "</style>\n",
              "<table border=\"1\" class=\"dataframe\">\n",
              "  <thead>\n",
              "    <tr style=\"text-align: right;\">\n",
              "      <th></th>\n",
              "      <th>Year</th>\n",
              "      <th>Kilometers_Driven</th>\n",
              "      <th>Fuel_Type</th>\n",
              "      <th>Transmission</th>\n",
              "      <th>Owner_Type</th>\n",
              "      <th>Mileage</th>\n",
              "      <th>Engine</th>\n",
              "      <th>Power</th>\n",
              "      <th>Seats</th>\n",
              "    </tr>\n",
              "  </thead>\n",
              "  <tbody>\n",
              "    <tr>\n",
              "      <th>count</th>\n",
              "      <td>1234.000000</td>\n",
              "      <td>1234.000000</td>\n",
              "      <td>1234</td>\n",
              "      <td>1234</td>\n",
              "      <td>1234</td>\n",
              "      <td>1234.000000</td>\n",
              "      <td>1234.000000</td>\n",
              "      <td>1234.000000</td>\n",
              "      <td>1234.000000</td>\n",
              "    </tr>\n",
              "    <tr>\n",
              "      <th>unique</th>\n",
              "      <td>NaN</td>\n",
              "      <td>NaN</td>\n",
              "      <td>4</td>\n",
              "      <td>2</td>\n",
              "      <td>4</td>\n",
              "      <td>NaN</td>\n",
              "      <td>NaN</td>\n",
              "      <td>NaN</td>\n",
              "      <td>NaN</td>\n",
              "    </tr>\n",
              "    <tr>\n",
              "      <th>top</th>\n",
              "      <td>NaN</td>\n",
              "      <td>NaN</td>\n",
              "      <td>Diesel</td>\n",
              "      <td>Manual</td>\n",
              "      <td>First</td>\n",
              "      <td>NaN</td>\n",
              "      <td>NaN</td>\n",
              "      <td>NaN</td>\n",
              "      <td>NaN</td>\n",
              "    </tr>\n",
              "    <tr>\n",
              "      <th>freq</th>\n",
              "      <td>NaN</td>\n",
              "      <td>NaN</td>\n",
              "      <td>647</td>\n",
              "      <td>905</td>\n",
              "      <td>1023</td>\n",
              "      <td>NaN</td>\n",
              "      <td>NaN</td>\n",
              "      <td>NaN</td>\n",
              "      <td>NaN</td>\n",
              "    </tr>\n",
              "    <tr>\n",
              "      <th>mean</th>\n",
              "      <td>2013.400324</td>\n",
              "      <td>58507.288493</td>\n",
              "      <td>NaN</td>\n",
              "      <td>NaN</td>\n",
              "      <td>NaN</td>\n",
              "      <td>18.365316</td>\n",
              "      <td>1593.584967</td>\n",
              "      <td>110.380420</td>\n",
              "      <td>5.284546</td>\n",
              "    </tr>\n",
              "    <tr>\n",
              "      <th>std</th>\n",
              "      <td>3.179700</td>\n",
              "      <td>35598.702098</td>\n",
              "      <td>NaN</td>\n",
              "      <td>NaN</td>\n",
              "      <td>NaN</td>\n",
              "      <td>4.051387</td>\n",
              "      <td>562.054549</td>\n",
              "      <td>50.870564</td>\n",
              "      <td>0.821931</td>\n",
              "    </tr>\n",
              "    <tr>\n",
              "      <th>min</th>\n",
              "      <td>1996.000000</td>\n",
              "      <td>1000.000000</td>\n",
              "      <td>NaN</td>\n",
              "      <td>NaN</td>\n",
              "      <td>NaN</td>\n",
              "      <td>7.940000</td>\n",
              "      <td>624.000000</td>\n",
              "      <td>34.200000</td>\n",
              "      <td>2.000000</td>\n",
              "    </tr>\n",
              "    <tr>\n",
              "      <th>25%</th>\n",
              "      <td>2011.000000</td>\n",
              "      <td>34000.000000</td>\n",
              "      <td>NaN</td>\n",
              "      <td>NaN</td>\n",
              "      <td>NaN</td>\n",
              "      <td>15.400000</td>\n",
              "      <td>1198.000000</td>\n",
              "      <td>76.200000</td>\n",
              "      <td>5.000000</td>\n",
              "    </tr>\n",
              "    <tr>\n",
              "      <th>50%</th>\n",
              "      <td>2014.000000</td>\n",
              "      <td>54572.500000</td>\n",
              "      <td>NaN</td>\n",
              "      <td>NaN</td>\n",
              "      <td>NaN</td>\n",
              "      <td>18.250000</td>\n",
              "      <td>1461.000000</td>\n",
              "      <td>98.600000</td>\n",
              "      <td>5.000000</td>\n",
              "    </tr>\n",
              "    <tr>\n",
              "      <th>75%</th>\n",
              "      <td>2016.000000</td>\n",
              "      <td>75000.000000</td>\n",
              "      <td>NaN</td>\n",
              "      <td>NaN</td>\n",
              "      <td>NaN</td>\n",
              "      <td>21.100000</td>\n",
              "      <td>1968.000000</td>\n",
              "      <td>126.300000</td>\n",
              "      <td>5.000000</td>\n",
              "    </tr>\n",
              "    <tr>\n",
              "      <th>max</th>\n",
              "      <td>2019.000000</td>\n",
              "      <td>350000.000000</td>\n",
              "      <td>NaN</td>\n",
              "      <td>NaN</td>\n",
              "      <td>NaN</td>\n",
              "      <td>32.260000</td>\n",
              "      <td>5998.000000</td>\n",
              "      <td>616.000000</td>\n",
              "      <td>10.000000</td>\n",
              "    </tr>\n",
              "  </tbody>\n",
              "</table>\n",
              "</div>"
            ],
            "text/plain": [
              "               Year  Kilometers_Driven  ...        Power        Seats\n",
              "count   1234.000000        1234.000000  ...  1234.000000  1234.000000\n",
              "unique          NaN                NaN  ...          NaN          NaN\n",
              "top             NaN                NaN  ...          NaN          NaN\n",
              "freq            NaN                NaN  ...          NaN          NaN\n",
              "mean    2013.400324       58507.288493  ...   110.380420     5.284546\n",
              "std        3.179700       35598.702098  ...    50.870564     0.821931\n",
              "min     1996.000000        1000.000000  ...    34.200000     2.000000\n",
              "25%     2011.000000       34000.000000  ...    76.200000     5.000000\n",
              "50%     2014.000000       54572.500000  ...    98.600000     5.000000\n",
              "75%     2016.000000       75000.000000  ...   126.300000     5.000000\n",
              "max     2019.000000      350000.000000  ...   616.000000    10.000000\n",
              "\n",
              "[11 rows x 9 columns]"
            ]
          },
          "metadata": {
            "tags": []
          },
          "execution_count": 87
        }
      ]
    },
    {
      "cell_type": "markdown",
      "metadata": {
        "id": "aQgIA9TYrBOJ",
        "colab_type": "text"
      },
      "source": [
        "# Box Plot"
      ]
    },
    {
      "cell_type": "code",
      "metadata": {
        "id": "OazNXIG3tlFz",
        "colab_type": "code",
        "colab": {}
      },
      "source": [
        "import matplotlib.pyplot as plt\n",
        "fig, ax  = plt.subplots(nrows=2,ncols=3,figsize=(20,16))\n",
        "ax[0,0].boxplot(df['Mileage'])\n",
        "ax[0,1].boxplot(df['Engine'])\n",
        "ax[0,2].boxplot(df['Kilometers_Driven'])\n",
        "ax[1,0].boxplot(df['Power'])\n",
        "ax[1,1].boxplot(df['Price'])\n",
        "ax[0,0].set_title('Mileage')\n",
        "ax[0,1].set_title('Engine')\n",
        "ax[0,2].set_title('Kilometers_Driven')\n",
        "ax[1,0].set_title('Power')\n",
        "ax[1,1].set_title('Price')\n",
        "plt.show()"
      ],
      "execution_count": null,
      "outputs": []
    },
    {
      "cell_type": "code",
      "metadata": {
        "id": "s--gGetcv6Y2",
        "colab_type": "code",
        "colab": {}
      },
      "source": [
        "i = df[df.Kilometers_Driven == 6.500000e+06].index\n",
        "df.drop(i,inplace=True)\n",
        "i = df[df.Price == 160.000000].index\n",
        "df.drop(i,inplace=True)\n",
        "i = df[df.Price == 120.000000].index\n",
        "df.drop(i,inplace=True)"
      ],
      "execution_count": null,
      "outputs": []
    },
    {
      "cell_type": "markdown",
      "metadata": {
        "id": "rjuQIY4OYQFn",
        "colab_type": "text"
      },
      "source": [
        "# Target Variable"
      ]
    },
    {
      "cell_type": "code",
      "metadata": {
        "id": "Zv-ElpJsYWDE",
        "colab_type": "code",
        "colab": {}
      },
      "source": [
        "from scipy import stats\n",
        "from scipy.stats import norm, skew \n",
        "import seaborn as sns\n",
        "color = sns.color_palette()\n",
        "sns.set_style('darkgrid')"
      ],
      "execution_count": null,
      "outputs": []
    },
    {
      "cell_type": "code",
      "metadata": {
        "id": "Or6Jddm2YN-y",
        "colab_type": "code",
        "colab": {
          "base_uri": "https://localhost:8080/",
          "height": 623
        },
        "outputId": "afc25a3d-55d1-487b-87a0-44bedb4d348b"
      },
      "source": [
        "sns.distplot(df['Price'] , fit=norm);\n",
        "# Get the fitted parameters used by the function\n",
        "(mu, sigma) = norm.fit(df['Price'])\n",
        "print( '\\n mu = {:.2f} and sigma = {:.2f}\\n'.format(mu, sigma))\n",
        "#Now plot the distribution\n",
        "plt.legend(['Normal dist. ($\\mu=$ {:.2f} and $\\sigma=$ {:.2f} )'.format(mu, sigma)],loc='best')\n",
        "plt.ylabel('Frequency')\n",
        "plt.title('SalePrice distribution')\n",
        "#Get also the QQ-plot\n",
        "fig = plt.figure()\n",
        "res = stats.probplot(df['Price'], plot=plt)\n",
        "plt.show()"
      ],
      "execution_count": null,
      "outputs": [
        {
          "output_type": "stream",
          "text": [
            "\n",
            " mu = 10.91 and sigma = 12.23\n",
            "\n"
          ],
          "name": "stdout"
        },
        {
          "output_type": "display_data",
          "data": {
            "image/png": "[encoded data removed]",
            "text/plain": [
              "<Figure size 432x288 with 1 Axes>"
            ]
          },
          "metadata": {
            "tags": []
          }
        },
        {
          "output_type": "display_data",
          "data": {
            "image/png": "[encoded data removed]",
            "text/plain": [
              "<Figure size 432x288 with 1 Axes>"
            ]
          },
          "metadata": {
            "tags": []
          }
        }
      ]
    },
    {
      "cell_type": "code",
      "metadata": {
        "id": "c7k_SaXHY_KT",
        "colab_type": "code",
        "colab": {
          "base_uri": "https://localhost:8080/",
          "height": 623
        },
        "outputId": "389059be-b4c1-4f1a-d644-370196ee8d10"
      },
      "source": [
        "import numpy as np\n",
        "#We use the numpy fuction log1p which  applies log(1+x) to all elements of the column\n",
        "df[\"Price\"] = np.log1p(df[\"Price\"])\n",
        "sns.distplot(df['Price'] , fit=norm);\n",
        "# Get the fitted parameters used by the function\n",
        "(mu, sigma) = norm.fit(df['Price'])\n",
        "print( '\\n mu = {:.2f} and sigma = {:.2f}\\n'.format(mu, sigma))\n",
        "#Now plot the distribution\n",
        "plt.legend(['Normal dist. ($\\mu=$ {:.2f} and $\\sigma=$ {:.2f} )'.format(mu, sigma)],loc='best')\n",
        "plt.ylabel('Frequency')\n",
        "plt.title('SalePrice distribution')\n",
        "#Get also the QQ-plot\n",
        "fig = plt.figure()\n",
        "res = stats.probplot(df['Price'], plot=plt)\n",
        "plt.show()"
      ],
      "execution_count": null,
      "outputs": [
        {
          "output_type": "stream",
          "text": [
            "\n",
            " mu = 2.14 and sigma = 0.76\n",
            "\n"
          ],
          "name": "stdout"
        },
        {
          "output_type": "display_data",
          "data": {
            "image/png": "[encoded data removed]",
            "text/plain": [
              "<Figure size 432x288 with 1 Axes>"
            ]
          },
          "metadata": {
            "tags": []
          }
        },
        {
          "output_type": "display_data",
          "data": {
            "image/png": "[encoded data removed]",
            "text/plain": [
              "<Figure size 432x288 with 1 Axes>"
            ]
          },
          "metadata": {
            "tags": []
          }
        }
      ]
    },
    {
      "cell_type": "markdown",
      "metadata": {
        "id": "y0ps0udyZRJl",
        "colab_type": "text"
      },
      "source": [
        "The skew seems now corrected and the data appears more normally distributed."
      ]
    },
    {
      "cell_type": "markdown",
      "metadata": {
        "id": "B5nMi5mt-ZRk",
        "colab_type": "text"
      },
      "source": [
        "# Correlation Map"
      ]
    },
    {
      "cell_type": "code",
      "metadata": {
        "id": "ZoSJ9m5DbLmM",
        "colab_type": "code",
        "colab": {}
      },
      "source": [
        "#Correlation map to see how features are correlated with SalePrice\n",
        "corrmat = df.corr()\n",
        "plt.subplots(figsize=(12,9))\n",
        "sns.heatmap(corrmat, vmax=0.9, square=True)"
      ],
      "execution_count": null,
      "outputs": []
    },
    {
      "cell_type": "code",
      "metadata": {
        "id": "9vvNNSvZb3RO",
        "colab_type": "code",
        "colab": {
          "base_uri": "https://localhost:8080/",
          "height": 47
        },
        "outputId": "4a24a18a-7532-4247-c738-cec91def16f2"
      },
      "source": [
        "df_na = (df.isnull().sum() / len(df)) * 100\n",
        "df_na = df_na.drop(df_na[df_na == 0].index).sort_values(ascending=False)[:30]\n",
        "missing_data = pd.DataFrame({'Missing Ratio' :df_na})\n",
        "missing_data.head(20)"
      ],
      "execution_count": null,
      "outputs": [
        {
          "output_type": "execute_result",
          "data": {
            "text/html": [
              "<div>\n",
              "<style scoped>\n",
              "    .dataframe tbody tr th:only-of-type {\n",
              "        vertical-align: middle;\n",
              "    }\n",
              "\n",
              "    .dataframe tbody tr th {\n",
              "        vertical-align: top;\n",
              "    }\n",
              "\n",
              "    .dataframe thead th {\n",
              "        text-align: right;\n",
              "    }\n",
              "</style>\n",
              "<table border=\"1\" class=\"dataframe\">\n",
              "  <thead>\n",
              "    <tr style=\"text-align: right;\">\n",
              "      <th></th>\n",
              "      <th>Missing Ratio</th>\n",
              "    </tr>\n",
              "  </thead>\n",
              "  <tbody>\n",
              "  </tbody>\n",
              "</table>\n",
              "</div>"
            ],
            "text/plain": [
              "Empty DataFrame\n",
              "Columns: [Missing Ratio]\n",
              "Index: []"
            ]
          },
          "metadata": {
            "tags": []
          },
          "execution_count": 46
        }
      ]
    },
    {
      "cell_type": "markdown",
      "metadata": {
        "id": "GcOj4vma-O5k",
        "colab_type": "text"
      },
      "source": [
        "# Scaling"
      ]
    },
    {
      "cell_type": "markdown",
      "metadata": {
        "id": "crIac-EGrRFF",
        "colab_type": "text"
      },
      "source": [
        "## Train"
      ]
    },
    {
      "cell_type": "code",
      "metadata": {
        "id": "eF3A3_sGv47E",
        "colab_type": "code",
        "colab": {}
      },
      "source": [
        "#Robust Scaling\n",
        "from sklearn.preprocessing import RobustScaler\n",
        "robust = RobustScaler()\n",
        "#Kilometers_Driven\n",
        "df['Robust_KD']=robust.fit_transform(df.Kilometers_Driven.values.reshape(-1, 1))\n",
        "#Engine\n",
        "df['Robust_Engine']=robust.fit_transform(df.Engine.values.reshape(-1, 1))\n",
        "#Power\n",
        "df['Robust_Power']=robust.fit_transform(df.Power.values.reshape(-1, 1))\n",
        "#Mileage\n",
        "df['Robust_Mileage'] = robust.fit_transform(df.Mileage.values.reshape(-1, 1))\n",
        "#Seats\n",
        "df['Robust_Seats'] = robust.fit_transform(df.Seats.values.reshape(-1, 1))\n",
        "\n",
        "#MinMaxScaling\n",
        "from sklearn.preprocessing import MinMaxScaler\n",
        "scaler = MinMaxScaler(feature_range=(-1,1))\n",
        "#Kilometers_Driven\n",
        "df['MM_Kilometers_Driven'] = scaler.fit_transform(df.Kilometers_Driven.values.reshape(-1, 1))\n",
        "#Engine\n",
        "df['MM_Engine'] = scaler.fit_transform(df.Engine.values.reshape(-1, 1))\n",
        "#Power\n",
        "df['MM_Power'] = scaler.fit_transform(df.Power.values.reshape(-1, 1))\n",
        "#Mileage\n",
        "df['MM_Mileage'] = scaler.fit_transform(df.Mileage.values.reshape(-1, 1))\n",
        "#Seats\n",
        "df['MM_Seats'] = scaler.fit_transform(df.Seats.values.reshape(-1, 1))\n",
        "\n",
        "#MaxAbsScaling\n",
        "from sklearn.preprocessing import MaxAbsScaler\n",
        "maxabs = MaxAbsScaler()\n",
        "#Kilometers_Driven\n",
        "df['MA_KD']=maxabs.fit_transform(df.Kilometers_Driven.values.reshape(-1, 1))\n",
        "#Engine\n",
        "df['MA_Engine']=maxabs.fit_transform(df.Engine.values.reshape(-1, 1))\n",
        "#Power\n",
        "df['MA_Power']=maxabs.fit_transform(df.Power.values.reshape(-1, 1))\n",
        "#Mileage\n",
        "df['MA_Mileage'] = maxabs.fit_transform(df.Mileage.values.reshape(-1, 1))\n",
        "#Seats\n",
        "df['MA_Seats'] = maxabs.fit_transform(df.Seats.values.reshape(-1, 1))\n"
      ],
      "execution_count": null,
      "outputs": []
    },
    {
      "cell_type": "code",
      "metadata": {
        "id": "RwTRLZHCclfL",
        "colab_type": "code",
        "colab": {
          "base_uri": "https://localhost:8080/",
          "height": 215
        },
        "outputId": "8e4cf441-092f-4579-92c4-18050ff36564"
      },
      "source": [
        "df.head()"
      ],
      "execution_count": null,
      "outputs": [
        {
          "output_type": "execute_result",
          "data": {
            "text/html": [
              "<div>\n",
              "<style scoped>\n",
              "    .dataframe tbody tr th:only-of-type {\n",
              "        vertical-align: middle;\n",
              "    }\n",
              "\n",
              "    .dataframe tbody tr th {\n",
              "        vertical-align: top;\n",
              "    }\n",
              "\n",
              "    .dataframe thead th {\n",
              "        text-align: right;\n",
              "    }\n",
              "</style>\n",
              "<table border=\"1\" class=\"dataframe\">\n",
              "  <thead>\n",
              "    <tr style=\"text-align: right;\">\n",
              "      <th></th>\n",
              "      <th>Year</th>\n",
              "      <th>Kilometers_Driven</th>\n",
              "      <th>Fuel_Type</th>\n",
              "      <th>Transmission</th>\n",
              "      <th>Owner_Type</th>\n",
              "      <th>Mileage</th>\n",
              "      <th>Engine</th>\n",
              "      <th>Power</th>\n",
              "      <th>Seats</th>\n",
              "      <th>Price</th>\n",
              "      <th>Robust_KD</th>\n",
              "      <th>Robust_Engine</th>\n",
              "      <th>Robust_Power</th>\n",
              "      <th>Robust_Mileage</th>\n",
              "      <th>Robust_Seats</th>\n",
              "      <th>MM_Kilometers_Driven</th>\n",
              "      <th>MM_Engine</th>\n",
              "      <th>MM_Power</th>\n",
              "      <th>MM_Mileage</th>\n",
              "      <th>MM_Seats</th>\n",
              "      <th>MA_KD</th>\n",
              "      <th>MA_Engine</th>\n",
              "      <th>MA_Power</th>\n",
              "      <th>MA_Mileage</th>\n",
              "      <th>MA_Seats</th>\n",
              "    </tr>\n",
              "  </thead>\n",
              "  <tbody>\n",
              "    <tr>\n",
              "      <th>0</th>\n",
              "      <td>2015</td>\n",
              "      <td>41000</td>\n",
              "      <td>Diesel</td>\n",
              "      <td>Manual</td>\n",
              "      <td>First</td>\n",
              "      <td>19.67</td>\n",
              "      <td>1582.0</td>\n",
              "      <td>126.20</td>\n",
              "      <td>5.0</td>\n",
              "      <td>12.50</td>\n",
              "      <td>0.128857</td>\n",
              "      <td>0.241245</td>\n",
              "      <td>0.632612</td>\n",
              "      <td>0.214429</td>\n",
              "      <td>0.0</td>\n",
              "      <td>0.364857</td>\n",
              "      <td>-0.557199</td>\n",
              "      <td>-0.557480</td>\n",
              "      <td>-0.065284</td>\n",
              "      <td>-0.25</td>\n",
              "      <td>0.683333</td>\n",
              "      <td>0.319531</td>\n",
              "      <td>0.280444</td>\n",
              "      <td>0.586464</td>\n",
              "      <td>0.5</td>\n",
              "    </tr>\n",
              "    <tr>\n",
              "      <th>1</th>\n",
              "      <td>2011</td>\n",
              "      <td>46000</td>\n",
              "      <td>Petrol</td>\n",
              "      <td>Manual</td>\n",
              "      <td>First</td>\n",
              "      <td>18.20</td>\n",
              "      <td>1199.0</td>\n",
              "      <td>88.70</td>\n",
              "      <td>5.0</td>\n",
              "      <td>4.50</td>\n",
              "      <td>0.331590</td>\n",
              "      <td>-0.255512</td>\n",
              "      <td>-0.001691</td>\n",
              "      <td>-0.080160</td>\n",
              "      <td>0.0</td>\n",
              "      <td>0.532000</td>\n",
              "      <td>-0.734227</td>\n",
              "      <td>-0.737855</td>\n",
              "      <td>-0.178187</td>\n",
              "      <td>-0.25</td>\n",
              "      <td>0.766667</td>\n",
              "      <td>0.242173</td>\n",
              "      <td>0.197111</td>\n",
              "      <td>0.542636</td>\n",
              "      <td>0.5</td>\n",
              "    </tr>\n",
              "    <tr>\n",
              "      <th>2</th>\n",
              "      <td>2013</td>\n",
              "      <td>40670</td>\n",
              "      <td>Diesel</td>\n",
              "      <td>Automatic</td>\n",
              "      <td>Second</td>\n",
              "      <td>15.20</td>\n",
              "      <td>1968.0</td>\n",
              "      <td>140.80</td>\n",
              "      <td>5.0</td>\n",
              "      <td>17.74</td>\n",
              "      <td>0.115477</td>\n",
              "      <td>0.741894</td>\n",
              "      <td>0.879567</td>\n",
              "      <td>-0.681363</td>\n",
              "      <td>0.0</td>\n",
              "      <td>0.353825</td>\n",
              "      <td>-0.378784</td>\n",
              "      <td>-0.487253</td>\n",
              "      <td>-0.408602</td>\n",
              "      <td>-0.25</td>\n",
              "      <td>0.677833</td>\n",
              "      <td>0.397495</td>\n",
              "      <td>0.312889</td>\n",
              "      <td>0.453190</td>\n",
              "      <td>0.5</td>\n",
              "    </tr>\n",
              "    <tr>\n",
              "      <th>3</th>\n",
              "      <td>2016</td>\n",
              "      <td>36000</td>\n",
              "      <td>Diesel</td>\n",
              "      <td>Automatic</td>\n",
              "      <td>First</td>\n",
              "      <td>11.36</td>\n",
              "      <td>2755.0</td>\n",
              "      <td>171.50</td>\n",
              "      <td>8.0</td>\n",
              "      <td>17.50</td>\n",
              "      <td>-0.073876</td>\n",
              "      <td>1.762646</td>\n",
              "      <td>1.398850</td>\n",
              "      <td>-1.450902</td>\n",
              "      <td>3.0</td>\n",
              "      <td>0.197713</td>\n",
              "      <td>-0.015022</td>\n",
              "      <td>-0.339586</td>\n",
              "      <td>-0.703533</td>\n",
              "      <td>0.50</td>\n",
              "      <td>0.600000</td>\n",
              "      <td>0.556453</td>\n",
              "      <td>0.381111</td>\n",
              "      <td>0.338700</td>\n",
              "      <td>0.8</td>\n",
              "    </tr>\n",
              "    <tr>\n",
              "      <th>4</th>\n",
              "      <td>2018</td>\n",
              "      <td>25692</td>\n",
              "      <td>Petrol</td>\n",
              "      <td>Manual</td>\n",
              "      <td>First</td>\n",
              "      <td>21.56</td>\n",
              "      <td>1462.0</td>\n",
              "      <td>103.25</td>\n",
              "      <td>5.0</td>\n",
              "      <td>9.95</td>\n",
              "      <td>-0.491830</td>\n",
              "      <td>0.085603</td>\n",
              "      <td>0.244418</td>\n",
              "      <td>0.593186</td>\n",
              "      <td>0.0</td>\n",
              "      <td>-0.146869</td>\n",
              "      <td>-0.612665</td>\n",
              "      <td>-0.667869</td>\n",
              "      <td>0.079877</td>\n",
              "      <td>-0.25</td>\n",
              "      <td>0.428200</td>\n",
              "      <td>0.295294</td>\n",
              "      <td>0.229444</td>\n",
              "      <td>0.642815</td>\n",
              "      <td>0.5</td>\n",
              "    </tr>\n",
              "  </tbody>\n",
              "</table>\n",
              "</div>"
            ],
            "text/plain": [
              "   Year  Kilometers_Driven Fuel_Type  ...  MA_Power MA_Mileage  MA_Seats\n",
              "0  2015              41000    Diesel  ...  0.280444   0.586464       0.5\n",
              "1  2011              46000    Petrol  ...  0.197111   0.542636       0.5\n",
              "2  2013              40670    Diesel  ...  0.312889   0.453190       0.5\n",
              "3  2016              36000    Diesel  ...  0.381111   0.338700       0.8\n",
              "4  2018              25692    Petrol  ...  0.229444   0.642815       0.5\n",
              "\n",
              "[5 rows x 25 columns]"
            ]
          },
          "metadata": {
            "tags": []
          },
          "execution_count": 89
        }
      ]
    },
    {
      "cell_type": "markdown",
      "metadata": {
        "id": "k5VFbOLrrdDa",
        "colab_type": "text"
      },
      "source": [
        "## Test"
      ]
    },
    {
      "cell_type": "code",
      "metadata": {
        "id": "QJu2Qkv6rmWr",
        "colab_type": "code",
        "colab": {
          "base_uri": "https://localhost:8080/",
          "height": 195
        },
        "outputId": "aa774bf2-c714-49a8-c9ec-c04136b08054"
      },
      "source": [
        "dftest.head()"
      ],
      "execution_count": null,
      "outputs": [
        {
          "output_type": "execute_result",
          "data": {
            "text/html": [
              "<div>\n",
              "<style scoped>\n",
              "    .dataframe tbody tr th:only-of-type {\n",
              "        vertical-align: middle;\n",
              "    }\n",
              "\n",
              "    .dataframe tbody tr th {\n",
              "        vertical-align: top;\n",
              "    }\n",
              "\n",
              "    .dataframe thead th {\n",
              "        text-align: right;\n",
              "    }\n",
              "</style>\n",
              "<table border=\"1\" class=\"dataframe\">\n",
              "  <thead>\n",
              "    <tr style=\"text-align: right;\">\n",
              "      <th></th>\n",
              "      <th>Year</th>\n",
              "      <th>Kilometers_Driven</th>\n",
              "      <th>Fuel_Type</th>\n",
              "      <th>Transmission</th>\n",
              "      <th>Owner_Type</th>\n",
              "      <th>Mileage</th>\n",
              "      <th>Engine</th>\n",
              "      <th>Power</th>\n",
              "      <th>Seats</th>\n",
              "    </tr>\n",
              "  </thead>\n",
              "  <tbody>\n",
              "    <tr>\n",
              "      <th>0</th>\n",
              "      <td>2014</td>\n",
              "      <td>40929</td>\n",
              "      <td>CNG</td>\n",
              "      <td>Manual</td>\n",
              "      <td>First</td>\n",
              "      <td>32.26</td>\n",
              "      <td>998.0</td>\n",
              "      <td>58.20000</td>\n",
              "      <td>4.0</td>\n",
              "    </tr>\n",
              "    <tr>\n",
              "      <th>1</th>\n",
              "      <td>2013</td>\n",
              "      <td>54493</td>\n",
              "      <td>Petrol</td>\n",
              "      <td>Manual</td>\n",
              "      <td>Second</td>\n",
              "      <td>24.70</td>\n",
              "      <td>796.0</td>\n",
              "      <td>47.30000</td>\n",
              "      <td>5.0</td>\n",
              "    </tr>\n",
              "    <tr>\n",
              "      <th>2</th>\n",
              "      <td>2017</td>\n",
              "      <td>34000</td>\n",
              "      <td>Diesel</td>\n",
              "      <td>Manual</td>\n",
              "      <td>First</td>\n",
              "      <td>13.68</td>\n",
              "      <td>2393.0</td>\n",
              "      <td>147.80000</td>\n",
              "      <td>7.0</td>\n",
              "    </tr>\n",
              "    <tr>\n",
              "      <th>3</th>\n",
              "      <td>2012</td>\n",
              "      <td>139000</td>\n",
              "      <td>Diesel</td>\n",
              "      <td>Manual</td>\n",
              "      <td>First</td>\n",
              "      <td>23.59</td>\n",
              "      <td>1364.0</td>\n",
              "      <td>110.38042</td>\n",
              "      <td>5.0</td>\n",
              "    </tr>\n",
              "    <tr>\n",
              "      <th>4</th>\n",
              "      <td>2014</td>\n",
              "      <td>29000</td>\n",
              "      <td>Petrol</td>\n",
              "      <td>Manual</td>\n",
              "      <td>First</td>\n",
              "      <td>18.50</td>\n",
              "      <td>1197.0</td>\n",
              "      <td>82.85000</td>\n",
              "      <td>5.0</td>\n",
              "    </tr>\n",
              "  </tbody>\n",
              "</table>\n",
              "</div>"
            ],
            "text/plain": [
              "   Year  Kilometers_Driven Fuel_Type  ...  Engine      Power  Seats\n",
              "0  2014              40929       CNG  ...   998.0   58.20000    4.0\n",
              "1  2013              54493    Petrol  ...   796.0   47.30000    5.0\n",
              "2  2017              34000    Diesel  ...  2393.0  147.80000    7.0\n",
              "3  2012             139000    Diesel  ...  1364.0  110.38042    5.0\n",
              "4  2014              29000    Petrol  ...  1197.0   82.85000    5.0\n",
              "\n",
              "[5 rows x 9 columns]"
            ]
          },
          "metadata": {
            "tags": []
          },
          "execution_count": 90
        }
      ]
    },
    {
      "cell_type": "code",
      "metadata": {
        "id": "vJSSKFAgrfBt",
        "colab_type": "code",
        "colab": {}
      },
      "source": [
        "#Robust Scaling\n",
        "from sklearn.preprocessing import RobustScaler\n",
        "robust = RobustScaler()\n",
        "#Kilometers_Driven\n",
        "dftest['Robust_KD']=robust.fit_transform(dftest.Kilometers_Driven.values.reshape(-1, 1))\n",
        "#Engine\n",
        "dftest['Robust_Engine']=robust.fit_transform(dftest.Engine.values.reshape(-1, 1))\n",
        "#Power\n",
        "dftest['Robust_Power']=robust.fit_transform(dftest.Power.values.reshape(-1, 1))\n",
        "#Mileage\n",
        "dftest['Robust_Mileage'] = robust.fit_transform(dftest.Mileage.values.reshape(-1, 1))\n",
        "#Seats\n",
        "dftest['Robust_Seats'] = robust.fit_transform(dftest.Seats.values.reshape(-1, 1))\n",
        "\n",
        "#MinMaxScaling\n",
        "from sklearn.preprocessing import MinMaxScaler\n",
        "scaler = MinMaxScaler(feature_range=(-1,1))\n",
        "#Kilometers_Driven\n",
        "dftest['MM_Kilometers_Driven'] = scaler.fit_transform(dftest.Kilometers_Driven.values.reshape(-1, 1))\n",
        "#Engine\n",
        "dftest['MM_Engine'] = scaler.fit_transform(dftest.Engine.values.reshape(-1, 1))\n",
        "#Power\n",
        "dftest['MM_Power'] = scaler.fit_transform(dftest.Power.values.reshape(-1, 1))\n",
        "#Mileage\n",
        "dftest['MM_Mileage'] = scaler.fit_transform(dftest.Mileage.values.reshape(-1, 1))\n",
        "#Seats\n",
        "dftest['MM_Seats'] = scaler.fit_transform(dftest.Seats.values.reshape(-1, 1))\n",
        "\n",
        "#MaxAbsScaling\n",
        "from sklearn.preprocessing import MaxAbsScaler\n",
        "maxabs = MaxAbsScaler()\n",
        "#Kilometers_Driven\n",
        "dftest['MA_KD']=maxabs.fit_transform(dftest.Kilometers_Driven.values.reshape(-1, 1))\n",
        "#Engine\n",
        "dftest['MA_Engine']=maxabs.fit_transform(dftest.Engine.values.reshape(-1, 1))\n",
        "#Power\n",
        "dftest['MA_Power']=maxabs.fit_transform(dftest.Power.values.reshape(-1, 1))\n",
        "#Mileage\n",
        "dftest['MA_Mileage'] = maxabs.fit_transform(dftest.Mileage.values.reshape(-1, 1))\n",
        "#Seats\n",
        "dftest['MA_Seats'] = maxabs.fit_transform(dftest.Seats.values.reshape(-1, 1))"
      ],
      "execution_count": null,
      "outputs": []
    },
    {
      "cell_type": "markdown",
      "metadata": {
        "id": "PXLcOlKi9IEL",
        "colab_type": "text"
      },
      "source": [
        "# Categorical Features"
      ]
    },
    {
      "cell_type": "code",
      "metadata": {
        "id": "MQCyqIf4u6dZ",
        "colab_type": "code",
        "colab": {}
      },
      "source": [
        "one_hot = pd.get_dummies(df['Transmission'])\n",
        "df = df.drop('Transmission',axis = 1)\n",
        "df = df.join(one_hot)\n",
        "one_hot = pd.get_dummies(df['Fuel_Type'])\n",
        "df = df.drop('Fuel_Type',axis = 1)\n",
        "df = df.join(one_hot)\n",
        "one_hot = pd.get_dummies(df['Owner_Type'])\n",
        "df = df.drop('Owner_Type',axis = 1)\n",
        "df = df.join(one_hot)\n",
        "\n",
        "del df['Automatic']\n",
        "del df['CNG']\n",
        "del df['Fourth & Above']"
      ],
      "execution_count": null,
      "outputs": []
    },
    {
      "cell_type": "code",
      "metadata": {
        "id": "WjOGU_eL9Pii",
        "colab_type": "code",
        "colab": {
          "base_uri": "https://localhost:8080/",
          "height": 215
        },
        "outputId": "054be09f-6370-4a0a-b793-35e58264a7df"
      },
      "source": [
        "df.head()"
      ],
      "execution_count": null,
      "outputs": [
        {
          "output_type": "execute_result",
          "data": {
            "text/html": [
              "<div>\n",
              "<style scoped>\n",
              "    .dataframe tbody tr th:only-of-type {\n",
              "        vertical-align: middle;\n",
              "    }\n",
              "\n",
              "    .dataframe tbody tr th {\n",
              "        vertical-align: top;\n",
              "    }\n",
              "\n",
              "    .dataframe thead th {\n",
              "        text-align: right;\n",
              "    }\n",
              "</style>\n",
              "<table border=\"1\" class=\"dataframe\">\n",
              "  <thead>\n",
              "    <tr style=\"text-align: right;\">\n",
              "      <th></th>\n",
              "      <th>Year</th>\n",
              "      <th>Kilometers_Driven</th>\n",
              "      <th>Mileage</th>\n",
              "      <th>Engine</th>\n",
              "      <th>Power</th>\n",
              "      <th>Seats</th>\n",
              "      <th>Price</th>\n",
              "      <th>Robust_KD</th>\n",
              "      <th>Robust_Engine</th>\n",
              "      <th>Robust_Power</th>\n",
              "      <th>Robust_Mileage</th>\n",
              "      <th>Robust_Seats</th>\n",
              "      <th>MM_Kilometers_Driven</th>\n",
              "      <th>MM_Engine</th>\n",
              "      <th>MM_Power</th>\n",
              "      <th>MM_Mileage</th>\n",
              "      <th>MM_Seats</th>\n",
              "      <th>MA_KD</th>\n",
              "      <th>MA_Engine</th>\n",
              "      <th>MA_Power</th>\n",
              "      <th>MA_Mileage</th>\n",
              "      <th>MA_Seats</th>\n",
              "      <th>Manual</th>\n",
              "      <th>Diesel</th>\n",
              "      <th>LPG</th>\n",
              "      <th>Petrol</th>\n",
              "      <th>First</th>\n",
              "      <th>Second</th>\n",
              "      <th>Third</th>\n",
              "    </tr>\n",
              "  </thead>\n",
              "  <tbody>\n",
              "    <tr>\n",
              "      <th>0</th>\n",
              "      <td>2015</td>\n",
              "      <td>41000</td>\n",
              "      <td>19.67</td>\n",
              "      <td>1582.0</td>\n",
              "      <td>126.20</td>\n",
              "      <td>5.0</td>\n",
              "      <td>12.50</td>\n",
              "      <td>0.128857</td>\n",
              "      <td>0.241245</td>\n",
              "      <td>0.632612</td>\n",
              "      <td>0.214429</td>\n",
              "      <td>0.0</td>\n",
              "      <td>0.364857</td>\n",
              "      <td>-0.557199</td>\n",
              "      <td>-0.557480</td>\n",
              "      <td>-0.065284</td>\n",
              "      <td>-0.25</td>\n",
              "      <td>0.683333</td>\n",
              "      <td>0.319531</td>\n",
              "      <td>0.280444</td>\n",
              "      <td>0.586464</td>\n",
              "      <td>0.5</td>\n",
              "      <td>1</td>\n",
              "      <td>1</td>\n",
              "      <td>0</td>\n",
              "      <td>0</td>\n",
              "      <td>1</td>\n",
              "      <td>0</td>\n",
              "      <td>0</td>\n",
              "    </tr>\n",
              "    <tr>\n",
              "      <th>1</th>\n",
              "      <td>2011</td>\n",
              "      <td>46000</td>\n",
              "      <td>18.20</td>\n",
              "      <td>1199.0</td>\n",
              "      <td>88.70</td>\n",
              "      <td>5.0</td>\n",
              "      <td>4.50</td>\n",
              "      <td>0.331590</td>\n",
              "      <td>-0.255512</td>\n",
              "      <td>-0.001691</td>\n",
              "      <td>-0.080160</td>\n",
              "      <td>0.0</td>\n",
              "      <td>0.532000</td>\n",
              "      <td>-0.734227</td>\n",
              "      <td>-0.737855</td>\n",
              "      <td>-0.178187</td>\n",
              "      <td>-0.25</td>\n",
              "      <td>0.766667</td>\n",
              "      <td>0.242173</td>\n",
              "      <td>0.197111</td>\n",
              "      <td>0.542636</td>\n",
              "      <td>0.5</td>\n",
              "      <td>1</td>\n",
              "      <td>0</td>\n",
              "      <td>0</td>\n",
              "      <td>1</td>\n",
              "      <td>1</td>\n",
              "      <td>0</td>\n",
              "      <td>0</td>\n",
              "    </tr>\n",
              "    <tr>\n",
              "      <th>2</th>\n",
              "      <td>2013</td>\n",
              "      <td>40670</td>\n",
              "      <td>15.20</td>\n",
              "      <td>1968.0</td>\n",
              "      <td>140.80</td>\n",
              "      <td>5.0</td>\n",
              "      <td>17.74</td>\n",
              "      <td>0.115477</td>\n",
              "      <td>0.741894</td>\n",
              "      <td>0.879567</td>\n",
              "      <td>-0.681363</td>\n",
              "      <td>0.0</td>\n",
              "      <td>0.353825</td>\n",
              "      <td>-0.378784</td>\n",
              "      <td>-0.487253</td>\n",
              "      <td>-0.408602</td>\n",
              "      <td>-0.25</td>\n",
              "      <td>0.677833</td>\n",
              "      <td>0.397495</td>\n",
              "      <td>0.312889</td>\n",
              "      <td>0.453190</td>\n",
              "      <td>0.5</td>\n",
              "      <td>0</td>\n",
              "      <td>1</td>\n",
              "      <td>0</td>\n",
              "      <td>0</td>\n",
              "      <td>0</td>\n",
              "      <td>1</td>\n",
              "      <td>0</td>\n",
              "    </tr>\n",
              "    <tr>\n",
              "      <th>3</th>\n",
              "      <td>2016</td>\n",
              "      <td>36000</td>\n",
              "      <td>11.36</td>\n",
              "      <td>2755.0</td>\n",
              "      <td>171.50</td>\n",
              "      <td>8.0</td>\n",
              "      <td>17.50</td>\n",
              "      <td>-0.073876</td>\n",
              "      <td>1.762646</td>\n",
              "      <td>1.398850</td>\n",
              "      <td>-1.450902</td>\n",
              "      <td>3.0</td>\n",
              "      <td>0.197713</td>\n",
              "      <td>-0.015022</td>\n",
              "      <td>-0.339586</td>\n",
              "      <td>-0.703533</td>\n",
              "      <td>0.50</td>\n",
              "      <td>0.600000</td>\n",
              "      <td>0.556453</td>\n",
              "      <td>0.381111</td>\n",
              "      <td>0.338700</td>\n",
              "      <td>0.8</td>\n",
              "      <td>0</td>\n",
              "      <td>1</td>\n",
              "      <td>0</td>\n",
              "      <td>0</td>\n",
              "      <td>1</td>\n",
              "      <td>0</td>\n",
              "      <td>0</td>\n",
              "    </tr>\n",
              "    <tr>\n",
              "      <th>4</th>\n",
              "      <td>2018</td>\n",
              "      <td>25692</td>\n",
              "      <td>21.56</td>\n",
              "      <td>1462.0</td>\n",
              "      <td>103.25</td>\n",
              "      <td>5.0</td>\n",
              "      <td>9.95</td>\n",
              "      <td>-0.491830</td>\n",
              "      <td>0.085603</td>\n",
              "      <td>0.244418</td>\n",
              "      <td>0.593186</td>\n",
              "      <td>0.0</td>\n",
              "      <td>-0.146869</td>\n",
              "      <td>-0.612665</td>\n",
              "      <td>-0.667869</td>\n",
              "      <td>0.079877</td>\n",
              "      <td>-0.25</td>\n",
              "      <td>0.428200</td>\n",
              "      <td>0.295294</td>\n",
              "      <td>0.229444</td>\n",
              "      <td>0.642815</td>\n",
              "      <td>0.5</td>\n",
              "      <td>1</td>\n",
              "      <td>0</td>\n",
              "      <td>0</td>\n",
              "      <td>1</td>\n",
              "      <td>1</td>\n",
              "      <td>0</td>\n",
              "      <td>0</td>\n",
              "    </tr>\n",
              "  </tbody>\n",
              "</table>\n",
              "</div>"
            ],
            "text/plain": [
              "   Year  Kilometers_Driven  Mileage  Engine  ...  Petrol  First  Second  Third\n",
              "0  2015              41000    19.67  1582.0  ...       0      1       0      0\n",
              "1  2011              46000    18.20  1199.0  ...       1      1       0      0\n",
              "2  2013              40670    15.20  1968.0  ...       0      0       1      0\n",
              "3  2016              36000    11.36  2755.0  ...       0      1       0      0\n",
              "4  2018              25692    21.56  1462.0  ...       1      1       0      0\n",
              "\n",
              "[5 rows x 29 columns]"
            ]
          },
          "metadata": {
            "tags": []
          },
          "execution_count": 98
        }
      ]
    },
    {
      "cell_type": "code",
      "metadata": {
        "id": "ChLFMerV-Dlr",
        "colab_type": "code",
        "colab": {}
      },
      "source": [
        "one_hot = pd.get_dummies(dftest['Transmission'])\n",
        "dftest = dftest.drop('Transmission',axis = 1)\n",
        "dftest = dftest.join(one_hot)\n",
        "one_hot = pd.get_dummies(dftest['Fuel_Type'])\n",
        "dftest = dftest.drop('Fuel_Type',axis = 1)\n",
        "dftest = dftest.join(one_hot)\n",
        "one_hot = pd.get_dummies(dftest['Owner_Type'])\n",
        "dftest = dftest.drop('Owner_Type',axis = 1)\n",
        "dftest = dftest.join(one_hot)\n",
        "\n",
        "del dftest['Automatic']\n",
        "del dftest['CNG']\n",
        "del dftest['Fourth & Above']"
      ],
      "execution_count": null,
      "outputs": []
    },
    {
      "cell_type": "code",
      "metadata": {
        "id": "ozB91Ija-FNh",
        "colab_type": "code",
        "colab": {
          "base_uri": "https://localhost:8080/",
          "height": 215
        },
        "outputId": "84d3b5fa-5e38-41a2-a825-3af3d12c4b18"
      },
      "source": [
        "dftest.head()"
      ],
      "execution_count": null,
      "outputs": [
        {
          "output_type": "execute_result",
          "data": {
            "text/html": [
              "<div>\n",
              "<style scoped>\n",
              "    .dataframe tbody tr th:only-of-type {\n",
              "        vertical-align: middle;\n",
              "    }\n",
              "\n",
              "    .dataframe tbody tr th {\n",
              "        vertical-align: top;\n",
              "    }\n",
              "\n",
              "    .dataframe thead th {\n",
              "        text-align: right;\n",
              "    }\n",
              "</style>\n",
              "<table border=\"1\" class=\"dataframe\">\n",
              "  <thead>\n",
              "    <tr style=\"text-align: right;\">\n",
              "      <th></th>\n",
              "      <th>Year</th>\n",
              "      <th>Kilometers_Driven</th>\n",
              "      <th>Mileage</th>\n",
              "      <th>Engine</th>\n",
              "      <th>Power</th>\n",
              "      <th>Seats</th>\n",
              "      <th>Robust_KD</th>\n",
              "      <th>Robust_Engine</th>\n",
              "      <th>Robust_Power</th>\n",
              "      <th>Robust_Mileage</th>\n",
              "      <th>Robust_Seats</th>\n",
              "      <th>MM_Kilometers_Driven</th>\n",
              "      <th>MM_Engine</th>\n",
              "      <th>MM_Power</th>\n",
              "      <th>MM_Mileage</th>\n",
              "      <th>MM_Seats</th>\n",
              "      <th>MA_KD</th>\n",
              "      <th>MA_Engine</th>\n",
              "      <th>MA_Power</th>\n",
              "      <th>MA_Mileage</th>\n",
              "      <th>MA_Seats</th>\n",
              "      <th>Manual</th>\n",
              "      <th>Diesel</th>\n",
              "      <th>LPG</th>\n",
              "      <th>Petrol</th>\n",
              "      <th>First</th>\n",
              "      <th>Second</th>\n",
              "      <th>Third</th>\n",
              "    </tr>\n",
              "  </thead>\n",
              "  <tbody>\n",
              "    <tr>\n",
              "      <th>0</th>\n",
              "      <td>2014</td>\n",
              "      <td>40929</td>\n",
              "      <td>32.26</td>\n",
              "      <td>998.0</td>\n",
              "      <td>58.20000</td>\n",
              "      <td>4.0</td>\n",
              "      <td>-0.332768</td>\n",
              "      <td>-0.601299</td>\n",
              "      <td>-0.806387</td>\n",
              "      <td>2.457895</td>\n",
              "      <td>-1.0</td>\n",
              "      <td>-0.771181</td>\n",
              "      <td>-0.860811</td>\n",
              "      <td>-0.917497</td>\n",
              "      <td>1.000000</td>\n",
              "      <td>-0.50</td>\n",
              "      <td>0.116940</td>\n",
              "      <td>0.166389</td>\n",
              "      <td>0.094481</td>\n",
              "      <td>1.000000</td>\n",
              "      <td>0.4</td>\n",
              "      <td>1</td>\n",
              "      <td>0</td>\n",
              "      <td>0</td>\n",
              "      <td>0</td>\n",
              "      <td>1</td>\n",
              "      <td>0</td>\n",
              "      <td>0</td>\n",
              "    </tr>\n",
              "    <tr>\n",
              "      <th>1</th>\n",
              "      <td>2013</td>\n",
              "      <td>54493</td>\n",
              "      <td>24.70</td>\n",
              "      <td>796.0</td>\n",
              "      <td>47.30000</td>\n",
              "      <td>5.0</td>\n",
              "      <td>-0.001939</td>\n",
              "      <td>-0.863636</td>\n",
              "      <td>-1.023952</td>\n",
              "      <td>1.131579</td>\n",
              "      <td>0.0</td>\n",
              "      <td>-0.693450</td>\n",
              "      <td>-0.935988</td>\n",
              "      <td>-0.954967</td>\n",
              "      <td>0.378289</td>\n",
              "      <td>-0.25</td>\n",
              "      <td>0.155694</td>\n",
              "      <td>0.132711</td>\n",
              "      <td>0.076786</td>\n",
              "      <td>0.765654</td>\n",
              "      <td>0.5</td>\n",
              "      <td>1</td>\n",
              "      <td>0</td>\n",
              "      <td>0</td>\n",
              "      <td>1</td>\n",
              "      <td>0</td>\n",
              "      <td>1</td>\n",
              "      <td>0</td>\n",
              "    </tr>\n",
              "    <tr>\n",
              "      <th>2</th>\n",
              "      <td>2017</td>\n",
              "      <td>34000</td>\n",
              "      <td>13.68</td>\n",
              "      <td>2393.0</td>\n",
              "      <td>147.80000</td>\n",
              "      <td>7.0</td>\n",
              "      <td>-0.501768</td>\n",
              "      <td>1.210390</td>\n",
              "      <td>0.982036</td>\n",
              "      <td>-0.801754</td>\n",
              "      <td>2.0</td>\n",
              "      <td>-0.810888</td>\n",
              "      <td>-0.341645</td>\n",
              "      <td>-0.609488</td>\n",
              "      <td>-0.527961</td>\n",
              "      <td>0.25</td>\n",
              "      <td>0.097143</td>\n",
              "      <td>0.398966</td>\n",
              "      <td>0.239935</td>\n",
              "      <td>0.424055</td>\n",
              "      <td>0.7</td>\n",
              "      <td>1</td>\n",
              "      <td>1</td>\n",
              "      <td>0</td>\n",
              "      <td>0</td>\n",
              "      <td>1</td>\n",
              "      <td>0</td>\n",
              "      <td>0</td>\n",
              "    </tr>\n",
              "    <tr>\n",
              "      <th>3</th>\n",
              "      <td>2012</td>\n",
              "      <td>139000</td>\n",
              "      <td>23.59</td>\n",
              "      <td>1364.0</td>\n",
              "      <td>110.38042</td>\n",
              "      <td>5.0</td>\n",
              "      <td>2.059207</td>\n",
              "      <td>-0.125974</td>\n",
              "      <td>0.235138</td>\n",
              "      <td>0.936842</td>\n",
              "      <td>0.0</td>\n",
              "      <td>-0.209169</td>\n",
              "      <td>-0.724600</td>\n",
              "      <td>-0.738122</td>\n",
              "      <td>0.287007</td>\n",
              "      <td>-0.25</td>\n",
              "      <td>0.397143</td>\n",
              "      <td>0.227409</td>\n",
              "      <td>0.179189</td>\n",
              "      <td>0.731246</td>\n",
              "      <td>0.5</td>\n",
              "      <td>1</td>\n",
              "      <td>1</td>\n",
              "      <td>0</td>\n",
              "      <td>0</td>\n",
              "      <td>1</td>\n",
              "      <td>0</td>\n",
              "      <td>0</td>\n",
              "    </tr>\n",
              "    <tr>\n",
              "      <th>4</th>\n",
              "      <td>2014</td>\n",
              "      <td>29000</td>\n",
              "      <td>18.50</td>\n",
              "      <td>1197.0</td>\n",
              "      <td>82.85000</td>\n",
              "      <td>5.0</td>\n",
              "      <td>-0.623720</td>\n",
              "      <td>-0.342857</td>\n",
              "      <td>-0.314371</td>\n",
              "      <td>0.043860</td>\n",
              "      <td>0.0</td>\n",
              "      <td>-0.839542</td>\n",
              "      <td>-0.786751</td>\n",
              "      <td>-0.832760</td>\n",
              "      <td>-0.131579</td>\n",
              "      <td>-0.25</td>\n",
              "      <td>0.082857</td>\n",
              "      <td>0.199567</td>\n",
              "      <td>0.134497</td>\n",
              "      <td>0.573466</td>\n",
              "      <td>0.5</td>\n",
              "      <td>1</td>\n",
              "      <td>0</td>\n",
              "      <td>0</td>\n",
              "      <td>1</td>\n",
              "      <td>1</td>\n",
              "      <td>0</td>\n",
              "      <td>0</td>\n",
              "    </tr>\n",
              "  </tbody>\n",
              "</table>\n",
              "</div>"
            ],
            "text/plain": [
              "   Year  Kilometers_Driven  Mileage  Engine  ...  Petrol  First  Second  Third\n",
              "0  2014              40929    32.26   998.0  ...       0      1       0      0\n",
              "1  2013              54493    24.70   796.0  ...       1      0       1      0\n",
              "2  2017              34000    13.68  2393.0  ...       0      1       0      0\n",
              "3  2012             139000    23.59  1364.0  ...       0      1       0      0\n",
              "4  2014              29000    18.50  1197.0  ...       1      1       0      0\n",
              "\n",
              "[5 rows x 28 columns]"
            ]
          },
          "metadata": {
            "tags": []
          },
          "execution_count": 100
        }
      ]
    },
    {
      "cell_type": "markdown",
      "metadata": {
        "id": "YBENJ-Cb93rU",
        "colab_type": "text"
      },
      "source": [
        "## Rest"
      ]
    },
    {
      "cell_type": "code",
      "metadata": {
        "id": "VI6I0n3lvj2T",
        "colab_type": "code",
        "colab": {}
      },
      "source": [
        "#Train\n",
        "del df['Transmission']\n",
        "del df['Fuel_Type']\n",
        "del df['Owner_Type']\n",
        "#Test\n",
        "del dftest['Transmission']\n",
        "del dftest['Fuel_Type']\n",
        "del dftest['Owner_Type']"
      ],
      "execution_count": null,
      "outputs": []
    },
    {
      "cell_type": "code",
      "metadata": {
        "id": "fFJBtC9mcjIV",
        "colab_type": "code",
        "colab": {
          "base_uri": "https://localhost:8080/",
          "height": 34
        },
        "outputId": "3d19ca92-4968-4ade-f9bf-a75cac879d37"
      },
      "source": [
        "from sklearn.preprocessing import LabelEncoder\n",
        "cols = ('Fuel_Type', 'Transmission', 'Owner_Type')\n",
        "# process columns, apply LabelEncoder to categorical features\n",
        "for c in cols:\n",
        "    lbl = LabelEncoder() \n",
        "    lbl.fit(list(df[c].values)) \n",
        "    df[c] = lbl.transform(list(df[c].values))\n",
        "\n",
        "# shape        \n",
        "print('Shape df: {}'.format(df.shape))"
      ],
      "execution_count": null,
      "outputs": [
        {
          "output_type": "stream",
          "text": [
            "Shape df: (3529, 10)\n"
          ],
          "name": "stdout"
        }
      ]
    },
    {
      "cell_type": "code",
      "metadata": {
        "id": "d7WKTuoEr8bb",
        "colab_type": "code",
        "colab": {
          "base_uri": "https://localhost:8080/",
          "height": 185
        },
        "outputId": "d7d5c2ff-fa28-4325-f9ea-98adfb026e30"
      },
      "source": [
        "print(df.head(2))\n",
        "print(dftest.head(2))"
      ],
      "execution_count": null,
      "outputs": [
        {
          "output_type": "stream",
          "text": [
            "   Year  Kilometers_Driven  Mileage  ...  MA_Power  MA_Mileage  MA_Seats\n",
            "0  2015              41000    19.67  ...  0.280444    0.586464       0.5\n",
            "1  2011              46000    18.20  ...  0.197111    0.542636       0.5\n",
            "\n",
            "[2 rows x 22 columns]\n",
            "   Year  Kilometers_Driven  Mileage  ...  MA_Power  MA_Mileage  MA_Seats\n",
            "0  2014              40929    32.26  ...  0.094481    1.000000       0.4\n",
            "1  2013              54493    24.70  ...  0.076786    0.765654       0.5\n",
            "\n",
            "[2 rows x 21 columns]\n"
          ],
          "name": "stdout"
        }
      ]
    },
    {
      "cell_type": "markdown",
      "metadata": {
        "id": "_bIfwzfj9Ozv",
        "colab_type": "text"
      },
      "source": [
        "# XGBoost Modelling"
      ]
    },
    {
      "cell_type": "code",
      "metadata": {
        "id": "pPP46XA4hNb7",
        "colab_type": "code",
        "colab": {}
      },
      "source": [
        "import numpy as np\n",
        "import pandas as pd\n",
        "from sklearn import preprocessing\n",
        "import xgboost as xgb\n",
        "from xgboost.sklearn import XGBRegressor\n",
        "from sklearn.model_selection import GridSearchCV, train_test_split"
      ],
      "execution_count": null,
      "outputs": []
    },
    {
      "cell_type": "code",
      "metadata": {
        "id": "5eUBXhwifz0R",
        "colab_type": "code",
        "colab": {}
      },
      "source": [
        "# Organize our data for training\n",
        "X = df.drop([\"Price\"], axis=1)\n",
        "Y = df[\"Price\"]\n",
        "X, X_Val, Y, Y_Val = train_test_split(X, Y,test_size=0.3)"
      ],
      "execution_count": null,
      "outputs": []
    },
    {
      "cell_type": "markdown",
      "metadata": {
        "id": "kVB0r1RWBmfb",
        "colab_type": "text"
      },
      "source": [
        "def **XGBRegressor**(*max_depth=3, learning_rate=0.1, n_estimators=100, verbosity=1, silent=None, objective='reg:linear', booster='gbtree', n_jobs=1, nthread=None, gamma=0, min_child_weight=1, max_delta_step=0, subsample=1, colsample_bytree=1, colsample_bylevel=1, colsample_bynode=1, reg_alpha=0, reg_lambda=1, scale_pos_weight=1, base_score=0.5, random_state=0, seed=None, missing=None, importance_type='gain', **kwargs *)"
      ]
    },
    {
      "cell_type": "markdown",
      "metadata": {
        "id": "IzWxtiP1FBEq",
        "colab_type": "text"
      },
      "source": [
        "*'colsample_bytree': 0.7, 'gamma': 0, 'learning_rate': 0.1, 'max_depth': 3, 'min_child_weight': 5, 'n_estimators': 500, 'nthread': 4, 'objective': 'reg:linear', 'scale_pos_weight': 1, 'silent': 1, 'subsample': 0.8*\n",
        "\n",
        "* n_estimators 100,500,1000,2000\n",
        "*   'max_depth':range(3,10,2)\n",
        "*   'min_child_weight':range(1,6,2)\n",
        "*   'gamma':[i/10.0 for i in range(0,5)]\n",
        "*   'subsample':[i/10.0 for i in range(6,10)],\n",
        " 'colsample_bytree':[i/10.0 for i in range(6,10)]\n",
        "\n",
        "\n",
        "\n",
        "\n",
        "\n"
      ]
    },
    {
      "cell_type": "code",
      "metadata": {
        "id": "rquBpAdufz2T",
        "colab_type": "code",
        "colab": {}
      },
      "source": [
        "# Various hyper-parameters to tune\n",
        "xgb1 = XGBRegressor()\n",
        "parameters = {'nthread':[4], #when use hyperthread, xgboost may become slower\n",
        "              'objective':['reg:linear'],\n",
        "              'silent': [1],\n",
        "              'learning_rate': [0.01],\n",
        "              'n_estimators': [8000],\n",
        "              'max_depth': [3],\n",
        "              'min_child_weight': [4],\n",
        "              'gamma':[0.01],\n",
        "              'subsample': [0.8],\n",
        "              'scale_pos_weight':[1],\n",
        "              'colsample_bytree':[0.8],\n",
        "              'reg_alpha':[0.01]}\n",
        "\n",
        "xgb_grid = GridSearchCV(xgb1,\n",
        "                        parameters,\n",
        "                        cv = 5,\n",
        "                        n_jobs = -1,\n",
        "                        verbose=True)\n"
      ],
      "execution_count": null,
      "outputs": []
    },
    {
      "cell_type": "code",
      "metadata": {
        "id": "W_CluYtUfzyM",
        "colab_type": "code",
        "colab": {
          "base_uri": "https://localhost:8080/",
          "height": 154
        },
        "outputId": "70220110-1646-43bf-c969-4073006bb081"
      },
      "source": [
        "xgb_grid.fit(X,Y)\n",
        "#print(xgb_grid.best_score_)\n",
        "print(xgb_grid.best_params_)\n",
        "print(\"--------------------------------------------\")\n",
        "from sklearn.metrics import r2_score\n",
        "print(\"R2-Score\")\n",
        "print(round(r2_score(Y_Val, xgb_grid.best_estimator_.predict(X_Val)),4))"
      ],
      "execution_count": null,
      "outputs": [
        {
          "output_type": "stream",
          "text": [
            "Fitting 5 folds for each of 1 candidates, totalling 5 fits\n"
          ],
          "name": "stdout"
        },
        {
          "output_type": "stream",
          "text": [
            "[Parallel(n_jobs=-1)]: Using backend LokyBackend with 2 concurrent workers.\n",
            "[Parallel(n_jobs=-1)]: Done   5 out of   5 | elapsed:  1.3min finished\n"
          ],
          "name": "stderr"
        },
        {
          "output_type": "stream",
          "text": [
            "{'colsample_bytree': 0.8, 'gamma': 0.01, 'learning_rate': 0.01, 'max_depth': 3, 'min_child_weight': 4, 'n_estimators': 8000, 'nthread': 4, 'objective': 'reg:linear', 'reg_alpha': 0.01, 'scale_pos_weight': 1, 'silent': 1, 'subsample': 0.8}\n",
            "--------------------------------------------\n",
            "R2-Score\n",
            "0.9015\n"
          ],
          "name": "stdout"
        }
      ]
    },
    {
      "cell_type": "code",
      "metadata": {
        "id": "BpdCaO_gy4XI",
        "colab_type": "code",
        "colab": {}
      },
      "source": [
        "# get feature importances from a model\n",
        "import matplotlib.pyplot as plt\n",
        "def plotFeatureImportances(model):\n",
        "    #first print all features importances in descending order\n",
        "    feature_importances = pd.DataFrame(model.feature_importances_,\n",
        "                                   index = X.columns,\n",
        "                                    columns=['importance']).sort_values('importance',ascending=False)\n",
        "    #print(feature_importances)\n",
        "    # Next plot feature importances to get idea about where the curve breaks\n",
        "    # in the graph i.e. select top appropriate features\n",
        "    features = X.columns.tolist()\n",
        "    importances = model.feature_importances_\n",
        "    indices = np.argsort(importances)\n",
        "    plt.figure(figsize=(10,10))\n",
        "    plt.title('Feature Importances')\n",
        "    plt.barh(range(len(indices)), importances[indices], color='b', align='center')\n",
        "    plt.yticks(range(len(indices)), [features[i] for i in indices])\n",
        "    plt.xlabel('Relative Importance')\n",
        "    plt.show()"
      ],
      "execution_count": null,
      "outputs": []
    },
    {
      "cell_type": "code",
      "metadata": {
        "id": "J8xbLO7by5pY",
        "colab_type": "code",
        "colab": {}
      },
      "source": [
        "plotFeatureImportances(xgb_grid.best_estimator_)"
      ],
      "execution_count": null,
      "outputs": []
    },
    {
      "cell_type": "markdown",
      "metadata": {
        "id": "curVfLgvso4l",
        "colab_type": "text"
      },
      "source": [
        "## XGBoost Test"
      ]
    },
    {
      "cell_type": "code",
      "metadata": {
        "id": "3FTZwoZXm_Nn",
        "colab_type": "code",
        "colab": {}
      },
      "source": [
        "# Save the file\n",
        "dftest['Out'] = xgb_grid.best_estimator_.predict(dftest)\n",
        "sub['Price']=dftest['Out']\n",
        "sub.to_excel(\"output.xlsx\")"
      ],
      "execution_count": null,
      "outputs": []
    },
    {
      "cell_type": "markdown",
      "metadata": {
        "id": "ZIxGLWl7F56Q",
        "colab_type": "text"
      },
      "source": [
        "# RandomForrestRegressor Modelling"
      ]
    },
    {
      "cell_type": "code",
      "metadata": {
        "id": "NYGRC0CSF-UC",
        "colab_type": "code",
        "colab": {}
      },
      "source": [
        "from sklearn.ensemble import RandomForestRegressor\n",
        "from sklearn.model_selection import GridSearchCV\n",
        "\n",
        "param_grid = {\n",
        "    'bootstrap': [True],\n",
        "    'max_depth': [120],\n",
        "    'max_features': [3],\n",
        "    'min_samples_leaf': [3],\n",
        "    'min_samples_split': [8],\n",
        "    'n_estimators': [100]\n",
        "}\n",
        "\n",
        "rf = RandomForestRegressor()\n",
        "grid_search = GridSearchCV(estimator = rf,\n",
        "                           param_grid = param_grid,\n",
        "                           cv = 3,\n",
        "                           n_jobs = -1,\n",
        "                           verbose = 2)"
      ],
      "execution_count": null,
      "outputs": []
    },
    {
      "cell_type": "code",
      "metadata": {
        "id": "ej7Ff6icGtKi",
        "colab_type": "code",
        "colab": {
          "base_uri": "https://localhost:8080/",
          "height": 154
        },
        "outputId": "f8de46c0-c96d-45c3-de26-07f37c0d38cb"
      },
      "source": [
        "grid_search.fit(X,Y)\n",
        "#print(grid_search.best_score_)\n",
        "print(grid_search.best_params_)\n",
        "print(\"--------------------------------------------\")\n",
        "from sklearn.metrics import r2_score\n",
        "print(\"R2-Score\")\n",
        "print(round(r2_score(Y_Val, grid_search.best_estimator_.predict(X_Val)),4))"
      ],
      "execution_count": null,
      "outputs": [
        {
          "output_type": "stream",
          "text": [
            "Fitting 3 folds for each of 1 candidates, totalling 3 fits\n"
          ],
          "name": "stdout"
        },
        {
          "output_type": "stream",
          "text": [
            "[Parallel(n_jobs=-1)]: Using backend LokyBackend with 2 concurrent workers.\n",
            "[Parallel(n_jobs=-1)]: Done   3 out of   3 | elapsed:    0.8s finished\n"
          ],
          "name": "stderr"
        },
        {
          "output_type": "stream",
          "text": [
            "{'bootstrap': True, 'max_depth': 120, 'max_features': 3, 'min_samples_leaf': 3, 'min_samples_split': 8, 'n_estimators': 100}\n",
            "--------------------------------------------\n",
            "R2-Score\n",
            "0.8536\n"
          ],
          "name": "stdout"
        }
      ]
    },
    {
      "cell_type": "markdown",
      "metadata": {
        "id": "PJNYmNXrD_zv",
        "colab_type": "text"
      },
      "source": [
        "# GBM Modelling"
      ]
    },
    {
      "cell_type": "code",
      "metadata": {
        "id": "lE43WpLYEDtA",
        "colab_type": "code",
        "colab": {}
      },
      "source": [
        "from sklearn.ensemble import GradientBoostingRegressor\n",
        "from sklearn.model_selection import GridSearchCV\n",
        "parameters = {'loss':['ls'],\n",
        "              'learning_rate':[0.25],\n",
        "              'n_estimators':[100],\n",
        "              'subsample':[1.0],\n",
        "              'criterion':['friedman_mse'],\n",
        "              'min_samples_split':[2],\n",
        "              'min_samples_leaf':[1],\n",
        "              'min_weight_fraction_leaf':[0.0],\n",
        "              'max_depth':[3],\n",
        "              'min_impurity_decrease':[0.0]\n",
        "              }\n",
        "\n",
        "model_gbr= GradientBoostingRegressor()\n",
        "grid_search_gbr = GridSearchCV(estimator = model_gbr,\n",
        "                           param_grid = parameters,\n",
        "                           cv = 3,\n",
        "                           n_jobs = -1,\n",
        "                           verbose = 2)\n"
      ],
      "execution_count": null,
      "outputs": []
    },
    {
      "cell_type": "code",
      "metadata": {
        "id": "xmkRrbt2JbcM",
        "colab_type": "code",
        "colab": {
          "base_uri": "https://localhost:8080/",
          "height": 154
        },
        "outputId": "0315139a-50bb-45e0-94ea-5b2a1ffc28d2"
      },
      "source": [
        "grid_search_gbr.fit(X,Y)\n",
        "#print(grid_search_gbr.best_score_)\n",
        "print(grid_search_gbr.best_params_)\n",
        "print(\"--------------------------------------------\")\n",
        "from sklearn.metrics import r2_score\n",
        "print(\"R2-Score\")\n",
        "print(round(r2_score(Y_Val, grid_search_gbr.best_estimator_.predict(X_Val)),4))"
      ],
      "execution_count": null,
      "outputs": [
        {
          "output_type": "stream",
          "text": [
            "Fitting 3 folds for each of 1 candidates, totalling 3 fits\n"
          ],
          "name": "stdout"
        },
        {
          "output_type": "stream",
          "text": [
            "[Parallel(n_jobs=-1)]: Using backend LokyBackend with 2 concurrent workers.\n",
            "[Parallel(n_jobs=-1)]: Done   3 out of   3 | elapsed:    1.3s finished\n"
          ],
          "name": "stderr"
        },
        {
          "output_type": "stream",
          "text": [
            "{'criterion': 'friedman_mse', 'learning_rate': 0.25, 'loss': 'ls', 'max_depth': 3, 'min_impurity_decrease': 0.0, 'min_samples_leaf': 1, 'min_samples_split': 2, 'min_weight_fraction_leaf': 0.0, 'n_estimators': 100, 'subsample': 1.0}\n",
            "--------------------------------------------\n",
            "R2-Score\n",
            "0.8793\n"
          ],
          "name": "stdout"
        }
      ]
    },
    {
      "cell_type": "markdown",
      "metadata": {
        "id": "X1Mgz07syaXb",
        "colab_type": "text"
      },
      "source": [
        "# Bagging Regressor Modelling"
      ]
    },
    {
      "cell_type": "code",
      "metadata": {
        "id": "I5nUfhra99H5",
        "colab_type": "code",
        "colab": {}
      },
      "source": [
        "from sklearn import tree\n",
        "from sklearn.ensemble import BaggingRegressor\n",
        "model_br = BaggingRegressor(tree.DecisionTreeRegressor(random_state=1))\n",
        "\n",
        "param_grid = {'n_estimators':[10],\n",
        "              'max_samples':[1.0],\n",
        "              'max_features':[1.0],\n",
        "              'warm_start':[False],\n",
        "              'n_jobs':[-1],\n",
        "              'verbose':[1]}\n",
        "\n",
        "gscv_bg = GridSearchCV(estimator=model_br,\n",
        "                       param_grid=param_grid,\n",
        "                       cv=5,\n",
        "                       n_jobs=-1,\n",
        "                       verbose=1)"
      ],
      "execution_count": null,
      "outputs": []
    },
    {
      "cell_type": "code",
      "metadata": {
        "id": "_mSScBHMxUTb",
        "colab_type": "code",
        "colab": {
          "base_uri": "https://localhost:8080/",
          "height": 218
        },
        "outputId": "8bed8dee-2a5d-40f4-aa6b-b6e9e16afe03"
      },
      "source": [
        "gscv_bg.fit(X,Y)\n",
        "print(gscv_bg.best_params_)\n",
        "print(\"R2 Score\")\n",
        "print(round(r2_score(Y_Val,gscv_bg.best_estimator_.predict(X_Val)),4))"
      ],
      "execution_count": null,
      "outputs": [
        {
          "output_type": "stream",
          "text": [
            "Fitting 5 folds for each of 1 candidates, totalling 5 fits\n"
          ],
          "name": "stdout"
        },
        {
          "output_type": "stream",
          "text": [
            "[Parallel(n_jobs=-1)]: Using backend LokyBackend with 2 concurrent workers.\n"
          ],
          "name": "stderr"
        },
        {
          "output_type": "stream",
          "text": [
            "{'max_features': 1.0, 'max_samples': 1.0, 'n_estimators': 10, 'n_jobs': -1, 'verbose': 1, 'warm_start': False}\n",
            "R2 Score\n",
            "0.8529\n"
          ],
          "name": "stdout"
        },
        {
          "output_type": "stream",
          "text": [
            "[Parallel(n_jobs=-1)]: Done   5 out of   5 | elapsed:    1.1s finished\n",
            "[Parallel(n_jobs=2)]: Using backend LokyBackend with 2 concurrent workers.\n",
            "[Parallel(n_jobs=2)]: Done   2 out of   2 | elapsed:    0.2s remaining:    0.0s\n",
            "[Parallel(n_jobs=2)]: Done   2 out of   2 | elapsed:    0.2s finished\n",
            "[Parallel(n_jobs=2)]: Using backend LokyBackend with 2 concurrent workers.\n",
            "[Parallel(n_jobs=2)]: Done   2 out of   2 | elapsed:    0.0s remaining:    0.0s\n",
            "[Parallel(n_jobs=2)]: Done   2 out of   2 | elapsed:    0.0s finished\n"
          ],
          "name": "stderr"
        }
      ]
    },
    {
      "cell_type": "markdown",
      "metadata": {
        "id": "bZ2ZubbcI0w3",
        "colab_type": "text"
      },
      "source": [
        "# Adaboost"
      ]
    },
    {
      "cell_type": "code",
      "metadata": {
        "id": "Ap2qE9W599GH",
        "colab_type": "code",
        "colab": {}
      },
      "source": [
        "from sklearn.ensemble import AdaBoostRegressor\n",
        "model_adb = AdaBoostRegressor()\n",
        "param_grid={'n_estimators':[50,100],\n",
        "            'learning_rate':[1.0],\n",
        "            'loss':['linear']}\n",
        "  \n",
        "gscv_adb = GridSearchCV(estimator=model_adb,\n",
        "                        param_grid=param_grid,\n",
        "                        cv=5,\n",
        "                        n_jobs=-1,\n",
        "                        verbose=2)"
      ],
      "execution_count": null,
      "outputs": []
    },
    {
      "cell_type": "code",
      "metadata": {
        "id": "_mdq-Wrjzl9e",
        "colab_type": "code",
        "colab": {
          "base_uri": "https://localhost:8080/",
          "height": 118
        },
        "outputId": "049594c9-339c-439f-8a80-9444543d97ca"
      },
      "source": [
        "gscv_adb.fit(X,Y)\n",
        "print(gscv_adb.best_params_)\n",
        "print(\"R2 Score\")\n",
        "print(round(r2_score(Y_Val,gscv_adb.best_estimator_.predict(X_Val)),4))"
      ],
      "execution_count": null,
      "outputs": [
        {
          "output_type": "stream",
          "text": [
            "Fitting 5 folds for each of 2 candidates, totalling 10 fits\n"
          ],
          "name": "stdout"
        },
        {
          "output_type": "stream",
          "text": [
            "[Parallel(n_jobs=-1)]: Using backend LokyBackend with 2 concurrent workers.\n",
            "[Parallel(n_jobs=-1)]: Done  10 out of  10 | elapsed:    3.0s finished\n"
          ],
          "name": "stderr"
        },
        {
          "output_type": "stream",
          "text": [
            "{'learning_rate': 1.0, 'loss': 'linear', 'n_estimators': 50}\n",
            "R2 Score\n",
            "0.6312\n"
          ],
          "name": "stdout"
        }
      ]
    },
    {
      "cell_type": "markdown",
      "metadata": {
        "id": "Tjc8hesnK4Ul",
        "colab_type": "text"
      },
      "source": [
        "# LightGBM"
      ]
    },
    {
      "cell_type": "code",
      "metadata": {
        "id": "5dcONp8I989T",
        "colab_type": "code",
        "colab": {}
      },
      "source": [
        "import lightgbm as lgb\n",
        "train_data=lgb.Dataset(x_train,label=y_train)\n",
        "params = {'learning_rate':0.001}\n",
        "model= lgb.train(params, train_data, 100)\n",
        "from sklearn.metrics import mean_squared_error\n",
        "rmse=mean_squared_error(y_pred,y_test)**0.5"
      ],
      "execution_count": null,
      "outputs": []
    },
    {
      "cell_type": "markdown",
      "metadata": {
        "id": "osF_VajvLBd9",
        "colab_type": "text"
      },
      "source": [
        "# CatBoost"
      ]
    },
    {
      "cell_type": "code",
      "metadata": {
        "id": "tb_vG0NX987s",
        "colab_type": "code",
        "colab": {}
      },
      "source": [
        "!pip install catboost\n",
        "import numpy as np\n",
        "from catboost import CatBoostRegressor\n",
        "model=CatBoostRegressor()\n",
        "categorical_features_indices = np.where(df.dtypes != np.float)[0]\n",
        "model.fit(x_train,y_train,cat_features=([ 0,  1, 2, 3, 4, 10]),eval_set=(x_test, y_test))\n",
        "model.score(x_test,y_test)"
      ],
      "execution_count": null,
      "outputs": []
    },
    {
      "cell_type": "code",
      "metadata": {
        "id": "3NyHGCBb98wR",
        "colab_type": "code",
        "colab": {}
      },
      "source": [
        ""
      ],
      "execution_count": null,
      "outputs": []
    },
    {
      "cell_type": "markdown",
      "metadata": {
        "id": "-ZvLjvbCyzBn",
        "colab_type": "text"
      },
      "source": [
        "# Skewness"
      ]
    },
    {
      "cell_type": "code",
      "metadata": {
        "id": "lgM_BYeI98tE",
        "colab_type": "code",
        "colab": {}
      },
      "source": [
        "numeric_feats = df.dtypes[df.dtypes != \"object\"].index\n",
        "# Check the skew of all numerical features\n",
        "skewed_feats = df[numeric_feats].apply(lambda x: skew(x.dropna())).sort_values(ascending=False)\n",
        "print(\"\\nSkew in numerical features: \\n\")\n",
        "skewness = pd.DataFrame({'Skew' :skewed_feats})\n",
        "skewness.head(15)\n",
        "\n",
        "skewness = skewness[abs(skewness) > 0.75]\n",
        "print(\"There are {} skewed numerical features to Box Cox transform\".format(skewness.shape[0]))\n",
        "from scipy.special import boxcox1p\n",
        "skewed_features = skewness.index\n",
        "lam = 0.15\n",
        "for feat in skewed_features:\n",
        "    #all_data[feat] += 1\n",
        "    df[feat] = boxcox1p(df[feat], lam)"
      ],
      "execution_count": null,
      "outputs": []
    },
    {
      "cell_type": "markdown",
      "metadata": {
        "id": "WhQlubbhzhwy",
        "colab_type": "text"
      },
      "source": [
        "# Misc"
      ]
    },
    {
      "cell_type": "code",
      "metadata": {
        "id": "wLdPNM1oqRGB",
        "colab_type": "code",
        "colab": {}
      },
      "source": [
        ""
      ],
      "execution_count": null,
      "outputs": []
    },
    {
      "cell_type": "code",
      "metadata": {
        "id": "sT6Dbxkpp6xG",
        "colab_type": "code",
        "colab": {}
      },
      "source": [
        "#Source:- https://www.kaggle.com/serigne/stacked-regressions-top-4-on-leaderboard\n",
        "from sklearn.linear_model import ElasticNet, Lasso,  BayesianRidge, LassoLarsIC\n",
        "from sklearn.kernel_ridge import KernelRidge\n",
        "from sklearn.pipeline import make_pipeline"
      ],
      "execution_count": null,
      "outputs": []
    },
    {
      "cell_type": "code",
      "metadata": {
        "id": "C0m090iNbebt",
        "colab_type": "code",
        "colab": {}
      },
      "source": [
        "# get feature importances from a model\n",
        "import matplotlib.pyplot as plt\n",
        "def plotFeatureImportances(model):\n",
        "    #first print all features importances in descending order\n",
        "    feature_importances = pd.DataFrame(model.feature_importances_,\n",
        "                                   index = X.columns,\n",
        "                                    columns=['importance']).sort_values('importance',ascending=False)\n",
        "    print(feature_importances)\n",
        "    # Next plot feature importances to get idea about where the curve breaks\n",
        "    # in the graph i.e. select top appropriate features\n",
        "    features = X.columns.tolist()\n",
        "    importances = model.feature_importances_\n",
        "    indices = np.argsort(importances)\n",
        "    plt.figure(figsize=(10,10))\n",
        "    plt.title('Feature Importances')\n",
        "    plt.barh(range(len(indices)), importances[indices], color='b', align='center')\n",
        "    plt.yticks(range(len(indices)), [features[i] for i in indices])\n",
        "    plt.xlabel('Relative Importance')\n",
        "    plt.show()\n",
        "\n",
        "from sklearn.model_selection import train_test_split\n",
        "from sklearn import metrics\n",
        "import numpy as np\n",
        "from sklearn.metrics import mean_squared_log_error\n",
        "# We have created a function to print accuracy metrics which can be used\n",
        "# to get accuracy metrics of all models in upcoming steps\n",
        "def print_accuracy_report(y_test, y_pred,X_test, model):\n",
        " print('R Squared(Accuracy)', metrics.r2_score(y_test, y_pred))   \n",
        " print('Mean Absolute Error:', metrics.mean_absolute_error(y_test, y_pred))  \n",
        " print('Mean Squared Error:', metrics.mean_squared_error(y_test, y_pred))\n",
        " print('Root Mean Squared Error:', np.sqrt(metrics.mean_squared_error(y_test, y_pred)))\n",
        " print('Root Mean Squared Log Error',np.sqrt(mean_squared_log_error( y_test, y_pred )))"
      ],
      "execution_count": null,
      "outputs": []
    },
    {
      "cell_type": "code",
      "metadata": {
        "id": "R88Sl0yaQ_55",
        "colab_type": "code",
        "colab": {
          "base_uri": "https://localhost:8080/",
          "height": 124
        },
        "outputId": "af84a950-0dd2-43fd-8e82-721a8f686970"
      },
      "source": [
        "#define a function for random forest regressor\n",
        "from sklearn.ensemble import RandomForestRegressor\n",
        "import numpy as np\n",
        "\n",
        "def RandomForestRegressorModel(X,y):\n",
        "    X_train, X_test, y_train, y_test = train_test_split(X, y,random_state=42, test_size=0.3)\n",
        "    rf = RandomForestRegressor(random_state=42)\n",
        "    rf.fit(X_train, y_train)\n",
        "    y_pred = rf.predict(X_test)\n",
        "    print(print_accuracy_report(y_test, y_pred, X_test, rf))\n",
        "    return rf\n",
        "\n",
        "randomForestModel = RandomForestRegressorModel(X,y)"
      ],
      "execution_count": null,
      "outputs": [
        {
          "output_type": "stream",
          "text": [
            "R Squared(Accuracy) 0.8025900530441361\n",
            "Mean Absolute Error: 2.408346454603899\n",
            "Mean Squared Error: 23.563801989756616\n",
            "Root Mean Squared Error: 4.854256069652343\n",
            "Root Mean Squared Log Error 0.29256690669402813\n",
            "None\n"
          ],
          "name": "stdout"
        }
      ]
    },
    {
      "cell_type": "code",
      "metadata": {
        "id": "cAfDzYqJSOZm",
        "colab_type": "code",
        "colab": {
          "base_uri": "https://localhost:8080/",
          "height": 924
        },
        "outputId": "747a9b42-de00-4459-e9a1-ef0ca1ea7cfe"
      },
      "source": [
        "plotFeatureImportances(randomForestModel)"
      ],
      "execution_count": null,
      "outputs": [
        {
          "output_type": "stream",
          "text": [
            "                      importance\n",
            "MA_Power                0.200544\n",
            "MM_Power                0.185552\n",
            "Power                   0.167950\n",
            "Robust_Power            0.156524\n",
            "Robust_KD               0.055071\n",
            "MM_Kilometers_Driven    0.054219\n",
            "Kilometers_Driven       0.052916\n",
            "MM_Mileage              0.023629\n",
            "Robust_Mileage          0.022843\n",
            "Mileage                 0.022829\n",
            "MM_Engine               0.016594\n",
            "Robust_Engine           0.015143\n",
            "Engine                  0.014778\n",
            "Robust_Seats            0.003846\n",
            "Seats                   0.003811\n",
            "MM_Seats                0.003749\n"
          ],
          "name": "stdout"
        },
        {
          "output_type": "display_data",
          "data": {
            "image/png": "[encoded data removed]",
            "text/plain": [
              "<Figure size 720x720 with 1 Axes>"
            ]
          },
          "metadata": {
            "tags": [],
            "needs_background": "light"
          }
        }
      ]
    },
    {
      "cell_type": "markdown",
      "metadata": {
        "id": "vPVrdAYE6QPu",
        "colab_type": "text"
      },
      "source": [
        "### Check distribution of target variable"
      ]
    },
    {
      "cell_type": "markdown",
      "metadata": {
        "id": "yDpIde9k6Z4b",
        "colab_type": "text"
      },
      "source": [
        "We should check the distribution of the target variable in a regression problem using distribution plot. If it is skewed then application of log, exponent or sqrt transform can help in reducing the skewness to get a normal distribution."
      ]
    },
    {
      "cell_type": "code",
      "metadata": {
        "id": "6V0wlw28bxay",
        "colab_type": "code",
        "colab": {
          "base_uri": "https://localhost:8080/",
          "height": 379
        },
        "outputId": "e503acc1-f079-42b8-8a97-8486b9696dd3"
      },
      "source": [
        "fig,ax = plt.subplots(nrows=2, ncols=2,figsize=(20,8))\n",
        "ax[0,0].hist(df['Price'],bins=100,alpha=0.5, label='Price')\n",
        "ax[0,1].hist(df['Robust_Price'],bins=100,alpha=0.5, label='R_Price')\n",
        "ax[1,0].hist(df['MM_Price'],bins=100,alpha=0.5, label='MM_Price')\n",
        "ax[1,1].hist(np.log1p(df[\"Price\"]),bins=100,alpha=0.5, label='Log_Price')\n",
        "plt.legend()\n",
        "plt.show()"
      ],
      "execution_count": null,
      "outputs": [
        {
          "output_type": "display_data",
          "data": {
            "image/png": "[encoded data removed]",
            "text/plain": [
              "<Figure size 1440x576 with 4 Axes>"
            ]
          },
          "metadata": {
            "tags": [],
            "needs_background": "light"
          }
        }
      ]
    },
    {
      "cell_type": "markdown",
      "metadata": {
        "id": "riOo4qIK-VmJ",
        "colab_type": "text"
      },
      "source": [
        "## Log Transformation"
      ]
    },
    {
      "cell_type": "code",
      "metadata": {
        "id": "Wz1wkdpVfjsD",
        "colab_type": "code",
        "colab": {}
      },
      "source": [
        "from sklearn.model_selection import train_test_split\n",
        "X =  df[df.columns.difference(['Name','Price','MM_Price','Location','Year','Fuel_Type','Transmission','Owner_Type','Robust_Price'])]\n",
        "y = np.log1p(df[\"Price\"])"
      ],
      "execution_count": null,
      "outputs": []
    },
    {
      "cell_type": "code",
      "metadata": {
        "id": "vsoI2fze74Q5",
        "colab_type": "code",
        "colab": {}
      },
      "source": [
        "X_train, X_test, y_train, y_test = train_test_split(X, y, random_state = 0, test_size = 0.25)"
      ],
      "execution_count": null,
      "outputs": []
    },
    {
      "cell_type": "code",
      "metadata": {
        "id": "V0R8boEa-xfy",
        "colab_type": "code",
        "colab": {
          "base_uri": "https://localhost:8080/",
          "height": 124
        },
        "outputId": "43dc7ce5-3b8c-41b2-8dcf-820544e1e251"
      },
      "source": [
        "randomForestModel = RandomForestRegressorModel(X,y)"
      ],
      "execution_count": null,
      "outputs": [
        {
          "output_type": "stream",
          "text": [
            "R Squared(Accuracy) 0.8456793854342743\n",
            "Mean Absolute Error: 0.21269288487577825\n",
            "Mean Squared Error: 0.08522446296190488\n",
            "Root Mean Squared Error: 0.2919322917422889\n",
            "Root Mean Squared Log Error 0.09906300429120905\n",
            "None\n"
          ],
          "name": "stdout"
        }
      ]
    },
    {
      "cell_type": "code",
      "metadata": {
        "id": "9I6sSO20-yB0",
        "colab_type": "code",
        "colab": {
          "base_uri": "https://localhost:8080/",
          "height": 924
        },
        "outputId": "f4909566-8487-48bf-9f1d-7725a2d8f181"
      },
      "source": [
        "plotFeatureImportances(randomForestModel)"
      ],
      "execution_count": null,
      "outputs": [
        {
          "output_type": "stream",
          "text": [
            "                      importance\n",
            "Power                   0.201764\n",
            "MM_Power                0.181749\n",
            "Robust_Power            0.177649\n",
            "MA_Power                0.167243\n",
            "MM_Kilometers_Driven    0.042630\n",
            "Kilometers_Driven       0.039682\n",
            "Robust_KD               0.039505\n",
            "Robust_Mileage          0.032656\n",
            "Mileage                 0.029889\n",
            "MM_Mileage              0.029653\n",
            "MM_Engine               0.017371\n",
            "Robust_Engine           0.016448\n",
            "Engine                  0.015058\n",
            "Robust_Seats            0.003462\n",
            "Seats                   0.002804\n",
            "MM_Seats                0.002438\n"
          ],
          "name": "stdout"
        },
        {
          "output_type": "display_data",
          "data": {
            "image/png": "[encoded data removed]",
            "text/plain": [
              "<Figure size 720x720 with 1 Axes>"
            ]
          },
          "metadata": {
            "tags": [],
            "needs_background": "light"
          }
        }
      ]
    },
    {
      "cell_type": "markdown",
      "metadata": {
        "id": "wSc4kuV5AyKV",
        "colab_type": "text"
      },
      "source": [
        "The distribution of numerical features can be checked using a histogram plot while the distribution on categorical features can be checked using a bar plot or box plot."
      ]
    },
    {
      "cell_type": "markdown",
      "metadata": {
        "id": "DKicl3_8BLS3",
        "colab_type": "text"
      },
      "source": [
        "In case of categorical features check if any of the column values can be combined together while in case of numerical features check if distribution can be normalized i.e. evenly distributed."
      ]
    },
    {
      "cell_type": "code",
      "metadata": {
        "id": "DJvEZba9BL_4",
        "colab_type": "code",
        "colab": {
          "base_uri": "https://localhost:8080/",
          "height": 426
        },
        "outputId": "b1084d0c-bdeb-4a92-cc3e-c55a97e4b285"
      },
      "source": [
        "df[\"Year\"].value_counts()"
      ],
      "execution_count": null,
      "outputs": [
        {
          "output_type": "execute_result",
          "data": {
            "text/plain": [
              "2014    792\n",
              "2015    738\n",
              "2016    735\n",
              "2013    637\n",
              "2017    584\n",
              "2012    555\n",
              "2011    450\n",
              "2010    330\n",
              "2018    297\n",
              "2009    189\n",
              "2008    159\n",
              "2007    105\n",
              "2019     99\n",
              "2006     66\n",
              "2005     42\n",
              "2004     25\n",
              "2003     14\n",
              "2002     11\n",
              "2000      4\n",
              "2001      4\n",
              "1998      3\n",
              "1999      2\n",
              "Name: Year, dtype: int64"
            ]
          },
          "metadata": {
            "tags": []
          },
          "execution_count": 77
        }
      ]
    },
    {
      "cell_type": "markdown",
      "metadata": {
        "id": "h6GJ1zjJDno1",
        "colab_type": "text"
      },
      "source": [
        "In categorical features and clubb together last less value valued data"
      ]
    },
    {
      "cell_type": "markdown",
      "metadata": {
        "id": "8jsuJISSDy1w",
        "colab_type": "text"
      },
      "source": [
        "You can find histograms of numerical features in the jupyter notebook and make necessary transformations if required."
      ]
    },
    {
      "cell_type": "markdown",
      "metadata": {
        "id": "q8-9AcInD6cz",
        "colab_type": "text"
      },
      "source": [
        "## **Model application and hyper-parameter tuning**"
      ]
    },
    {
      "cell_type": "markdown",
      "metadata": {
        "id": "opt0GW-bEeAS",
        "colab_type": "text"
      },
      "source": [
        "Hyperparameter tuning is the process of choosing a set of optimal hyperparameters for a learning algorithm. The two common approaches to do hyperparameter tuning are GridSearchCV and RandomisedSearchCV."
      ]
    },
    {
      "cell_type": "markdown",
      "metadata": {
        "id": "EVS7ihiKEisB",
        "colab_type": "text"
      },
      "source": [
        "Although GridSearchCV is exhaustive, RandomisedSearchCV is helpful to get a range of relevant values quickly."
      ]
    },
    {
      "cell_type": "code",
      "metadata": {
        "id": "yMV8ZeSSCydG",
        "colab_type": "code",
        "colab": {}
      },
      "source": [
        "# Source: https://towardsdatascience.com/hyperparameter-tuning-the-random-forest-in-python-using-scikit-learn-28d2aa77dd74\n",
        "from sklearn.model_selection import RandomizedSearchCV\n",
        "from sklearn.model_selection import ShuffleSplit, train_test_split \n",
        "from sklearn.ensemble import RandomForestRegressor \n",
        "\n",
        "# Number of trees in random forest\n",
        "n_estimators = [644]\n",
        "\n",
        "# Number of features to consider at every split\n",
        "max_features = ['auto']\n",
        "\n",
        "# Maximum number of levels in tree\n",
        "# max_depth = [int(x) for x in np.linspace(10, 110, num = 11)]\n",
        "# max_depth.append(None)\n",
        "\n",
        "# Minimum number of samples required to split a node\n",
        "min_samples_split = [2, 5, 10]\n",
        "\n",
        "# Minimum number of samples required at each leaf node\n",
        "min_samples_leaf = [1, 2, 4]\n",
        "\n",
        "# Method of selecting samples for training each tree\n",
        "bootstrap = [True]\n",
        "\n",
        "# Create the random grid\n",
        "random_grid = {'max_features': max_features,\n",
        "               'bootstrap': bootstrap,\n",
        "               'n_estimators': n_estimators\n",
        "              }\n",
        "rf = RandomForestRegressor()\n",
        "# Random search of parameters, using 3 fold cross validation, \n",
        "# search across 100 different combinations, and use all available cores\n",
        "# Fit the random search model\n",
        "\n",
        "def RandomizedSearchCVRandomForestRegressor(X,y):\n",
        "    X_train, X_test, y_train, y_test = train_test_split(X, y,random_state=42, test_size=0.3)\n",
        "    estimator = RandomForestRegressor()\n",
        "    cv = ShuffleSplit(n_splits=5, random_state=42, test_size=0.3)\n",
        "    n_jobs=4\n",
        "    rf_random = RandomizedSearchCV(estimator = rf, param_distributions = random_grid, cv = 3, verbose=2, random_state=42, n_jobs = 8)\n",
        "    rf_random.fit(X_train, y_train)\n",
        "    print(rf_random.best_params_)\n",
        "    y_pred = rf_random.best_estimator_.predict(X_test)\n",
        "    print(print_accuracy_report(y_test, y_pred, X_test, rf_random.best_estimator_))\n",
        "    return rf_random.best_estimator_"
      ],
      "execution_count": null,
      "outputs": []
    },
    {
      "cell_type": "code",
      "metadata": {
        "id": "dWwLWt2MFGp9",
        "colab_type": "code",
        "colab": {
          "base_uri": "https://localhost:8080/",
          "height": 250
        },
        "outputId": "382a9882-703d-444c-9603-8aa38d48d5ab"
      },
      "source": [
        "randomForestRegressorModel2 = RandomizedSearchCVRandomForestRegressor(X,y)"
      ],
      "execution_count": null,
      "outputs": [
        {
          "output_type": "stream",
          "text": [
            "Fitting 3 folds for each of 1 candidates, totalling 3 fits\n"
          ],
          "name": "stdout"
        },
        {
          "output_type": "stream",
          "text": [
            "/usr/local/lib/python3.6/dist-packages/sklearn/model_selection/_search.py:281: UserWarning: The total space of parameters 1 is smaller than n_iter=10. Running 1 iterations. For exhaustive searches, use GridSearchCV.\n",
            "  % (grid_size, self.n_iter, grid_size), UserWarning)\n",
            "[Parallel(n_jobs=8)]: Using backend LokyBackend with 8 concurrent workers.\n",
            "[Parallel(n_jobs=8)]: Done   3 out of   3 | elapsed:   29.7s finished\n"
          ],
          "name": "stderr"
        },
        {
          "output_type": "stream",
          "text": [
            "{'n_estimators': 644, 'max_features': 'auto', 'bootstrap': True}\n",
            "R Squared(Accuracy) 0.8480539968223175\n",
            "Mean Absolute Error: 0.21087551354126183\n",
            "Mean Squared Error: 0.08391306991918851\n",
            "Root Mean Squared Error: 0.2896775274666444\n",
            "Root Mean Squared Log Error 0.09820944404361752\n",
            "None\n"
          ],
          "name": "stdout"
        }
      ]
    },
    {
      "cell_type": "markdown",
      "metadata": {
        "id": "EtzFg8L-QADE",
        "colab_type": "text"
      },
      "source": [
        "A similar approach can be applied for ExtraTrees and XGBoost Regressor Models."
      ]
    },
    {
      "cell_type": "markdown",
      "metadata": {
        "id": "O6u4Nnj7QCF6",
        "colab_type": "text"
      },
      "source": [
        "# **Stacking**"
      ]
    },
    {
      "cell_type": "markdown",
      "metadata": {
        "id": "BEA5BfvEnMbG",
        "colab_type": "text"
      },
      "source": [
        "## Simplest Stacking approach : Averaging base models"
      ]
    },
    {
      "cell_type": "markdown",
      "metadata": {
        "id": "JQBecHVAkI9z",
        "colab_type": "text"
      },
      "source": [
        "We begin with this simple approach of averaging base models. We build a new class to extend scikit-learn with our model and also to laverage encapsulation and code reuse "
      ]
    },
    {
      "cell_type": "code",
      "metadata": {
        "id": "3pbjO38dkMxh",
        "colab_type": "code",
        "colab": {}
      },
      "source": [
        "from sklearn.base import BaseEstimator, TransformerMixin, RegressorMixin, clone\n",
        "class AveragingModels(BaseEstimator, RegressorMixin, TransformerMixin):\n",
        "    def __init__(self, models):\n",
        "        self.models = models\n",
        "        \n",
        "    # we define clones of the original models to fit the data in\n",
        "    def fit(self, X, y):\n",
        "        self.models_ = [clone(x) for x in self.models]\n",
        "        \n",
        "        # Train cloned base models\n",
        "        for model in self.models_:\n",
        "            model.fit(X, y)\n",
        "\n",
        "        return self\n",
        "    \n",
        "    #Now we do the predictions for cloned models and average them\n",
        "    def predict(self, X):\n",
        "        predictions = np.column_stack([\n",
        "            model.predict(X) for model in self.models_\n",
        "        ])\n",
        "        return np.mean(predictions, axis=1) "
      ],
      "execution_count": null,
      "outputs": []
    },
    {
      "cell_type": "code",
      "metadata": {
        "id": "4WnquQFzkdZi",
        "colab_type": "code",
        "colab": {}
      },
      "source": [
        "averaged_models = AveragingModels(models = (grid_search_gbr.best_estimator_,xgb_grid.best_estimator_, grid_search.best_estimator_))"
      ],
      "execution_count": null,
      "outputs": []
    },
    {
      "cell_type": "code",
      "metadata": {
        "id": "pTLtTY-pk2HA",
        "colab_type": "code",
        "colab": {}
      },
      "source": [
        "averaged_models.fit(X,Y)\n",
        "from sklearn.metrics import r2_score\n",
        "print(\"R2-Score\")\n",
        "print(round(r2_score(Y_Val, averaged_models.predict(X_Val)),4))"
      ],
      "execution_count": null,
      "outputs": []
    },
    {
      "cell_type": "markdown",
      "metadata": {
        "id": "Y698SvxJoPXI",
        "colab_type": "text"
      },
      "source": [
        "## Less simple Stacking : Adding a Meta-model"
      ]
    },
    {
      "cell_type": "markdown",
      "metadata": {
        "id": "223aH1ZroXwY",
        "colab_type": "text"
      },
      "source": [
        "In this approach, we add a meta-model on averaged base models and use the out-of-folds predictions of these base models to train our meta-model.\n",
        "\n",
        "The procedure, for the training part, may be described as follows:\n",
        "\n",
        "* Split the total training set into two disjoint sets (here train and .holdout )\n",
        "\n",
        "* Train several base models on the first part (train)\n",
        "\n",
        "* Test these base models on the second part (holdout)\n",
        "\n",
        "* Use the predictions from 3) (called out-of-folds predictions) as the inputs, and the correct responses (target variable) as the outputs to train a higher level learner called meta-model.\n",
        "\n",
        "The first three steps are done iteratively . If we take for example a 5-fold stacking , we first split the training data into 5 folds. Then we will do 5 iterations. In each iteration, we train every base model on 4 folds and predict on the remaining fold (holdout fold).\n",
        "\n",
        "So, we will be sure, after 5 iterations , that the entire data is used to get out-of-folds predictions that we will then use as new feature to train our meta-model in the step 4.\n",
        "\n",
        "For the prediction part , We average the predictions of all base models on the test data and used them as meta-features on which, the final prediction is done with the meta-model."
      ]
    },
    {
      "cell_type": "code",
      "metadata": {
        "id": "HvwPH-jxFIja",
        "colab_type": "code",
        "colab": {}
      },
      "source": [
        "from sklearn.base import BaseEstimator, TransformerMixin, RegressorMixin, clone\n",
        "class StackingAveragedModels(BaseEstimator, RegressorMixin, TransformerMixin):\n",
        "    def __init__(self, base_models, meta_model, n_folds=5):\n",
        "        self.base_models = base_models\n",
        "        self.meta_model = meta_model\n",
        "        self.n_folds = n_folds\n",
        "   \n",
        "    # We again fit the data on clones of the original models\n",
        "    def fit(self, X, y):\n",
        "        self.base_models_ = [list() for x in self.base_models]\n",
        "        self.meta_model_ = clone(self.meta_model)\n",
        "        kfold = KFold(n_splits=self.n_folds, shuffle=True, random_state=156)\n",
        "        \n",
        "        # Train cloned base models then create out-of-fold predictions\n",
        "        # that are needed to train the cloned meta-model\n",
        "        out_of_fold_predictions = np.zeros((X.shape[0], len(self.base_models)))\n",
        "        for i, model in enumerate(self.base_models):\n",
        "            for train_index, holdout_index in kfold.split(X, y):\n",
        "                instance = clone(model)\n",
        "                self.base_models_[i].append(instance)\n",
        "                instance.fit(X[train_index], y[train_index])\n",
        "                y_pred = instance.predict(X[holdout_index])\n",
        "                out_of_fold_predictions[holdout_index, i] = y_pred\n",
        "                \n",
        "        # Now train the cloned  meta-model using the out-of-fold predictions as new feature\n",
        "        self.meta_model_.fit(out_of_fold_predictions, y)\n",
        "        return self\n",
        "   \n",
        "    #Do the predictions of all base models on the test data and use the averaged predictions as \n",
        "    #meta-features for the final prediction which is done by the meta-model\n",
        "    def predict(self, X):\n",
        "        meta_features = np.column_stack([\n",
        "            np.column_stack([model.predict(X) for model in base_models]).mean(axis=1)\n",
        "            for base_models in self.base_models_ ])\n",
        "        return self.meta_model_.predict(meta_features)"
      ],
      "execution_count": null,
      "outputs": []
    },
    {
      "cell_type": "code",
      "metadata": {
        "id": "8zJF4naDqgyF",
        "colab_type": "code",
        "colab": {}
      },
      "source": [
        "from sklearn.ensemble import RandomForestRegressor,  GradientBoostingRegressor, ExtraTreesRegressor\n",
        "from sklearn.linear_model import ElasticNet, Lasso,  BayesianRidge, LassoLarsIC\n",
        "from sklearn.kernel_ridge import KernelRidge\n",
        "from sklearn.pipeline import make_pipeline\n",
        "from sklearn.model_selection import KFold\n",
        "from sklearn.preprocessing import RobustScaler"
      ],
      "execution_count": null,
      "outputs": []
    },
    {
      "cell_type": "code",
      "metadata": {
        "id": "Rig1X0lrtMKr",
        "colab_type": "code",
        "colab": {}
      },
      "source": [
        "#Lasso Regression\n",
        "lasso = make_pipeline(RobustScaler(), Lasso(alpha =0.0005, random_state=1))\n",
        "#Elastic Net Regression\n",
        "ENet = make_pipeline(RobustScaler(), ElasticNet(alpha=0.0005, l1_ratio=.9, random_state=3))\n",
        "#Kernel Ridge Regression\n",
        "KRR = KernelRidge(alpha=0.6, kernel='polynomial', degree=2, coef0=2.5)"
      ],
      "execution_count": null,
      "outputs": []
    },
    {
      "cell_type": "code",
      "metadata": {
        "id": "SJZ5Pa5TRKDI",
        "colab_type": "code",
        "colab": {}
      },
      "source": [
        "stacked_averaged_models = StackingAveragedModels(base_models = (grid_search_gbr.best_estimator_,xgb_grid.best_estimator_, grid_search.best_estimator_),\n",
        "                                                 meta_model = lasso)\n",
        "\n",
        "stacked_averaged_models.fit(X.values,Y.values)\n",
        "print(\"R2-Score\")\n",
        "print(round(r2_score(Y_Val.values, stacked_averaged_models.predict(X_Val.values)),4))"
      ],
      "execution_count": null,
      "outputs": []
    }
  ]
}