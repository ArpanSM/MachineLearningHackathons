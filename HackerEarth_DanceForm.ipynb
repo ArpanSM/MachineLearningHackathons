{
  "nbformat": 4,
  "nbformat_minor": 0,
  "metadata": {
    "colab": {
      "name": "HackerEarth_DanceForm.ipynb",
      "provenance": [],
      "collapsed_sections": [
        "NjA6ze9b2SFR",
        "rROQUtYC2PDz",
        "iy_Dcsa52W0P",
        "f1llQ87D2blA",
        "Q-dndmBq2eyf",
        "oM9ZgnF22hUT",
        "_VZgqF9DT1N2",
        "O7Ebuly-YIom",
        "5qj30ydEnt7p",
        "khQ8pqAUNtDz"
      ],
      "authorship_tag": "ABX9TyPklBjeA5lFqY7ircrctkCd",
      "include_colab_link": true
    },
    "kernelspec": {
      "name": "python3",
      "display_name": "Python 3"
    },
    "accelerator": "GPU"
  },
  "cells": [
    {
      "cell_type": "markdown",
      "metadata": {
        "id": "view-in-github",
        "colab_type": "text"
      },
      "source": [
        "<a href=\"https://colab.research.google.com/github/ArpanSM/MachineLearningHackathons/blob/master/HackerEarth_DanceForm.ipynb\" target=\"_parent\"><img src=\"https://colab.research.google.com/assets/colab-badge.svg\" alt=\"Open In Colab\"/></a>"
      ]
    },
    {
      "cell_type": "markdown",
      "metadata": {
        "id": "NjA6ze9b2SFR",
        "colab_type": "text"
      },
      "source": [
        "## Load Libraries and Data"
      ]
    },
    {
      "cell_type": "code",
      "metadata": {
        "id": "5u-MVL79HNoF",
        "colab_type": "code",
        "colab": {
          "base_uri": "https://localhost:8080/"
        },
        "outputId": "4d5a1d51-0615-42dd-83ce-bbfd504287a4"
      },
      "source": [
        "!wget https://he-s3.s3.amazonaws.com/media/hackathon/hackerearth-deep-learning-challenge-identify-dance-form/identify-the-dance-form-deea77f8/0664343c9a8f11ea.zip\n",
        "!unzip 0664343c9a8f11ea.zip"
      ],
      "execution_count": null,
      "outputs": [
        {
          "output_type": "stream",
          "text": [
            "--2020-06-18 09:11:25--  https://he-s3.s3.amazonaws.com/media/hackathon/hackerearth-deep-learning-challenge-identify-dance-form/identify-the-dance-form-deea77f8/0664343c9a8f11ea.zip\n",
            "Resolving he-s3.s3.amazonaws.com (he-s3.s3.amazonaws.com)... 52.219.124.132\n",
            "Connecting to he-s3.s3.amazonaws.com (he-s3.s3.amazonaws.com)|52.219.124.132|:443... connected.\n",
            "HTTP request sent, awaiting response... 200 OK\n",
            "Length: 27882564 (27M) [application/zip]\n",
            "Saving to: ‘0664343c9a8f11ea.zip’\n",
            "\n",
            "\r0664343c9a8f11ea.zi   0%[                    ]       0  --.-KB/s               \r0664343c9a8f11ea.zi   0%[                    ] 245.58K  1.18MB/s               \r0664343c9a8f11ea.zi  14%[=>                  ]   3.95M  9.70MB/s               \r0664343c9a8f11ea.zi  56%[==========>         ]  14.96M  24.5MB/s               \r0664343c9a8f11ea.zi  99%[==================> ]  26.40M  32.4MB/s               \r0664343c9a8f11ea.zi 100%[===================>]  26.59M  32.6MB/s    in 0.8s    \n",
            "\n",
            "2020-06-18 09:11:26 (32.6 MB/s) - ‘0664343c9a8f11ea.zip’ saved [27882564/27882564]\n",
            "\n",
            "Archive:  0664343c9a8f11ea.zip\n",
            "   creating: dataset/\n",
            "   creating: dataset/test/\n",
            "  inflating: dataset/test/508.jpg    \n",
            "  inflating: dataset/test/246.jpg    \n",
            "  inflating: dataset/test/473.jpg    \n",
            "  inflating: dataset/test/485.jpg    \n",
            "  inflating: dataset/test/128.jpg    \n",
            "  inflating: dataset/test/410.jpg    \n",
            "  inflating: dataset/test/465.jpg    \n",
            "  inflating: dataset/test/196.jpg    \n",
            "  inflating: dataset/test/340.jpg    \n",
            "  inflating: dataset/test/467.jpg    \n",
            "  inflating: dataset/test/306.jpg    \n",
            "  inflating: dataset/test/171.jpg    \n",
            "  inflating: dataset/test/323.jpg    \n",
            "  inflating: dataset/test/332.jpg    \n",
            "  inflating: dataset/test/330.jpg    \n",
            "  inflating: dataset/test/170.jpg    \n",
            "  inflating: dataset/test/479.jpg    \n",
            "  inflating: dataset/test/9.jpg      \n",
            "  inflating: dataset/test/283.jpg    \n",
            "  inflating: dataset/test/114.jpg    \n",
            "  inflating: dataset/test/507.jpg    \n",
            "  inflating: dataset/test/183.jpg    \n",
            "  inflating: dataset/test/200.jpg    \n",
            "  inflating: dataset/test/457.jpg    \n",
            "  inflating: dataset/test/264.jpg    \n",
            "  inflating: dataset/test/194.jpg    \n",
            "  inflating: dataset/test/518.jpg    \n",
            "  inflating: dataset/test/175.jpg    \n",
            "  inflating: dataset/test/64.jpg     \n",
            "  inflating: dataset/test/152.jpg    \n",
            "  inflating: dataset/test/270.jpg    \n",
            "  inflating: dataset/test/125.jpg    \n",
            "  inflating: dataset/test/38.jpg     \n",
            "  inflating: dataset/test/440.jpg    \n",
            "  inflating: dataset/test/302.jpg    \n",
            "  inflating: dataset/test/394.jpg    \n",
            "  inflating: dataset/test/448.jpg    \n",
            "  inflating: dataset/test/463.jpg    \n",
            "  inflating: dataset/test/20.jpg     \n",
            "  inflating: dataset/test/301.jpg    \n",
            "  inflating: dataset/test/28.jpg     \n",
            "  inflating: dataset/test/61.jpg     \n",
            "  inflating: dataset/test/398.jpg    \n",
            "  inflating: dataset/test/349.jpg    \n",
            "  inflating: dataset/test/271.jpg    \n",
            "  inflating: dataset/test/286.jpg    \n",
            "  inflating: dataset/test/431.jpg    \n",
            "  inflating: dataset/test/316.jpg    \n",
            "  inflating: dataset/test/224.jpg    \n",
            "  inflating: dataset/test/411.jpg    \n",
            "  inflating: dataset/test/278.jpg    \n",
            "  inflating: dataset/test/456.jpg    \n",
            "  inflating: dataset/test/45.jpg     \n",
            "  inflating: dataset/test/324.jpg    \n",
            "  inflating: dataset/test/6.jpg      \n",
            "  inflating: dataset/test/59.jpg     \n",
            "  inflating: dataset/test/86.jpg     \n",
            "  inflating: dataset/test/470.jpg    \n",
            "  inflating: dataset/test/374.jpg    \n",
            "  inflating: dataset/test/132.jpg    \n",
            "  inflating: dataset/test/216.jpg    \n",
            "  inflating: dataset/test/95.jpg     \n",
            "  inflating: dataset/test/17.jpg     \n",
            "  inflating: dataset/test/162.jpg    \n",
            "  inflating: dataset/test/346.jpg    \n",
            "  inflating: dataset/test/439.jpg    \n",
            "  inflating: dataset/test/232.jpg    \n",
            "  inflating: dataset/test/150.jpg    \n",
            "  inflating: dataset/test/401.jpg    \n",
            "  inflating: dataset/test/145.jpg    \n",
            "  inflating: dataset/test/23.jpg     \n",
            "  inflating: dataset/test/514.jpg    \n",
            "  inflating: dataset/test/193.jpg    \n",
            "  inflating: dataset/test/416.jpg    \n",
            "  inflating: dataset/test/447.jpg    \n",
            "  inflating: dataset/test/220.jpg    \n",
            "  inflating: dataset/test/505.jpg    \n",
            "  inflating: dataset/test/147.jpg    \n",
            "  inflating: dataset/test/210.jpg    \n",
            "  inflating: dataset/test/40.jpg     \n",
            "  inflating: dataset/test/284.jpg    \n",
            "  inflating: dataset/test/55.jpg     \n",
            "  inflating: dataset/test/378.jpg    \n",
            "  inflating: dataset/test/520.jpg    \n",
            "  inflating: dataset/test/484.jpg    \n",
            "  inflating: dataset/test/112.jpg    \n",
            "  inflating: dataset/test/360.jpg    \n",
            "  inflating: dataset/test/317.jpg    \n",
            "  inflating: dataset/test/71.jpg     \n",
            "  inflating: dataset/test/202.jpg    \n",
            "  inflating: dataset/test/92.jpg     \n",
            "  inflating: dataset/test/11.jpg     \n",
            "  inflating: dataset/test/67.jpg     \n",
            "  inflating: dataset/test/138.jpg    \n",
            "  inflating: dataset/test/506.jpg    \n",
            "  inflating: dataset/test/146.jpg    \n",
            "  inflating: dataset/test/318.jpg    \n",
            "  inflating: dataset/test/198.jpg    \n",
            "  inflating: dataset/test/375.jpg    \n",
            "  inflating: dataset/test/41.jpg     \n",
            "  inflating: dataset/test/421.jpg    \n",
            "  inflating: dataset/test/129.jpg    \n",
            "  inflating: dataset/test/14.jpg     \n",
            "  inflating: dataset/test/460.jpg    \n",
            "  inflating: dataset/test/34.jpg     \n",
            "  inflating: dataset/test/380.jpg    \n",
            "  inflating: dataset/test/238.jpg    \n",
            "  inflating: dataset/test/392.jpg    \n",
            "  inflating: dataset/test/80.jpg     \n",
            "  inflating: dataset/test/517.jpg    \n",
            "  inflating: dataset/test/13.jpg     \n",
            "  inflating: dataset/test/189.jpg    \n",
            "  inflating: dataset/test/390.jpg    \n",
            "  inflating: dataset/test/487.jpg    \n",
            "  inflating: dataset/test/438.jpg    \n",
            "  inflating: dataset/test/482.jpg    \n",
            "  inflating: dataset/test/206.jpg    \n",
            "  inflating: dataset/test/217.jpg    \n",
            "  inflating: dataset/test/285.jpg    \n",
            "  inflating: dataset/test/385.jpg    \n",
            "  inflating: dataset/test/495.jpg    \n",
            "  inflating: dataset/test/269.jpg    \n",
            "  inflating: dataset/test/429.jpg    \n",
            "  inflating: dataset/test/291.jpg    \n",
            "  inflating: dataset/test/461.jpg    \n",
            "  inflating: dataset/test/256.jpg    \n",
            "  inflating: dataset/test/48.jpg     \n",
            "  inflating: dataset/test/290.jpg    \n",
            "  inflating: dataset/test/437.jpg    \n",
            "  inflating: dataset/test/498.jpg    \n",
            "  inflating: dataset/test/173.jpg    \n",
            "  inflating: dataset/test/280.jpg    \n",
            "  inflating: dataset/test/119.jpg    \n",
            "  inflating: dataset/test/363.jpg    \n",
            "  inflating: dataset/test/97.jpg     \n",
            "  inflating: dataset/test/414.jpg    \n",
            "  inflating: dataset/test/386.jpg    \n",
            "  inflating: dataset/test/424.jpg    \n",
            "  inflating: dataset/test/157.jpg    \n",
            "  inflating: dataset/test/33.jpg     \n",
            "  inflating: dataset/test/354.jpg    \n",
            "  inflating: dataset/test/57.jpg     \n",
            "  inflating: dataset/test/108.jpg    \n",
            "  inflating: dataset/test/239.jpg    \n",
            "  inflating: dataset/test/441.jpg    \n",
            "  inflating: dataset/test/215.jpg    \n",
            "  inflating: dataset/test/373.jpg    \n",
            "  inflating: dataset/test/292.jpg    \n",
            "  inflating: dataset/test/110.jpg    \n",
            "  inflating: dataset/test/510.jpg    \n",
            "  inflating: dataset/test/275.jpg    \n",
            "  inflating: dataset/test/366.jpg    \n",
            "  inflating: dataset/test/226.jpg    \n",
            "  inflating: dataset/test/35.jpg     \n",
            "  inflating: dataset/test/458.jpg    \n",
            "  inflating: dataset/test/358.jpg    \n",
            "   creating: dataset/train/\n",
            "  inflating: dataset/train/96.jpg    \n",
            "  inflating: dataset/train/163.jpg   \n",
            "  inflating: dataset/train/450.jpg   \n",
            "  inflating: dataset/train/219.jpg   \n",
            "  inflating: dataset/train/455.jpg   \n",
            "  inflating: dataset/train/46.jpg    \n",
            "  inflating: dataset/train/326.jpg   \n",
            "  inflating: dataset/train/408.jpg   \n",
            "  inflating: dataset/train/365.jpg   \n",
            "  inflating: dataset/train/422.jpg   \n",
            "  inflating: dataset/train/397.jpg   \n",
            "  inflating: dataset/train/400.jpg   \n",
            "  inflating: dataset/train/32.jpg    \n",
            "  inflating: dataset/train/350.jpg   \n",
            "  inflating: dataset/train/234.jpg   \n",
            "  inflating: dataset/train/492.jpg   \n",
            "  inflating: dataset/train/333.jpg   \n",
            "  inflating: dataset/train/376.jpg   \n",
            "  inflating: dataset/train/103.jpg   \n",
            "  inflating: dataset/train/39.jpg    \n",
            "  inflating: dataset/train/87.jpg    \n",
            "  inflating: dataset/train/155.jpg   \n",
            "  inflating: dataset/train/388.jpg   \n",
            "  inflating: dataset/train/384.jpg   \n",
            "  inflating: dataset/train/248.jpg   \n",
            "  inflating: dataset/train/494.jpg   \n",
            "  inflating: dataset/train/47.jpg    \n",
            "  inflating: dataset/train/488.jpg   \n",
            "  inflating: dataset/train/462.jpg   \n",
            "  inflating: dataset/train/347.jpg   \n",
            "  inflating: dataset/train/242.jpg   \n",
            "  inflating: dataset/train/16.jpg    \n",
            "  inflating: dataset/train/178.jpg   \n",
            "  inflating: dataset/train/348.jpg   \n",
            "  inflating: dataset/train/164.jpg   \n",
            "  inflating: dataset/train/2.jpg     \n",
            "  inflating: dataset/train/141.jpg   \n",
            "  inflating: dataset/train/187.jpg   \n",
            "  inflating: dataset/train/464.jpg   \n",
            "  inflating: dataset/train/472.jpg   \n",
            "  inflating: dataset/train/489.jpg   \n",
            "  inflating: dataset/train/387.jpg   \n",
            "  inflating: dataset/train/109.jpg   \n",
            "  inflating: dataset/train/255.jpg   \n",
            "  inflating: dataset/train/274.jpg   \n",
            "  inflating: dataset/train/509.jpg   \n",
            "  inflating: dataset/train/19.jpg    \n",
            "  inflating: dataset/train/102.jpg   \n",
            "  inflating: dataset/train/24.jpg    \n",
            "  inflating: dataset/train/294.jpg   \n",
            "  inflating: dataset/train/501.jpg   \n",
            "  inflating: dataset/train/335.jpg   \n",
            "  inflating: dataset/train/321.jpg   \n",
            "  inflating: dataset/train/480.jpg   \n",
            "  inflating: dataset/train/393.jpg   \n",
            "  inflating: dataset/train/344.jpg   \n",
            "  inflating: dataset/train/259.jpg   \n",
            "  inflating: dataset/train/76.jpg    \n",
            "  inflating: dataset/train/343.jpg   \n",
            "  inflating: dataset/train/4.jpg     \n",
            "  inflating: dataset/train/486.jpg   \n",
            "  inflating: dataset/train/361.jpg   \n",
            "  inflating: dataset/train/90.jpg    \n",
            "  inflating: dataset/train/231.jpg   \n",
            "  inflating: dataset/train/331.jpg   \n",
            "  inflating: dataset/train/243.jpg   \n",
            "  inflating: dataset/train/104.jpg   \n",
            "  inflating: dataset/train/113.jpg   \n",
            "  inflating: dataset/train/21.jpg    \n",
            "  inflating: dataset/train/15.jpg    \n",
            "  inflating: dataset/train/370.jpg   \n",
            "  inflating: dataset/train/124.jpg   \n",
            "  inflating: dataset/train/241.jpg   \n",
            "  inflating: dataset/train/56.jpg    \n",
            "  inflating: dataset/train/296.jpg   \n",
            "  inflating: dataset/train/81.jpg    \n",
            "  inflating: dataset/train/29.jpg    \n",
            "  inflating: dataset/train/423.jpg   \n",
            "  inflating: dataset/train/445.jpg   \n",
            "  inflating: dataset/train/406.jpg   \n",
            "  inflating: dataset/train/116.jpg   \n",
            "  inflating: dataset/train/407.jpg   \n",
            "  inflating: dataset/train/118.jpg   \n",
            "  inflating: dataset/train/367.jpg   \n",
            "  inflating: dataset/train/30.jpg    \n",
            "  inflating: dataset/train/395.jpg   \n",
            "  inflating: dataset/train/265.jpg   \n",
            "  inflating: dataset/train/73.jpg    \n",
            "  inflating: dataset/train/277.jpg   \n",
            "  inflating: dataset/train/122.jpg   \n",
            "  inflating: dataset/train/516.jpg   \n",
            "  inflating: dataset/train/377.jpg   \n",
            "  inflating: dataset/train/513.jpg   \n",
            "  inflating: dataset/train/405.jpg   \n",
            "  inflating: dataset/train/172.jpg   \n",
            "  inflating: dataset/train/299.jpg   \n",
            "  inflating: dataset/train/149.jpg   \n",
            "  inflating: dataset/train/165.jpg   \n",
            "  inflating: dataset/train/371.jpg   \n",
            "  inflating: dataset/train/18.jpg    \n",
            "  inflating: dataset/train/213.jpg   \n",
            "  inflating: dataset/train/303.jpg   \n",
            "  inflating: dataset/train/353.jpg   \n",
            "  inflating: dataset/train/135.jpg   \n",
            "  inflating: dataset/train/481.jpg   \n",
            "  inflating: dataset/train/3.jpg     \n",
            "  inflating: dataset/train/329.jpg   \n",
            "  inflating: dataset/train/345.jpg   \n",
            "  inflating: dataset/train/443.jpg   \n",
            "  inflating: dataset/train/504.jpg   \n",
            "  inflating: dataset/train/12.jpg    \n",
            "  inflating: dataset/train/74.jpg    \n",
            "  inflating: dataset/train/185.jpg   \n",
            "  inflating: dataset/train/161.jpg   \n",
            "  inflating: dataset/train/309.jpg   \n",
            "  inflating: dataset/train/205.jpg   \n",
            "  inflating: dataset/train/379.jpg   \n",
            "  inflating: dataset/train/82.jpg    \n",
            "  inflating: dataset/train/276.jpg   \n",
            "  inflating: dataset/train/154.jpg   \n",
            "  inflating: dataset/train/254.jpg   \n",
            "  inflating: dataset/train/26.jpg    \n",
            "  inflating: dataset/train/181.jpg   \n",
            "  inflating: dataset/train/425.jpg   \n",
            "  inflating: dataset/train/131.jpg   \n",
            "  inflating: dataset/train/272.jpg   \n",
            "  inflating: dataset/train/117.jpg   \n",
            "  inflating: dataset/train/252.jpg   \n",
            "  inflating: dataset/train/180.jpg   \n",
            "  inflating: dataset/train/142.jpg   \n",
            "  inflating: dataset/train/261.jpg   \n",
            "  inflating: dataset/train/136.jpg   \n",
            "  inflating: dataset/train/85.jpg    \n",
            "  inflating: dataset/train/88.jpg    \n",
            "  inflating: dataset/train/372.jpg   \n",
            "  inflating: dataset/train/279.jpg   \n",
            "  inflating: dataset/train/313.jpg   \n",
            "  inflating: dataset/train/159.jpg   \n",
            "  inflating: dataset/train/483.jpg   \n",
            "  inflating: dataset/train/262.jpg   \n",
            "  inflating: dataset/train/519.jpg   \n",
            "  inflating: dataset/train/308.jpg   \n",
            "  inflating: dataset/train/211.jpg   \n",
            "  inflating: dataset/train/497.jpg   \n",
            "  inflating: dataset/train/325.jpg   \n",
            "  inflating: dataset/train/169.jpg   \n",
            "  inflating: dataset/train/244.jpg   \n",
            "  inflating: dataset/train/474.jpg   \n",
            "  inflating: dataset/train/322.jpg   \n",
            "  inflating: dataset/train/94.jpg    \n",
            "  inflating: dataset/train/314.jpg   \n",
            "  inflating: dataset/train/356.jpg   \n",
            "  inflating: dataset/train/22.jpg    \n",
            "  inflating: dataset/train/512.jpg   \n",
            "  inflating: dataset/train/182.jpg   \n",
            "  inflating: dataset/train/156.jpg   \n",
            "  inflating: dataset/train/289.jpg   \n",
            "  inflating: dataset/train/25.jpg    \n",
            "  inflating: dataset/train/436.jpg   \n",
            "  inflating: dataset/train/93.jpg    \n",
            "  inflating: dataset/train/336.jpg   \n",
            "  inflating: dataset/train/225.jpg   \n",
            "  inflating: dataset/train/298.jpg   \n",
            "  inflating: dataset/train/214.jpg   \n",
            "  inflating: dataset/train/27.jpg    \n",
            "  inflating: dataset/train/342.jpg   \n",
            "  inflating: dataset/train/273.jpg   \n",
            "  inflating: dataset/train/133.jpg   \n",
            "  inflating: dataset/train/168.jpg   \n",
            "  inflating: dataset/train/409.jpg   \n",
            "  inflating: dataset/train/459.jpg   \n",
            "  inflating: dataset/train/31.jpg    \n",
            "  inflating: dataset/train/468.jpg   \n",
            "  inflating: dataset/train/434.jpg   \n",
            "  inflating: dataset/train/312.jpg   \n",
            "  inflating: dataset/train/383.jpg   \n",
            "  inflating: dataset/train/476.jpg   \n",
            "  inflating: dataset/train/334.jpg   \n",
            "  inflating: dataset/train/151.jpg   \n",
            "  inflating: dataset/train/166.jpg   \n",
            "  inflating: dataset/train/227.jpg   \n",
            "  inflating: dataset/train/471.jpg   \n",
            "  inflating: dataset/train/267.jpg   \n",
            "  inflating: dataset/train/100.jpg   \n",
            "  inflating: dataset/train/446.jpg   \n",
            "  inflating: dataset/train/208.jpg   \n",
            "  inflating: dataset/train/293.jpg   \n",
            "  inflating: dataset/train/297.jpg   \n",
            "  inflating: dataset/train/412.jpg   \n",
            "  inflating: dataset/train/58.jpg    \n",
            "  inflating: dataset/train/288.jpg   \n",
            "  inflating: dataset/train/105.jpg   \n",
            "  inflating: dataset/train/477.jpg   \n",
            "  inflating: dataset/train/502.jpg   \n",
            "  inflating: dataset/train/418.jpg   \n",
            "  inflating: dataset/train/233.jpg   \n",
            "  inflating: dataset/train/134.jpg   \n",
            "  inflating: dataset/train/197.jpg   \n",
            "  inflating: dataset/train/245.jpg   \n",
            "  inflating: dataset/train/176.jpg   \n",
            "  inflating: dataset/train/203.jpg   \n",
            "  inflating: dataset/train/247.jpg   \n",
            "  inflating: dataset/train/493.jpg   \n",
            "  inflating: dataset/train/68.jpg    \n",
            "  inflating: dataset/train/442.jpg   \n",
            "  inflating: dataset/train/115.jpg   \n",
            "  inflating: dataset/train/357.jpg   \n",
            "  inflating: dataset/train/389.jpg   \n",
            "  inflating: dataset/train/218.jpg   \n",
            "  inflating: dataset/train/263.jpg   \n",
            "  inflating: dataset/train/184.jpg   \n",
            "  inflating: dataset/train/315.jpg   \n",
            "  inflating: dataset/train/295.jpg   \n",
            "  inflating: dataset/train/42.jpg    \n",
            "  inflating: dataset/train/427.jpg   \n",
            "  inflating: dataset/train/287.jpg   \n",
            "  inflating: dataset/train/430.jpg   \n",
            "  inflating: dataset/train/359.jpg   \n",
            "  inflating: dataset/train/249.jpg   \n",
            "  inflating: dataset/train/54.jpg    \n",
            "  inflating: dataset/train/305.jpg   \n",
            "  inflating: dataset/train/319.jpg   \n",
            "  inflating: dataset/train/496.jpg   \n",
            "  inflating: dataset/train/60.jpg    \n",
            "  inflating: dataset/train/37.jpg    \n",
            "  inflating: dataset/train/192.jpg   \n",
            "  inflating: dataset/train/304.jpg   \n",
            "  inflating: dataset/train/258.jpg   \n",
            "  inflating: dataset/train/364.jpg   \n",
            "  inflating: dataset/train/49.jpg    \n",
            "  inflating: dataset/train/144.jpg   \n",
            "  inflating: dataset/train/7.jpg     \n",
            "  inflating: dataset/train/98.jpg    \n",
            "  inflating: dataset/train/223.jpg   \n",
            "  inflating: dataset/train/320.jpg   \n",
            "  inflating: dataset/train/70.jpg    \n",
            "  inflating: dataset/train/426.jpg   \n",
            "  inflating: dataset/train/84.jpg    \n",
            "  inflating: dataset/train/44.jpg    \n",
            "  inflating: dataset/train/177.jpg   \n",
            "  inflating: dataset/train/50.jpg    \n",
            "  inflating: dataset/train/417.jpg   \n",
            "  inflating: dataset/train/191.jpg   \n",
            "  inflating: dataset/train/221.jpg   \n",
            "  inflating: dataset/train/500.jpg   \n",
            "  inflating: dataset/train/428.jpg   \n",
            "  inflating: dataset/train/137.jpg   \n",
            "  inflating: dataset/train/195.jpg   \n",
            "  inflating: dataset/train/413.jpg   \n",
            "  inflating: dataset/train/228.jpg   \n",
            "  inflating: dataset/train/478.jpg   \n",
            "  inflating: dataset/train/123.jpg   \n",
            "  inflating: dataset/train/369.jpg   \n",
            "  inflating: dataset/train/328.jpg   \n",
            "  inflating: dataset/train/1.jpg     \n",
            "  inflating: dataset/train/126.jpg   \n",
            "  inflating: dataset/train/503.jpg   \n",
            "  inflating: dataset/train/352.jpg   \n",
            "  inflating: dataset/train/120.jpg   \n",
            "  inflating: dataset/train/452.jpg   \n",
            "  inflating: dataset/train/339.jpg   \n",
            "  inflating: dataset/train/266.jpg   \n",
            "  inflating: dataset/train/201.jpg   \n",
            "  inflating: dataset/train/229.jpg   \n",
            "  inflating: dataset/train/402.jpg   \n",
            "  inflating: dataset/train/381.jpg   \n",
            "  inflating: dataset/train/449.jpg   \n",
            "  inflating: dataset/train/107.jpg   \n",
            "  inflating: dataset/train/444.jpg   \n",
            "  inflating: dataset/train/327.jpg   \n",
            "  inflating: dataset/train/8.jpg     \n",
            "  inflating: dataset/train/451.jpg   \n",
            "  inflating: dataset/train/77.jpg    \n",
            "  inflating: dataset/train/148.jpg   \n",
            "  inflating: dataset/train/399.jpg   \n",
            "  inflating: dataset/train/130.jpg   \n",
            "  inflating: dataset/train/362.jpg   \n",
            "  inflating: dataset/train/310.jpg   \n",
            "  inflating: dataset/train/79.jpg    \n",
            "  inflating: dataset/train/127.jpg   \n",
            "  inflating: dataset/train/237.jpg   \n",
            "  inflating: dataset/train/257.jpg   \n",
            "  inflating: dataset/train/160.jpg   \n",
            "  inflating: dataset/train/52.jpg    \n",
            "  inflating: dataset/train/190.jpg   \n",
            "  inflating: dataset/train/382.jpg   \n",
            "  inflating: dataset/train/143.jpg   \n",
            "  inflating: dataset/train/199.jpg   \n",
            "  inflating: dataset/train/282.jpg   \n",
            "  inflating: dataset/train/207.jpg   \n",
            "  inflating: dataset/train/403.jpg   \n",
            "  inflating: dataset/train/337.jpg   \n",
            "  inflating: dataset/train/355.jpg   \n",
            "  inflating: dataset/train/251.jpg   \n",
            "  inflating: dataset/train/188.jpg   \n",
            "  inflating: dataset/train/338.jpg   \n",
            "  inflating: dataset/train/341.jpg   \n",
            "  inflating: dataset/train/433.jpg   \n",
            "  inflating: dataset/train/69.jpg    \n",
            "  inflating: dataset/train/236.jpg   \n",
            "  inflating: dataset/train/106.jpg   \n",
            "  inflating: dataset/train/99.jpg    \n",
            "  inflating: dataset/train/179.jpg   \n",
            "  inflating: dataset/train/204.jpg   \n",
            "  inflating: dataset/train/300.jpg   \n",
            "  inflating: dataset/train/432.jpg   \n",
            "  inflating: dataset/train/490.jpg   \n",
            "  inflating: dataset/train/368.jpg   \n",
            "  inflating: dataset/train/153.jpg   \n",
            "  inflating: dataset/train/174.jpg   \n",
            "  inflating: dataset/train/51.jpg    \n",
            "  inflating: dataset/train/62.jpg    \n",
            "  inflating: dataset/train/420.jpg   \n",
            "  inflating: dataset/train/75.jpg    \n",
            "  inflating: dataset/train/230.jpg   \n",
            "  inflating: dataset/train/307.jpg   \n",
            "  inflating: dataset/train/212.jpg   \n",
            "  inflating: dataset/train/209.jpg   \n",
            "  inflating: dataset/train/415.jpg   \n",
            "  inflating: dataset/train/491.jpg   \n",
            "  inflating: dataset/train/453.jpg   \n",
            "  inflating: dataset/train/351.jpg   \n",
            "  inflating: dataset/train/111.jpg   \n",
            "  inflating: dataset/train/391.jpg   \n",
            "  inflating: dataset/train/515.jpg   \n",
            "  inflating: dataset/train/65.jpg    \n",
            "  inflating: dataset/train/240.jpg   \n",
            "  inflating: dataset/train/91.jpg    \n",
            "  inflating: dataset/train/222.jpg   \n",
            "  inflating: dataset/train/53.jpg    \n",
            "  inflating: dataset/train/158.jpg   \n",
            "  inflating: dataset/train/475.jpg   \n",
            "  inflating: dataset/train/121.jpg   \n",
            "  inflating: dataset/train/396.jpg   \n",
            "  inflating: dataset/train/63.jpg    \n",
            "  inflating: dataset/train/268.jpg   \n",
            "  inflating: dataset/train/78.jpg    \n",
            "  inflating: dataset/train/167.jpg   \n",
            "  inflating: dataset/train/250.jpg   \n",
            "  inflating: dataset/train/454.jpg   \n",
            "  inflating: dataset/train/186.jpg   \n",
            "  inflating: dataset/train/499.jpg   \n",
            "  inflating: dataset/train/101.jpg   \n",
            "  inflating: dataset/train/435.jpg   \n",
            "  inflating: dataset/train/469.jpg   \n",
            "  inflating: dataset/train/139.jpg   \n",
            "  inflating: dataset/train/83.jpg    \n",
            "  inflating: dataset/train/43.jpg    \n",
            "  inflating: dataset/train/281.jpg   \n",
            "  inflating: dataset/train/36.jpg    \n",
            "  inflating: dataset/train/419.jpg   \n",
            "  inflating: dataset/train/66.jpg    \n",
            "  inflating: dataset/train/260.jpg   \n",
            "  inflating: dataset/train/466.jpg   \n",
            "  inflating: dataset/train/140.jpg   \n",
            "  inflating: dataset/train/5.jpg     \n",
            "  inflating: dataset/train/10.jpg    \n",
            "  inflating: dataset/train/235.jpg   \n",
            "  inflating: dataset/train/511.jpg   \n",
            "  inflating: dataset/train/72.jpg    \n",
            "  inflating: dataset/train/253.jpg   \n",
            "  inflating: dataset/train/404.jpg   \n",
            "  inflating: dataset/train/89.jpg    \n",
            "  inflating: dataset/train/311.jpg   \n",
            "  inflating: dataset/test.csv        \n",
            "  inflating: dataset/train.csv       \n"
          ],
          "name": "stdout"
        }
      ]
    },
    {
      "cell_type": "markdown",
      "metadata": {
        "id": "rROQUtYC2PDz",
        "colab_type": "text"
      },
      "source": [
        "#AutoKeras"
      ]
    },
    {
      "cell_type": "code",
      "metadata": {
        "id": "v4mQZMNybIGk",
        "colab_type": "code",
        "colab": {}
      },
      "source": [
        "#!pip install autokeras\n",
        "#!pip install tensorflow==2.1.0"
      ],
      "execution_count": null,
      "outputs": []
    },
    {
      "cell_type": "markdown",
      "metadata": {
        "id": "iy_Dcsa52W0P",
        "colab_type": "text"
      },
      "source": [
        "##Data Preprocessing"
      ]
    },
    {
      "cell_type": "code",
      "metadata": {
        "id": "r_DPH27rJFqX",
        "colab_type": "code",
        "colab": {
          "base_uri": "https://localhost:8080/",
          "height": 217
        },
        "outputId": "fb867700-c293-45ea-a20b-614ca6049bea"
      },
      "source": [
        "labels = pd.read_csv('/content/dataset/train.csv')\n",
        "print(labels.head())\n",
        "labels_test = pd.read_csv('/content/dataset/test.csv')\n",
        "print(labels_test.head())"
      ],
      "execution_count": null,
      "outputs": [
        {
          "output_type": "stream",
          "text": [
            "     Image         target\n",
            "0   96.jpg       manipuri\n",
            "1  163.jpg  bharatanatyam\n",
            "2  450.jpg         odissi\n",
            "3  219.jpg      kathakali\n",
            "4  455.jpg         odissi\n",
            "     Image\n",
            "0  508.jpg\n",
            "1  246.jpg\n",
            "2  473.jpg\n",
            "3  485.jpg\n",
            "4  128.jpg\n"
          ],
          "name": "stdout"
        }
      ]
    },
    {
      "cell_type": "code",
      "metadata": {
        "id": "9A8zTvMgf0_q",
        "colab_type": "code",
        "colab": {
          "base_uri": "https://localhost:8080/",
          "height": 345
        },
        "outputId": "328685cb-5851-4e1e-cbf2-c2008c3317ae"
      },
      "source": [
        "from sklearn import preprocessing\n",
        "le = preprocessing.LabelEncoder()\n",
        "labels['label'] = le.fit_transform(labels['target'])\n",
        "labels.head(10)"
      ],
      "execution_count": null,
      "outputs": [
        {
          "output_type": "execute_result",
          "data": {
            "text/html": [
              "<div>\n",
              "<style scoped>\n",
              "    .dataframe tbody tr th:only-of-type {\n",
              "        vertical-align: middle;\n",
              "    }\n",
              "\n",
              "    .dataframe tbody tr th {\n",
              "        vertical-align: top;\n",
              "    }\n",
              "\n",
              "    .dataframe thead th {\n",
              "        text-align: right;\n",
              "    }\n",
              "</style>\n",
              "<table border=\"1\" class=\"dataframe\">\n",
              "  <thead>\n",
              "    <tr style=\"text-align: right;\">\n",
              "      <th></th>\n",
              "      <th>Image</th>\n",
              "      <th>target</th>\n",
              "      <th>label</th>\n",
              "    </tr>\n",
              "  </thead>\n",
              "  <tbody>\n",
              "    <tr>\n",
              "      <th>0</th>\n",
              "      <td>96.jpg</td>\n",
              "      <td>manipuri</td>\n",
              "      <td>4</td>\n",
              "    </tr>\n",
              "    <tr>\n",
              "      <th>1</th>\n",
              "      <td>163.jpg</td>\n",
              "      <td>bharatanatyam</td>\n",
              "      <td>0</td>\n",
              "    </tr>\n",
              "    <tr>\n",
              "      <th>2</th>\n",
              "      <td>450.jpg</td>\n",
              "      <td>odissi</td>\n",
              "      <td>6</td>\n",
              "    </tr>\n",
              "    <tr>\n",
              "      <th>3</th>\n",
              "      <td>219.jpg</td>\n",
              "      <td>kathakali</td>\n",
              "      <td>2</td>\n",
              "    </tr>\n",
              "    <tr>\n",
              "      <th>4</th>\n",
              "      <td>455.jpg</td>\n",
              "      <td>odissi</td>\n",
              "      <td>6</td>\n",
              "    </tr>\n",
              "    <tr>\n",
              "      <th>5</th>\n",
              "      <td>46.jpg</td>\n",
              "      <td>kathak</td>\n",
              "      <td>1</td>\n",
              "    </tr>\n",
              "    <tr>\n",
              "      <th>6</th>\n",
              "      <td>326.jpg</td>\n",
              "      <td>sattriya</td>\n",
              "      <td>7</td>\n",
              "    </tr>\n",
              "    <tr>\n",
              "      <th>7</th>\n",
              "      <td>408.jpg</td>\n",
              "      <td>kuchipudi</td>\n",
              "      <td>3</td>\n",
              "    </tr>\n",
              "    <tr>\n",
              "      <th>8</th>\n",
              "      <td>365.jpg</td>\n",
              "      <td>sattriya</td>\n",
              "      <td>7</td>\n",
              "    </tr>\n",
              "    <tr>\n",
              "      <th>9</th>\n",
              "      <td>422.jpg</td>\n",
              "      <td>kuchipudi</td>\n",
              "      <td>3</td>\n",
              "    </tr>\n",
              "  </tbody>\n",
              "</table>\n",
              "</div>"
            ],
            "text/plain": [
              "     Image         target  label\n",
              "0   96.jpg       manipuri      4\n",
              "1  163.jpg  bharatanatyam      0\n",
              "2  450.jpg         odissi      6\n",
              "3  219.jpg      kathakali      2\n",
              "4  455.jpg         odissi      6\n",
              "5   46.jpg         kathak      1\n",
              "6  326.jpg       sattriya      7\n",
              "7  408.jpg      kuchipudi      3\n",
              "8  365.jpg       sattriya      7\n",
              "9  422.jpg      kuchipudi      3"
            ]
          },
          "metadata": {
            "tags": []
          },
          "execution_count": 3
        }
      ]
    },
    {
      "cell_type": "code",
      "metadata": {
        "id": "ZN1-_Xs1NX8N",
        "colab_type": "code",
        "colab": {
          "base_uri": "https://localhost:8080/",
          "height": 134
        },
        "outputId": "29d4a030-c65a-42f1-bb70-548d65ae7d9e"
      },
      "source": [
        "train_image = []\n",
        "for i in tqdm(range(labels.shape[0])):\n",
        "    img = image.load_img('/content/dataset/train/'+labels['Image'][i],target_size=(400,400,3),color_mode=\"grayscale\")\n",
        "    img = image.img_to_array(img)\n",
        "    img = img/255\n",
        "    train_image.append(img)\n",
        "X = np.array(train_image)\n",
        "print(\"--------------------------------------------\")\n",
        "print(\"--------------------------------------------\")\n",
        "print(f'X.shape--> {X.shape}')\n",
        "print(\"--------------------------------------------\")\n",
        "print(\"--------------------------------------------\")\n",
        "y = np.array(labels.drop(['Image', 'target'],axis=1))\n",
        "print(f'y.shape--> {y.shape}')"
      ],
      "execution_count": null,
      "outputs": [
        {
          "output_type": "stream",
          "text": [
            "100%|██████████| 364/364 [00:02<00:00, 145.30it/s]\n"
          ],
          "name": "stderr"
        },
        {
          "output_type": "stream",
          "text": [
            "--------------------------------------------\n",
            "--------------------------------------------\n",
            "X.shape--> (364, 400, 400, 1)\n",
            "--------------------------------------------\n",
            "--------------------------------------------\n",
            "y.shape--> (364, 1)\n"
          ],
          "name": "stdout"
        }
      ]
    },
    {
      "cell_type": "code",
      "metadata": {
        "id": "0DiIgqX7fGge",
        "colab_type": "code",
        "colab": {
          "base_uri": "https://localhost:8080/",
          "height": 134
        },
        "outputId": "ba413d9b-1ccb-4d48-87bd-05d00884c704"
      },
      "source": [
        "test_image = []\n",
        "for i in tqdm(range(labels_test.shape[0])):\n",
        "    img = image.load_img('/content/dataset/test/'+labels_test['Image'][i],target_size=(400,400,3),color_mode=\"grayscale\")\n",
        "    img = image.img_to_array(img)\n",
        "    img = img/255\n",
        "    test_image.append(img)\n",
        "X_test = np.array(test_image)\n",
        "print(\"--------------------------------------------\")\n",
        "print(\"--------------------------------------------\")\n",
        "print(f'X_test.shape--> {X_test.shape}')\n",
        "print(\"--------------------------------------------\")\n",
        "print(\"--------------------------------------------\")\n",
        "X_test = X_test.reshape(X_test.shape[0], X_test.shape[1],X_test.shape[2])\n",
        "print(\"X_test.shape -  reshaped -->\",X_test.shape)"
      ],
      "execution_count": null,
      "outputs": [
        {
          "output_type": "stream",
          "text": [
            "100%|██████████| 156/156 [00:01<00:00, 133.67it/s]"
          ],
          "name": "stderr"
        },
        {
          "output_type": "stream",
          "text": [
            "--------------------------------------------\n",
            "--------------------------------------------\n",
            "X_test.shape--> (156, 400, 400, 1)\n",
            "--------------------------------------------\n",
            "--------------------------------------------\n",
            "X_test.shape -  reshaped --> (156, 400, 400)\n"
          ],
          "name": "stdout"
        },
        {
          "output_type": "stream",
          "text": [
            "\n"
          ],
          "name": "stderr"
        }
      ]
    },
    {
      "cell_type": "code",
      "metadata": {
        "id": "U_Uu0lkLRg-W",
        "colab_type": "code",
        "colab": {
          "base_uri": "https://localhost:8080/",
          "height": 134
        },
        "outputId": "1f868736-9566-4acd-9fd2-7c6aefdb4f62"
      },
      "source": [
        "#split data\n",
        "from sklearn.model_selection import train_test_split\n",
        "x_train, x_test, y_train, y_test = train_test_split(X, y, random_state=42, test_size=0.1)\n",
        "\n",
        "# reshape to (-1,img_size,img_size) and (-1,)\n",
        "x_train = x_train.reshape(x_train.shape[0], x_train.shape[1],x_train.shape[2])\n",
        "x_test = x_test.reshape(x_test.shape[0], x_test.shape[1],x_test.shape[2])\n",
        "y_train = y_train.reshape(y_train.shape[0],)\n",
        "y_test = y_test.reshape(y_test.shape[0],)\n",
        "print(\"x_train.shape-->\",x_train.shape)\n",
        "print(\"--------------------------------------------\") \n",
        "print(\"y_train.shape-->\",y_train.shape)\n",
        "print(\"--------------------------------------------\") \n",
        "print(\"x_test.shape-->\",x_test.shape)\n",
        "print(\"--------------------------------------------\")\n",
        "print(\"y_test.shape-->\",y_test.shape) "
      ],
      "execution_count": null,
      "outputs": [
        {
          "output_type": "stream",
          "text": [
            "x_train.shape--> (327, 400, 400)\n",
            "--------------------------------------------\n",
            "y_train.shape--> (327,)\n",
            "--------------------------------------------\n",
            "x_test.shape--> (37, 400, 400)\n",
            "--------------------------------------------\n",
            "y_test.shape--> (37,)\n"
          ],
          "name": "stdout"
        }
      ]
    },
    {
      "cell_type": "markdown",
      "metadata": {
        "id": "f1llQ87D2blA",
        "colab_type": "text"
      },
      "source": [
        "##Training"
      ]
    },
    {
      "cell_type": "code",
      "metadata": {
        "id": "FUaABQL6Ef7d",
        "colab_type": "code",
        "colab": {}
      },
      "source": [
        "import autokeras as ak"
      ],
      "execution_count": null,
      "outputs": []
    },
    {
      "cell_type": "code",
      "metadata": {
        "id": "xHoAj2h3SNNo",
        "colab_type": "code",
        "colab": {
          "base_uri": "https://localhost:8080/",
          "height": 1000
        },
        "outputId": "fc070f77-8719-440d-db80-6829ce1b5549"
      },
      "source": [
        "# Initialize the image classifier.\n",
        "clf = ak.ImageClassifier() # It tries 10 different models.\n",
        "# Feed the image classifier with training data.\n",
        "clf.fit(x_train, y_train,epochs=1000,validation_split=0.3)"
      ],
      "execution_count": null,
      "outputs": [
        {
          "output_type": "stream",
          "text": [
            "Train for 8 steps, validate for 4 steps\n",
            "Epoch 1/1000\n",
            "8/8 [==============================] - 9s 1s/step - loss: 35.9301 - accuracy: 0.1528 - val_loss: 9.8873 - val_accuracy: 0.1633\n",
            "Epoch 2/1000\n",
            "8/8 [==============================] - 4s 460ms/step - loss: 5.5653 - accuracy: 0.2576 - val_loss: 2.6631 - val_accuracy: 0.1429\n",
            "Epoch 3/1000\n",
            "8/8 [==============================] - 4s 455ms/step - loss: 0.9027 - accuracy: 0.7031 - val_loss: 1.9353 - val_accuracy: 0.3163\n",
            "Epoch 4/1000\n",
            "8/8 [==============================] - 4s 458ms/step - loss: 0.2133 - accuracy: 0.9956 - val_loss: 1.3801 - val_accuracy: 0.4082\n",
            "Epoch 5/1000\n",
            "8/8 [==============================] - 3s 403ms/step - loss: 0.0344 - accuracy: 1.0000 - val_loss: 1.5725 - val_accuracy: 0.3980\n",
            "Epoch 6/1000\n",
            "8/8 [==============================] - 3s 404ms/step - loss: 0.0078 - accuracy: 1.0000 - val_loss: 3.1002 - val_accuracy: 0.3061\n",
            "Epoch 7/1000\n",
            "8/8 [==============================] - 3s 402ms/step - loss: 0.0036 - accuracy: 1.0000 - val_loss: 2.3264 - val_accuracy: 0.3163\n",
            "Epoch 8/1000\n",
            "8/8 [==============================] - 3s 404ms/step - loss: 0.0016 - accuracy: 1.0000 - val_loss: 2.2023 - val_accuracy: 0.3265\n",
            "Epoch 9/1000\n",
            "8/8 [==============================] - 3s 402ms/step - loss: 7.3653e-04 - accuracy: 1.0000 - val_loss: 2.5291 - val_accuracy: 0.2959\n",
            "Epoch 10/1000\n",
            "8/8 [==============================] - 3s 406ms/step - loss: 5.3642e-04 - accuracy: 1.0000 - val_loss: 2.6961 - val_accuracy: 0.2755\n",
            "Epoch 11/1000\n",
            "8/8 [==============================] - 3s 403ms/step - loss: 3.6578e-04 - accuracy: 1.0000 - val_loss: 2.6570 - val_accuracy: 0.2857\n",
            "Epoch 12/1000\n",
            "8/8 [==============================] - 3s 404ms/step - loss: 3.0257e-04 - accuracy: 1.0000 - val_loss: 2.5805 - val_accuracy: 0.2959\n",
            "Epoch 13/1000\n",
            "8/8 [==============================] - 3s 405ms/step - loss: 2.5629e-04 - accuracy: 1.0000 - val_loss: 2.5434 - val_accuracy: 0.3061\n",
            "Epoch 14/1000\n",
            "8/8 [==============================] - 3s 402ms/step - loss: 2.6269e-04 - accuracy: 1.0000 - val_loss: 2.4947 - val_accuracy: 0.3061\n"
          ],
          "name": "stdout"
        },
        {
          "output_type": "display_data",
          "data": {
            "text/html": [
              "<span style=\"color:#4527A0\"><h1 style=\"font-size:18px\">Trial complete</h1></span>"
            ],
            "text/plain": [
              "<IPython.core.display.HTML object>"
            ]
          },
          "metadata": {
            "tags": []
          }
        },
        {
          "output_type": "display_data",
          "data": {
            "text/html": [
              "<span style=\"color:#4527A0\"><h1 style=\"font-size:18px\">Trial summary</h1></span>"
            ],
            "text/plain": [
              "<IPython.core.display.HTML object>"
            ]
          },
          "metadata": {
            "tags": []
          }
        },
        {
          "output_type": "display_data",
          "data": {
            "text/html": [
              "<span style=\"color:cyan\"> |-Trial ID: aaa7661b3d125144d9980100fbdb2423</span>"
            ],
            "text/plain": [
              "<IPython.core.display.HTML object>"
            ]
          },
          "metadata": {
            "tags": []
          }
        },
        {
          "output_type": "display_data",
          "data": {
            "text/html": [
              "<span style=\"color:cyan\"> |-Score: 1.3800563216209412</span>"
            ],
            "text/plain": [
              "<IPython.core.display.HTML object>"
            ]
          },
          "metadata": {
            "tags": []
          }
        },
        {
          "output_type": "display_data",
          "data": {
            "text/html": [
              "<span style=\"color:cyan\"> |-Best step: 0</span>"
            ],
            "text/plain": [
              "<IPython.core.display.HTML object>"
            ]
          },
          "metadata": {
            "tags": []
          }
        },
        {
          "output_type": "display_data",
          "data": {
            "text/html": [
              "<span style=\"color:#7E57C2\"><h2 style=\"font-size:16px\">Hyperparameters:</h2></span>"
            ],
            "text/plain": [
              "<IPython.core.display.HTML object>"
            ]
          },
          "metadata": {
            "tags": []
          }
        },
        {
          "output_type": "display_data",
          "data": {
            "text/html": [
              "<span style=\"color:cyan\"> |-classification_head_1/dropout_rate: 0.5</span>"
            ],
            "text/plain": [
              "<IPython.core.display.HTML object>"
            ]
          },
          "metadata": {
            "tags": []
          }
        },
        {
          "output_type": "display_data",
          "data": {
            "text/html": [
              "<span style=\"color:blue\"> |-classification_head_1/spatial_reduction_1/reduction_type: flatten</span>"
            ],
            "text/plain": [
              "<IPython.core.display.HTML object>"
            ]
          },
          "metadata": {
            "tags": []
          }
        },
        {
          "output_type": "display_data",
          "data": {
            "text/html": [
              "<span style=\"color:cyan\"> |-dense_block_1/dropout_rate: 0</span>"
            ],
            "text/plain": [
              "<IPython.core.display.HTML object>"
            ]
          },
          "metadata": {
            "tags": []
          }
        },
        {
          "output_type": "display_data",
          "data": {
            "text/html": [
              "<span style=\"color:blue\"> |-dense_block_1/num_layers: 1</span>"
            ],
            "text/plain": [
              "<IPython.core.display.HTML object>"
            ]
          },
          "metadata": {
            "tags": []
          }
        },
        {
          "output_type": "display_data",
          "data": {
            "text/html": [
              "<span style=\"color:cyan\"> |-dense_block_1/units_0: 128</span>"
            ],
            "text/plain": [
              "<IPython.core.display.HTML object>"
            ]
          },
          "metadata": {
            "tags": []
          }
        },
        {
          "output_type": "display_data",
          "data": {
            "text/html": [
              "<span style=\"color:blue\"> |-dense_block_1/use_batchnorm: False</span>"
            ],
            "text/plain": [
              "<IPython.core.display.HTML object>"
            ]
          },
          "metadata": {
            "tags": []
          }
        },
        {
          "output_type": "display_data",
          "data": {
            "text/html": [
              "<span style=\"color:cyan\"> |-image_block_1/augment: False</span>"
            ],
            "text/plain": [
              "<IPython.core.display.HTML object>"
            ]
          },
          "metadata": {
            "tags": []
          }
        },
        {
          "output_type": "display_data",
          "data": {
            "text/html": [
              "<span style=\"color:blue\"> |-image_block_1/block_type: vanilla</span>"
            ],
            "text/plain": [
              "<IPython.core.display.HTML object>"
            ]
          },
          "metadata": {
            "tags": []
          }
        },
        {
          "output_type": "display_data",
          "data": {
            "text/html": [
              "<span style=\"color:cyan\"> |-image_block_1/conv_block_1/dropout_rate: 0.25</span>"
            ],
            "text/plain": [
              "<IPython.core.display.HTML object>"
            ]
          },
          "metadata": {
            "tags": []
          }
        },
        {
          "output_type": "display_data",
          "data": {
            "text/html": [
              "<span style=\"color:blue\"> |-image_block_1/conv_block_1/filters_0_0: 32</span>"
            ],
            "text/plain": [
              "<IPython.core.display.HTML object>"
            ]
          },
          "metadata": {
            "tags": []
          }
        },
        {
          "output_type": "display_data",
          "data": {
            "text/html": [
              "<span style=\"color:cyan\"> |-image_block_1/conv_block_1/filters_0_1: 64</span>"
            ],
            "text/plain": [
              "<IPython.core.display.HTML object>"
            ]
          },
          "metadata": {
            "tags": []
          }
        },
        {
          "output_type": "display_data",
          "data": {
            "text/html": [
              "<span style=\"color:blue\"> |-image_block_1/conv_block_1/kernel_size: 3</span>"
            ],
            "text/plain": [
              "<IPython.core.display.HTML object>"
            ]
          },
          "metadata": {
            "tags": []
          }
        },
        {
          "output_type": "display_data",
          "data": {
            "text/html": [
              "<span style=\"color:cyan\"> |-image_block_1/conv_block_1/max_pooling: True</span>"
            ],
            "text/plain": [
              "<IPython.core.display.HTML object>"
            ]
          },
          "metadata": {
            "tags": []
          }
        },
        {
          "output_type": "display_data",
          "data": {
            "text/html": [
              "<span style=\"color:blue\"> |-image_block_1/conv_block_1/num_blocks: 1</span>"
            ],
            "text/plain": [
              "<IPython.core.display.HTML object>"
            ]
          },
          "metadata": {
            "tags": []
          }
        },
        {
          "output_type": "display_data",
          "data": {
            "text/html": [
              "<span style=\"color:cyan\"> |-image_block_1/conv_block_1/num_layers: 2</span>"
            ],
            "text/plain": [
              "<IPython.core.display.HTML object>"
            ]
          },
          "metadata": {
            "tags": []
          }
        },
        {
          "output_type": "display_data",
          "data": {
            "text/html": [
              "<span style=\"color:blue\"> |-image_block_1/conv_block_1/separable: False</span>"
            ],
            "text/plain": [
              "<IPython.core.display.HTML object>"
            ]
          },
          "metadata": {
            "tags": []
          }
        },
        {
          "output_type": "display_data",
          "data": {
            "text/html": [
              "<span style=\"color:cyan\"> |-image_block_1/normalize: True</span>"
            ],
            "text/plain": [
              "<IPython.core.display.HTML object>"
            ]
          },
          "metadata": {
            "tags": []
          }
        },
        {
          "output_type": "display_data",
          "data": {
            "text/html": [
              "<span style=\"color:blue\"> |-optimizer: adam</span>"
            ],
            "text/plain": [
              "<IPython.core.display.HTML object>"
            ]
          },
          "metadata": {
            "tags": []
          }
        },
        {
          "output_type": "stream",
          "text": [
            "Train for 8 steps, validate for 4 steps\n",
            "Epoch 1/1000\n",
            "8/8 [==============================] - 23s 3s/step - loss: 2.6807 - accuracy: 0.2052 - val_loss: 42.8985 - val_accuracy: 0.0816\n",
            "Epoch 2/1000\n",
            "8/8 [==============================] - 7s 896ms/step - loss: 2.0226 - accuracy: 0.2314 - val_loss: 47.9986 - val_accuracy: 0.1735\n",
            "Epoch 3/1000\n",
            "8/8 [==============================] - 7s 887ms/step - loss: 1.8483 - accuracy: 0.2533 - val_loss: 701.5908 - val_accuracy: 0.2041\n",
            "Epoch 4/1000\n",
            "8/8 [==============================] - 8s 999ms/step - loss: 1.7440 - accuracy: 0.2838 - val_loss: 35.8185 - val_accuracy: 0.0918\n",
            "Epoch 5/1000\n",
            "8/8 [==============================] - 8s 988ms/step - loss: 1.6222 - accuracy: 0.2969 - val_loss: 2.2828 - val_accuracy: 0.0714\n",
            "Epoch 6/1000\n",
            "8/8 [==============================] - 7s 891ms/step - loss: 1.5056 - accuracy: 0.3581 - val_loss: 2.5125 - val_accuracy: 0.0714\n",
            "Epoch 7/1000\n",
            "8/8 [==============================] - 7s 890ms/step - loss: 1.4315 - accuracy: 0.4367 - val_loss: 3.0269 - val_accuracy: 0.0714\n",
            "Epoch 8/1000\n",
            "8/8 [==============================] - 7s 887ms/step - loss: 1.3294 - accuracy: 0.4236 - val_loss: 3.0578 - val_accuracy: 0.0714\n",
            "Epoch 9/1000\n",
            "8/8 [==============================] - 7s 887ms/step - loss: 1.2910 - accuracy: 0.4891 - val_loss: 3.2880 - val_accuracy: 0.0714\n",
            "Epoch 10/1000\n",
            "8/8 [==============================] - 7s 886ms/step - loss: 1.2361 - accuracy: 0.4847 - val_loss: 2.7363 - val_accuracy: 0.0714\n",
            "Epoch 11/1000\n",
            "8/8 [==============================] - 7s 887ms/step - loss: 1.1567 - accuracy: 0.5502 - val_loss: 4.3149 - val_accuracy: 0.1122\n",
            "Epoch 12/1000\n",
            "8/8 [==============================] - 7s 884ms/step - loss: 1.1187 - accuracy: 0.5502 - val_loss: 3.7635 - val_accuracy: 0.1122\n",
            "Epoch 13/1000\n",
            "8/8 [==============================] - 7s 888ms/step - loss: 0.9258 - accuracy: 0.6507 - val_loss: 3.8375 - val_accuracy: 0.0918\n",
            "Epoch 14/1000\n",
            "8/8 [==============================] - 7s 888ms/step - loss: 0.8842 - accuracy: 0.6769 - val_loss: 3.1873 - val_accuracy: 0.1020\n",
            "Epoch 15/1000\n",
            "8/8 [==============================] - 7s 887ms/step - loss: 0.9863 - accuracy: 0.5721 - val_loss: 3.1588 - val_accuracy: 0.0714\n"
          ],
          "name": "stdout"
        },
        {
          "output_type": "display_data",
          "data": {
            "text/html": [
              "<span style=\"color:#4527A0\"><h1 style=\"font-size:18px\">Trial complete</h1></span>"
            ],
            "text/plain": [
              "<IPython.core.display.HTML object>"
            ]
          },
          "metadata": {
            "tags": []
          }
        },
        {
          "output_type": "display_data",
          "data": {
            "text/html": [
              "<span style=\"color:#4527A0\"><h1 style=\"font-size:18px\">Trial summary</h1></span>"
            ],
            "text/plain": [
              "<IPython.core.display.HTML object>"
            ]
          },
          "metadata": {
            "tags": []
          }
        },
        {
          "output_type": "display_data",
          "data": {
            "text/html": [
              "<span style=\"color:cyan\"> |-Trial ID: e553e04d3b20be08174ac2b6b8776533</span>"
            ],
            "text/plain": [
              "<IPython.core.display.HTML object>"
            ]
          },
          "metadata": {
            "tags": []
          }
        },
        {
          "output_type": "display_data",
          "data": {
            "text/html": [
              "<span style=\"color:cyan\"> |-Score: 2.2828497886657715</span>"
            ],
            "text/plain": [
              "<IPython.core.display.HTML object>"
            ]
          },
          "metadata": {
            "tags": []
          }
        },
        {
          "output_type": "display_data",
          "data": {
            "text/html": [
              "<span style=\"color:cyan\"> |-Best step: 0</span>"
            ],
            "text/plain": [
              "<IPython.core.display.HTML object>"
            ]
          },
          "metadata": {
            "tags": []
          }
        },
        {
          "output_type": "display_data",
          "data": {
            "text/html": [
              "<span style=\"color:#7E57C2\"><h2 style=\"font-size:16px\">Hyperparameters:</h2></span>"
            ],
            "text/plain": [
              "<IPython.core.display.HTML object>"
            ]
          },
          "metadata": {
            "tags": []
          }
        },
        {
          "output_type": "display_data",
          "data": {
            "text/html": [
              "<span style=\"color:cyan\"> |-classification_head_1/dropout_rate: 0</span>"
            ],
            "text/plain": [
              "<IPython.core.display.HTML object>"
            ]
          },
          "metadata": {
            "tags": []
          }
        },
        {
          "output_type": "display_data",
          "data": {
            "text/html": [
              "<span style=\"color:blue\"> |-dense_block_1/dropout_rate: 0</span>"
            ],
            "text/plain": [
              "<IPython.core.display.HTML object>"
            ]
          },
          "metadata": {
            "tags": []
          }
        },
        {
          "output_type": "display_data",
          "data": {
            "text/html": [
              "<span style=\"color:cyan\"> |-dense_block_1/num_layers: 2</span>"
            ],
            "text/plain": [
              "<IPython.core.display.HTML object>"
            ]
          },
          "metadata": {
            "tags": []
          }
        },
        {
          "output_type": "display_data",
          "data": {
            "text/html": [
              "<span style=\"color:blue\"> |-dense_block_1/units_0: 32</span>"
            ],
            "text/plain": [
              "<IPython.core.display.HTML object>"
            ]
          },
          "metadata": {
            "tags": []
          }
        },
        {
          "output_type": "display_data",
          "data": {
            "text/html": [
              "<span style=\"color:cyan\"> |-dense_block_1/units_1: 32</span>"
            ],
            "text/plain": [
              "<IPython.core.display.HTML object>"
            ]
          },
          "metadata": {
            "tags": []
          }
        },
        {
          "output_type": "display_data",
          "data": {
            "text/html": [
              "<span style=\"color:blue\"> |-dense_block_1/use_batchnorm: False</span>"
            ],
            "text/plain": [
              "<IPython.core.display.HTML object>"
            ]
          },
          "metadata": {
            "tags": []
          }
        },
        {
          "output_type": "display_data",
          "data": {
            "text/html": [
              "<span style=\"color:cyan\"> |-image_block_1/augment: True</span>"
            ],
            "text/plain": [
              "<IPython.core.display.HTML object>"
            ]
          },
          "metadata": {
            "tags": []
          }
        },
        {
          "output_type": "display_data",
          "data": {
            "text/html": [
              "<span style=\"color:blue\"> |-image_block_1/block_type: resnet</span>"
            ],
            "text/plain": [
              "<IPython.core.display.HTML object>"
            ]
          },
          "metadata": {
            "tags": []
          }
        },
        {
          "output_type": "display_data",
          "data": {
            "text/html": [
              "<span style=\"color:cyan\"> |-image_block_1/normalize: True</span>"
            ],
            "text/plain": [
              "<IPython.core.display.HTML object>"
            ]
          },
          "metadata": {
            "tags": []
          }
        },
        {
          "output_type": "display_data",
          "data": {
            "text/html": [
              "<span style=\"color:blue\"> |-image_block_1/res_net_block_1/conv3_depth: 4</span>"
            ],
            "text/plain": [
              "<IPython.core.display.HTML object>"
            ]
          },
          "metadata": {
            "tags": []
          }
        },
        {
          "output_type": "display_data",
          "data": {
            "text/html": [
              "<span style=\"color:cyan\"> |-image_block_1/res_net_block_1/conv4_depth: 6</span>"
            ],
            "text/plain": [
              "<IPython.core.display.HTML object>"
            ]
          },
          "metadata": {
            "tags": []
          }
        },
        {
          "output_type": "display_data",
          "data": {
            "text/html": [
              "<span style=\"color:blue\"> |-image_block_1/res_net_block_1/pooling: avg</span>"
            ],
            "text/plain": [
              "<IPython.core.display.HTML object>"
            ]
          },
          "metadata": {
            "tags": []
          }
        },
        {
          "output_type": "display_data",
          "data": {
            "text/html": [
              "<span style=\"color:cyan\"> |-image_block_1/res_net_block_1/version: v2</span>"
            ],
            "text/plain": [
              "<IPython.core.display.HTML object>"
            ]
          },
          "metadata": {
            "tags": []
          }
        },
        {
          "output_type": "display_data",
          "data": {
            "text/html": [
              "<span style=\"color:blue\"> |-optimizer: adam</span>"
            ],
            "text/plain": [
              "<IPython.core.display.HTML object>"
            ]
          },
          "metadata": {
            "tags": []
          }
        },
        {
          "output_type": "stream",
          "text": [
            "Train for 8 steps, validate for 4 steps\n",
            "Epoch 1/1000\n",
            "8/8 [==============================] - 4s 514ms/step - loss: 39.2108 - accuracy: 0.1572 - val_loss: 8.4456 - val_accuracy: 0.2041\n",
            "Epoch 2/1000\n",
            "8/8 [==============================] - 4s 460ms/step - loss: 4.9486 - accuracy: 0.2707 - val_loss: 3.0191 - val_accuracy: 0.0918\n",
            "Epoch 3/1000\n",
            "8/8 [==============================] - 4s 455ms/step - loss: 1.2039 - accuracy: 0.5022 - val_loss: 2.1702 - val_accuracy: 0.2449\n",
            "Epoch 4/1000\n",
            "8/8 [==============================] - 4s 456ms/step - loss: 0.4275 - accuracy: 0.9694 - val_loss: 2.0221 - val_accuracy: 0.3673\n",
            "Epoch 5/1000\n",
            "8/8 [==============================] - 4s 458ms/step - loss: 0.1501 - accuracy: 0.9694 - val_loss: 1.9284 - val_accuracy: 0.3367\n",
            "Epoch 6/1000\n",
            "8/8 [==============================] - 3s 403ms/step - loss: 0.0187 - accuracy: 1.0000 - val_loss: 2.6740 - val_accuracy: 0.3061\n",
            "Epoch 7/1000\n",
            "8/8 [==============================] - 3s 400ms/step - loss: 0.0081 - accuracy: 1.0000 - val_loss: 3.1546 - val_accuracy: 0.3163\n",
            "Epoch 8/1000\n",
            "8/8 [==============================] - 3s 396ms/step - loss: 0.0035 - accuracy: 1.0000 - val_loss: 3.2461 - val_accuracy: 0.3265\n",
            "Epoch 9/1000\n",
            "8/8 [==============================] - 3s 397ms/step - loss: 0.0017 - accuracy: 1.0000 - val_loss: 3.1995 - val_accuracy: 0.3265\n",
            "Epoch 10/1000\n",
            "8/8 [==============================] - 3s 397ms/step - loss: 9.6073e-04 - accuracy: 1.0000 - val_loss: 3.0839 - val_accuracy: 0.3061\n",
            "Epoch 11/1000\n",
            "8/8 [==============================] - 3s 399ms/step - loss: 6.3423e-04 - accuracy: 1.0000 - val_loss: 2.9552 - val_accuracy: 0.3061\n",
            "Epoch 12/1000\n",
            "8/8 [==============================] - 3s 397ms/step - loss: 4.3384e-04 - accuracy: 1.0000 - val_loss: 2.8612 - val_accuracy: 0.3367\n",
            "Epoch 13/1000\n",
            "8/8 [==============================] - 3s 394ms/step - loss: 3.3654e-04 - accuracy: 1.0000 - val_loss: 2.7793 - val_accuracy: 0.3367\n",
            "Epoch 14/1000\n",
            "8/8 [==============================] - 3s 397ms/step - loss: 2.8592e-04 - accuracy: 1.0000 - val_loss: 2.7041 - val_accuracy: 0.3469\n",
            "Epoch 15/1000\n",
            "8/8 [==============================] - 3s 397ms/step - loss: 2.2887e-04 - accuracy: 1.0000 - val_loss: 2.6458 - val_accuracy: 0.3469\n"
          ],
          "name": "stdout"
        },
        {
          "output_type": "display_data",
          "data": {
            "text/html": [
              "<span style=\"color:#4527A0\"><h1 style=\"font-size:18px\">Trial complete</h1></span>"
            ],
            "text/plain": [
              "<IPython.core.display.HTML object>"
            ]
          },
          "metadata": {
            "tags": []
          }
        },
        {
          "output_type": "display_data",
          "data": {
            "text/html": [
              "<span style=\"color:#4527A0\"><h1 style=\"font-size:18px\">Trial summary</h1></span>"
            ],
            "text/plain": [
              "<IPython.core.display.HTML object>"
            ]
          },
          "metadata": {
            "tags": []
          }
        },
        {
          "output_type": "display_data",
          "data": {
            "text/html": [
              "<span style=\"color:cyan\"> |-Trial ID: 2914aabb928d0d7ffff3de54b7daec15</span>"
            ],
            "text/plain": [
              "<IPython.core.display.HTML object>"
            ]
          },
          "metadata": {
            "tags": []
          }
        },
        {
          "output_type": "display_data",
          "data": {
            "text/html": [
              "<span style=\"color:cyan\"> |-Score: 1.928422063589096</span>"
            ],
            "text/plain": [
              "<IPython.core.display.HTML object>"
            ]
          },
          "metadata": {
            "tags": []
          }
        },
        {
          "output_type": "display_data",
          "data": {
            "text/html": [
              "<span style=\"color:cyan\"> |-Best step: 0</span>"
            ],
            "text/plain": [
              "<IPython.core.display.HTML object>"
            ]
          },
          "metadata": {
            "tags": []
          }
        },
        {
          "output_type": "display_data",
          "data": {
            "text/html": [
              "<span style=\"color:#7E57C2\"><h2 style=\"font-size:16px\">Hyperparameters:</h2></span>"
            ],
            "text/plain": [
              "<IPython.core.display.HTML object>"
            ]
          },
          "metadata": {
            "tags": []
          }
        },
        {
          "output_type": "display_data",
          "data": {
            "text/html": [
              "<span style=\"color:cyan\"> |-classification_head_1/dropout_rate: 0.5</span>"
            ],
            "text/plain": [
              "<IPython.core.display.HTML object>"
            ]
          },
          "metadata": {
            "tags": []
          }
        },
        {
          "output_type": "display_data",
          "data": {
            "text/html": [
              "<span style=\"color:blue\"> |-classification_head_1/spatial_reduction_1/reduction_type: flatten</span>"
            ],
            "text/plain": [
              "<IPython.core.display.HTML object>"
            ]
          },
          "metadata": {
            "tags": []
          }
        },
        {
          "output_type": "display_data",
          "data": {
            "text/html": [
              "<span style=\"color:cyan\"> |-dense_block_1/dropout_rate: 0</span>"
            ],
            "text/plain": [
              "<IPython.core.display.HTML object>"
            ]
          },
          "metadata": {
            "tags": []
          }
        },
        {
          "output_type": "display_data",
          "data": {
            "text/html": [
              "<span style=\"color:blue\"> |-dense_block_1/num_layers: 1</span>"
            ],
            "text/plain": [
              "<IPython.core.display.HTML object>"
            ]
          },
          "metadata": {
            "tags": []
          }
        },
        {
          "output_type": "display_data",
          "data": {
            "text/html": [
              "<span style=\"color:cyan\"> |-dense_block_1/units_0: 128</span>"
            ],
            "text/plain": [
              "<IPython.core.display.HTML object>"
            ]
          },
          "metadata": {
            "tags": []
          }
        },
        {
          "output_type": "display_data",
          "data": {
            "text/html": [
              "<span style=\"color:blue\"> |-dense_block_1/use_batchnorm: False</span>"
            ],
            "text/plain": [
              "<IPython.core.display.HTML object>"
            ]
          },
          "metadata": {
            "tags": []
          }
        },
        {
          "output_type": "display_data",
          "data": {
            "text/html": [
              "<span style=\"color:cyan\"> |-image_block_1/augment: False</span>"
            ],
            "text/plain": [
              "<IPython.core.display.HTML object>"
            ]
          },
          "metadata": {
            "tags": []
          }
        },
        {
          "output_type": "display_data",
          "data": {
            "text/html": [
              "<span style=\"color:blue\"> |-image_block_1/block_type: vanilla</span>"
            ],
            "text/plain": [
              "<IPython.core.display.HTML object>"
            ]
          },
          "metadata": {
            "tags": []
          }
        },
        {
          "output_type": "display_data",
          "data": {
            "text/html": [
              "<span style=\"color:cyan\"> |-image_block_1/conv_block_1/dropout_rate: 0.25</span>"
            ],
            "text/plain": [
              "<IPython.core.display.HTML object>"
            ]
          },
          "metadata": {
            "tags": []
          }
        },
        {
          "output_type": "display_data",
          "data": {
            "text/html": [
              "<span style=\"color:blue\"> |-image_block_1/conv_block_1/filters_0_0: 32</span>"
            ],
            "text/plain": [
              "<IPython.core.display.HTML object>"
            ]
          },
          "metadata": {
            "tags": []
          }
        },
        {
          "output_type": "display_data",
          "data": {
            "text/html": [
              "<span style=\"color:cyan\"> |-image_block_1/conv_block_1/filters_0_1: 64</span>"
            ],
            "text/plain": [
              "<IPython.core.display.HTML object>"
            ]
          },
          "metadata": {
            "tags": []
          }
        },
        {
          "output_type": "display_data",
          "data": {
            "text/html": [
              "<span style=\"color:blue\"> |-image_block_1/conv_block_1/kernel_size: 3</span>"
            ],
            "text/plain": [
              "<IPython.core.display.HTML object>"
            ]
          },
          "metadata": {
            "tags": []
          }
        },
        {
          "output_type": "display_data",
          "data": {
            "text/html": [
              "<span style=\"color:cyan\"> |-image_block_1/conv_block_1/max_pooling: True</span>"
            ],
            "text/plain": [
              "<IPython.core.display.HTML object>"
            ]
          },
          "metadata": {
            "tags": []
          }
        },
        {
          "output_type": "display_data",
          "data": {
            "text/html": [
              "<span style=\"color:blue\"> |-image_block_1/conv_block_1/num_blocks: 1</span>"
            ],
            "text/plain": [
              "<IPython.core.display.HTML object>"
            ]
          },
          "metadata": {
            "tags": []
          }
        },
        {
          "output_type": "display_data",
          "data": {
            "text/html": [
              "<span style=\"color:cyan\"> |-image_block_1/conv_block_1/num_layers: 2</span>"
            ],
            "text/plain": [
              "<IPython.core.display.HTML object>"
            ]
          },
          "metadata": {
            "tags": []
          }
        },
        {
          "output_type": "display_data",
          "data": {
            "text/html": [
              "<span style=\"color:blue\"> |-image_block_1/conv_block_1/separable: False</span>"
            ],
            "text/plain": [
              "<IPython.core.display.HTML object>"
            ]
          },
          "metadata": {
            "tags": []
          }
        },
        {
          "output_type": "display_data",
          "data": {
            "text/html": [
              "<span style=\"color:cyan\"> |-image_block_1/normalize: True</span>"
            ],
            "text/plain": [
              "<IPython.core.display.HTML object>"
            ]
          },
          "metadata": {
            "tags": []
          }
        },
        {
          "output_type": "display_data",
          "data": {
            "text/html": [
              "<span style=\"color:blue\"> |-optimizer: adam</span>"
            ],
            "text/plain": [
              "<IPython.core.display.HTML object>"
            ]
          },
          "metadata": {
            "tags": []
          }
        },
        {
          "output_type": "stream",
          "text": [
            "INFO:tensorflow:Oracle triggered exit\n",
            "Train for 12 steps, validate for 4 steps\n",
            "Epoch 1/1000\n",
            "12/12 [==============================] - 5s 421ms/step - loss: 22.6096 - accuracy: 0.1682 - val_loss: 1.8844 - val_accuracy: 0.3163\n",
            "Epoch 2/1000\n",
            "12/12 [==============================] - 4s 367ms/step - loss: 1.6350 - accuracy: 0.3853 - val_loss: 1.1693 - val_accuracy: 0.8265\n",
            "Epoch 3/1000\n",
            "12/12 [==============================] - 4s 367ms/step - loss: 0.7140 - accuracy: 0.9572 - val_loss: 0.2154 - val_accuracy: 0.9592\n",
            "Epoch 4/1000\n",
            "12/12 [==============================] - 4s 365ms/step - loss: 0.0896 - accuracy: 1.0000 - val_loss: 0.0204 - val_accuracy: 1.0000\n",
            "Epoch 5/1000\n",
            "12/12 [==============================] - 4s 367ms/step - loss: 0.0161 - accuracy: 1.0000 - val_loss: 0.0039 - val_accuracy: 1.0000\n",
            "Epoch 6/1000\n",
            "12/12 [==============================] - 4s 365ms/step - loss: 0.0043 - accuracy: 1.0000 - val_loss: 0.0016 - val_accuracy: 1.0000\n",
            "Epoch 7/1000\n",
            "12/12 [==============================] - 4s 367ms/step - loss: 0.0023 - accuracy: 1.0000 - val_loss: 9.3986e-04 - val_accuracy: 1.0000\n",
            "Epoch 8/1000\n",
            "12/12 [==============================] - 4s 367ms/step - loss: 0.0013 - accuracy: 1.0000 - val_loss: 6.8845e-04 - val_accuracy: 1.0000\n",
            "Epoch 9/1000\n",
            "12/12 [==============================] - 4s 368ms/step - loss: 8.0505e-04 - accuracy: 1.0000 - val_loss: 5.3376e-04 - val_accuracy: 1.0000\n",
            "Epoch 10/1000\n",
            "12/12 [==============================] - 4s 367ms/step - loss: 6.3980e-04 - accuracy: 1.0000 - val_loss: 4.4528e-04 - val_accuracy: 1.0000\n",
            "Epoch 11/1000\n",
            "12/12 [==============================] - 4s 371ms/step - loss: 5.3402e-04 - accuracy: 1.0000 - val_loss: 3.8088e-04 - val_accuracy: 1.0000\n",
            "Epoch 12/1000\n",
            "12/12 [==============================] - 4s 366ms/step - loss: 4.7429e-04 - accuracy: 1.0000 - val_loss: 3.3521e-04 - val_accuracy: 1.0000\n",
            "Epoch 13/1000\n",
            "12/12 [==============================] - 4s 370ms/step - loss: 4.2246e-04 - accuracy: 1.0000 - val_loss: 3.0457e-04 - val_accuracy: 1.0000\n",
            "Epoch 14/1000\n",
            "12/12 [==============================] - 4s 368ms/step - loss: 3.7876e-04 - accuracy: 1.0000 - val_loss: 2.7745e-04 - val_accuracy: 1.0000\n",
            "Epoch 15/1000\n",
            "12/12 [==============================] - 4s 369ms/step - loss: 3.4375e-04 - accuracy: 1.0000 - val_loss: 2.4896e-04 - val_accuracy: 1.0000\n",
            "Epoch 16/1000\n",
            "12/12 [==============================] - 4s 368ms/step - loss: 3.0686e-04 - accuracy: 1.0000 - val_loss: 2.2769e-04 - val_accuracy: 1.0000\n",
            "Epoch 17/1000\n",
            "12/12 [==============================] - 4s 368ms/step - loss: 2.7094e-04 - accuracy: 1.0000 - val_loss: 2.0823e-04 - val_accuracy: 1.0000\n",
            "Epoch 18/1000\n",
            "12/12 [==============================] - 4s 368ms/step - loss: 2.6049e-04 - accuracy: 1.0000 - val_loss: 1.9203e-04 - val_accuracy: 1.0000\n",
            "Epoch 19/1000\n",
            "12/12 [==============================] - 4s 367ms/step - loss: 2.6176e-04 - accuracy: 1.0000 - val_loss: 1.7821e-04 - val_accuracy: 1.0000\n",
            "Epoch 20/1000\n",
            "12/12 [==============================] - 4s 365ms/step - loss: 2.2266e-04 - accuracy: 1.0000 - val_loss: 1.6482e-04 - val_accuracy: 1.0000\n",
            "Epoch 21/1000\n",
            "12/12 [==============================] - 4s 369ms/step - loss: 2.1025e-04 - accuracy: 1.0000 - val_loss: 1.5308e-04 - val_accuracy: 1.0000\n",
            "Epoch 22/1000\n",
            "12/12 [==============================] - 4s 367ms/step - loss: 2.0431e-04 - accuracy: 1.0000 - val_loss: 1.4604e-04 - val_accuracy: 1.0000\n",
            "Epoch 23/1000\n",
            "12/12 [==============================] - 4s 366ms/step - loss: 1.8111e-04 - accuracy: 1.0000 - val_loss: 1.3841e-04 - val_accuracy: 1.0000\n",
            "Epoch 24/1000\n",
            "12/12 [==============================] - 4s 367ms/step - loss: 1.7264e-04 - accuracy: 1.0000 - val_loss: 1.2863e-04 - val_accuracy: 1.0000\n",
            "Epoch 25/1000\n",
            "12/12 [==============================] - 4s 365ms/step - loss: 1.6480e-04 - accuracy: 1.0000 - val_loss: 1.2019e-04 - val_accuracy: 1.0000\n",
            "Epoch 26/1000\n",
            "12/12 [==============================] - 4s 368ms/step - loss: 1.4936e-04 - accuracy: 1.0000 - val_loss: 1.1367e-04 - val_accuracy: 1.0000\n",
            "Epoch 27/1000\n",
            "12/12 [==============================] - 4s 367ms/step - loss: 1.4126e-04 - accuracy: 1.0000 - val_loss: 1.0792e-04 - val_accuracy: 1.0000\n",
            "Epoch 28/1000\n",
            "12/12 [==============================] - 4s 367ms/step - loss: 1.3120e-04 - accuracy: 1.0000 - val_loss: 1.0216e-04 - val_accuracy: 1.0000\n",
            "Epoch 29/1000\n",
            "12/12 [==============================] - 4s 369ms/step - loss: 1.2523e-04 - accuracy: 1.0000 - val_loss: 9.7312e-05 - val_accuracy: 1.0000\n",
            "Epoch 30/1000\n",
            "12/12 [==============================] - 4s 369ms/step - loss: 1.2776e-04 - accuracy: 1.0000 - val_loss: 9.2474e-05 - val_accuracy: 1.0000\n",
            "Epoch 31/1000\n",
            "12/12 [==============================] - 4s 366ms/step - loss: 1.1664e-04 - accuracy: 1.0000 - val_loss: 8.7835e-05 - val_accuracy: 1.0000\n",
            "Epoch 32/1000\n",
            "12/12 [==============================] - 4s 368ms/step - loss: 1.1312e-04 - accuracy: 1.0000 - val_loss: 8.3374e-05 - val_accuracy: 1.0000\n",
            "Epoch 33/1000\n",
            "12/12 [==============================] - 4s 367ms/step - loss: 1.0525e-04 - accuracy: 1.0000 - val_loss: 7.9337e-05 - val_accuracy: 1.0000\n",
            "Epoch 34/1000\n",
            "12/12 [==============================] - 4s 369ms/step - loss: 1.0081e-04 - accuracy: 1.0000 - val_loss: 7.6259e-05 - val_accuracy: 1.0000\n",
            "Epoch 35/1000\n",
            "12/12 [==============================] - 4s 369ms/step - loss: 9.6981e-05 - accuracy: 1.0000 - val_loss: 7.3159e-05 - val_accuracy: 1.0000\n",
            "Epoch 36/1000\n",
            "12/12 [==============================] - 4s 368ms/step - loss: 9.2691e-05 - accuracy: 1.0000 - val_loss: 6.9933e-05 - val_accuracy: 1.0000\n",
            "Epoch 37/1000\n",
            "12/12 [==============================] - 4s 370ms/step - loss: 8.7818e-05 - accuracy: 1.0000 - val_loss: 6.7277e-05 - val_accuracy: 1.0000\n",
            "Epoch 38/1000\n",
            "12/12 [==============================] - 4s 368ms/step - loss: 8.5321e-05 - accuracy: 1.0000 - val_loss: 6.4531e-05 - val_accuracy: 1.0000\n",
            "Epoch 39/1000\n",
            "12/12 [==============================] - 4s 367ms/step - loss: 8.5664e-05 - accuracy: 1.0000 - val_loss: 6.1924e-05 - val_accuracy: 1.0000\n",
            "Epoch 40/1000\n",
            "12/12 [==============================] - 4s 369ms/step - loss: 7.7014e-05 - accuracy: 1.0000 - val_loss: 5.9888e-05 - val_accuracy: 1.0000\n",
            "Epoch 41/1000\n",
            "12/12 [==============================] - 4s 369ms/step - loss: 7.5003e-05 - accuracy: 1.0000 - val_loss: 5.7729e-05 - val_accuracy: 1.0000\n",
            "Epoch 42/1000\n",
            "12/12 [==============================] - 4s 367ms/step - loss: 7.1652e-05 - accuracy: 1.0000 - val_loss: 5.5583e-05 - val_accuracy: 1.0000\n",
            "Epoch 43/1000\n",
            "12/12 [==============================] - 4s 368ms/step - loss: 7.0308e-05 - accuracy: 1.0000 - val_loss: 5.3542e-05 - val_accuracy: 1.0000\n",
            "Epoch 44/1000\n",
            "12/12 [==============================] - 4s 367ms/step - loss: 6.8437e-05 - accuracy: 1.0000 - val_loss: 5.1607e-05 - val_accuracy: 1.0000\n",
            "Epoch 45/1000\n",
            "12/12 [==============================] - 4s 367ms/step - loss: 6.8541e-05 - accuracy: 1.0000 - val_loss: 4.9944e-05 - val_accuracy: 1.0000\n",
            "Epoch 46/1000\n",
            "12/12 [==============================] - 4s 367ms/step - loss: 6.4113e-05 - accuracy: 1.0000 - val_loss: 4.8205e-05 - val_accuracy: 1.0000\n",
            "Epoch 47/1000\n",
            "12/12 [==============================] - 4s 367ms/step - loss: 5.8706e-05 - accuracy: 1.0000 - val_loss: 4.6591e-05 - val_accuracy: 1.0000\n",
            "Epoch 48/1000\n",
            "12/12 [==============================] - 4s 367ms/step - loss: 5.5755e-05 - accuracy: 1.0000 - val_loss: 4.5119e-05 - val_accuracy: 1.0000\n",
            "Epoch 49/1000\n",
            "12/12 [==============================] - 4s 367ms/step - loss: 5.7263e-05 - accuracy: 1.0000 - val_loss: 4.3453e-05 - val_accuracy: 1.0000\n",
            "Epoch 50/1000\n",
            "12/12 [==============================] - 4s 367ms/step - loss: 5.3234e-05 - accuracy: 1.0000 - val_loss: 4.2202e-05 - val_accuracy: 1.0000\n",
            "Epoch 51/1000\n",
            "12/12 [==============================] - 4s 366ms/step - loss: 5.2416e-05 - accuracy: 1.0000 - val_loss: 4.0921e-05 - val_accuracy: 1.0000\n",
            "Epoch 52/1000\n",
            "12/12 [==============================] - 4s 367ms/step - loss: 5.2515e-05 - accuracy: 1.0000 - val_loss: 3.9499e-05 - val_accuracy: 1.0000\n",
            "Epoch 53/1000\n",
            "12/12 [==============================] - 4s 367ms/step - loss: 5.0407e-05 - accuracy: 1.0000 - val_loss: 3.8266e-05 - val_accuracy: 1.0000\n",
            "Epoch 54/1000\n",
            "12/12 [==============================] - 4s 366ms/step - loss: 4.8992e-05 - accuracy: 1.0000 - val_loss: 3.7316e-05 - val_accuracy: 1.0000\n",
            "Epoch 55/1000\n",
            "12/12 [==============================] - 4s 367ms/step - loss: 4.7972e-05 - accuracy: 1.0000 - val_loss: 3.6357e-05 - val_accuracy: 1.0000\n",
            "Epoch 56/1000\n",
            "12/12 [==============================] - 4s 367ms/step - loss: 4.7957e-05 - accuracy: 1.0000 - val_loss: 3.5312e-05 - val_accuracy: 1.0000\n",
            "Epoch 57/1000\n",
            "12/12 [==============================] - 4s 366ms/step - loss: 4.5432e-05 - accuracy: 1.0000 - val_loss: 3.4259e-05 - val_accuracy: 1.0000\n",
            "Epoch 58/1000\n",
            "12/12 [==============================] - 4s 368ms/step - loss: 4.4813e-05 - accuracy: 1.0000 - val_loss: 3.3190e-05 - val_accuracy: 1.0000\n",
            "Epoch 59/1000\n",
            "12/12 [==============================] - 4s 368ms/step - loss: 4.3821e-05 - accuracy: 1.0000 - val_loss: 3.2418e-05 - val_accuracy: 1.0000\n",
            "Epoch 60/1000\n",
            "12/12 [==============================] - 4s 366ms/step - loss: 4.1029e-05 - accuracy: 1.0000 - val_loss: 3.1513e-05 - val_accuracy: 1.0000\n",
            "Epoch 61/1000\n",
            "12/12 [==============================] - 4s 368ms/step - loss: 4.1506e-05 - accuracy: 1.0000 - val_loss: 3.0621e-05 - val_accuracy: 1.0000\n",
            "Epoch 62/1000\n",
            "12/12 [==============================] - 4s 369ms/step - loss: 3.8165e-05 - accuracy: 1.0000 - val_loss: 2.9746e-05 - val_accuracy: 1.0000\n",
            "Epoch 63/1000\n",
            "12/12 [==============================] - 4s 368ms/step - loss: 3.8745e-05 - accuracy: 1.0000 - val_loss: 2.9104e-05 - val_accuracy: 1.0000\n",
            "Epoch 64/1000\n",
            "12/12 [==============================] - 4s 368ms/step - loss: 3.6108e-05 - accuracy: 1.0000 - val_loss: 2.8407e-05 - val_accuracy: 1.0000\n",
            "Epoch 65/1000\n",
            "12/12 [==============================] - 4s 369ms/step - loss: 3.5852e-05 - accuracy: 1.0000 - val_loss: 2.7619e-05 - val_accuracy: 1.0000\n",
            "Epoch 66/1000\n",
            "12/12 [==============================] - 4s 368ms/step - loss: 3.5546e-05 - accuracy: 1.0000 - val_loss: 2.6876e-05 - val_accuracy: 1.0000\n",
            "Epoch 67/1000\n",
            "12/12 [==============================] - 4s 370ms/step - loss: 3.2972e-05 - accuracy: 1.0000 - val_loss: 2.6202e-05 - val_accuracy: 1.0000\n",
            "Epoch 68/1000\n",
            "12/12 [==============================] - 4s 367ms/step - loss: 3.5465e-05 - accuracy: 1.0000 - val_loss: 2.5643e-05 - val_accuracy: 1.0000\n",
            "Epoch 69/1000\n",
            "12/12 [==============================] - 4s 368ms/step - loss: 3.3204e-05 - accuracy: 1.0000 - val_loss: 2.4999e-05 - val_accuracy: 1.0000\n",
            "Epoch 70/1000\n",
            "12/12 [==============================] - 4s 369ms/step - loss: 3.1528e-05 - accuracy: 1.0000 - val_loss: 2.4363e-05 - val_accuracy: 1.0000\n",
            "Epoch 71/1000\n",
            "12/12 [==============================] - 4s 367ms/step - loss: 3.1475e-05 - accuracy: 1.0000 - val_loss: 2.3682e-05 - val_accuracy: 1.0000\n",
            "Epoch 72/1000\n",
            "12/12 [==============================] - 4s 365ms/step - loss: 2.9660e-05 - accuracy: 1.0000 - val_loss: 2.3247e-05 - val_accuracy: 1.0000\n",
            "Epoch 73/1000\n",
            "12/12 [==============================] - 4s 367ms/step - loss: 2.9008e-05 - accuracy: 1.0000 - val_loss: 2.2787e-05 - val_accuracy: 1.0000\n",
            "Epoch 74/1000\n",
            "12/12 [==============================] - 4s 367ms/step - loss: 2.8375e-05 - accuracy: 1.0000 - val_loss: 2.2243e-05 - val_accuracy: 1.0000\n",
            "Epoch 75/1000\n",
            "12/12 [==============================] - 4s 367ms/step - loss: 2.8678e-05 - accuracy: 1.0000 - val_loss: 2.1718e-05 - val_accuracy: 1.0000\n",
            "Epoch 76/1000\n",
            "12/12 [==============================] - 4s 367ms/step - loss: 2.6508e-05 - accuracy: 1.0000 - val_loss: 2.1177e-05 - val_accuracy: 1.0000\n",
            "Epoch 77/1000\n",
            "12/12 [==============================] - 4s 366ms/step - loss: 2.7201e-05 - accuracy: 1.0000 - val_loss: 2.0809e-05 - val_accuracy: 1.0000\n",
            "Epoch 78/1000\n",
            "12/12 [==============================] - 4s 365ms/step - loss: 2.7068e-05 - accuracy: 1.0000 - val_loss: 2.0356e-05 - val_accuracy: 1.0000\n",
            "Epoch 79/1000\n",
            "12/12 [==============================] - 4s 367ms/step - loss: 2.4371e-05 - accuracy: 1.0000 - val_loss: 1.9850e-05 - val_accuracy: 1.0000\n",
            "Epoch 80/1000\n",
            "12/12 [==============================] - 4s 367ms/step - loss: 2.5204e-05 - accuracy: 1.0000 - val_loss: 1.9479e-05 - val_accuracy: 1.0000\n",
            "Epoch 81/1000\n",
            "12/12 [==============================] - 4s 368ms/step - loss: 2.3471e-05 - accuracy: 1.0000 - val_loss: 1.9115e-05 - val_accuracy: 1.0000\n",
            "Epoch 82/1000\n",
            "12/12 [==============================] - 4s 367ms/step - loss: 2.3683e-05 - accuracy: 1.0000 - val_loss: 1.8743e-05 - val_accuracy: 1.0000\n",
            "Epoch 83/1000\n",
            "12/12 [==============================] - 4s 368ms/step - loss: 2.3180e-05 - accuracy: 1.0000 - val_loss: 1.8313e-05 - val_accuracy: 1.0000\n",
            "Epoch 84/1000\n",
            "12/12 [==============================] - 4s 366ms/step - loss: 2.3533e-05 - accuracy: 1.0000 - val_loss: 1.7975e-05 - val_accuracy: 1.0000\n",
            "Epoch 85/1000\n",
            "12/12 [==============================] - 4s 369ms/step - loss: 2.2865e-05 - accuracy: 1.0000 - val_loss: 1.7576e-05 - val_accuracy: 1.0000\n",
            "Epoch 86/1000\n",
            "12/12 [==============================] - 4s 367ms/step - loss: 2.2090e-05 - accuracy: 1.0000 - val_loss: 1.7194e-05 - val_accuracy: 1.0000\n",
            "Epoch 87/1000\n",
            "12/12 [==============================] - 4s 369ms/step - loss: 2.2357e-05 - accuracy: 1.0000 - val_loss: 1.6881e-05 - val_accuracy: 1.0000\n",
            "Epoch 88/1000\n",
            "12/12 [==============================] - 4s 371ms/step - loss: 2.1080e-05 - accuracy: 1.0000 - val_loss: 1.6563e-05 - val_accuracy: 1.0000\n",
            "Epoch 89/1000\n",
            "12/12 [==============================] - 4s 369ms/step - loss: 2.0431e-05 - accuracy: 1.0000 - val_loss: 1.6219e-05 - val_accuracy: 1.0000\n",
            "Epoch 90/1000\n",
            "12/12 [==============================] - 4s 369ms/step - loss: 2.1145e-05 - accuracy: 1.0000 - val_loss: 1.5972e-05 - val_accuracy: 1.0000\n",
            "Epoch 91/1000\n",
            "12/12 [==============================] - 4s 367ms/step - loss: 2.1491e-05 - accuracy: 1.0000 - val_loss: 1.5683e-05 - val_accuracy: 1.0000\n",
            "Epoch 92/1000\n",
            "12/12 [==============================] - 4s 365ms/step - loss: 2.0113e-05 - accuracy: 1.0000 - val_loss: 1.5371e-05 - val_accuracy: 1.0000\n",
            "Epoch 93/1000\n",
            "12/12 [==============================] - 4s 368ms/step - loss: 1.9794e-05 - accuracy: 1.0000 - val_loss: 1.5028e-05 - val_accuracy: 1.0000\n",
            "Epoch 94/1000\n",
            "12/12 [==============================] - 4s 369ms/step - loss: 1.9271e-05 - accuracy: 1.0000 - val_loss: 1.4765e-05 - val_accuracy: 1.0000\n",
            "Epoch 95/1000\n",
            "12/12 [==============================] - 4s 368ms/step - loss: 1.8018e-05 - accuracy: 1.0000 - val_loss: 1.4499e-05 - val_accuracy: 1.0000\n",
            "Epoch 96/1000\n",
            "12/12 [==============================] - 4s 367ms/step - loss: 1.9242e-05 - accuracy: 1.0000 - val_loss: 1.4256e-05 - val_accuracy: 1.0000\n",
            "Epoch 97/1000\n",
            "12/12 [==============================] - 4s 369ms/step - loss: 1.9208e-05 - accuracy: 1.0000 - val_loss: 1.4042e-05 - val_accuracy: 1.0000\n",
            "Epoch 98/1000\n",
            "12/12 [==============================] - 4s 366ms/step - loss: 1.6584e-05 - accuracy: 1.0000 - val_loss: 1.3793e-05 - val_accuracy: 1.0000\n",
            "Epoch 99/1000\n",
            "12/12 [==============================] - 4s 368ms/step - loss: 1.6334e-05 - accuracy: 1.0000 - val_loss: 1.3509e-05 - val_accuracy: 1.0000\n",
            "Epoch 100/1000\n",
            "12/12 [==============================] - 4s 367ms/step - loss: 1.7965e-05 - accuracy: 1.0000 - val_loss: 1.3238e-05 - val_accuracy: 1.0000\n",
            "Epoch 101/1000\n",
            "12/12 [==============================] - 4s 369ms/step - loss: 1.7211e-05 - accuracy: 1.0000 - val_loss: 1.2969e-05 - val_accuracy: 1.0000\n",
            "Epoch 102/1000\n",
            "12/12 [==============================] - 4s 368ms/step - loss: 1.5991e-05 - accuracy: 1.0000 - val_loss: 1.2777e-05 - val_accuracy: 1.0000\n",
            "Epoch 103/1000\n",
            "12/12 [==============================] - 4s 367ms/step - loss: 1.6385e-05 - accuracy: 1.0000 - val_loss: 1.2535e-05 - val_accuracy: 1.0000\n",
            "Epoch 104/1000\n",
            "12/12 [==============================] - 4s 368ms/step - loss: 1.6671e-05 - accuracy: 1.0000 - val_loss: 1.2294e-05 - val_accuracy: 1.0000\n",
            "Epoch 105/1000\n",
            "12/12 [==============================] - 4s 367ms/step - loss: 1.5753e-05 - accuracy: 1.0000 - val_loss: 1.2084e-05 - val_accuracy: 1.0000\n",
            "Epoch 106/1000\n",
            "12/12 [==============================] - 4s 368ms/step - loss: 1.5252e-05 - accuracy: 1.0000 - val_loss: 1.1904e-05 - val_accuracy: 1.0000\n",
            "Epoch 107/1000\n",
            "12/12 [==============================] - 4s 368ms/step - loss: 1.5854e-05 - accuracy: 1.0000 - val_loss: 1.1718e-05 - val_accuracy: 1.0000\n",
            "Epoch 108/1000\n",
            "12/12 [==============================] - 4s 368ms/step - loss: 1.4783e-05 - accuracy: 1.0000 - val_loss: 1.1522e-05 - val_accuracy: 1.0000\n",
            "Epoch 109/1000\n",
            "12/12 [==============================] - 4s 367ms/step - loss: 1.5311e-05 - accuracy: 1.0000 - val_loss: 1.1325e-05 - val_accuracy: 1.0000\n",
            "Epoch 110/1000\n",
            "12/12 [==============================] - 4s 370ms/step - loss: 1.4871e-05 - accuracy: 1.0000 - val_loss: 1.1166e-05 - val_accuracy: 1.0000\n",
            "Epoch 111/1000\n",
            "12/12 [==============================] - 4s 370ms/step - loss: 1.4291e-05 - accuracy: 1.0000 - val_loss: 1.0974e-05 - val_accuracy: 1.0000\n",
            "Epoch 112/1000\n",
            "12/12 [==============================] - 4s 370ms/step - loss: 1.4293e-05 - accuracy: 1.0000 - val_loss: 1.0788e-05 - val_accuracy: 1.0000\n",
            "Epoch 113/1000\n",
            "12/12 [==============================] - 4s 368ms/step - loss: 1.3462e-05 - accuracy: 1.0000 - val_loss: 1.0599e-05 - val_accuracy: 1.0000\n",
            "Epoch 114/1000\n",
            "12/12 [==============================] - 4s 369ms/step - loss: 1.3548e-05 - accuracy: 1.0000 - val_loss: 1.0407e-05 - val_accuracy: 1.0000\n",
            "Epoch 115/1000\n",
            "12/12 [==============================] - 4s 369ms/step - loss: 1.3189e-05 - accuracy: 1.0000 - val_loss: 1.0283e-05 - val_accuracy: 1.0000\n",
            "Epoch 116/1000\n",
            "12/12 [==============================] - 4s 367ms/step - loss: 1.3161e-05 - accuracy: 1.0000 - val_loss: 1.0124e-05 - val_accuracy: 1.0000\n",
            "Epoch 117/1000\n",
            "12/12 [==============================] - 4s 367ms/step - loss: 1.2977e-05 - accuracy: 1.0000 - val_loss: 9.9585e-06 - val_accuracy: 1.0000\n",
            "Epoch 118/1000\n",
            "12/12 [==============================] - 4s 369ms/step - loss: 1.2370e-05 - accuracy: 1.0000 - val_loss: 9.7955e-06 - val_accuracy: 1.0000\n",
            "Epoch 119/1000\n",
            "12/12 [==============================] - 4s 367ms/step - loss: 1.2384e-05 - accuracy: 1.0000 - val_loss: 9.6912e-06 - val_accuracy: 1.0000\n",
            "Epoch 120/1000\n",
            "12/12 [==============================] - 4s 368ms/step - loss: 1.2159e-05 - accuracy: 1.0000 - val_loss: 9.5571e-06 - val_accuracy: 1.0000\n",
            "Epoch 121/1000\n",
            "12/12 [==============================] - 4s 369ms/step - loss: 1.2339e-05 - accuracy: 1.0000 - val_loss: 9.3960e-06 - val_accuracy: 1.0000\n",
            "Epoch 122/1000\n",
            "12/12 [==============================] - 4s 368ms/step - loss: 1.1886e-05 - accuracy: 1.0000 - val_loss: 9.2563e-06 - val_accuracy: 1.0000\n",
            "Epoch 123/1000\n",
            "12/12 [==============================] - 4s 368ms/step - loss: 1.1608e-05 - accuracy: 1.0000 - val_loss: 9.1026e-06 - val_accuracy: 1.0000\n",
            "Epoch 124/1000\n",
            "12/12 [==============================] - 4s 368ms/step - loss: 1.1552e-05 - accuracy: 1.0000 - val_loss: 8.9610e-06 - val_accuracy: 1.0000\n",
            "Epoch 125/1000\n",
            "12/12 [==============================] - 4s 366ms/step - loss: 1.1928e-05 - accuracy: 1.0000 - val_loss: 8.8633e-06 - val_accuracy: 1.0000\n",
            "Epoch 126/1000\n",
            "12/12 [==============================] - 4s 368ms/step - loss: 1.0825e-05 - accuracy: 1.0000 - val_loss: 8.7273e-06 - val_accuracy: 1.0000\n",
            "Epoch 127/1000\n",
            "12/12 [==============================] - 4s 366ms/step - loss: 1.2016e-05 - accuracy: 1.0000 - val_loss: 8.5876e-06 - val_accuracy: 1.0000\n",
            "Epoch 128/1000\n",
            "12/12 [==============================] - 4s 367ms/step - loss: 1.1249e-05 - accuracy: 1.0000 - val_loss: 8.4414e-06 - val_accuracy: 1.0000\n",
            "Epoch 129/1000\n",
            "12/12 [==============================] - 4s 369ms/step - loss: 1.1374e-05 - accuracy: 1.0000 - val_loss: 8.2859e-06 - val_accuracy: 1.0000\n",
            "Epoch 130/1000\n",
            "12/12 [==============================] - 4s 367ms/step - loss: 1.0608e-05 - accuracy: 1.0000 - val_loss: 8.1871e-06 - val_accuracy: 1.0000\n",
            "Epoch 131/1000\n",
            "12/12 [==============================] - 4s 366ms/step - loss: 1.0535e-05 - accuracy: 1.0000 - val_loss: 8.0614e-06 - val_accuracy: 1.0000\n",
            "Epoch 132/1000\n",
            "12/12 [==============================] - 4s 366ms/step - loss: 1.0136e-05 - accuracy: 1.0000 - val_loss: 7.9376e-06 - val_accuracy: 1.0000\n",
            "Epoch 133/1000\n",
            "12/12 [==============================] - 4s 368ms/step - loss: 1.0558e-05 - accuracy: 1.0000 - val_loss: 7.8100e-06 - val_accuracy: 1.0000\n",
            "Epoch 134/1000\n",
            "12/12 [==============================] - 4s 369ms/step - loss: 9.8753e-06 - accuracy: 1.0000 - val_loss: 7.7150e-06 - val_accuracy: 1.0000\n",
            "Epoch 135/1000\n",
            "12/12 [==============================] - 4s 369ms/step - loss: 9.5512e-06 - accuracy: 1.0000 - val_loss: 7.5920e-06 - val_accuracy: 1.0000\n",
            "Epoch 136/1000\n",
            "12/12 [==============================] - 4s 368ms/step - loss: 9.9384e-06 - accuracy: 1.0000 - val_loss: 7.4905e-06 - val_accuracy: 1.0000\n",
            "Epoch 137/1000\n",
            "12/12 [==============================] - 4s 369ms/step - loss: 1.0050e-05 - accuracy: 1.0000 - val_loss: 7.3872e-06 - val_accuracy: 1.0000\n",
            "Epoch 138/1000\n",
            "12/12 [==============================] - 4s 368ms/step - loss: 9.6390e-06 - accuracy: 1.0000 - val_loss: 7.3061e-06 - val_accuracy: 1.0000\n",
            "Epoch 139/1000\n",
            "12/12 [==============================] - 4s 369ms/step - loss: 9.9105e-06 - accuracy: 1.0000 - val_loss: 7.2028e-06 - val_accuracy: 1.0000\n",
            "Epoch 140/1000\n",
            "12/12 [==============================] - 4s 369ms/step - loss: 9.3734e-06 - accuracy: 1.0000 - val_loss: 7.0975e-06 - val_accuracy: 1.0000\n",
            "Epoch 141/1000\n",
            "12/12 [==============================] - 4s 369ms/step - loss: 9.1373e-06 - accuracy: 1.0000 - val_loss: 6.9830e-06 - val_accuracy: 1.0000\n",
            "Epoch 142/1000\n",
            "12/12 [==============================] - 4s 367ms/step - loss: 8.5655e-06 - accuracy: 1.0000 - val_loss: 6.9010e-06 - val_accuracy: 1.0000\n",
            "Epoch 143/1000\n",
            "12/12 [==============================] - 4s 367ms/step - loss: 8.5654e-06 - accuracy: 1.0000 - val_loss: 6.8023e-06 - val_accuracy: 1.0000\n",
            "Epoch 144/1000\n",
            "12/12 [==============================] - 4s 368ms/step - loss: 8.6698e-06 - accuracy: 1.0000 - val_loss: 6.7036e-06 - val_accuracy: 1.0000\n",
            "Epoch 145/1000\n",
            "12/12 [==============================] - 4s 368ms/step - loss: 8.7941e-06 - accuracy: 1.0000 - val_loss: 6.6291e-06 - val_accuracy: 1.0000\n",
            "Epoch 146/1000\n",
            "12/12 [==============================] - 4s 367ms/step - loss: 8.5322e-06 - accuracy: 1.0000 - val_loss: 6.5360e-06 - val_accuracy: 1.0000\n",
            "Epoch 147/1000\n",
            "12/12 [==============================] - 4s 367ms/step - loss: 8.5359e-06 - accuracy: 1.0000 - val_loss: 6.4689e-06 - val_accuracy: 1.0000\n",
            "Epoch 148/1000\n",
            "12/12 [==============================] - 4s 368ms/step - loss: 8.5777e-06 - accuracy: 1.0000 - val_loss: 6.3814e-06 - val_accuracy: 1.0000\n",
            "Epoch 149/1000\n",
            "12/12 [==============================] - 4s 367ms/step - loss: 8.0118e-06 - accuracy: 1.0000 - val_loss: 6.2919e-06 - val_accuracy: 1.0000\n",
            "Epoch 150/1000\n",
            "12/12 [==============================] - 4s 369ms/step - loss: 8.2138e-06 - accuracy: 1.0000 - val_loss: 6.2007e-06 - val_accuracy: 1.0000\n",
            "Epoch 151/1000\n",
            "12/12 [==============================] - 4s 368ms/step - loss: 7.9068e-06 - accuracy: 1.0000 - val_loss: 6.1076e-06 - val_accuracy: 1.0000\n",
            "Epoch 152/1000\n",
            "12/12 [==============================] - 4s 368ms/step - loss: 8.0170e-06 - accuracy: 1.0000 - val_loss: 6.0498e-06 - val_accuracy: 1.0000\n",
            "Epoch 153/1000\n",
            "12/12 [==============================] - 4s 368ms/step - loss: 8.2942e-06 - accuracy: 1.0000 - val_loss: 5.9762e-06 - val_accuracy: 1.0000\n",
            "Epoch 154/1000\n",
            "12/12 [==============================] - 4s 368ms/step - loss: 7.5944e-06 - accuracy: 1.0000 - val_loss: 5.8915e-06 - val_accuracy: 1.0000\n",
            "Epoch 155/1000\n",
            "12/12 [==============================] - 4s 368ms/step - loss: 7.4200e-06 - accuracy: 1.0000 - val_loss: 5.7984e-06 - val_accuracy: 1.0000\n",
            "Epoch 156/1000\n",
            "12/12 [==============================] - 4s 368ms/step - loss: 7.4431e-06 - accuracy: 1.0000 - val_loss: 5.7397e-06 - val_accuracy: 1.0000\n",
            "Epoch 157/1000\n",
            "12/12 [==============================] - 4s 368ms/step - loss: 7.5445e-06 - accuracy: 1.0000 - val_loss: 5.6587e-06 - val_accuracy: 1.0000\n",
            "Epoch 158/1000\n",
            "12/12 [==============================] - 4s 369ms/step - loss: 7.5620e-06 - accuracy: 1.0000 - val_loss: 5.6084e-06 - val_accuracy: 1.0000\n",
            "Epoch 159/1000\n",
            "12/12 [==============================] - 4s 369ms/step - loss: 7.0488e-06 - accuracy: 1.0000 - val_loss: 5.5404e-06 - val_accuracy: 1.0000\n",
            "Epoch 160/1000\n",
            "12/12 [==============================] - 4s 368ms/step - loss: 7.3467e-06 - accuracy: 1.0000 - val_loss: 5.4631e-06 - val_accuracy: 1.0000\n",
            "Epoch 161/1000\n",
            "12/12 [==============================] - 4s 366ms/step - loss: 7.2315e-06 - accuracy: 1.0000 - val_loss: 5.3858e-06 - val_accuracy: 1.0000\n",
            "Epoch 162/1000\n",
            "12/12 [==============================] - 4s 369ms/step - loss: 6.6738e-06 - accuracy: 1.0000 - val_loss: 5.3327e-06 - val_accuracy: 1.0000\n",
            "Epoch 163/1000\n",
            "12/12 [==============================] - 4s 369ms/step - loss: 6.9313e-06 - accuracy: 1.0000 - val_loss: 5.2666e-06 - val_accuracy: 1.0000\n",
            "Epoch 164/1000\n",
            "12/12 [==============================] - 4s 369ms/step - loss: 6.5482e-06 - accuracy: 1.0000 - val_loss: 5.1958e-06 - val_accuracy: 1.0000\n",
            "Epoch 165/1000\n",
            "12/12 [==============================] - 4s 370ms/step - loss: 7.0946e-06 - accuracy: 1.0000 - val_loss: 5.1353e-06 - val_accuracy: 1.0000\n",
            "Epoch 166/1000\n",
            "12/12 [==============================] - 4s 368ms/step - loss: 6.7356e-06 - accuracy: 1.0000 - val_loss: 5.0580e-06 - val_accuracy: 1.0000\n",
            "Epoch 167/1000\n",
            "12/12 [==============================] - 4s 369ms/step - loss: 6.4049e-06 - accuracy: 1.0000 - val_loss: 4.9797e-06 - val_accuracy: 1.0000\n",
            "Epoch 168/1000\n",
            "12/12 [==============================] - 4s 368ms/step - loss: 6.7041e-06 - accuracy: 1.0000 - val_loss: 4.9462e-06 - val_accuracy: 1.0000\n",
            "Epoch 169/1000\n",
            "12/12 [==============================] - 4s 367ms/step - loss: 6.5784e-06 - accuracy: 1.0000 - val_loss: 4.8894e-06 - val_accuracy: 1.0000\n",
            "Epoch 170/1000\n",
            "12/12 [==============================] - 4s 366ms/step - loss: 6.6549e-06 - accuracy: 1.0000 - val_loss: 4.8466e-06 - val_accuracy: 1.0000\n",
            "Epoch 171/1000\n",
            "12/12 [==============================] - 4s 368ms/step - loss: 6.2487e-06 - accuracy: 1.0000 - val_loss: 4.7870e-06 - val_accuracy: 1.0000\n",
            "Epoch 172/1000\n",
            "12/12 [==============================] - 4s 368ms/step - loss: 6.0831e-06 - accuracy: 1.0000 - val_loss: 4.7143e-06 - val_accuracy: 1.0000\n",
            "Epoch 173/1000\n",
            "12/12 [==============================] - 4s 368ms/step - loss: 5.9674e-06 - accuracy: 1.0000 - val_loss: 4.6705e-06 - val_accuracy: 1.0000\n",
            "Epoch 174/1000\n",
            "12/12 [==============================] - 4s 368ms/step - loss: 5.8682e-06 - accuracy: 1.0000 - val_loss: 4.6035e-06 - val_accuracy: 1.0000\n",
            "Epoch 175/1000\n",
            "12/12 [==============================] - 4s 366ms/step - loss: 6.0615e-06 - accuracy: 1.0000 - val_loss: 4.5495e-06 - val_accuracy: 1.0000\n",
            "Epoch 176/1000\n",
            "12/12 [==============================] - 4s 366ms/step - loss: 5.8026e-06 - accuracy: 1.0000 - val_loss: 4.5104e-06 - val_accuracy: 1.0000\n",
            "Epoch 177/1000\n",
            "12/12 [==============================] - 4s 368ms/step - loss: 5.7690e-06 - accuracy: 1.0000 - val_loss: 4.4591e-06 - val_accuracy: 1.0000\n",
            "Epoch 178/1000\n",
            "12/12 [==============================] - 4s 368ms/step - loss: 5.5240e-06 - accuracy: 1.0000 - val_loss: 4.4154e-06 - val_accuracy: 1.0000\n",
            "Epoch 179/1000\n",
            "12/12 [==============================] - 4s 369ms/step - loss: 5.8273e-06 - accuracy: 1.0000 - val_loss: 4.3623e-06 - val_accuracy: 1.0000\n",
            "Epoch 180/1000\n",
            "12/12 [==============================] - 4s 366ms/step - loss: 5.5526e-06 - accuracy: 1.0000 - val_loss: 4.3166e-06 - val_accuracy: 1.0000\n",
            "Epoch 181/1000\n",
            "12/12 [==============================] - 4s 367ms/step - loss: 5.8503e-06 - accuracy: 1.0000 - val_loss: 4.2738e-06 - val_accuracy: 1.0000\n",
            "Epoch 182/1000\n",
            "12/12 [==============================] - 4s 367ms/step - loss: 5.5300e-06 - accuracy: 1.0000 - val_loss: 4.2217e-06 - val_accuracy: 1.0000\n",
            "Epoch 183/1000\n",
            "12/12 [==============================] - 4s 368ms/step - loss: 5.4823e-06 - accuracy: 1.0000 - val_loss: 4.1900e-06 - val_accuracy: 1.0000\n",
            "Epoch 184/1000\n",
            "12/12 [==============================] - 4s 367ms/step - loss: 5.2009e-06 - accuracy: 1.0000 - val_loss: 4.1490e-06 - val_accuracy: 1.0000\n",
            "Epoch 185/1000\n",
            "12/12 [==============================] - 4s 369ms/step - loss: 5.2443e-06 - accuracy: 1.0000 - val_loss: 4.0922e-06 - val_accuracy: 1.0000\n",
            "Epoch 186/1000\n",
            "12/12 [==============================] - 4s 369ms/step - loss: 5.0689e-06 - accuracy: 1.0000 - val_loss: 4.0410e-06 - val_accuracy: 1.0000\n",
            "Epoch 187/1000\n",
            "12/12 [==============================] - 4s 370ms/step - loss: 5.3009e-06 - accuracy: 1.0000 - val_loss: 3.9786e-06 - val_accuracy: 1.0000\n",
            "Epoch 188/1000\n",
            "12/12 [==============================] - 4s 367ms/step - loss: 5.2774e-06 - accuracy: 1.0000 - val_loss: 3.9367e-06 - val_accuracy: 1.0000\n",
            "Epoch 189/1000\n",
            "12/12 [==============================] - 4s 369ms/step - loss: 5.0593e-06 - accuracy: 1.0000 - val_loss: 3.8882e-06 - val_accuracy: 1.0000\n",
            "Epoch 190/1000\n",
            "12/12 [==============================] - 4s 368ms/step - loss: 5.3094e-06 - accuracy: 1.0000 - val_loss: 3.8529e-06 - val_accuracy: 1.0000\n",
            "Epoch 191/1000\n",
            "12/12 [==============================] - 4s 368ms/step - loss: 4.7235e-06 - accuracy: 1.0000 - val_loss: 3.8119e-06 - val_accuracy: 1.0000\n",
            "Epoch 192/1000\n",
            "12/12 [==============================] - 4s 368ms/step - loss: 5.0180e-06 - accuracy: 1.0000 - val_loss: 3.7616e-06 - val_accuracy: 1.0000\n",
            "Epoch 193/1000\n",
            "12/12 [==============================] - 4s 370ms/step - loss: 5.2075e-06 - accuracy: 1.0000 - val_loss: 3.7234e-06 - val_accuracy: 1.0000\n",
            "Epoch 194/1000\n",
            "12/12 [==============================] - 4s 367ms/step - loss: 4.7385e-06 - accuracy: 1.0000 - val_loss: 3.6862e-06 - val_accuracy: 1.0000\n",
            "Epoch 195/1000\n",
            "12/12 [==============================] - 4s 370ms/step - loss: 4.7865e-06 - accuracy: 1.0000 - val_loss: 3.6377e-06 - val_accuracy: 1.0000\n",
            "Epoch 196/1000\n",
            "12/12 [==============================] - 4s 369ms/step - loss: 4.5768e-06 - accuracy: 1.0000 - val_loss: 3.6051e-06 - val_accuracy: 1.0000\n",
            "Epoch 197/1000\n",
            "12/12 [==============================] - 4s 369ms/step - loss: 4.7549e-06 - accuracy: 1.0000 - val_loss: 3.5632e-06 - val_accuracy: 1.0000\n",
            "Epoch 198/1000\n",
            "12/12 [==============================] - 4s 367ms/step - loss: 4.8720e-06 - accuracy: 1.0000 - val_loss: 3.5297e-06 - val_accuracy: 1.0000\n",
            "Epoch 199/1000\n",
            "12/12 [==============================] - 4s 366ms/step - loss: 4.6313e-06 - accuracy: 1.0000 - val_loss: 3.4859e-06 - val_accuracy: 1.0000\n",
            "Epoch 200/1000\n",
            "12/12 [==============================] - 4s 369ms/step - loss: 4.2225e-06 - accuracy: 1.0000 - val_loss: 3.4636e-06 - val_accuracy: 1.0000\n",
            "Epoch 201/1000\n",
            "12/12 [==============================] - 4s 367ms/step - loss: 4.7536e-06 - accuracy: 1.0000 - val_loss: 3.4207e-06 - val_accuracy: 1.0000\n",
            "Epoch 202/1000\n",
            "12/12 [==============================] - 4s 366ms/step - loss: 4.3490e-06 - accuracy: 1.0000 - val_loss: 3.3844e-06 - val_accuracy: 1.0000\n",
            "Epoch 203/1000\n",
            "12/12 [==============================] - 4s 368ms/step - loss: 4.3607e-06 - accuracy: 1.0000 - val_loss: 3.3481e-06 - val_accuracy: 1.0000\n",
            "Epoch 204/1000\n",
            "12/12 [==============================] - 4s 367ms/step - loss: 4.4705e-06 - accuracy: 1.0000 - val_loss: 3.3136e-06 - val_accuracy: 1.0000\n",
            "Epoch 205/1000\n",
            "12/12 [==============================] - 4s 367ms/step - loss: 4.3439e-06 - accuracy: 1.0000 - val_loss: 3.2792e-06 - val_accuracy: 1.0000\n",
            "Epoch 206/1000\n",
            "12/12 [==============================] - 4s 368ms/step - loss: 4.2432e-06 - accuracy: 1.0000 - val_loss: 3.2494e-06 - val_accuracy: 1.0000\n",
            "Epoch 207/1000\n",
            "12/12 [==============================] - 4s 368ms/step - loss: 4.1929e-06 - accuracy: 1.0000 - val_loss: 3.2084e-06 - val_accuracy: 1.0000\n",
            "Epoch 208/1000\n",
            "12/12 [==============================] - 4s 368ms/step - loss: 4.1302e-06 - accuracy: 1.0000 - val_loss: 3.1711e-06 - val_accuracy: 1.0000\n",
            "Epoch 209/1000\n",
            "12/12 [==============================] - 4s 369ms/step - loss: 4.1715e-06 - accuracy: 1.0000 - val_loss: 3.1385e-06 - val_accuracy: 1.0000\n",
            "Epoch 210/1000\n",
            "12/12 [==============================] - 4s 368ms/step - loss: 4.2922e-06 - accuracy: 1.0000 - val_loss: 3.1078e-06 - val_accuracy: 1.0000\n",
            "Epoch 211/1000\n",
            "12/12 [==============================] - 4s 368ms/step - loss: 4.3522e-06 - accuracy: 1.0000 - val_loss: 3.0780e-06 - val_accuracy: 1.0000\n",
            "Epoch 212/1000\n",
            "12/12 [==============================] - 4s 368ms/step - loss: 4.1173e-06 - accuracy: 1.0000 - val_loss: 3.0491e-06 - val_accuracy: 1.0000\n",
            "Epoch 213/1000\n",
            "12/12 [==============================] - 4s 367ms/step - loss: 4.1246e-06 - accuracy: 1.0000 - val_loss: 3.0212e-06 - val_accuracy: 1.0000\n",
            "Epoch 214/1000\n",
            "12/12 [==============================] - 4s 368ms/step - loss: 4.0018e-06 - accuracy: 1.0000 - val_loss: 2.9877e-06 - val_accuracy: 1.0000\n",
            "Epoch 215/1000\n",
            "12/12 [==============================] - 4s 368ms/step - loss: 3.9657e-06 - accuracy: 1.0000 - val_loss: 2.9625e-06 - val_accuracy: 1.0000\n",
            "Epoch 216/1000\n",
            "12/12 [==============================] - 4s 368ms/step - loss: 3.9171e-06 - accuracy: 1.0000 - val_loss: 2.9337e-06 - val_accuracy: 1.0000\n",
            "Epoch 217/1000\n",
            "12/12 [==============================] - 4s 367ms/step - loss: 3.7436e-06 - accuracy: 1.0000 - val_loss: 2.8964e-06 - val_accuracy: 1.0000\n",
            "Epoch 218/1000\n",
            "12/12 [==============================] - 4s 369ms/step - loss: 3.7886e-06 - accuracy: 1.0000 - val_loss: 2.8657e-06 - val_accuracy: 1.0000\n",
            "Epoch 219/1000\n",
            "12/12 [==============================] - 4s 369ms/step - loss: 3.8556e-06 - accuracy: 1.0000 - val_loss: 2.8387e-06 - val_accuracy: 1.0000\n",
            "Epoch 220/1000\n",
            "12/12 [==============================] - 4s 367ms/step - loss: 3.8892e-06 - accuracy: 1.0000 - val_loss: 2.8117e-06 - val_accuracy: 1.0000\n",
            "Epoch 221/1000\n",
            "12/12 [==============================] - 4s 369ms/step - loss: 3.6776e-06 - accuracy: 1.0000 - val_loss: 2.7818e-06 - val_accuracy: 1.0000\n",
            "Epoch 222/1000\n",
            "12/12 [==============================] - 4s 369ms/step - loss: 3.6074e-06 - accuracy: 1.0000 - val_loss: 2.7530e-06 - val_accuracy: 1.0000\n",
            "Epoch 223/1000\n",
            "12/12 [==============================] - 4s 368ms/step - loss: 3.5309e-06 - accuracy: 1.0000 - val_loss: 2.7241e-06 - val_accuracy: 1.0000\n",
            "Epoch 224/1000\n",
            "12/12 [==============================] - 4s 368ms/step - loss: 3.6982e-06 - accuracy: 1.0000 - val_loss: 2.6943e-06 - val_accuracy: 1.0000\n",
            "Epoch 225/1000\n",
            "12/12 [==============================] - 4s 367ms/step - loss: 3.5604e-06 - accuracy: 1.0000 - val_loss: 2.6738e-06 - val_accuracy: 1.0000\n",
            "Epoch 226/1000\n",
            "12/12 [==============================] - 4s 369ms/step - loss: 3.4702e-06 - accuracy: 1.0000 - val_loss: 2.6515e-06 - val_accuracy: 1.0000\n",
            "Epoch 227/1000\n",
            "12/12 [==============================] - 4s 368ms/step - loss: 3.4983e-06 - accuracy: 1.0000 - val_loss: 2.6300e-06 - val_accuracy: 1.0000\n",
            "Epoch 228/1000\n",
            "12/12 [==============================] - 4s 369ms/step - loss: 3.4644e-06 - accuracy: 1.0000 - val_loss: 2.5984e-06 - val_accuracy: 1.0000\n",
            "Epoch 229/1000\n",
            "12/12 [==============================] - 4s 368ms/step - loss: 3.6206e-06 - accuracy: 1.0000 - val_loss: 2.5798e-06 - val_accuracy: 1.0000\n",
            "Epoch 230/1000\n",
            "12/12 [==============================] - 4s 368ms/step - loss: 3.2465e-06 - accuracy: 1.0000 - val_loss: 2.5593e-06 - val_accuracy: 1.0000\n",
            "Epoch 231/1000\n",
            "12/12 [==============================] - 4s 370ms/step - loss: 3.3006e-06 - accuracy: 1.0000 - val_loss: 2.5341e-06 - val_accuracy: 1.0000\n",
            "Epoch 232/1000\n",
            "12/12 [==============================] - 4s 371ms/step - loss: 3.2746e-06 - accuracy: 1.0000 - val_loss: 2.5136e-06 - val_accuracy: 1.0000\n",
            "Epoch 233/1000\n",
            "12/12 [==============================] - 4s 369ms/step - loss: 3.3169e-06 - accuracy: 1.0000 - val_loss: 2.4913e-06 - val_accuracy: 1.0000\n",
            "Epoch 234/1000\n",
            "12/12 [==============================] - 4s 369ms/step - loss: 3.3609e-06 - accuracy: 1.0000 - val_loss: 2.4661e-06 - val_accuracy: 1.0000\n",
            "Epoch 235/1000\n",
            "12/12 [==============================] - 4s 369ms/step - loss: 3.1677e-06 - accuracy: 1.0000 - val_loss: 2.4410e-06 - val_accuracy: 1.0000\n",
            "Epoch 236/1000\n",
            "12/12 [==============================] - 4s 367ms/step - loss: 3.2728e-06 - accuracy: 1.0000 - val_loss: 2.4121e-06 - val_accuracy: 1.0000\n",
            "Epoch 237/1000\n",
            "12/12 [==============================] - 4s 369ms/step - loss: 3.0968e-06 - accuracy: 1.0000 - val_loss: 2.3944e-06 - val_accuracy: 1.0000\n",
            "Epoch 238/1000\n",
            "12/12 [==============================] - 4s 370ms/step - loss: 3.1618e-06 - accuracy: 1.0000 - val_loss: 2.3683e-06 - val_accuracy: 1.0000\n",
            "Epoch 239/1000\n",
            "12/12 [==============================] - 4s 368ms/step - loss: 3.0677e-06 - accuracy: 1.0000 - val_loss: 2.3497e-06 - val_accuracy: 1.0000\n",
            "Epoch 240/1000\n",
            "12/12 [==============================] - 4s 367ms/step - loss: 3.1851e-06 - accuracy: 1.0000 - val_loss: 2.3162e-06 - val_accuracy: 1.0000\n",
            "Epoch 241/1000\n",
            "12/12 [==============================] - 4s 367ms/step - loss: 3.1907e-06 - accuracy: 1.0000 - val_loss: 2.3013e-06 - val_accuracy: 1.0000\n",
            "Epoch 242/1000\n",
            "12/12 [==============================] - 4s 369ms/step - loss: 3.0301e-06 - accuracy: 1.0000 - val_loss: 2.2752e-06 - val_accuracy: 1.0000\n",
            "Epoch 243/1000\n",
            "12/12 [==============================] - 4s 368ms/step - loss: 2.8650e-06 - accuracy: 1.0000 - val_loss: 2.2519e-06 - val_accuracy: 1.0000\n",
            "Epoch 244/1000\n",
            "12/12 [==============================] - 4s 368ms/step - loss: 2.9323e-06 - accuracy: 1.0000 - val_loss: 2.2240e-06 - val_accuracy: 1.0000\n",
            "Epoch 245/1000\n",
            "12/12 [==============================] - 4s 368ms/step - loss: 2.9093e-06 - accuracy: 1.0000 - val_loss: 2.2072e-06 - val_accuracy: 1.0000\n",
            "Epoch 246/1000\n",
            "12/12 [==============================] - 4s 367ms/step - loss: 2.9710e-06 - accuracy: 1.0000 - val_loss: 2.1867e-06 - val_accuracy: 1.0000\n",
            "Epoch 247/1000\n",
            "12/12 [==============================] - 4s 368ms/step - loss: 2.8094e-06 - accuracy: 1.0000 - val_loss: 2.1709e-06 - val_accuracy: 1.0000\n",
            "Epoch 248/1000\n",
            "12/12 [==============================] - 4s 368ms/step - loss: 2.7780e-06 - accuracy: 1.0000 - val_loss: 2.1486e-06 - val_accuracy: 1.0000\n",
            "Epoch 249/1000\n",
            "12/12 [==============================] - 4s 367ms/step - loss: 2.9191e-06 - accuracy: 1.0000 - val_loss: 2.1281e-06 - val_accuracy: 1.0000\n",
            "Epoch 250/1000\n",
            "12/12 [==============================] - 4s 370ms/step - loss: 2.8594e-06 - accuracy: 1.0000 - val_loss: 2.1113e-06 - val_accuracy: 1.0000\n",
            "Epoch 251/1000\n",
            "12/12 [==============================] - 4s 368ms/step - loss: 2.7897e-06 - accuracy: 1.0000 - val_loss: 2.0964e-06 - val_accuracy: 1.0000\n",
            "Epoch 252/1000\n",
            "12/12 [==============================] - 4s 368ms/step - loss: 2.7956e-06 - accuracy: 1.0000 - val_loss: 2.0713e-06 - val_accuracy: 1.0000\n",
            "Epoch 253/1000\n",
            "12/12 [==============================] - 4s 370ms/step - loss: 2.7975e-06 - accuracy: 1.0000 - val_loss: 2.0582e-06 - val_accuracy: 1.0000\n",
            "Epoch 254/1000\n",
            "12/12 [==============================] - 4s 367ms/step - loss: 2.6121e-06 - accuracy: 1.0000 - val_loss: 2.0377e-06 - val_accuracy: 1.0000\n",
            "Epoch 255/1000\n",
            "12/12 [==============================] - 4s 368ms/step - loss: 2.6384e-06 - accuracy: 1.0000 - val_loss: 2.0182e-06 - val_accuracy: 1.0000\n",
            "Epoch 256/1000\n",
            "12/12 [==============================] - 4s 368ms/step - loss: 2.5985e-06 - accuracy: 1.0000 - val_loss: 2.0033e-06 - val_accuracy: 1.0000\n",
            "Epoch 257/1000\n",
            "12/12 [==============================] - 4s 367ms/step - loss: 2.6410e-06 - accuracy: 1.0000 - val_loss: 1.9781e-06 - val_accuracy: 1.0000\n",
            "Epoch 258/1000\n",
            "12/12 [==============================] - 4s 367ms/step - loss: 2.5767e-06 - accuracy: 1.0000 - val_loss: 1.9614e-06 - val_accuracy: 1.0000\n",
            "Epoch 259/1000\n",
            "12/12 [==============================] - 4s 371ms/step - loss: 2.4402e-06 - accuracy: 1.0000 - val_loss: 1.9455e-06 - val_accuracy: 1.0000\n",
            "Epoch 260/1000\n",
            "12/12 [==============================] - 4s 368ms/step - loss: 2.5764e-06 - accuracy: 1.0000 - val_loss: 1.9232e-06 - val_accuracy: 1.0000\n",
            "Epoch 261/1000\n",
            "12/12 [==============================] - 4s 369ms/step - loss: 2.4482e-06 - accuracy: 1.0000 - val_loss: 1.9073e-06 - val_accuracy: 1.0000\n",
            "Epoch 262/1000\n",
            "12/12 [==============================] - 4s 370ms/step - loss: 2.5152e-06 - accuracy: 1.0000 - val_loss: 1.8850e-06 - val_accuracy: 1.0000\n",
            "Epoch 263/1000\n",
            "12/12 [==============================] - 4s 367ms/step - loss: 2.4244e-06 - accuracy: 1.0000 - val_loss: 1.8626e-06 - val_accuracy: 1.0000\n",
            "Epoch 264/1000\n",
            "12/12 [==============================] - 4s 367ms/step - loss: 2.4047e-06 - accuracy: 1.0000 - val_loss: 1.8515e-06 - val_accuracy: 1.0000\n",
            "Epoch 265/1000\n",
            "12/12 [==============================] - 4s 368ms/step - loss: 2.3901e-06 - accuracy: 1.0000 - val_loss: 1.8366e-06 - val_accuracy: 1.0000\n",
            "Epoch 266/1000\n",
            "12/12 [==============================] - 4s 370ms/step - loss: 2.4108e-06 - accuracy: 1.0000 - val_loss: 1.8179e-06 - val_accuracy: 1.0000\n",
            "Epoch 267/1000\n",
            "12/12 [==============================] - 4s 369ms/step - loss: 2.4304e-06 - accuracy: 1.0000 - val_loss: 1.8068e-06 - val_accuracy: 1.0000\n",
            "Epoch 268/1000\n",
            "12/12 [==============================] - 4s 369ms/step - loss: 2.3538e-06 - accuracy: 1.0000 - val_loss: 1.7863e-06 - val_accuracy: 1.0000\n",
            "Epoch 269/1000\n",
            "12/12 [==============================] - 4s 370ms/step - loss: 2.2624e-06 - accuracy: 1.0000 - val_loss: 1.7704e-06 - val_accuracy: 1.0000\n",
            "Epoch 270/1000\n",
            "12/12 [==============================] - 4s 369ms/step - loss: 2.3267e-06 - accuracy: 1.0000 - val_loss: 1.7527e-06 - val_accuracy: 1.0000\n",
            "Epoch 271/1000\n",
            "12/12 [==============================] - 4s 369ms/step - loss: 2.3312e-06 - accuracy: 1.0000 - val_loss: 1.7453e-06 - val_accuracy: 1.0000\n",
            "Epoch 272/1000\n",
            "12/12 [==============================] - 4s 367ms/step - loss: 2.3798e-06 - accuracy: 1.0000 - val_loss: 1.7229e-06 - val_accuracy: 1.0000\n",
            "Epoch 273/1000\n",
            "12/12 [==============================] - 4s 369ms/step - loss: 2.2464e-06 - accuracy: 1.0000 - val_loss: 1.7025e-06 - val_accuracy: 1.0000\n",
            "Epoch 274/1000\n",
            "12/12 [==============================] - 4s 369ms/step - loss: 2.1872e-06 - accuracy: 1.0000 - val_loss: 1.6876e-06 - val_accuracy: 1.0000\n",
            "Epoch 275/1000\n",
            "12/12 [==============================] - 4s 369ms/step - loss: 2.1699e-06 - accuracy: 1.0000 - val_loss: 1.6717e-06 - val_accuracy: 1.0000\n",
            "Epoch 276/1000\n",
            "12/12 [==============================] - 4s 370ms/step - loss: 2.0494e-06 - accuracy: 1.0000 - val_loss: 1.6652e-06 - val_accuracy: 1.0000\n",
            "Epoch 277/1000\n",
            "12/12 [==============================] - 4s 368ms/step - loss: 2.1020e-06 - accuracy: 1.0000 - val_loss: 1.6484e-06 - val_accuracy: 1.0000\n",
            "Epoch 278/1000\n",
            "12/12 [==============================] - 4s 368ms/step - loss: 2.2184e-06 - accuracy: 1.0000 - val_loss: 1.6270e-06 - val_accuracy: 1.0000\n",
            "Epoch 279/1000\n",
            "12/12 [==============================] - 4s 368ms/step - loss: 2.1264e-06 - accuracy: 1.0000 - val_loss: 1.6103e-06 - val_accuracy: 1.0000\n",
            "Epoch 280/1000\n",
            "12/12 [==============================] - 4s 368ms/step - loss: 2.1067e-06 - accuracy: 1.0000 - val_loss: 1.5944e-06 - val_accuracy: 1.0000\n",
            "Epoch 281/1000\n",
            "12/12 [==============================] - 4s 367ms/step - loss: 2.0672e-06 - accuracy: 1.0000 - val_loss: 1.5795e-06 - val_accuracy: 1.0000\n",
            "Epoch 282/1000\n",
            "12/12 [==============================] - 4s 369ms/step - loss: 2.1097e-06 - accuracy: 1.0000 - val_loss: 1.5665e-06 - val_accuracy: 1.0000\n",
            "Epoch 283/1000\n",
            "12/12 [==============================] - 4s 369ms/step - loss: 2.0243e-06 - accuracy: 1.0000 - val_loss: 1.5525e-06 - val_accuracy: 1.0000\n",
            "Epoch 284/1000\n",
            "12/12 [==============================] - 4s 369ms/step - loss: 2.0801e-06 - accuracy: 1.0000 - val_loss: 1.5404e-06 - val_accuracy: 1.0000\n",
            "Epoch 285/1000\n",
            "12/12 [==============================] - 4s 370ms/step - loss: 1.9601e-06 - accuracy: 1.0000 - val_loss: 1.5236e-06 - val_accuracy: 1.0000\n",
            "Epoch 286/1000\n",
            "12/12 [==============================] - 4s 369ms/step - loss: 2.0216e-06 - accuracy: 1.0000 - val_loss: 1.5153e-06 - val_accuracy: 1.0000\n",
            "Epoch 287/1000\n",
            "12/12 [==============================] - 4s 370ms/step - loss: 1.9519e-06 - accuracy: 1.0000 - val_loss: 1.5022e-06 - val_accuracy: 1.0000\n",
            "Epoch 288/1000\n",
            "12/12 [==============================] - 4s 367ms/step - loss: 1.8331e-06 - accuracy: 1.0000 - val_loss: 1.4957e-06 - val_accuracy: 1.0000\n",
            "Epoch 289/1000\n",
            "12/12 [==============================] - 4s 367ms/step - loss: 1.9117e-06 - accuracy: 1.0000 - val_loss: 1.4836e-06 - val_accuracy: 1.0000\n",
            "Epoch 290/1000\n",
            "12/12 [==============================] - 4s 370ms/step - loss: 1.9855e-06 - accuracy: 1.0000 - val_loss: 1.4706e-06 - val_accuracy: 1.0000\n",
            "Epoch 291/1000\n",
            "12/12 [==============================] - 4s 369ms/step - loss: 1.9402e-06 - accuracy: 1.0000 - val_loss: 1.4584e-06 - val_accuracy: 1.0000\n",
            "Epoch 292/1000\n",
            "12/12 [==============================] - 4s 368ms/step - loss: 1.9598e-06 - accuracy: 1.0000 - val_loss: 1.4445e-06 - val_accuracy: 1.0000\n",
            "Epoch 293/1000\n",
            "12/12 [==============================] - 4s 368ms/step - loss: 1.8649e-06 - accuracy: 1.0000 - val_loss: 1.4314e-06 - val_accuracy: 1.0000\n",
            "Epoch 294/1000\n",
            "12/12 [==============================] - 4s 368ms/step - loss: 1.8818e-06 - accuracy: 1.0000 - val_loss: 1.4277e-06 - val_accuracy: 1.0000\n",
            "Epoch 295/1000\n",
            "12/12 [==============================] - 4s 367ms/step - loss: 1.8257e-06 - accuracy: 1.0000 - val_loss: 1.4165e-06 - val_accuracy: 1.0000\n",
            "Epoch 296/1000\n",
            "12/12 [==============================] - 4s 370ms/step - loss: 1.9250e-06 - accuracy: 1.0000 - val_loss: 1.3960e-06 - val_accuracy: 1.0000\n",
            "Epoch 297/1000\n",
            "12/12 [==============================] - 4s 369ms/step - loss: 1.8899e-06 - accuracy: 1.0000 - val_loss: 1.3905e-06 - val_accuracy: 1.0000\n",
            "Epoch 298/1000\n",
            "12/12 [==============================] - 4s 368ms/step - loss: 1.8294e-06 - accuracy: 1.0000 - val_loss: 1.3802e-06 - val_accuracy: 1.0000\n",
            "Epoch 299/1000\n",
            "12/12 [==============================] - 4s 370ms/step - loss: 1.7688e-06 - accuracy: 1.0000 - val_loss: 1.3653e-06 - val_accuracy: 1.0000\n",
            "Epoch 300/1000\n",
            "12/12 [==============================] - 4s 370ms/step - loss: 1.7150e-06 - accuracy: 1.0000 - val_loss: 1.3513e-06 - val_accuracy: 1.0000\n",
            "Epoch 301/1000\n",
            "12/12 [==============================] - 4s 369ms/step - loss: 1.8256e-06 - accuracy: 1.0000 - val_loss: 1.3383e-06 - val_accuracy: 1.0000\n",
            "Epoch 302/1000\n",
            "12/12 [==============================] - 4s 368ms/step - loss: 1.7865e-06 - accuracy: 1.0000 - val_loss: 1.3337e-06 - val_accuracy: 1.0000\n",
            "Epoch 303/1000\n",
            "12/12 [==============================] - 4s 368ms/step - loss: 1.7313e-06 - accuracy: 1.0000 - val_loss: 1.3215e-06 - val_accuracy: 1.0000\n",
            "Epoch 304/1000\n",
            "12/12 [==============================] - 4s 368ms/step - loss: 1.8000e-06 - accuracy: 1.0000 - val_loss: 1.3085e-06 - val_accuracy: 1.0000\n",
            "Epoch 305/1000\n",
            "12/12 [==============================] - 4s 368ms/step - loss: 1.7919e-06 - accuracy: 1.0000 - val_loss: 1.2983e-06 - val_accuracy: 1.0000\n",
            "Epoch 306/1000\n",
            "12/12 [==============================] - 4s 366ms/step - loss: 1.7290e-06 - accuracy: 1.0000 - val_loss: 1.2862e-06 - val_accuracy: 1.0000\n",
            "Epoch 307/1000\n",
            "12/12 [==============================] - 4s 368ms/step - loss: 1.6444e-06 - accuracy: 1.0000 - val_loss: 1.2768e-06 - val_accuracy: 1.0000\n",
            "Epoch 308/1000\n",
            "12/12 [==============================] - 4s 368ms/step - loss: 1.7451e-06 - accuracy: 1.0000 - val_loss: 1.2619e-06 - val_accuracy: 1.0000\n",
            "Epoch 309/1000\n",
            "12/12 [==============================] - 4s 367ms/step - loss: 1.7076e-06 - accuracy: 1.0000 - val_loss: 1.2508e-06 - val_accuracy: 1.0000\n",
            "Epoch 310/1000\n",
            "12/12 [==============================] - 4s 365ms/step - loss: 1.6914e-06 - accuracy: 1.0000 - val_loss: 1.2368e-06 - val_accuracy: 1.0000\n",
            "Epoch 311/1000\n",
            "12/12 [==============================] - 4s 368ms/step - loss: 1.6724e-06 - accuracy: 1.0000 - val_loss: 1.2303e-06 - val_accuracy: 1.0000\n",
            "Epoch 312/1000\n",
            "12/12 [==============================] - 4s 367ms/step - loss: 1.6568e-06 - accuracy: 1.0000 - val_loss: 1.2163e-06 - val_accuracy: 1.0000\n",
            "Epoch 313/1000\n",
            "12/12 [==============================] - 4s 368ms/step - loss: 1.5490e-06 - accuracy: 1.0000 - val_loss: 1.2014e-06 - val_accuracy: 1.0000\n",
            "Epoch 314/1000\n",
            "12/12 [==============================] - 4s 369ms/step - loss: 1.6493e-06 - accuracy: 1.0000 - val_loss: 1.1884e-06 - val_accuracy: 1.0000\n",
            "Epoch 315/1000\n",
            "12/12 [==============================] - 4s 368ms/step - loss: 1.5710e-06 - accuracy: 1.0000 - val_loss: 1.1818e-06 - val_accuracy: 1.0000\n",
            "Epoch 316/1000\n",
            "12/12 [==============================] - 4s 369ms/step - loss: 1.6514e-06 - accuracy: 1.0000 - val_loss: 1.1781e-06 - val_accuracy: 1.0000\n",
            "Epoch 317/1000\n",
            "12/12 [==============================] - 4s 369ms/step - loss: 1.5909e-06 - accuracy: 1.0000 - val_loss: 1.1716e-06 - val_accuracy: 1.0000\n",
            "Epoch 318/1000\n",
            "12/12 [==============================] - 4s 369ms/step - loss: 1.5022e-06 - accuracy: 1.0000 - val_loss: 1.1586e-06 - val_accuracy: 1.0000\n",
            "Epoch 319/1000\n",
            "12/12 [==============================] - 4s 369ms/step - loss: 1.5693e-06 - accuracy: 1.0000 - val_loss: 1.1530e-06 - val_accuracy: 1.0000\n",
            "Epoch 320/1000\n",
            "12/12 [==============================] - 4s 370ms/step - loss: 1.5548e-06 - accuracy: 1.0000 - val_loss: 1.1409e-06 - val_accuracy: 1.0000\n",
            "Epoch 321/1000\n",
            "12/12 [==============================] - 4s 369ms/step - loss: 1.4859e-06 - accuracy: 1.0000 - val_loss: 1.1297e-06 - val_accuracy: 1.0000\n",
            "Epoch 322/1000\n",
            "12/12 [==============================] - 4s 368ms/step - loss: 1.5532e-06 - accuracy: 1.0000 - val_loss: 1.1204e-06 - val_accuracy: 1.0000\n",
            "Epoch 323/1000\n",
            "12/12 [==============================] - 4s 368ms/step - loss: 1.4843e-06 - accuracy: 1.0000 - val_loss: 1.1129e-06 - val_accuracy: 1.0000\n",
            "Epoch 324/1000\n",
            "12/12 [==============================] - 4s 370ms/step - loss: 1.4755e-06 - accuracy: 1.0000 - val_loss: 1.1036e-06 - val_accuracy: 1.0000\n",
            "Epoch 325/1000\n",
            "12/12 [==============================] - 4s 368ms/step - loss: 1.4261e-06 - accuracy: 1.0000 - val_loss: 1.0952e-06 - val_accuracy: 1.0000\n",
            "Epoch 326/1000\n",
            "12/12 [==============================] - 4s 368ms/step - loss: 1.4044e-06 - accuracy: 1.0000 - val_loss: 1.0850e-06 - val_accuracy: 1.0000\n",
            "Epoch 327/1000\n",
            "12/12 [==============================] - 4s 368ms/step - loss: 1.4004e-06 - accuracy: 1.0000 - val_loss: 1.0757e-06 - val_accuracy: 1.0000\n",
            "Epoch 328/1000\n",
            "12/12 [==============================] - 4s 368ms/step - loss: 1.4161e-06 - accuracy: 1.0000 - val_loss: 1.0682e-06 - val_accuracy: 1.0000\n",
            "Epoch 329/1000\n",
            "12/12 [==============================] - 4s 371ms/step - loss: 1.4712e-06 - accuracy: 1.0000 - val_loss: 1.0598e-06 - val_accuracy: 1.0000\n",
            "Epoch 330/1000\n",
            "12/12 [==============================] - 4s 368ms/step - loss: 1.4153e-06 - accuracy: 1.0000 - val_loss: 1.0487e-06 - val_accuracy: 1.0000\n",
            "Epoch 331/1000\n",
            "12/12 [==============================] - 4s 369ms/step - loss: 1.3583e-06 - accuracy: 1.0000 - val_loss: 1.0394e-06 - val_accuracy: 1.0000\n",
            "Epoch 332/1000\n",
            "12/12 [==============================] - 4s 368ms/step - loss: 1.4386e-06 - accuracy: 1.0000 - val_loss: 1.0347e-06 - val_accuracy: 1.0000\n",
            "Epoch 333/1000\n",
            "12/12 [==============================] - 4s 368ms/step - loss: 1.4060e-06 - accuracy: 1.0000 - val_loss: 1.0217e-06 - val_accuracy: 1.0000\n",
            "Epoch 334/1000\n",
            "12/12 [==============================] - 4s 369ms/step - loss: 1.3252e-06 - accuracy: 1.0000 - val_loss: 1.0105e-06 - val_accuracy: 1.0000\n",
            "Epoch 335/1000\n",
            "12/12 [==============================] - 4s 368ms/step - loss: 1.3495e-06 - accuracy: 1.0000 - val_loss: 1.0002e-06 - val_accuracy: 1.0000\n",
            "Epoch 336/1000\n",
            "12/12 [==============================] - 4s 368ms/step - loss: 1.3294e-06 - accuracy: 1.0000 - val_loss: 9.9093e-07 - val_accuracy: 1.0000\n",
            "Epoch 337/1000\n",
            "12/12 [==============================] - 4s 369ms/step - loss: 1.3178e-06 - accuracy: 1.0000 - val_loss: 9.8441e-07 - val_accuracy: 1.0000\n",
            "Epoch 338/1000\n",
            "12/12 [==============================] - 4s 369ms/step - loss: 1.3082e-06 - accuracy: 1.0000 - val_loss: 9.7882e-07 - val_accuracy: 1.0000\n",
            "Epoch 339/1000\n",
            "12/12 [==============================] - 4s 370ms/step - loss: 1.2862e-06 - accuracy: 1.0000 - val_loss: 9.7044e-07 - val_accuracy: 1.0000\n",
            "Epoch 340/1000\n",
            "12/12 [==============================] - 4s 369ms/step - loss: 1.2356e-06 - accuracy: 1.0000 - val_loss: 9.6205e-07 - val_accuracy: 1.0000\n",
            "Epoch 341/1000\n",
            "12/12 [==============================] - 4s 372ms/step - loss: 1.3039e-06 - accuracy: 1.0000 - val_loss: 9.4809e-07 - val_accuracy: 1.0000\n",
            "Epoch 342/1000\n",
            "12/12 [==============================] - 4s 371ms/step - loss: 1.2603e-06 - accuracy: 1.0000 - val_loss: 9.4715e-07 - val_accuracy: 1.0000\n",
            "Epoch 343/1000\n",
            "12/12 [==============================] - 4s 369ms/step - loss: 1.2721e-06 - accuracy: 1.0000 - val_loss: 9.3970e-07 - val_accuracy: 1.0000\n",
            "Epoch 344/1000\n",
            "12/12 [==============================] - 4s 367ms/step - loss: 1.2897e-06 - accuracy: 1.0000 - val_loss: 9.3691e-07 - val_accuracy: 1.0000\n",
            "Epoch 345/1000\n",
            "12/12 [==============================] - 4s 369ms/step - loss: 1.2967e-06 - accuracy: 1.0000 - val_loss: 9.2853e-07 - val_accuracy: 1.0000\n",
            "Epoch 346/1000\n",
            "12/12 [==============================] - 4s 368ms/step - loss: 1.2744e-06 - accuracy: 1.0000 - val_loss: 9.1735e-07 - val_accuracy: 1.0000\n",
            "Epoch 347/1000\n",
            "12/12 [==============================] - 4s 369ms/step - loss: 1.3583e-06 - accuracy: 1.0000 - val_loss: 9.1083e-07 - val_accuracy: 1.0000\n",
            "Epoch 348/1000\n",
            "12/12 [==============================] - 4s 369ms/step - loss: 1.1709e-06 - accuracy: 1.0000 - val_loss: 9.0338e-07 - val_accuracy: 1.0000\n",
            "Epoch 349/1000\n",
            "12/12 [==============================] - 4s 368ms/step - loss: 1.1757e-06 - accuracy: 1.0000 - val_loss: 8.9407e-07 - val_accuracy: 1.0000\n",
            "Epoch 350/1000\n",
            "12/12 [==============================] - 4s 368ms/step - loss: 1.2353e-06 - accuracy: 1.0000 - val_loss: 8.8941e-07 - val_accuracy: 1.0000\n",
            "Epoch 351/1000\n",
            "12/12 [==============================] - 4s 369ms/step - loss: 1.1381e-06 - accuracy: 1.0000 - val_loss: 8.8010e-07 - val_accuracy: 1.0000\n",
            "Epoch 352/1000\n",
            "12/12 [==============================] - 4s 366ms/step - loss: 1.1885e-06 - accuracy: 1.0000 - val_loss: 8.7172e-07 - val_accuracy: 1.0000\n",
            "Epoch 353/1000\n",
            "12/12 [==============================] - 4s 367ms/step - loss: 1.1418e-06 - accuracy: 1.0000 - val_loss: 8.6613e-07 - val_accuracy: 1.0000\n",
            "Epoch 354/1000\n",
            "12/12 [==============================] - 4s 369ms/step - loss: 1.0945e-06 - accuracy: 1.0000 - val_loss: 8.5868e-07 - val_accuracy: 1.0000\n",
            "Epoch 355/1000\n",
            "12/12 [==============================] - 4s 369ms/step - loss: 1.1853e-06 - accuracy: 1.0000 - val_loss: 8.5216e-07 - val_accuracy: 1.0000\n",
            "Epoch 356/1000\n",
            "12/12 [==============================] - 4s 370ms/step - loss: 1.1416e-06 - accuracy: 1.0000 - val_loss: 8.4471e-07 - val_accuracy: 1.0000\n",
            "Epoch 357/1000\n",
            "12/12 [==============================] - 4s 368ms/step - loss: 1.1079e-06 - accuracy: 1.0000 - val_loss: 8.3540e-07 - val_accuracy: 1.0000\n",
            "Epoch 358/1000\n",
            "12/12 [==============================] - 4s 367ms/step - loss: 1.1243e-06 - accuracy: 1.0000 - val_loss: 8.3074e-07 - val_accuracy: 1.0000\n",
            "Epoch 359/1000\n",
            "12/12 [==============================] - 4s 370ms/step - loss: 1.1347e-06 - accuracy: 1.0000 - val_loss: 8.2515e-07 - val_accuracy: 1.0000\n",
            "Epoch 360/1000\n",
            "12/12 [==============================] - 4s 369ms/step - loss: 1.1153e-06 - accuracy: 1.0000 - val_loss: 8.2049e-07 - val_accuracy: 1.0000\n",
            "Epoch 361/1000\n",
            "12/12 [==============================] - 4s 368ms/step - loss: 1.0850e-06 - accuracy: 1.0000 - val_loss: 8.1397e-07 - val_accuracy: 1.0000\n",
            "Epoch 362/1000\n",
            "12/12 [==============================] - 4s 367ms/step - loss: 1.0275e-06 - accuracy: 1.0000 - val_loss: 8.0652e-07 - val_accuracy: 1.0000\n",
            "Epoch 363/1000\n",
            "12/12 [==============================] - 4s 369ms/step - loss: 1.0498e-06 - accuracy: 1.0000 - val_loss: 7.9814e-07 - val_accuracy: 1.0000\n",
            "Epoch 364/1000\n",
            "12/12 [==============================] - 4s 367ms/step - loss: 1.0822e-06 - accuracy: 1.0000 - val_loss: 7.9535e-07 - val_accuracy: 1.0000\n",
            "Epoch 365/1000\n",
            "12/12 [==============================] - 4s 370ms/step - loss: 1.0661e-06 - accuracy: 1.0000 - val_loss: 7.9069e-07 - val_accuracy: 1.0000\n",
            "Epoch 366/1000\n",
            "12/12 [==============================] - 4s 370ms/step - loss: 1.0821e-06 - accuracy: 1.0000 - val_loss: 7.8510e-07 - val_accuracy: 1.0000\n",
            "Epoch 367/1000\n",
            "12/12 [==============================] - 4s 369ms/step - loss: 1.0607e-06 - accuracy: 1.0000 - val_loss: 7.8045e-07 - val_accuracy: 1.0000\n",
            "Epoch 368/1000\n",
            "12/12 [==============================] - 4s 371ms/step - loss: 1.0903e-06 - accuracy: 1.0000 - val_loss: 7.7207e-07 - val_accuracy: 1.0000\n",
            "Epoch 369/1000\n",
            "12/12 [==============================] - 4s 369ms/step - loss: 1.0784e-06 - accuracy: 1.0000 - val_loss: 7.6834e-07 - val_accuracy: 1.0000\n",
            "Epoch 370/1000\n",
            "12/12 [==============================] - 4s 370ms/step - loss: 1.0379e-06 - accuracy: 1.0000 - val_loss: 7.6368e-07 - val_accuracy: 1.0000\n",
            "Epoch 371/1000\n",
            "12/12 [==============================] - 4s 368ms/step - loss: 1.0097e-06 - accuracy: 1.0000 - val_loss: 7.5158e-07 - val_accuracy: 1.0000\n",
            "Epoch 372/1000\n",
            "12/12 [==============================] - 4s 368ms/step - loss: 1.0394e-06 - accuracy: 1.0000 - val_loss: 7.4599e-07 - val_accuracy: 1.0000\n",
            "Epoch 373/1000\n",
            "12/12 [==============================] - 4s 368ms/step - loss: 9.5845e-07 - accuracy: 1.0000 - val_loss: 7.4040e-07 - val_accuracy: 1.0000\n",
            "Epoch 374/1000\n",
            "12/12 [==============================] - 4s 369ms/step - loss: 1.0041e-06 - accuracy: 1.0000 - val_loss: 7.3761e-07 - val_accuracy: 1.0000\n",
            "Epoch 375/1000\n",
            "12/12 [==============================] - 4s 367ms/step - loss: 1.0444e-06 - accuracy: 1.0000 - val_loss: 7.3388e-07 - val_accuracy: 1.0000\n",
            "Epoch 376/1000\n",
            "12/12 [==============================] - 4s 368ms/step - loss: 9.8272e-07 - accuracy: 1.0000 - val_loss: 7.3109e-07 - val_accuracy: 1.0000\n",
            "Epoch 377/1000\n",
            "12/12 [==============================] - 4s 370ms/step - loss: 9.3155e-07 - accuracy: 1.0000 - val_loss: 7.2550e-07 - val_accuracy: 1.0000\n",
            "Epoch 378/1000\n",
            "12/12 [==============================] - 4s 368ms/step - loss: 9.8595e-07 - accuracy: 1.0000 - val_loss: 7.1991e-07 - val_accuracy: 1.0000\n",
            "Epoch 379/1000\n",
            "12/12 [==============================] - 4s 368ms/step - loss: 9.4592e-07 - accuracy: 1.0000 - val_loss: 7.1525e-07 - val_accuracy: 1.0000\n",
            "Epoch 380/1000\n",
            "12/12 [==============================] - 4s 368ms/step - loss: 1.0371e-06 - accuracy: 1.0000 - val_loss: 7.0874e-07 - val_accuracy: 1.0000\n",
            "Epoch 381/1000\n",
            "12/12 [==============================] - 4s 367ms/step - loss: 9.0402e-07 - accuracy: 1.0000 - val_loss: 7.0129e-07 - val_accuracy: 1.0000\n",
            "Epoch 382/1000\n",
            "12/12 [==============================] - 4s 368ms/step - loss: 9.5066e-07 - accuracy: 1.0000 - val_loss: 6.9477e-07 - val_accuracy: 1.0000\n",
            "Epoch 383/1000\n",
            "12/12 [==============================] - 4s 367ms/step - loss: 9.2075e-07 - accuracy: 1.0000 - val_loss: 6.9011e-07 - val_accuracy: 1.0000\n",
            "Epoch 384/1000\n",
            "12/12 [==============================] - 4s 368ms/step - loss: 9.4495e-07 - accuracy: 1.0000 - val_loss: 6.7986e-07 - val_accuracy: 1.0000\n",
            "Epoch 385/1000\n",
            "12/12 [==============================] - 4s 368ms/step - loss: 9.3268e-07 - accuracy: 1.0000 - val_loss: 6.7800e-07 - val_accuracy: 1.0000\n",
            "Epoch 386/1000\n",
            "12/12 [==============================] - 4s 368ms/step - loss: 8.7371e-07 - accuracy: 1.0000 - val_loss: 6.7707e-07 - val_accuracy: 1.0000\n",
            "Epoch 387/1000\n",
            "12/12 [==============================] - 4s 368ms/step - loss: 9.3404e-07 - accuracy: 1.0000 - val_loss: 6.6776e-07 - val_accuracy: 1.0000\n",
            "Epoch 388/1000\n",
            "12/12 [==============================] - 4s 367ms/step - loss: 8.6294e-07 - accuracy: 1.0000 - val_loss: 6.6310e-07 - val_accuracy: 1.0000\n",
            "Epoch 389/1000\n",
            "12/12 [==============================] - 4s 370ms/step - loss: 9.1105e-07 - accuracy: 1.0000 - val_loss: 6.5844e-07 - val_accuracy: 1.0000\n",
            "Epoch 390/1000\n",
            "12/12 [==============================] - 4s 369ms/step - loss: 8.5982e-07 - accuracy: 1.0000 - val_loss: 6.5565e-07 - val_accuracy: 1.0000\n",
            "Epoch 391/1000\n",
            "12/12 [==============================] - 4s 368ms/step - loss: 8.9164e-07 - accuracy: 1.0000 - val_loss: 6.5099e-07 - val_accuracy: 1.0000\n",
            "Epoch 392/1000\n",
            "12/12 [==============================] - 4s 368ms/step - loss: 8.4317e-07 - accuracy: 1.0000 - val_loss: 6.4447e-07 - val_accuracy: 1.0000\n",
            "Epoch 393/1000\n",
            "12/12 [==============================] - 4s 366ms/step - loss: 8.4791e-07 - accuracy: 1.0000 - val_loss: 6.4075e-07 - val_accuracy: 1.0000\n",
            "Epoch 394/1000\n",
            "12/12 [==============================] - 4s 368ms/step - loss: 8.3347e-07 - accuracy: 1.0000 - val_loss: 6.3237e-07 - val_accuracy: 1.0000\n",
            "Epoch 395/1000\n",
            "12/12 [==============================] - 4s 371ms/step - loss: 8.4181e-07 - accuracy: 1.0000 - val_loss: 6.2771e-07 - val_accuracy: 1.0000\n",
            "Epoch 396/1000\n",
            "12/12 [==============================] - 4s 369ms/step - loss: 8.4322e-07 - accuracy: 1.0000 - val_loss: 6.2399e-07 - val_accuracy: 1.0000\n",
            "Epoch 397/1000\n",
            "12/12 [==============================] - 4s 368ms/step - loss: 8.4621e-07 - accuracy: 1.0000 - val_loss: 6.2305e-07 - val_accuracy: 1.0000\n",
            "Epoch 398/1000\n",
            "12/12 [==============================] - 4s 369ms/step - loss: 8.8247e-07 - accuracy: 1.0000 - val_loss: 6.1747e-07 - val_accuracy: 1.0000\n",
            "Epoch 399/1000\n",
            "12/12 [==============================] - 4s 368ms/step - loss: 8.8753e-07 - accuracy: 1.0000 - val_loss: 6.1188e-07 - val_accuracy: 1.0000\n",
            "Epoch 400/1000\n",
            "12/12 [==============================] - 4s 367ms/step - loss: 8.1084e-07 - accuracy: 1.0000 - val_loss: 6.0443e-07 - val_accuracy: 1.0000\n",
            "Epoch 401/1000\n",
            "12/12 [==============================] - 4s 369ms/step - loss: 8.1127e-07 - accuracy: 1.0000 - val_loss: 5.9884e-07 - val_accuracy: 1.0000\n",
            "Epoch 402/1000\n",
            "12/12 [==============================] - 4s 368ms/step - loss: 7.9818e-07 - accuracy: 1.0000 - val_loss: 5.9511e-07 - val_accuracy: 1.0000\n",
            "Epoch 403/1000\n",
            "12/12 [==============================] - 4s 369ms/step - loss: 7.8917e-07 - accuracy: 1.0000 - val_loss: 5.9325e-07 - val_accuracy: 1.0000\n",
            "Epoch 404/1000\n",
            "12/12 [==============================] - 4s 369ms/step - loss: 7.8156e-07 - accuracy: 1.0000 - val_loss: 5.8766e-07 - val_accuracy: 1.0000\n",
            "Epoch 405/1000\n",
            "12/12 [==============================] - 4s 369ms/step - loss: 8.2521e-07 - accuracy: 1.0000 - val_loss: 5.8208e-07 - val_accuracy: 1.0000\n",
            "Epoch 406/1000\n",
            "12/12 [==============================] - 4s 369ms/step - loss: 7.8625e-07 - accuracy: 1.0000 - val_loss: 5.7928e-07 - val_accuracy: 1.0000\n",
            "Epoch 407/1000\n",
            "12/12 [==============================] - 4s 369ms/step - loss: 8.0844e-07 - accuracy: 1.0000 - val_loss: 5.7369e-07 - val_accuracy: 1.0000\n",
            "Epoch 408/1000\n",
            "12/12 [==============================] - 4s 367ms/step - loss: 7.7115e-07 - accuracy: 1.0000 - val_loss: 5.7183e-07 - val_accuracy: 1.0000\n",
            "Epoch 409/1000\n",
            "12/12 [==============================] - 4s 369ms/step - loss: 7.8020e-07 - accuracy: 1.0000 - val_loss: 5.6624e-07 - val_accuracy: 1.0000\n",
            "Epoch 410/1000\n",
            "12/12 [==============================] - 4s 368ms/step - loss: 7.9068e-07 - accuracy: 1.0000 - val_loss: 5.6438e-07 - val_accuracy: 1.0000\n",
            "Epoch 411/1000\n",
            "12/12 [==============================] - 4s 368ms/step - loss: 7.5668e-07 - accuracy: 1.0000 - val_loss: 5.6159e-07 - val_accuracy: 1.0000\n",
            "Epoch 412/1000\n",
            "12/12 [==============================] - 4s 369ms/step - loss: 7.5201e-07 - accuracy: 1.0000 - val_loss: 5.5414e-07 - val_accuracy: 1.0000\n",
            "Epoch 413/1000\n",
            "12/12 [==============================] - 4s 366ms/step - loss: 7.4129e-07 - accuracy: 1.0000 - val_loss: 5.4855e-07 - val_accuracy: 1.0000\n",
            "Epoch 414/1000\n",
            "12/12 [==============================] - 4s 368ms/step - loss: 6.8833e-07 - accuracy: 1.0000 - val_loss: 5.4948e-07 - val_accuracy: 1.0000\n",
            "Epoch 415/1000\n",
            "12/12 [==============================] - 4s 370ms/step - loss: 7.5888e-07 - accuracy: 1.0000 - val_loss: 5.4575e-07 - val_accuracy: 1.0000\n",
            "Epoch 416/1000\n",
            "12/12 [==============================] - 4s 369ms/step - loss: 7.3819e-07 - accuracy: 1.0000 - val_loss: 5.3644e-07 - val_accuracy: 1.0000\n",
            "Epoch 417/1000\n",
            "12/12 [==============================] - 4s 370ms/step - loss: 7.4250e-07 - accuracy: 1.0000 - val_loss: 5.3272e-07 - val_accuracy: 1.0000\n",
            "Epoch 418/1000\n",
            "12/12 [==============================] - 4s 369ms/step - loss: 7.6142e-07 - accuracy: 1.0000 - val_loss: 5.2713e-07 - val_accuracy: 1.0000\n",
            "Epoch 419/1000\n",
            "12/12 [==============================] - 4s 368ms/step - loss: 7.0610e-07 - accuracy: 1.0000 - val_loss: 5.2527e-07 - val_accuracy: 1.0000\n",
            "Epoch 420/1000\n",
            "12/12 [==============================] - 4s 368ms/step - loss: 7.0797e-07 - accuracy: 1.0000 - val_loss: 5.2247e-07 - val_accuracy: 1.0000\n",
            "Epoch 421/1000\n",
            "12/12 [==============================] - 4s 368ms/step - loss: 7.1193e-07 - accuracy: 1.0000 - val_loss: 5.2061e-07 - val_accuracy: 1.0000\n",
            "Epoch 422/1000\n",
            "12/12 [==============================] - 4s 368ms/step - loss: 7.2084e-07 - accuracy: 1.0000 - val_loss: 5.1875e-07 - val_accuracy: 1.0000\n",
            "Epoch 423/1000\n",
            "12/12 [==============================] - 4s 369ms/step - loss: 7.0419e-07 - accuracy: 1.0000 - val_loss: 5.1223e-07 - val_accuracy: 1.0000\n",
            "Epoch 424/1000\n",
            "12/12 [==============================] - 4s 369ms/step - loss: 6.5131e-07 - accuracy: 1.0000 - val_loss: 5.0478e-07 - val_accuracy: 1.0000\n",
            "Epoch 425/1000\n",
            "12/12 [==============================] - 4s 370ms/step - loss: 6.7515e-07 - accuracy: 1.0000 - val_loss: 5.0105e-07 - val_accuracy: 1.0000\n",
            "Epoch 426/1000\n",
            "12/12 [==============================] - 4s 369ms/step - loss: 6.3750e-07 - accuracy: 1.0000 - val_loss: 5.0012e-07 - val_accuracy: 1.0000\n",
            "Epoch 427/1000\n",
            "12/12 [==============================] - 4s 369ms/step - loss: 6.6822e-07 - accuracy: 1.0000 - val_loss: 4.9826e-07 - val_accuracy: 1.0000\n",
            "Epoch 428/1000\n",
            "12/12 [==============================] - 4s 368ms/step - loss: 6.3396e-07 - accuracy: 1.0000 - val_loss: 4.9639e-07 - val_accuracy: 1.0000\n",
            "Epoch 429/1000\n",
            "12/12 [==============================] - 4s 370ms/step - loss: 6.5131e-07 - accuracy: 1.0000 - val_loss: 4.9453e-07 - val_accuracy: 1.0000\n",
            "Epoch 430/1000\n",
            "12/12 [==============================] - 4s 368ms/step - loss: 6.2539e-07 - accuracy: 1.0000 - val_loss: 4.9081e-07 - val_accuracy: 1.0000\n",
            "Epoch 431/1000\n",
            "12/12 [==============================] - 4s 369ms/step - loss: 6.2958e-07 - accuracy: 1.0000 - val_loss: 4.8988e-07 - val_accuracy: 1.0000\n",
            "Epoch 432/1000\n",
            "12/12 [==============================] - 4s 367ms/step - loss: 6.5197e-07 - accuracy: 1.0000 - val_loss: 4.8429e-07 - val_accuracy: 1.0000\n",
            "Epoch 433/1000\n",
            "12/12 [==============================] - 4s 369ms/step - loss: 6.3878e-07 - accuracy: 1.0000 - val_loss: 4.7777e-07 - val_accuracy: 1.0000\n",
            "Epoch 434/1000\n",
            "12/12 [==============================] - 4s 368ms/step - loss: 6.7407e-07 - accuracy: 1.0000 - val_loss: 4.7311e-07 - val_accuracy: 1.0000\n",
            "Epoch 435/1000\n",
            "12/12 [==============================] - 4s 368ms/step - loss: 6.0790e-07 - accuracy: 1.0000 - val_loss: 4.6939e-07 - val_accuracy: 1.0000\n",
            "Epoch 436/1000\n",
            "12/12 [==============================] - 4s 368ms/step - loss: 6.4562e-07 - accuracy: 1.0000 - val_loss: 4.6659e-07 - val_accuracy: 1.0000\n",
            "Epoch 437/1000\n",
            "12/12 [==============================] - 4s 367ms/step - loss: 6.2677e-07 - accuracy: 1.0000 - val_loss: 4.6473e-07 - val_accuracy: 1.0000\n",
            "Epoch 438/1000\n",
            "12/12 [==============================] - 4s 368ms/step - loss: 6.0575e-07 - accuracy: 1.0000 - val_loss: 4.6287e-07 - val_accuracy: 1.0000\n",
            "Epoch 439/1000\n",
            "12/12 [==============================] - 4s 369ms/step - loss: 5.9684e-07 - accuracy: 1.0000 - val_loss: 4.5635e-07 - val_accuracy: 1.0000\n",
            "Epoch 440/1000\n",
            "12/12 [==============================] - 4s 369ms/step - loss: 5.8270e-07 - accuracy: 1.0000 - val_loss: 4.5169e-07 - val_accuracy: 1.0000\n",
            "Epoch 441/1000\n",
            "12/12 [==============================] - 4s 370ms/step - loss: 6.0320e-07 - accuracy: 1.0000 - val_loss: 4.5169e-07 - val_accuracy: 1.0000\n",
            "Epoch 442/1000\n",
            "12/12 [==============================] - 4s 370ms/step - loss: 6.4085e-07 - accuracy: 1.0000 - val_loss: 4.4610e-07 - val_accuracy: 1.0000\n",
            "Epoch 443/1000\n",
            "12/12 [==============================] - 4s 370ms/step - loss: 6.4853e-07 - accuracy: 1.0000 - val_loss: 4.4145e-07 - val_accuracy: 1.0000\n",
            "Epoch 444/1000\n",
            "12/12 [==============================] - 4s 369ms/step - loss: 5.9691e-07 - accuracy: 1.0000 - val_loss: 4.3679e-07 - val_accuracy: 1.0000\n",
            "Epoch 445/1000\n",
            "12/12 [==============================] - 4s 368ms/step - loss: 6.0724e-07 - accuracy: 1.0000 - val_loss: 4.3400e-07 - val_accuracy: 1.0000\n",
            "Epoch 446/1000\n",
            "12/12 [==============================] - 4s 368ms/step - loss: 6.0313e-07 - accuracy: 1.0000 - val_loss: 4.3027e-07 - val_accuracy: 1.0000\n",
            "Epoch 447/1000\n",
            "12/12 [==============================] - 4s 369ms/step - loss: 5.8561e-07 - accuracy: 1.0000 - val_loss: 4.2561e-07 - val_accuracy: 1.0000\n",
            "Epoch 448/1000\n",
            "12/12 [==============================] - 4s 368ms/step - loss: 5.5919e-07 - accuracy: 1.0000 - val_loss: 4.2282e-07 - val_accuracy: 1.0000\n",
            "Epoch 449/1000\n",
            "12/12 [==============================] - 4s 372ms/step - loss: 6.0320e-07 - accuracy: 1.0000 - val_loss: 4.2003e-07 - val_accuracy: 1.0000\n",
            "Epoch 450/1000\n",
            "12/12 [==============================] - 4s 369ms/step - loss: 5.8176e-07 - accuracy: 1.0000 - val_loss: 4.1909e-07 - val_accuracy: 1.0000\n",
            "Epoch 451/1000\n",
            "12/12 [==============================] - 4s 366ms/step - loss: 5.3876e-07 - accuracy: 1.0000 - val_loss: 4.1630e-07 - val_accuracy: 1.0000\n",
            "Epoch 452/1000\n",
            "12/12 [==============================] - 4s 366ms/step - loss: 5.5158e-07 - accuracy: 1.0000 - val_loss: 4.1444e-07 - val_accuracy: 1.0000\n",
            "Epoch 453/1000\n",
            "12/12 [==============================] - 4s 370ms/step - loss: 5.7298e-07 - accuracy: 1.0000 - val_loss: 4.1071e-07 - val_accuracy: 1.0000\n",
            "Epoch 454/1000\n",
            "12/12 [==============================] - 4s 369ms/step - loss: 5.6231e-07 - accuracy: 1.0000 - val_loss: 4.0513e-07 - val_accuracy: 1.0000\n",
            "Epoch 455/1000\n",
            "12/12 [==============================] - 4s 368ms/step - loss: 5.6325e-07 - accuracy: 1.0000 - val_loss: 4.0326e-07 - val_accuracy: 1.0000\n",
            "Epoch 456/1000\n",
            "12/12 [==============================] - 4s 368ms/step - loss: 5.3769e-07 - accuracy: 1.0000 - val_loss: 3.9767e-07 - val_accuracy: 1.0000\n",
            "Epoch 457/1000\n",
            "12/12 [==============================] - 4s 369ms/step - loss: 5.2358e-07 - accuracy: 1.0000 - val_loss: 3.9488e-07 - val_accuracy: 1.0000\n",
            "Epoch 458/1000\n",
            "12/12 [==============================] - 4s 367ms/step - loss: 5.6231e-07 - accuracy: 1.0000 - val_loss: 3.9209e-07 - val_accuracy: 1.0000\n",
            "Epoch 459/1000\n",
            "12/12 [==============================] - 4s 368ms/step - loss: 5.5908e-07 - accuracy: 1.0000 - val_loss: 3.9022e-07 - val_accuracy: 1.0000\n",
            "Epoch 460/1000\n",
            "12/12 [==============================] - 4s 367ms/step - loss: 5.7549e-07 - accuracy: 1.0000 - val_loss: 3.8743e-07 - val_accuracy: 1.0000\n",
            "Epoch 461/1000\n",
            "12/12 [==============================] - 4s 368ms/step - loss: 5.1824e-07 - accuracy: 1.0000 - val_loss: 3.8650e-07 - val_accuracy: 1.0000\n",
            "Epoch 462/1000\n",
            "12/12 [==============================] - 4s 370ms/step - loss: 5.3176e-07 - accuracy: 1.0000 - val_loss: 3.8464e-07 - val_accuracy: 1.0000\n",
            "Epoch 463/1000\n",
            "12/12 [==============================] - 4s 368ms/step - loss: 5.3937e-07 - accuracy: 1.0000 - val_loss: 3.7998e-07 - val_accuracy: 1.0000\n",
            "Epoch 464/1000\n",
            "12/12 [==============================] - 4s 369ms/step - loss: 5.3937e-07 - accuracy: 1.0000 - val_loss: 3.7719e-07 - val_accuracy: 1.0000\n",
            "Epoch 465/1000\n",
            "12/12 [==============================] - 4s 370ms/step - loss: 5.0473e-07 - accuracy: 1.0000 - val_loss: 3.7253e-07 - val_accuracy: 1.0000\n",
            "Epoch 466/1000\n",
            "12/12 [==============================] - 4s 368ms/step - loss: 5.3119e-07 - accuracy: 1.0000 - val_loss: 3.6973e-07 - val_accuracy: 1.0000\n",
            "Epoch 467/1000\n",
            "12/12 [==============================] - 4s 370ms/step - loss: 5.0442e-07 - accuracy: 1.0000 - val_loss: 3.6694e-07 - val_accuracy: 1.0000\n",
            "Epoch 468/1000\n",
            "12/12 [==============================] - 4s 369ms/step - loss: 5.2177e-07 - accuracy: 1.0000 - val_loss: 3.6601e-07 - val_accuracy: 1.0000\n",
            "Epoch 469/1000\n",
            "12/12 [==============================] - 4s 370ms/step - loss: 4.8276e-07 - accuracy: 1.0000 - val_loss: 3.6228e-07 - val_accuracy: 1.0000\n",
            "Epoch 470/1000\n",
            "12/12 [==============================] - 4s 372ms/step - loss: 4.8308e-07 - accuracy: 1.0000 - val_loss: 3.6135e-07 - val_accuracy: 1.0000\n",
            "Epoch 471/1000\n",
            "12/12 [==============================] - 4s 369ms/step - loss: 5.1512e-07 - accuracy: 1.0000 - val_loss: 3.5856e-07 - val_accuracy: 1.0000\n",
            "Epoch 472/1000\n",
            "12/12 [==============================] - 4s 368ms/step - loss: 4.9087e-07 - accuracy: 1.0000 - val_loss: 3.5297e-07 - val_accuracy: 1.0000\n",
            "Epoch 473/1000\n",
            "12/12 [==============================] - 4s 371ms/step - loss: 5.1231e-07 - accuracy: 1.0000 - val_loss: 3.5111e-07 - val_accuracy: 1.0000\n",
            "Epoch 474/1000\n",
            "12/12 [==============================] - 4s 371ms/step - loss: 4.3872e-07 - accuracy: 1.0000 - val_loss: 3.4831e-07 - val_accuracy: 1.0000\n",
            "Epoch 475/1000\n",
            "12/12 [==============================] - 4s 370ms/step - loss: 4.7306e-07 - accuracy: 1.0000 - val_loss: 3.4552e-07 - val_accuracy: 1.0000\n",
            "Epoch 476/1000\n",
            "12/12 [==============================] - 4s 371ms/step - loss: 4.9440e-07 - accuracy: 1.0000 - val_loss: 3.4552e-07 - val_accuracy: 1.0000\n",
            "Epoch 477/1000\n",
            "12/12 [==============================] - 4s 369ms/step - loss: 4.3956e-07 - accuracy: 1.0000 - val_loss: 3.4552e-07 - val_accuracy: 1.0000\n",
            "Epoch 478/1000\n",
            "12/12 [==============================] - 4s 369ms/step - loss: 4.4879e-07 - accuracy: 1.0000 - val_loss: 3.4180e-07 - val_accuracy: 1.0000\n",
            "Epoch 479/1000\n",
            "12/12 [==============================] - 4s 369ms/step - loss: 4.6292e-07 - accuracy: 1.0000 - val_loss: 3.3807e-07 - val_accuracy: 1.0000\n",
            "Epoch 480/1000\n",
            "12/12 [==============================] - 4s 372ms/step - loss: 4.6163e-07 - accuracy: 1.0000 - val_loss: 3.3341e-07 - val_accuracy: 1.0000\n",
            "Epoch 481/1000\n",
            "12/12 [==============================] - 4s 370ms/step - loss: 4.6892e-07 - accuracy: 1.0000 - val_loss: 3.3341e-07 - val_accuracy: 1.0000\n",
            "Epoch 482/1000\n",
            "12/12 [==============================] - 4s 370ms/step - loss: 4.4218e-07 - accuracy: 1.0000 - val_loss: 3.2876e-07 - val_accuracy: 1.0000\n",
            "Epoch 483/1000\n",
            "12/12 [==============================] - 4s 369ms/step - loss: 4.6572e-07 - accuracy: 1.0000 - val_loss: 3.2410e-07 - val_accuracy: 1.0000\n",
            "Epoch 484/1000\n",
            "12/12 [==============================] - 4s 370ms/step - loss: 4.6645e-07 - accuracy: 1.0000 - val_loss: 3.2131e-07 - val_accuracy: 1.0000\n",
            "Epoch 485/1000\n",
            "12/12 [==============================] - 4s 369ms/step - loss: 4.5728e-07 - accuracy: 1.0000 - val_loss: 3.1758e-07 - val_accuracy: 1.0000\n",
            "Epoch 486/1000\n",
            "12/12 [==============================] - 4s 369ms/step - loss: 4.2047e-07 - accuracy: 1.0000 - val_loss: 3.1758e-07 - val_accuracy: 1.0000\n",
            "Epoch 487/1000\n",
            "12/12 [==============================] - 4s 370ms/step - loss: 4.3148e-07 - accuracy: 1.0000 - val_loss: 3.1665e-07 - val_accuracy: 1.0000\n",
            "Epoch 488/1000\n",
            "12/12 [==============================] - 4s 368ms/step - loss: 4.0762e-07 - accuracy: 1.0000 - val_loss: 3.1106e-07 - val_accuracy: 1.0000\n",
            "Epoch 489/1000\n",
            "12/12 [==============================] - 4s 370ms/step - loss: 4.6478e-07 - accuracy: 1.0000 - val_loss: 3.1106e-07 - val_accuracy: 1.0000\n",
            "Epoch 490/1000\n",
            "12/12 [==============================] - 4s 371ms/step - loss: 4.3683e-07 - accuracy: 1.0000 - val_loss: 3.0734e-07 - val_accuracy: 1.0000\n",
            "Epoch 491/1000\n",
            "12/12 [==============================] - 4s 370ms/step - loss: 3.9745e-07 - accuracy: 1.0000 - val_loss: 3.0454e-07 - val_accuracy: 1.0000\n",
            "Epoch 492/1000\n",
            "12/12 [==============================] - 4s 371ms/step - loss: 4.5256e-07 - accuracy: 1.0000 - val_loss: 3.0268e-07 - val_accuracy: 1.0000\n",
            "Epoch 493/1000\n",
            "12/12 [==============================] - 4s 369ms/step - loss: 4.2210e-07 - accuracy: 1.0000 - val_loss: 2.9989e-07 - val_accuracy: 1.0000\n",
            "Epoch 494/1000\n",
            "12/12 [==============================] - 4s 369ms/step - loss: 3.9821e-07 - accuracy: 1.0000 - val_loss: 2.9802e-07 - val_accuracy: 1.0000\n",
            "Epoch 495/1000\n",
            "12/12 [==============================] - 4s 372ms/step - loss: 4.2485e-07 - accuracy: 1.0000 - val_loss: 2.9523e-07 - val_accuracy: 1.0000\n",
            "Epoch 496/1000\n",
            "12/12 [==============================] - 4s 371ms/step - loss: 4.4283e-07 - accuracy: 1.0000 - val_loss: 2.9430e-07 - val_accuracy: 1.0000\n",
            "Epoch 497/1000\n",
            "12/12 [==============================] - 4s 371ms/step - loss: 4.1011e-07 - accuracy: 1.0000 - val_loss: 2.9150e-07 - val_accuracy: 1.0000\n",
            "Epoch 498/1000\n",
            "12/12 [==============================] - 4s 370ms/step - loss: 3.8025e-07 - accuracy: 1.0000 - val_loss: 2.8964e-07 - val_accuracy: 1.0000\n",
            "Epoch 499/1000\n",
            "12/12 [==============================] - 4s 369ms/step - loss: 4.1483e-07 - accuracy: 1.0000 - val_loss: 2.8778e-07 - val_accuracy: 1.0000\n",
            "Epoch 500/1000\n",
            "12/12 [==============================] - 4s 369ms/step - loss: 4.0000e-07 - accuracy: 1.0000 - val_loss: 2.8592e-07 - val_accuracy: 1.0000\n",
            "Epoch 501/1000\n",
            "12/12 [==============================] - 4s 368ms/step - loss: 4.0193e-07 - accuracy: 1.0000 - val_loss: 2.8498e-07 - val_accuracy: 1.0000\n",
            "Epoch 502/1000\n",
            "12/12 [==============================] - 4s 367ms/step - loss: 4.1483e-07 - accuracy: 1.0000 - val_loss: 2.8405e-07 - val_accuracy: 1.0000\n",
            "Epoch 503/1000\n",
            "12/12 [==============================] - 4s 369ms/step - loss: 3.6890e-07 - accuracy: 1.0000 - val_loss: 2.8219e-07 - val_accuracy: 1.0000\n",
            "Epoch 504/1000\n",
            "12/12 [==============================] - 4s 368ms/step - loss: 3.8246e-07 - accuracy: 1.0000 - val_loss: 2.8126e-07 - val_accuracy: 1.0000\n",
            "Epoch 505/1000\n",
            "12/12 [==============================] - 4s 370ms/step - loss: 3.9467e-07 - accuracy: 1.0000 - val_loss: 2.7847e-07 - val_accuracy: 1.0000\n",
            "Epoch 506/1000\n",
            "12/12 [==============================] - 4s 367ms/step - loss: 3.8269e-07 - accuracy: 1.0000 - val_loss: 2.7567e-07 - val_accuracy: 1.0000\n",
            "Epoch 507/1000\n",
            "12/12 [==============================] - 4s 369ms/step - loss: 3.8366e-07 - accuracy: 1.0000 - val_loss: 2.7195e-07 - val_accuracy: 1.0000\n",
            "Epoch 508/1000\n",
            "12/12 [==============================] - 4s 369ms/step - loss: 3.9402e-07 - accuracy: 1.0000 - val_loss: 2.7008e-07 - val_accuracy: 1.0000\n",
            "Epoch 509/1000\n",
            "12/12 [==============================] - 4s 370ms/step - loss: 3.7142e-07 - accuracy: 1.0000 - val_loss: 2.6729e-07 - val_accuracy: 1.0000\n",
            "Epoch 510/1000\n",
            "12/12 [==============================] - 4s 371ms/step - loss: 3.7711e-07 - accuracy: 1.0000 - val_loss: 2.6543e-07 - val_accuracy: 1.0000\n",
            "Epoch 511/1000\n",
            "12/12 [==============================] - 4s 371ms/step - loss: 3.6295e-07 - accuracy: 1.0000 - val_loss: 2.6263e-07 - val_accuracy: 1.0000\n",
            "Epoch 512/1000\n",
            "12/12 [==============================] - 4s 369ms/step - loss: 3.8495e-07 - accuracy: 1.0000 - val_loss: 2.6077e-07 - val_accuracy: 1.0000\n",
            "Epoch 513/1000\n",
            "12/12 [==============================] - 4s 369ms/step - loss: 3.5915e-07 - accuracy: 1.0000 - val_loss: 2.5984e-07 - val_accuracy: 1.0000\n",
            "Epoch 514/1000\n",
            "12/12 [==============================] - 4s 369ms/step - loss: 3.5259e-07 - accuracy: 1.0000 - val_loss: 2.5891e-07 - val_accuracy: 1.0000\n",
            "Epoch 515/1000\n",
            "12/12 [==============================] - 4s 371ms/step - loss: 3.7362e-07 - accuracy: 1.0000 - val_loss: 2.5611e-07 - val_accuracy: 1.0000\n",
            "Epoch 516/1000\n",
            "12/12 [==============================] - 4s 370ms/step - loss: 3.6012e-07 - accuracy: 1.0000 - val_loss: 2.5518e-07 - val_accuracy: 1.0000\n",
            "Epoch 517/1000\n",
            "12/12 [==============================] - 4s 370ms/step - loss: 3.5225e-07 - accuracy: 1.0000 - val_loss: 2.5239e-07 - val_accuracy: 1.0000\n",
            "Epoch 518/1000\n",
            "12/12 [==============================] - 4s 371ms/step - loss: 3.5443e-07 - accuracy: 1.0000 - val_loss: 2.5053e-07 - val_accuracy: 1.0000\n",
            "Epoch 519/1000\n",
            "12/12 [==============================] - 4s 369ms/step - loss: 3.7734e-07 - accuracy: 1.0000 - val_loss: 2.5053e-07 - val_accuracy: 1.0000\n",
            "Epoch 520/1000\n",
            "12/12 [==============================] - 4s 369ms/step - loss: 3.6607e-07 - accuracy: 1.0000 - val_loss: 2.4959e-07 - val_accuracy: 1.0000\n",
            "Epoch 521/1000\n",
            "12/12 [==============================] - 4s 370ms/step - loss: 3.4819e-07 - accuracy: 1.0000 - val_loss: 2.4866e-07 - val_accuracy: 1.0000\n",
            "Epoch 522/1000\n",
            "12/12 [==============================] - 4s 369ms/step - loss: 3.5813e-07 - accuracy: 1.0000 - val_loss: 2.4866e-07 - val_accuracy: 1.0000\n",
            "Epoch 523/1000\n",
            "12/12 [==============================] - 4s 370ms/step - loss: 3.4913e-07 - accuracy: 1.0000 - val_loss: 2.4773e-07 - val_accuracy: 1.0000\n",
            "Epoch 524/1000\n",
            "12/12 [==============================] - 4s 370ms/step - loss: 3.1573e-07 - accuracy: 1.0000 - val_loss: 2.4494e-07 - val_accuracy: 1.0000\n",
            "Epoch 525/1000\n",
            "12/12 [==============================] - 4s 369ms/step - loss: 3.6707e-07 - accuracy: 1.0000 - val_loss: 2.4308e-07 - val_accuracy: 1.0000\n",
            "Epoch 526/1000\n",
            "12/12 [==============================] - 4s 370ms/step - loss: 3.1919e-07 - accuracy: 1.0000 - val_loss: 2.4121e-07 - val_accuracy: 1.0000\n",
            "Epoch 527/1000\n",
            "12/12 [==============================] - 4s 367ms/step - loss: 3.1450e-07 - accuracy: 1.0000 - val_loss: 2.3935e-07 - val_accuracy: 1.0000\n",
            "Epoch 528/1000\n",
            "12/12 [==============================] - 4s 370ms/step - loss: 3.4969e-07 - accuracy: 1.0000 - val_loss: 2.3562e-07 - val_accuracy: 1.0000\n",
            "Epoch 529/1000\n",
            "12/12 [==============================] - 4s 370ms/step - loss: 3.1135e-07 - accuracy: 1.0000 - val_loss: 2.3469e-07 - val_accuracy: 1.0000\n",
            "Epoch 530/1000\n",
            "12/12 [==============================] - 4s 372ms/step - loss: 3.2019e-07 - accuracy: 1.0000 - val_loss: 2.3283e-07 - val_accuracy: 1.0000\n",
            "Epoch 531/1000\n",
            "12/12 [==============================] - 4s 368ms/step - loss: 3.4533e-07 - accuracy: 1.0000 - val_loss: 2.3004e-07 - val_accuracy: 1.0000\n",
            "Epoch 532/1000\n",
            "12/12 [==============================] - 4s 370ms/step - loss: 3.2394e-07 - accuracy: 1.0000 - val_loss: 2.2911e-07 - val_accuracy: 1.0000\n",
            "Epoch 533/1000\n",
            "12/12 [==============================] - 4s 370ms/step - loss: 3.1133e-07 - accuracy: 1.0000 - val_loss: 2.2631e-07 - val_accuracy: 1.0000\n",
            "Epoch 534/1000\n",
            "12/12 [==============================] - 4s 367ms/step - loss: 3.1919e-07 - accuracy: 1.0000 - val_loss: 2.2259e-07 - val_accuracy: 1.0000\n",
            "Epoch 535/1000\n",
            "12/12 [==============================] - 4s 369ms/step - loss: 3.3112e-07 - accuracy: 1.0000 - val_loss: 2.2165e-07 - val_accuracy: 1.0000\n",
            "Epoch 536/1000\n",
            "12/12 [==============================] - 4s 368ms/step - loss: 3.3275e-07 - accuracy: 1.0000 - val_loss: 2.2259e-07 - val_accuracy: 1.0000\n",
            "Epoch 537/1000\n",
            "12/12 [==============================] - 4s 371ms/step - loss: 2.9783e-07 - accuracy: 1.0000 - val_loss: 2.2072e-07 - val_accuracy: 1.0000\n",
            "Epoch 538/1000\n",
            "12/12 [==============================] - 4s 369ms/step - loss: 2.9817e-07 - accuracy: 1.0000 - val_loss: 2.1886e-07 - val_accuracy: 1.0000\n",
            "Epoch 539/1000\n",
            "12/12 [==============================] - 4s 369ms/step - loss: 3.0664e-07 - accuracy: 1.0000 - val_loss: 2.1700e-07 - val_accuracy: 1.0000\n",
            "Epoch 540/1000\n",
            "12/12 [==============================] - 4s 371ms/step - loss: 3.0278e-07 - accuracy: 1.0000 - val_loss: 2.1607e-07 - val_accuracy: 1.0000\n",
            "Epoch 541/1000\n",
            "12/12 [==============================] - 4s 371ms/step - loss: 3.1513e-07 - accuracy: 1.0000 - val_loss: 2.1420e-07 - val_accuracy: 1.0000\n",
            "Epoch 542/1000\n",
            "12/12 [==============================] - 4s 370ms/step - loss: 3.0354e-07 - accuracy: 1.0000 - val_loss: 2.1327e-07 - val_accuracy: 1.0000\n",
            "Epoch 543/1000\n",
            "12/12 [==============================] - 4s 370ms/step - loss: 2.9625e-07 - accuracy: 1.0000 - val_loss: 2.1234e-07 - val_accuracy: 1.0000\n",
            "Epoch 544/1000\n",
            "12/12 [==============================] - 4s 369ms/step - loss: 2.9062e-07 - accuracy: 1.0000 - val_loss: 2.1141e-07 - val_accuracy: 1.0000\n",
            "Epoch 545/1000\n",
            "12/12 [==============================] - 4s 370ms/step - loss: 2.8839e-07 - accuracy: 1.0000 - val_loss: 2.1048e-07 - val_accuracy: 1.0000\n",
            "Epoch 546/1000\n",
            "12/12 [==============================] - 4s 371ms/step - loss: 2.9059e-07 - accuracy: 1.0000 - val_loss: 2.0955e-07 - val_accuracy: 1.0000\n",
            "Epoch 547/1000\n",
            "12/12 [==============================] - 4s 368ms/step - loss: 2.8210e-07 - accuracy: 1.0000 - val_loss: 2.0675e-07 - val_accuracy: 1.0000\n",
            "Epoch 548/1000\n",
            "12/12 [==============================] - 4s 368ms/step - loss: 3.0412e-07 - accuracy: 1.0000 - val_loss: 2.0489e-07 - val_accuracy: 1.0000\n",
            "Epoch 549/1000\n",
            "12/12 [==============================] - 4s 372ms/step - loss: 2.8655e-07 - accuracy: 1.0000 - val_loss: 2.0396e-07 - val_accuracy: 1.0000\n",
            "Epoch 550/1000\n",
            "12/12 [==============================] - 4s 369ms/step - loss: 2.7929e-07 - accuracy: 1.0000 - val_loss: 2.0303e-07 - val_accuracy: 1.0000\n",
            "Epoch 551/1000\n",
            "12/12 [==============================] - 4s 372ms/step - loss: 2.7801e-07 - accuracy: 1.0000 - val_loss: 2.0210e-07 - val_accuracy: 1.0000\n",
            "Epoch 552/1000\n",
            "12/12 [==============================] - 4s 368ms/step - loss: 2.7638e-07 - accuracy: 1.0000 - val_loss: 2.0117e-07 - val_accuracy: 1.0000\n",
            "Epoch 553/1000\n",
            "12/12 [==============================] - 4s 368ms/step - loss: 2.7801e-07 - accuracy: 1.0000 - val_loss: 1.9744e-07 - val_accuracy: 1.0000\n",
            "Epoch 554/1000\n",
            "12/12 [==============================] - 4s 369ms/step - loss: 2.8558e-07 - accuracy: 1.0000 - val_loss: 1.9651e-07 - val_accuracy: 1.0000\n",
            "Epoch 555/1000\n",
            "12/12 [==============================] - 4s 369ms/step - loss: 2.8873e-07 - accuracy: 1.0000 - val_loss: 1.9558e-07 - val_accuracy: 1.0000\n",
            "Epoch 556/1000\n",
            "12/12 [==============================] - 4s 369ms/step - loss: 2.8045e-07 - accuracy: 1.0000 - val_loss: 1.9278e-07 - val_accuracy: 1.0000\n",
            "Epoch 557/1000\n",
            "12/12 [==============================] - 4s 369ms/step - loss: 2.8464e-07 - accuracy: 1.0000 - val_loss: 1.9278e-07 - val_accuracy: 1.0000\n",
            "Epoch 558/1000\n",
            "12/12 [==============================] - 4s 370ms/step - loss: 2.9819e-07 - accuracy: 1.0000 - val_loss: 1.9092e-07 - val_accuracy: 1.0000\n",
            "Epoch 559/1000\n",
            "12/12 [==============================] - 4s 368ms/step - loss: 2.9906e-07 - accuracy: 1.0000 - val_loss: 1.8999e-07 - val_accuracy: 1.0000\n",
            "Epoch 560/1000\n",
            "12/12 [==============================] - 4s 371ms/step - loss: 2.5630e-07 - accuracy: 1.0000 - val_loss: 1.8999e-07 - val_accuracy: 1.0000\n",
            "Epoch 561/1000\n",
            "12/12 [==============================] - 4s 369ms/step - loss: 2.4563e-07 - accuracy: 1.0000 - val_loss: 1.8813e-07 - val_accuracy: 1.0000\n",
            "Epoch 562/1000\n",
            "12/12 [==============================] - 4s 369ms/step - loss: 2.9156e-07 - accuracy: 1.0000 - val_loss: 1.8813e-07 - val_accuracy: 1.0000\n",
            "Epoch 563/1000\n",
            "12/12 [==============================] - 4s 369ms/step - loss: 2.7989e-07 - accuracy: 1.0000 - val_loss: 1.8906e-07 - val_accuracy: 1.0000\n",
            "Epoch 564/1000\n",
            "12/12 [==============================] - 4s 369ms/step - loss: 2.5410e-07 - accuracy: 1.0000 - val_loss: 1.8626e-07 - val_accuracy: 1.0000\n",
            "Epoch 565/1000\n",
            "12/12 [==============================] - 4s 369ms/step - loss: 2.4752e-07 - accuracy: 1.0000 - val_loss: 1.8347e-07 - val_accuracy: 1.0000\n",
            "Epoch 566/1000\n",
            "12/12 [==============================] - 4s 369ms/step - loss: 2.5507e-07 - accuracy: 1.0000 - val_loss: 1.8254e-07 - val_accuracy: 1.0000\n",
            "Epoch 567/1000\n",
            "12/12 [==============================] - 4s 369ms/step - loss: 2.5286e-07 - accuracy: 1.0000 - val_loss: 1.8254e-07 - val_accuracy: 1.0000\n",
            "Epoch 568/1000\n",
            "12/12 [==============================] - 4s 371ms/step - loss: 2.3021e-07 - accuracy: 1.0000 - val_loss: 1.8161e-07 - val_accuracy: 1.0000\n",
            "Epoch 569/1000\n",
            "12/12 [==============================] - 4s 371ms/step - loss: 2.4440e-07 - accuracy: 1.0000 - val_loss: 1.8254e-07 - val_accuracy: 1.0000\n",
            "Epoch 570/1000\n",
            "12/12 [==============================] - 4s 370ms/step - loss: 2.5669e-07 - accuracy: 1.0000 - val_loss: 1.7881e-07 - val_accuracy: 1.0000\n",
            "Epoch 571/1000\n",
            "12/12 [==============================] - 4s 372ms/step - loss: 2.4778e-07 - accuracy: 1.0000 - val_loss: 1.7788e-07 - val_accuracy: 1.0000\n",
            "Epoch 572/1000\n",
            "12/12 [==============================] - 4s 369ms/step - loss: 2.3776e-07 - accuracy: 1.0000 - val_loss: 1.7788e-07 - val_accuracy: 1.0000\n",
            "Epoch 573/1000\n",
            "12/12 [==============================] - 4s 371ms/step - loss: 2.5195e-07 - accuracy: 1.0000 - val_loss: 1.7788e-07 - val_accuracy: 1.0000\n",
            "Epoch 574/1000\n",
            "12/12 [==============================] - 4s 371ms/step - loss: 2.4534e-07 - accuracy: 1.0000 - val_loss: 1.7788e-07 - val_accuracy: 1.0000\n",
            "Epoch 575/1000\n",
            "12/12 [==============================] - 4s 371ms/step - loss: 2.5003e-07 - accuracy: 1.0000 - val_loss: 1.7788e-07 - val_accuracy: 1.0000\n",
            "Epoch 576/1000\n",
            "12/12 [==============================] - 4s 368ms/step - loss: 2.4657e-07 - accuracy: 1.0000 - val_loss: 1.7788e-07 - val_accuracy: 1.0000\n",
            "Epoch 577/1000\n",
            "12/12 [==============================] - 4s 371ms/step - loss: 2.4563e-07 - accuracy: 1.0000 - val_loss: 1.7695e-07 - val_accuracy: 1.0000\n",
            "Epoch 578/1000\n",
            "12/12 [==============================] - 4s 371ms/step - loss: 2.3711e-07 - accuracy: 1.0000 - val_loss: 1.7602e-07 - val_accuracy: 1.0000\n",
            "Epoch 579/1000\n",
            "12/12 [==============================] - 4s 372ms/step - loss: 2.4746e-07 - accuracy: 1.0000 - val_loss: 1.7695e-07 - val_accuracy: 1.0000\n",
            "Epoch 580/1000\n",
            "12/12 [==============================] - 4s 371ms/step - loss: 2.4214e-07 - accuracy: 1.0000 - val_loss: 1.7416e-07 - val_accuracy: 1.0000\n",
            "Epoch 581/1000\n",
            "12/12 [==============================] - 4s 369ms/step - loss: 2.2898e-07 - accuracy: 1.0000 - val_loss: 1.7416e-07 - val_accuracy: 1.0000\n",
            "Epoch 582/1000\n",
            "12/12 [==============================] - 4s 370ms/step - loss: 2.2300e-07 - accuracy: 1.0000 - val_loss: 1.7136e-07 - val_accuracy: 1.0000\n",
            "Epoch 583/1000\n",
            "12/12 [==============================] - 4s 369ms/step - loss: 2.3844e-07 - accuracy: 1.0000 - val_loss: 1.6857e-07 - val_accuracy: 1.0000\n",
            "Epoch 584/1000\n",
            "12/12 [==============================] - 4s 369ms/step - loss: 2.3559e-07 - accuracy: 1.0000 - val_loss: 1.6950e-07 - val_accuracy: 1.0000\n",
            "Epoch 585/1000\n",
            "12/12 [==============================] - 4s 370ms/step - loss: 2.2929e-07 - accuracy: 1.0000 - val_loss: 1.6950e-07 - val_accuracy: 1.0000\n",
            "Epoch 586/1000\n",
            "12/12 [==============================] - 4s 369ms/step - loss: 2.3520e-07 - accuracy: 1.0000 - val_loss: 1.6950e-07 - val_accuracy: 1.0000\n",
            "Epoch 587/1000\n",
            "12/12 [==============================] - 4s 370ms/step - loss: 2.2332e-07 - accuracy: 1.0000 - val_loss: 1.6764e-07 - val_accuracy: 1.0000\n",
            "Epoch 588/1000\n",
            "12/12 [==============================] - 4s 366ms/step - loss: 2.4403e-07 - accuracy: 1.0000 - val_loss: 1.6578e-07 - val_accuracy: 1.0000\n",
            "Epoch 589/1000\n",
            "12/12 [==============================] - 4s 370ms/step - loss: 2.0473e-07 - accuracy: 1.0000 - val_loss: 1.6578e-07 - val_accuracy: 1.0000\n",
            "Epoch 590/1000\n",
            "12/12 [==============================] - 4s 369ms/step - loss: 2.4031e-07 - accuracy: 1.0000 - val_loss: 1.6671e-07 - val_accuracy: 1.0000\n",
            "Epoch 591/1000\n",
            "12/12 [==============================] - 4s 371ms/step - loss: 2.3055e-07 - accuracy: 1.0000 - val_loss: 1.6484e-07 - val_accuracy: 1.0000\n",
            "Epoch 592/1000\n",
            "12/12 [==============================] - 4s 369ms/step - loss: 2.4531e-07 - accuracy: 1.0000 - val_loss: 1.6298e-07 - val_accuracy: 1.0000\n",
            "Epoch 593/1000\n",
            "12/12 [==============================] - 4s 369ms/step - loss: 2.2767e-07 - accuracy: 1.0000 - val_loss: 1.6298e-07 - val_accuracy: 1.0000\n",
            "Epoch 594/1000\n",
            "12/12 [==============================] - 4s 370ms/step - loss: 2.1763e-07 - accuracy: 1.0000 - val_loss: 1.6019e-07 - val_accuracy: 1.0000\n",
            "Epoch 595/1000\n",
            "12/12 [==============================] - 4s 369ms/step - loss: 2.1008e-07 - accuracy: 1.0000 - val_loss: 1.5646e-07 - val_accuracy: 1.0000\n",
            "Epoch 596/1000\n",
            "12/12 [==============================] - 4s 370ms/step - loss: 2.1545e-07 - accuracy: 1.0000 - val_loss: 1.5553e-07 - val_accuracy: 1.0000\n",
            "Epoch 597/1000\n",
            "12/12 [==============================] - 4s 368ms/step - loss: 2.3527e-07 - accuracy: 1.0000 - val_loss: 1.5274e-07 - val_accuracy: 1.0000\n",
            "Epoch 598/1000\n",
            "12/12 [==============================] - 4s 368ms/step - loss: 2.2146e-07 - accuracy: 1.0000 - val_loss: 1.4994e-07 - val_accuracy: 1.0000\n",
            "Epoch 599/1000\n",
            "12/12 [==============================] - 4s 372ms/step - loss: 2.3590e-07 - accuracy: 1.0000 - val_loss: 1.4994e-07 - val_accuracy: 1.0000\n",
            "Epoch 600/1000\n",
            "12/12 [==============================] - 4s 370ms/step - loss: 2.2552e-07 - accuracy: 1.0000 - val_loss: 1.4808e-07 - val_accuracy: 1.0000\n",
            "Epoch 601/1000\n",
            "12/12 [==============================] - 4s 369ms/step - loss: 2.2486e-07 - accuracy: 1.0000 - val_loss: 1.5087e-07 - val_accuracy: 1.0000\n",
            "Epoch 602/1000\n",
            "12/12 [==============================] - 4s 369ms/step - loss: 2.1042e-07 - accuracy: 1.0000 - val_loss: 1.4901e-07 - val_accuracy: 1.0000\n",
            "Epoch 603/1000\n",
            "12/12 [==============================] - 4s 369ms/step - loss: 2.0947e-07 - accuracy: 1.0000 - val_loss: 1.4342e-07 - val_accuracy: 1.0000\n",
            "Epoch 604/1000\n",
            "12/12 [==============================] - 4s 369ms/step - loss: 2.1920e-07 - accuracy: 1.0000 - val_loss: 1.4342e-07 - val_accuracy: 1.0000\n",
            "Epoch 605/1000\n",
            "12/12 [==============================] - 4s 369ms/step - loss: 2.1383e-07 - accuracy: 1.0000 - val_loss: 1.4622e-07 - val_accuracy: 1.0000\n",
            "Epoch 606/1000\n",
            "12/12 [==============================] - 4s 367ms/step - loss: 2.2361e-07 - accuracy: 1.0000 - val_loss: 1.4715e-07 - val_accuracy: 1.0000\n",
            "Epoch 607/1000\n",
            "12/12 [==============================] - 4s 368ms/step - loss: 2.2332e-07 - accuracy: 1.0000 - val_loss: 1.4622e-07 - val_accuracy: 1.0000\n",
            "Epoch 608/1000\n",
            "12/12 [==============================] - 4s 370ms/step - loss: 2.1760e-07 - accuracy: 1.0000 - val_loss: 1.4249e-07 - val_accuracy: 1.0000\n",
            "Epoch 609/1000\n",
            "12/12 [==============================] - 4s 368ms/step - loss: 2.1860e-07 - accuracy: 1.0000 - val_loss: 1.4156e-07 - val_accuracy: 1.0000\n",
            "Epoch 610/1000\n",
            "12/12 [==============================] - 4s 368ms/step - loss: 2.1013e-07 - accuracy: 1.0000 - val_loss: 1.4156e-07 - val_accuracy: 1.0000\n",
            "Epoch 611/1000\n",
            "12/12 [==============================] - 4s 368ms/step - loss: 2.1165e-07 - accuracy: 1.0000 - val_loss: 1.3877e-07 - val_accuracy: 1.0000\n",
            "Epoch 612/1000\n",
            "12/12 [==============================] - 4s 372ms/step - loss: 2.0877e-07 - accuracy: 1.0000 - val_loss: 1.3877e-07 - val_accuracy: 1.0000\n",
            "Epoch 613/1000\n",
            "12/12 [==============================] - 4s 370ms/step - loss: 2.0067e-07 - accuracy: 1.0000 - val_loss: 1.3877e-07 - val_accuracy: 1.0000\n",
            "Epoch 614/1000\n",
            "12/12 [==============================] - 4s 370ms/step - loss: 2.1165e-07 - accuracy: 1.0000 - val_loss: 1.3784e-07 - val_accuracy: 1.0000\n",
            "Epoch 615/1000\n",
            "12/12 [==============================] - 4s 369ms/step - loss: 2.2327e-07 - accuracy: 1.0000 - val_loss: 1.3784e-07 - val_accuracy: 1.0000\n",
            "Epoch 616/1000\n",
            "12/12 [==============================] - 4s 369ms/step - loss: 2.1199e-07 - accuracy: 1.0000 - val_loss: 1.3784e-07 - val_accuracy: 1.0000\n",
            "Epoch 617/1000\n",
            "12/12 [==============================] - 4s 369ms/step - loss: 2.0664e-07 - accuracy: 1.0000 - val_loss: 1.3690e-07 - val_accuracy: 1.0000\n",
            "Epoch 618/1000\n",
            "12/12 [==============================] - 4s 370ms/step - loss: 2.0947e-07 - accuracy: 1.0000 - val_loss: 1.3690e-07 - val_accuracy: 1.0000\n",
            "Epoch 619/1000\n",
            "12/12 [==============================] - 4s 369ms/step - loss: 2.1545e-07 - accuracy: 1.0000 - val_loss: 1.3504e-07 - val_accuracy: 1.0000\n",
            "Epoch 620/1000\n",
            "12/12 [==============================] - 4s 369ms/step - loss: 2.0790e-07 - accuracy: 1.0000 - val_loss: 1.3690e-07 - val_accuracy: 1.0000\n",
            "Epoch 621/1000\n",
            "12/12 [==============================] - 4s 369ms/step - loss: 2.0853e-07 - accuracy: 1.0000 - val_loss: 1.3411e-07 - val_accuracy: 1.0000\n",
            "Epoch 622/1000\n",
            "12/12 [==============================] - 4s 370ms/step - loss: 2.1545e-07 - accuracy: 1.0000 - val_loss: 1.3504e-07 - val_accuracy: 1.0000\n",
            "Epoch 623/1000\n",
            "12/12 [==============================] - 4s 370ms/step - loss: 2.0536e-07 - accuracy: 1.0000 - val_loss: 1.3504e-07 - val_accuracy: 1.0000\n",
            "Epoch 624/1000\n",
            "12/12 [==============================] - 4s 369ms/step - loss: 2.0124e-07 - accuracy: 1.0000 - val_loss: 1.3411e-07 - val_accuracy: 1.0000\n",
            "Epoch 625/1000\n",
            "12/12 [==============================] - 4s 369ms/step - loss: 2.0253e-07 - accuracy: 1.0000 - val_loss: 1.3504e-07 - val_accuracy: 1.0000\n",
            "Epoch 626/1000\n",
            "12/12 [==============================] - 4s 369ms/step - loss: 2.1013e-07 - accuracy: 1.0000 - val_loss: 1.3411e-07 - val_accuracy: 1.0000\n",
            "Epoch 627/1000\n",
            "12/12 [==============================] - 4s 369ms/step - loss: 2.0981e-07 - accuracy: 1.0000 - val_loss: 1.3597e-07 - val_accuracy: 1.0000\n",
            "Epoch 628/1000\n",
            "12/12 [==============================] - 4s 369ms/step - loss: 2.0504e-07 - accuracy: 1.0000 - val_loss: 1.3411e-07 - val_accuracy: 1.0000\n",
            "Epoch 629/1000\n",
            "12/12 [==============================] - 4s 368ms/step - loss: 2.2895e-07 - accuracy: 1.0000 - val_loss: 1.3504e-07 - val_accuracy: 1.0000\n",
            "Epoch 630/1000\n",
            "12/12 [==============================] - 4s 369ms/step - loss: 2.0192e-07 - accuracy: 1.0000 - val_loss: 1.3225e-07 - val_accuracy: 1.0000\n",
            "Epoch 631/1000\n",
            "12/12 [==============================] - 4s 369ms/step - loss: 1.9624e-07 - accuracy: 1.0000 - val_loss: 1.3318e-07 - val_accuracy: 1.0000\n",
            "Epoch 632/1000\n",
            "12/12 [==============================] - 4s 367ms/step - loss: 1.8842e-07 - accuracy: 1.0000 - val_loss: 1.3318e-07 - val_accuracy: 1.0000\n",
            "Epoch 633/1000\n",
            "12/12 [==============================] - 4s 368ms/step - loss: 2.1223e-07 - accuracy: 1.0000 - val_loss: 1.3039e-07 - val_accuracy: 1.0000\n",
            "Epoch 634/1000\n",
            "12/12 [==============================] - 4s 368ms/step - loss: 2.0856e-07 - accuracy: 1.0000 - val_loss: 1.3132e-07 - val_accuracy: 1.0000\n",
            "Epoch 635/1000\n",
            "12/12 [==============================] - 4s 369ms/step - loss: 2.0819e-07 - accuracy: 1.0000 - val_loss: 1.3039e-07 - val_accuracy: 1.0000\n",
            "Epoch 636/1000\n",
            "12/12 [==============================] - 4s 369ms/step - loss: 1.8622e-07 - accuracy: 1.0000 - val_loss: 1.3132e-07 - val_accuracy: 1.0000\n",
            "Epoch 637/1000\n",
            "12/12 [==============================] - 4s 367ms/step - loss: 2.1697e-07 - accuracy: 1.0000 - val_loss: 1.3132e-07 - val_accuracy: 1.0000\n",
            "Epoch 638/1000\n",
            "12/12 [==============================] - 4s 369ms/step - loss: 2.3082e-07 - accuracy: 1.0000 - val_loss: 1.2945e-07 - val_accuracy: 1.0000\n",
            "Epoch 639/1000\n",
            "12/12 [==============================] - 4s 372ms/step - loss: 2.0824e-07 - accuracy: 1.0000 - val_loss: 1.2852e-07 - val_accuracy: 1.0000\n",
            "Epoch 640/1000\n",
            "12/12 [==============================] - 4s 368ms/step - loss: 2.0567e-07 - accuracy: 1.0000 - val_loss: 1.3225e-07 - val_accuracy: 1.0000\n",
            "Epoch 641/1000\n",
            "12/12 [==============================] - 4s 369ms/step - loss: 1.8682e-07 - accuracy: 1.0000 - val_loss: 1.3411e-07 - val_accuracy: 1.0000\n",
            "Epoch 642/1000\n",
            "12/12 [==============================] - 4s 369ms/step - loss: 2.0565e-07 - accuracy: 1.0000 - val_loss: 1.2759e-07 - val_accuracy: 1.0000\n",
            "Epoch 643/1000\n",
            "12/12 [==============================] - 4s 370ms/step - loss: 2.1954e-07 - accuracy: 1.0000 - val_loss: 1.2573e-07 - val_accuracy: 1.0000\n",
            "Epoch 644/1000\n",
            "12/12 [==============================] - 4s 371ms/step - loss: 2.1107e-07 - accuracy: 1.0000 - val_loss: 1.2573e-07 - val_accuracy: 1.0000\n",
            "Epoch 645/1000\n",
            "12/12 [==============================] - 4s 370ms/step - loss: 1.7615e-07 - accuracy: 1.0000 - val_loss: 1.2759e-07 - val_accuracy: 1.0000\n",
            "Epoch 646/1000\n",
            "12/12 [==============================] - 4s 369ms/step - loss: 2.0384e-07 - accuracy: 1.0000 - val_loss: 1.2945e-07 - val_accuracy: 1.0000\n",
            "Epoch 647/1000\n",
            "12/12 [==============================] - 4s 368ms/step - loss: 2.2169e-07 - accuracy: 1.0000 - val_loss: 1.2759e-07 - val_accuracy: 1.0000\n",
            "Epoch 648/1000\n",
            "12/12 [==============================] - 4s 369ms/step - loss: 1.9626e-07 - accuracy: 1.0000 - val_loss: 1.2666e-07 - val_accuracy: 1.0000\n",
            "Epoch 649/1000\n",
            "12/12 [==============================] - 4s 370ms/step - loss: 1.9374e-07 - accuracy: 1.0000 - val_loss: 1.2852e-07 - val_accuracy: 1.0000\n",
            "Epoch 650/1000\n",
            "12/12 [==============================] - 4s 370ms/step - loss: 2.0287e-07 - accuracy: 1.0000 - val_loss: 1.3318e-07 - val_accuracy: 1.0000\n",
            "Epoch 651/1000\n",
            "12/12 [==============================] - 4s 371ms/step - loss: 2.1322e-07 - accuracy: 1.0000 - val_loss: 1.3039e-07 - val_accuracy: 1.0000\n",
            "Epoch 652/1000\n",
            "12/12 [==============================] - 4s 370ms/step - loss: 2.2329e-07 - accuracy: 1.0000 - val_loss: 1.2759e-07 - val_accuracy: 1.0000\n",
            "Epoch 653/1000\n",
            "12/12 [==============================] - 4s 372ms/step - loss: 2.2709e-07 - accuracy: 1.0000 - val_loss: 1.3039e-07 - val_accuracy: 1.0000\n",
            "Epoch 654/1000\n",
            "12/12 [==============================] - 4s 368ms/step - loss: 2.1514e-07 - accuracy: 1.0000 - val_loss: 1.2852e-07 - val_accuracy: 1.0000\n",
            "Epoch 655/1000\n",
            "12/12 [==============================] - 4s 371ms/step - loss: 2.0822e-07 - accuracy: 1.0000 - val_loss: 1.2852e-07 - val_accuracy: 1.0000\n",
            "Epoch 656/1000\n",
            "12/12 [==============================] - 4s 369ms/step - loss: 2.0381e-07 - accuracy: 1.0000 - val_loss: 1.2852e-07 - val_accuracy: 1.0000\n",
            "Epoch 657/1000\n",
            "12/12 [==============================] - 4s 369ms/step - loss: 2.0882e-07 - accuracy: 1.0000 - val_loss: 1.2573e-07 - val_accuracy: 1.0000\n",
            "Epoch 658/1000\n",
            "12/12 [==============================] - 4s 370ms/step - loss: 2.2825e-07 - accuracy: 1.0000 - val_loss: 1.2666e-07 - val_accuracy: 1.0000\n",
            "Epoch 659/1000\n",
            "12/12 [==============================] - 4s 370ms/step - loss: 2.0321e-07 - accuracy: 1.0000 - val_loss: 1.3225e-07 - val_accuracy: 1.0000\n",
            "Epoch 660/1000\n",
            "12/12 [==============================] - 4s 368ms/step - loss: 2.1826e-07 - accuracy: 1.0000 - val_loss: 1.3411e-07 - val_accuracy: 1.0000\n",
            "Epoch 661/1000\n",
            "12/12 [==============================] - 4s 366ms/step - loss: 2.4783e-07 - accuracy: 1.0000 - val_loss: 1.3132e-07 - val_accuracy: 1.0000\n",
            "Epoch 662/1000\n",
            "12/12 [==============================] - 4s 369ms/step - loss: 2.2775e-07 - accuracy: 1.0000 - val_loss: 1.2945e-07 - val_accuracy: 1.0000\n",
            "Epoch 663/1000\n",
            "12/12 [==============================] - 4s 368ms/step - loss: 2.2397e-07 - accuracy: 1.0000 - val_loss: 1.2945e-07 - val_accuracy: 1.0000\n",
            "Epoch 664/1000\n",
            "12/12 [==============================] - 4s 369ms/step - loss: 2.1260e-07 - accuracy: 1.0000 - val_loss: 1.2573e-07 - val_accuracy: 1.0000\n",
            "Epoch 665/1000\n",
            "12/12 [==============================] - 4s 370ms/step - loss: 1.9658e-07 - accuracy: 1.0000 - val_loss: 1.2759e-07 - val_accuracy: 1.0000\n",
            "Epoch 666/1000\n",
            "12/12 [==============================] - 4s 368ms/step - loss: 1.9440e-07 - accuracy: 1.0000 - val_loss: 1.3411e-07 - val_accuracy: 1.0000\n",
            "Epoch 667/1000\n",
            "12/12 [==============================] - 4s 369ms/step - loss: 2.2518e-07 - accuracy: 1.0000 - val_loss: 1.2666e-07 - val_accuracy: 1.0000\n",
            "Epoch 668/1000\n",
            "12/12 [==============================] - 4s 369ms/step - loss: 2.2017e-07 - accuracy: 1.0000 - val_loss: 1.2666e-07 - val_accuracy: 1.0000\n",
            "Epoch 669/1000\n",
            "12/12 [==============================] - 4s 371ms/step - loss: 2.0384e-07 - accuracy: 1.0000 - val_loss: 1.2945e-07 - val_accuracy: 1.0000\n",
            "Epoch 670/1000\n",
            "12/12 [==============================] - 4s 371ms/step - loss: 2.0919e-07 - accuracy: 1.0000 - val_loss: 1.2573e-07 - val_accuracy: 1.0000\n",
            "Epoch 671/1000\n",
            "12/12 [==============================] - 4s 370ms/step - loss: 1.9692e-07 - accuracy: 1.0000 - val_loss: 1.3318e-07 - val_accuracy: 1.0000\n",
            "Epoch 672/1000\n",
            "12/12 [==============================] - 4s 370ms/step - loss: 2.2741e-07 - accuracy: 1.0000 - val_loss: 1.3132e-07 - val_accuracy: 1.0000\n",
            "Epoch 673/1000\n",
            "12/12 [==============================] - 4s 371ms/step - loss: 2.2929e-07 - accuracy: 1.0000 - val_loss: 1.3411e-07 - val_accuracy: 1.0000\n",
            "Epoch 674/1000\n",
            "12/12 [==============================] - 4s 369ms/step - loss: 2.1957e-07 - accuracy: 1.0000 - val_loss: 1.3504e-07 - val_accuracy: 1.0000\n",
            "Epoch 675/1000\n",
            "12/12 [==============================] - 4s 371ms/step - loss: 2.1037e-07 - accuracy: 1.0000 - val_loss: 1.3225e-07 - val_accuracy: 1.0000\n",
            "Epoch 676/1000\n",
            "12/12 [==============================] - 4s 369ms/step - loss: 2.3338e-07 - accuracy: 1.0000 - val_loss: 1.3411e-07 - val_accuracy: 1.0000\n",
            "Epoch 677/1000\n",
            "12/12 [==============================] - 4s 370ms/step - loss: 2.1039e-07 - accuracy: 1.0000 - val_loss: 1.3504e-07 - val_accuracy: 1.0000\n",
            "Epoch 678/1000\n",
            "12/12 [==============================] - 4s 369ms/step - loss: 2.2583e-07 - accuracy: 1.0000 - val_loss: 1.3504e-07 - val_accuracy: 1.0000\n",
            "Epoch 679/1000\n",
            "12/12 [==============================] - 4s 369ms/step - loss: 2.2203e-07 - accuracy: 1.0000 - val_loss: 1.3504e-07 - val_accuracy: 1.0000\n",
            "Epoch 680/1000\n",
            "12/12 [==============================] - 4s 369ms/step - loss: 2.2554e-07 - accuracy: 1.0000 - val_loss: 1.3132e-07 - val_accuracy: 1.0000\n",
            "Epoch 681/1000\n",
            "12/12 [==============================] - 4s 370ms/step - loss: 2.1010e-07 - accuracy: 1.0000 - val_loss: 1.3411e-07 - val_accuracy: 1.0000\n",
            "Epoch 682/1000\n",
            "12/12 [==============================] - 4s 368ms/step - loss: 2.1105e-07 - accuracy: 1.0000 - val_loss: 1.3039e-07 - val_accuracy: 1.0000\n",
            "Epoch 683/1000\n",
            "12/12 [==============================] - 4s 368ms/step - loss: 2.1703e-07 - accuracy: 1.0000 - val_loss: 1.3039e-07 - val_accuracy: 1.0000\n",
            "Epoch 684/1000\n",
            "12/12 [==============================] - 4s 371ms/step - loss: 2.1831e-07 - accuracy: 1.0000 - val_loss: 1.3132e-07 - val_accuracy: 1.0000\n",
            "Epoch 685/1000\n",
            "12/12 [==============================] - 4s 369ms/step - loss: 2.4151e-07 - accuracy: 1.0000 - val_loss: 1.3132e-07 - val_accuracy: 1.0000\n",
            "Epoch 686/1000\n",
            "12/12 [==============================] - 4s 369ms/step - loss: 2.0035e-07 - accuracy: 1.0000 - val_loss: 1.3411e-07 - val_accuracy: 1.0000\n",
            "Epoch 687/1000\n",
            "12/12 [==============================] - 4s 370ms/step - loss: 2.1758e-07 - accuracy: 1.0000 - val_loss: 1.3225e-07 - val_accuracy: 1.0000\n",
            "Epoch 688/1000\n",
            "12/12 [==============================] - 4s 368ms/step - loss: 2.0664e-07 - accuracy: 1.0000 - val_loss: 1.3132e-07 - val_accuracy: 1.0000\n",
            "Epoch 689/1000\n",
            "12/12 [==============================] - 4s 366ms/step - loss: 2.3496e-07 - accuracy: 1.0000 - val_loss: 1.3132e-07 - val_accuracy: 1.0000\n",
            "Epoch 690/1000\n",
            "12/12 [==============================] - 4s 369ms/step - loss: 2.1134e-07 - accuracy: 1.0000 - val_loss: 1.3225e-07 - val_accuracy: 1.0000\n",
            "Epoch 691/1000\n",
            "12/12 [==============================] - 4s 370ms/step - loss: 2.1010e-07 - accuracy: 1.0000 - val_loss: 1.3132e-07 - val_accuracy: 1.0000\n",
            "Epoch 692/1000\n",
            "12/12 [==============================] - 4s 369ms/step - loss: 2.2390e-07 - accuracy: 1.0000 - val_loss: 1.3504e-07 - val_accuracy: 1.0000\n",
            "Epoch 693/1000\n",
            "12/12 [==============================] - 4s 371ms/step - loss: 2.2143e-07 - accuracy: 1.0000 - val_loss: 1.3784e-07 - val_accuracy: 1.0000\n",
            "Epoch 694/1000\n",
            "12/12 [==============================] - 4s 368ms/step - loss: 2.3561e-07 - accuracy: 1.0000 - val_loss: 1.3411e-07 - val_accuracy: 1.0000\n",
            "Epoch 695/1000\n",
            "12/12 [==============================] - 4s 369ms/step - loss: 2.2334e-07 - accuracy: 1.0000 - val_loss: 1.2759e-07 - val_accuracy: 1.0000\n",
            "Epoch 696/1000\n",
            "12/12 [==============================] - 4s 370ms/step - loss: 2.2838e-07 - accuracy: 1.0000 - val_loss: 1.2573e-07 - val_accuracy: 1.0000\n",
            "Epoch 697/1000\n",
            "12/12 [==============================] - 4s 368ms/step - loss: 2.3525e-07 - accuracy: 1.0000 - val_loss: 1.3225e-07 - val_accuracy: 1.0000\n",
            "Epoch 698/1000\n",
            "12/12 [==============================] - 4s 368ms/step - loss: 2.1131e-07 - accuracy: 1.0000 - val_loss: 1.3132e-07 - val_accuracy: 1.0000\n",
            "Epoch 699/1000\n",
            "12/12 [==============================] - 4s 369ms/step - loss: 2.3435e-07 - accuracy: 1.0000 - val_loss: 1.3039e-07 - val_accuracy: 1.0000\n",
            "Epoch 700/1000\n",
            "12/12 [==============================] - 4s 370ms/step - loss: 1.9191e-07 - accuracy: 1.0000 - val_loss: 1.3132e-07 - val_accuracy: 1.0000\n",
            "Epoch 701/1000\n",
            "12/12 [==============================] - 4s 370ms/step - loss: 2.0824e-07 - accuracy: 1.0000 - val_loss: 1.2945e-07 - val_accuracy: 1.0000\n",
            "Epoch 702/1000\n",
            "12/12 [==============================] - 4s 370ms/step - loss: 2.1734e-07 - accuracy: 1.0000 - val_loss: 1.2945e-07 - val_accuracy: 1.0000\n",
            "Epoch 703/1000\n",
            "12/12 [==============================] - 4s 370ms/step - loss: 2.0192e-07 - accuracy: 1.0000 - val_loss: 1.2666e-07 - val_accuracy: 1.0000\n",
            "Epoch 704/1000\n",
            "12/12 [==============================] - 4s 370ms/step - loss: 2.4065e-07 - accuracy: 1.0000 - val_loss: 1.3225e-07 - val_accuracy: 1.0000\n",
            "Epoch 705/1000\n",
            "12/12 [==============================] - 4s 372ms/step - loss: 2.1831e-07 - accuracy: 1.0000 - val_loss: 1.3225e-07 - val_accuracy: 1.0000\n",
            "Epoch 706/1000\n",
            "12/12 [==============================] - 4s 370ms/step - loss: 2.5635e-07 - accuracy: 1.0000 - val_loss: 1.2852e-07 - val_accuracy: 1.0000\n",
            "Epoch 707/1000\n",
            "12/12 [==============================] - 4s 371ms/step - loss: 2.2867e-07 - accuracy: 1.0000 - val_loss: 1.3597e-07 - val_accuracy: 1.0000\n",
            "Epoch 708/1000\n",
            "12/12 [==============================] - 4s 369ms/step - loss: 2.1860e-07 - accuracy: 1.0000 - val_loss: 1.3132e-07 - val_accuracy: 1.0000\n",
            "Epoch 709/1000\n",
            "12/12 [==============================] - 4s 371ms/step - loss: 2.1642e-07 - accuracy: 1.0000 - val_loss: 1.2945e-07 - val_accuracy: 1.0000\n",
            "Epoch 710/1000\n",
            "12/12 [==============================] - 4s 371ms/step - loss: 2.2020e-07 - accuracy: 1.0000 - val_loss: 1.2945e-07 - val_accuracy: 1.0000\n",
            "Epoch 711/1000\n",
            "12/12 [==============================] - 4s 370ms/step - loss: 2.3963e-07 - accuracy: 1.0000 - val_loss: 1.2480e-07 - val_accuracy: 1.0000\n",
            "Epoch 712/1000\n",
            "12/12 [==============================] - 4s 369ms/step - loss: 2.4093e-07 - accuracy: 1.0000 - val_loss: 1.3225e-07 - val_accuracy: 1.0000\n",
            "Epoch 713/1000\n",
            "12/12 [==============================] - 4s 369ms/step - loss: 2.3276e-07 - accuracy: 1.0000 - val_loss: 1.2945e-07 - val_accuracy: 1.0000\n",
            "Epoch 714/1000\n",
            "12/12 [==============================] - 4s 369ms/step - loss: 2.2172e-07 - accuracy: 1.0000 - val_loss: 1.2852e-07 - val_accuracy: 1.0000\n",
            "Epoch 715/1000\n",
            "12/12 [==============================] - 4s 369ms/step - loss: 2.2864e-07 - accuracy: 1.0000 - val_loss: 1.3039e-07 - val_accuracy: 1.0000\n",
            "Epoch 716/1000\n",
            "12/12 [==============================] - 4s 371ms/step - loss: 2.1668e-07 - accuracy: 1.0000 - val_loss: 1.3132e-07 - val_accuracy: 1.0000\n",
            "Epoch 717/1000\n",
            "12/12 [==============================] - 4s 370ms/step - loss: 2.2054e-07 - accuracy: 1.0000 - val_loss: 1.3039e-07 - val_accuracy: 1.0000\n",
            "Epoch 718/1000\n",
            "12/12 [==============================] - 4s 373ms/step - loss: 2.0822e-07 - accuracy: 1.0000 - val_loss: 1.3039e-07 - val_accuracy: 1.0000\n",
            "Epoch 719/1000\n",
            "12/12 [==============================] - 4s 371ms/step - loss: 2.1078e-07 - accuracy: 1.0000 - val_loss: 1.3225e-07 - val_accuracy: 1.0000\n",
            "Epoch 720/1000\n",
            "12/12 [==============================] - 4s 374ms/step - loss: 2.2046e-07 - accuracy: 1.0000 - val_loss: 1.3225e-07 - val_accuracy: 1.0000\n",
            "Epoch 721/1000\n",
            "12/12 [==============================] - 4s 372ms/step - loss: 2.2901e-07 - accuracy: 1.0000 - val_loss: 1.3318e-07 - val_accuracy: 1.0000\n",
            "Epoch 722/1000\n",
            "12/12 [==============================] - 4s 370ms/step - loss: 2.2274e-07 - accuracy: 1.0000 - val_loss: 1.3784e-07 - val_accuracy: 1.0000\n",
            "Epoch 723/1000\n",
            "12/12 [==============================] - 4s 371ms/step - loss: 2.3181e-07 - accuracy: 1.0000 - val_loss: 1.3318e-07 - val_accuracy: 1.0000\n",
            "Epoch 724/1000\n",
            "12/12 [==============================] - 4s 370ms/step - loss: 2.7336e-07 - accuracy: 1.0000 - val_loss: 1.3225e-07 - val_accuracy: 1.0000\n",
            "Epoch 725/1000\n",
            "12/12 [==============================] - 4s 370ms/step - loss: 2.0465e-07 - accuracy: 1.0000 - val_loss: 1.2387e-07 - val_accuracy: 1.0000\n",
            "Epoch 726/1000\n",
            "12/12 [==============================] - 4s 371ms/step - loss: 2.2712e-07 - accuracy: 1.0000 - val_loss: 1.2573e-07 - val_accuracy: 1.0000\n",
            "Epoch 727/1000\n",
            "12/12 [==============================] - 4s 370ms/step - loss: 2.7546e-07 - accuracy: 1.0000 - val_loss: 1.4249e-07 - val_accuracy: 1.0000\n",
            "Epoch 728/1000\n",
            "12/12 [==============================] - 4s 369ms/step - loss: 2.0667e-07 - accuracy: 1.0000 - val_loss: 1.2293e-07 - val_accuracy: 1.0000\n",
            "Epoch 729/1000\n",
            "12/12 [==============================] - 4s 372ms/step - loss: 2.2554e-07 - accuracy: 1.0000 - val_loss: 1.1828e-07 - val_accuracy: 1.0000\n",
            "Epoch 730/1000\n",
            "12/12 [==============================] - 4s 368ms/step - loss: 2.6802e-07 - accuracy: 1.0000 - val_loss: 1.2852e-07 - val_accuracy: 1.0000\n",
            "Epoch 731/1000\n",
            "12/12 [==============================] - 4s 371ms/step - loss: 2.0882e-07 - accuracy: 1.0000 - val_loss: 1.1548e-07 - val_accuracy: 1.0000\n",
            "Epoch 732/1000\n",
            "12/12 [==============================] - 4s 372ms/step - loss: 2.4348e-07 - accuracy: 1.0000 - val_loss: 1.1362e-07 - val_accuracy: 1.0000\n",
            "Epoch 733/1000\n",
            "12/12 [==============================] - 4s 370ms/step - loss: 2.1642e-07 - accuracy: 1.0000 - val_loss: 1.0990e-07 - val_accuracy: 1.0000\n",
            "Epoch 734/1000\n",
            "12/12 [==============================] - 4s 368ms/step - loss: 2.4282e-07 - accuracy: 1.0000 - val_loss: 1.2573e-07 - val_accuracy: 1.0000\n",
            "Epoch 735/1000\n",
            "12/12 [==============================] - 4s 370ms/step - loss: 2.3087e-07 - accuracy: 1.0000 - val_loss: 1.1921e-07 - val_accuracy: 1.0000\n",
            "Epoch 736/1000\n",
            "12/12 [==============================] - 4s 371ms/step - loss: 2.1451e-07 - accuracy: 1.0000 - val_loss: 1.2107e-07 - val_accuracy: 1.0000\n",
            "Epoch 737/1000\n",
            "12/12 [==============================] - 4s 370ms/step - loss: 2.0323e-07 - accuracy: 1.0000 - val_loss: 1.1828e-07 - val_accuracy: 1.0000\n",
            "Epoch 738/1000\n",
            "12/12 [==============================] - 4s 369ms/step - loss: 2.3367e-07 - accuracy: 1.0000 - val_loss: 1.1921e-07 - val_accuracy: 1.0000\n",
            "Epoch 739/1000\n",
            "12/12 [==============================] - 4s 368ms/step - loss: 2.0313e-07 - accuracy: 1.0000 - val_loss: 1.1642e-07 - val_accuracy: 1.0000\n",
            "Epoch 740/1000\n",
            "12/12 [==============================] - 4s 371ms/step - loss: 2.4820e-07 - accuracy: 1.0000 - val_loss: 1.1735e-07 - val_accuracy: 1.0000\n",
            "Epoch 741/1000\n",
            "12/12 [==============================] - 4s 371ms/step - loss: 2.3711e-07 - accuracy: 1.0000 - val_loss: 1.2107e-07 - val_accuracy: 1.0000\n",
            "Epoch 742/1000\n",
            "12/12 [==============================] - 4s 371ms/step - loss: 3.0857e-07 - accuracy: 1.0000 - val_loss: 1.2666e-07 - val_accuracy: 1.0000\n",
            "Epoch 743/1000\n",
            "12/12 [==============================] - 4s 371ms/step - loss: 2.1986e-07 - accuracy: 1.0000 - val_loss: 1.3225e-07 - val_accuracy: 1.0000\n",
            "Epoch 744/1000\n",
            "12/12 [==============================] - 4s 372ms/step - loss: 1.9254e-07 - accuracy: 1.0000 - val_loss: 1.2107e-07 - val_accuracy: 1.0000\n",
            "Epoch 745/1000\n",
            "12/12 [==============================] - 4s 371ms/step - loss: 2.2963e-07 - accuracy: 1.0000 - val_loss: 1.1642e-07 - val_accuracy: 1.0000\n",
            "Epoch 746/1000\n",
            "12/12 [==============================] - 4s 371ms/step - loss: 2.1078e-07 - accuracy: 1.0000 - val_loss: 1.2200e-07 - val_accuracy: 1.0000\n",
            "Epoch 747/1000\n",
            "12/12 [==============================] - 4s 372ms/step - loss: 2.5606e-07 - accuracy: 1.0000 - val_loss: 1.1548e-07 - val_accuracy: 1.0000\n",
            "Epoch 748/1000\n",
            "12/12 [==============================] - 4s 371ms/step - loss: 2.1228e-07 - accuracy: 1.0000 - val_loss: 1.1176e-07 - val_accuracy: 1.0000\n",
            "Epoch 749/1000\n",
            "12/12 [==============================] - 4s 371ms/step - loss: 1.9529e-07 - accuracy: 1.0000 - val_loss: 1.1548e-07 - val_accuracy: 1.0000\n",
            "Epoch 750/1000\n",
            "12/12 [==============================] - 4s 371ms/step - loss: 1.9692e-07 - accuracy: 1.0000 - val_loss: 1.1642e-07 - val_accuracy: 1.0000\n",
            "Epoch 751/1000\n",
            "12/12 [==============================] - 4s 371ms/step - loss: 2.2680e-07 - accuracy: 1.0000 - val_loss: 1.1828e-07 - val_accuracy: 1.0000\n",
            "Epoch 752/1000\n",
            "12/12 [==============================] - 4s 372ms/step - loss: 2.3679e-07 - accuracy: 1.0000 - val_loss: 1.2666e-07 - val_accuracy: 1.0000\n",
            "Epoch 753/1000\n",
            "12/12 [==============================] - 4s 371ms/step - loss: 2.0415e-07 - accuracy: 1.0000 - val_loss: 1.1455e-07 - val_accuracy: 1.0000\n",
            "Epoch 754/1000\n",
            "12/12 [==============================] - 4s 368ms/step - loss: 2.0887e-07 - accuracy: 1.0000 - val_loss: 1.1269e-07 - val_accuracy: 1.0000\n",
            "Epoch 755/1000\n",
            "12/12 [==============================] - 4s 372ms/step - loss: 2.3878e-07 - accuracy: 1.0000 - val_loss: 1.1083e-07 - val_accuracy: 1.0000\n",
            "Epoch 756/1000\n",
            "12/12 [==============================] - 4s 369ms/step - loss: 2.0510e-07 - accuracy: 1.0000 - val_loss: 1.0990e-07 - val_accuracy: 1.0000\n",
            "Epoch 757/1000\n",
            "12/12 [==============================] - 4s 370ms/step - loss: 2.1545e-07 - accuracy: 1.0000 - val_loss: 1.0151e-07 - val_accuracy: 1.0000\n",
            "Epoch 758/1000\n",
            "12/12 [==============================] - 4s 369ms/step - loss: 2.2762e-07 - accuracy: 1.0000 - val_loss: 1.0803e-07 - val_accuracy: 1.0000\n",
            "Epoch 759/1000\n",
            "12/12 [==============================] - 4s 370ms/step - loss: 2.2518e-07 - accuracy: 1.0000 - val_loss: 1.2107e-07 - val_accuracy: 1.0000\n",
            "Epoch 760/1000\n",
            "12/12 [==============================] - 4s 370ms/step - loss: 2.0287e-07 - accuracy: 1.0000 - val_loss: 1.0896e-07 - val_accuracy: 1.0000\n",
            "Epoch 761/1000\n",
            "12/12 [==============================] - 4s 372ms/step - loss: 2.5976e-07 - accuracy: 1.0000 - val_loss: 1.0617e-07 - val_accuracy: 1.0000\n",
            "Epoch 762/1000\n",
            "12/12 [==============================] - 4s 370ms/step - loss: 1.9283e-07 - accuracy: 1.0000 - val_loss: 9.9651e-08 - val_accuracy: 1.0000\n",
            "Epoch 763/1000\n",
            "12/12 [==============================] - 4s 370ms/step - loss: 2.0282e-07 - accuracy: 1.0000 - val_loss: 1.0524e-07 - val_accuracy: 1.0000\n",
            "Epoch 764/1000\n",
            "12/12 [==============================] - 4s 370ms/step - loss: 1.7112e-07 - accuracy: 1.0000 - val_loss: 1.0151e-07 - val_accuracy: 1.0000\n",
            "Epoch 765/1000\n",
            "12/12 [==============================] - 4s 371ms/step - loss: 2.0253e-07 - accuracy: 1.0000 - val_loss: 1.0431e-07 - val_accuracy: 1.0000\n",
            "Epoch 766/1000\n",
            "12/12 [==============================] - 4s 369ms/step - loss: 1.8965e-07 - accuracy: 1.0000 - val_loss: 1.1362e-07 - val_accuracy: 1.0000\n",
            "Epoch 767/1000\n",
            "12/12 [==============================] - 4s 369ms/step - loss: 2.1390e-07 - accuracy: 1.0000 - val_loss: 1.1176e-07 - val_accuracy: 1.0000\n",
            "Epoch 768/1000\n",
            "12/12 [==============================] - 4s 371ms/step - loss: 2.2269e-07 - accuracy: 1.0000 - val_loss: 1.0710e-07 - val_accuracy: 1.0000\n",
            "Epoch 769/1000\n",
            "12/12 [==============================] - 4s 371ms/step - loss: 2.1799e-07 - accuracy: 1.0000 - val_loss: 1.0431e-07 - val_accuracy: 1.0000\n",
            "Epoch 770/1000\n",
            "12/12 [==============================] - 4s 372ms/step - loss: 2.0764e-07 - accuracy: 1.0000 - val_loss: 1.0338e-07 - val_accuracy: 1.0000\n",
            "Epoch 771/1000\n",
            "12/12 [==============================] - 4s 372ms/step - loss: 2.0313e-07 - accuracy: 1.0000 - val_loss: 1.0245e-07 - val_accuracy: 1.0000\n",
            "Epoch 772/1000\n",
            "12/12 [==============================] - 4s 371ms/step - loss: 2.3616e-07 - accuracy: 1.0000 - val_loss: 9.9651e-08 - val_accuracy: 1.0000\n",
            "Epoch 773/1000\n",
            "12/12 [==============================] - 4s 370ms/step - loss: 2.1920e-07 - accuracy: 1.0000 - val_loss: 9.7789e-08 - val_accuracy: 1.0000\n",
            "Epoch 774/1000\n",
            "12/12 [==============================] - 4s 371ms/step - loss: 2.0481e-07 - accuracy: 1.0000 - val_loss: 1.0338e-07 - val_accuracy: 1.0000\n",
            "Epoch 775/1000\n",
            "12/12 [==============================] - 4s 370ms/step - loss: 2.2111e-07 - accuracy: 1.0000 - val_loss: 1.0151e-07 - val_accuracy: 1.0000\n",
            "Epoch 776/1000\n",
            "12/12 [==============================] - 4s 371ms/step - loss: 2.2020e-07 - accuracy: 1.0000 - val_loss: 1.0338e-07 - val_accuracy: 1.0000\n",
            "Epoch 777/1000\n",
            "12/12 [==============================] - 4s 369ms/step - loss: 2.2523e-07 - accuracy: 1.0000 - val_loss: 1.0710e-07 - val_accuracy: 1.0000\n",
            "Epoch 778/1000\n",
            "12/12 [==============================] - 4s 371ms/step - loss: 2.4505e-07 - accuracy: 1.0000 - val_loss: 1.1362e-07 - val_accuracy: 1.0000\n",
            "Epoch 779/1000\n",
            "12/12 [==============================] - 4s 368ms/step - loss: 2.2332e-07 - accuracy: 1.0000 - val_loss: 1.0245e-07 - val_accuracy: 1.0000\n",
            "Epoch 780/1000\n",
            "12/12 [==============================] - 4s 370ms/step - loss: 1.8559e-07 - accuracy: 1.0000 - val_loss: 8.8476e-08 - val_accuracy: 1.0000\n",
            "Epoch 781/1000\n",
            "12/12 [==============================] - 4s 370ms/step - loss: 2.0224e-07 - accuracy: 1.0000 - val_loss: 8.8476e-08 - val_accuracy: 1.0000\n",
            "Epoch 782/1000\n",
            "12/12 [==============================] - 4s 370ms/step - loss: 1.7240e-07 - accuracy: 1.0000 - val_loss: 8.7544e-08 - val_accuracy: 1.0000\n",
            "Epoch 783/1000\n",
            "12/12 [==============================] - 4s 370ms/step - loss: 2.0040e-07 - accuracy: 1.0000 - val_loss: 8.4750e-08 - val_accuracy: 1.0000\n",
            "Epoch 784/1000\n",
            "12/12 [==============================] - 4s 370ms/step - loss: 1.9411e-07 - accuracy: 1.0000 - val_loss: 8.7544e-08 - val_accuracy: 1.0000\n",
            "Epoch 785/1000\n",
            "12/12 [==============================] - 4s 370ms/step - loss: 2.0127e-07 - accuracy: 1.0000 - val_loss: 8.4750e-08 - val_accuracy: 1.0000\n",
            "Epoch 786/1000\n",
            "12/12 [==============================] - 4s 370ms/step - loss: 2.0512e-07 - accuracy: 1.0000 - val_loss: 8.5682e-08 - val_accuracy: 1.0000\n",
            "Epoch 787/1000\n",
            "12/12 [==============================] - 4s 371ms/step - loss: 1.7080e-07 - accuracy: 1.0000 - val_loss: 8.9407e-08 - val_accuracy: 1.0000\n",
            "Epoch 788/1000\n",
            "12/12 [==============================] - 4s 372ms/step - loss: 2.1354e-07 - accuracy: 1.0000 - val_loss: 9.4995e-08 - val_accuracy: 1.0000\n",
            "Epoch 789/1000\n",
            "12/12 [==============================] - 4s 369ms/step - loss: 2.1105e-07 - accuracy: 1.0000 - val_loss: 9.2201e-08 - val_accuracy: 1.0000\n",
            "Epoch 790/1000\n",
            "12/12 [==============================] - 4s 371ms/step - loss: 2.3108e-07 - accuracy: 1.0000 - val_loss: 1.0431e-07 - val_accuracy: 1.0000\n",
            "Epoch 791/1000\n",
            "12/12 [==============================] - 4s 371ms/step - loss: 1.9624e-07 - accuracy: 1.0000 - val_loss: 9.4995e-08 - val_accuracy: 1.0000\n",
            "Epoch 792/1000\n",
            "12/12 [==============================] - 4s 370ms/step - loss: 2.2099e-07 - accuracy: 1.0000 - val_loss: 9.4064e-08 - val_accuracy: 1.0000\n",
            "Epoch 793/1000\n",
            "12/12 [==============================] - 4s 371ms/step - loss: 2.4626e-07 - accuracy: 1.0000 - val_loss: 9.4064e-08 - val_accuracy: 1.0000\n",
            "Epoch 794/1000\n",
            "12/12 [==============================] - 4s 371ms/step - loss: 2.3341e-07 - accuracy: 1.0000 - val_loss: 8.7544e-08 - val_accuracy: 1.0000\n",
            "Epoch 795/1000\n",
            "12/12 [==============================] - 4s 369ms/step - loss: 2.7497e-07 - accuracy: 1.0000 - val_loss: 1.5739e-07 - val_accuracy: 1.0000\n",
            "Epoch 796/1000\n",
            "12/12 [==============================] - 4s 369ms/step - loss: 5.6311e-07 - accuracy: 1.0000 - val_loss: 1.2480e-07 - val_accuracy: 1.0000\n",
            "Epoch 797/1000\n",
            "12/12 [==============================] - 4s 370ms/step - loss: 2.6613 - accuracy: 0.8777 - val_loss: 14.2364 - val_accuracy: 0.2755\n",
            "Epoch 798/1000\n",
            "12/12 [==============================] - 4s 366ms/step - loss: 6.4258 - accuracy: 0.5352 - val_loss: 1.6733 - val_accuracy: 0.7857\n",
            "Epoch 799/1000\n",
            "12/12 [==============================] - 4s 364ms/step - loss: 0.4347 - accuracy: 0.8807 - val_loss: 0.0016 - val_accuracy: 1.0000\n",
            "Epoch 800/1000\n",
            "12/12 [==============================] - 4s 366ms/step - loss: 0.2517 - accuracy: 0.9725 - val_loss: 1.5594e-04 - val_accuracy: 1.0000\n",
            "Epoch 801/1000\n",
            "12/12 [==============================] - 4s 366ms/step - loss: 9.6186e-04 - accuracy: 1.0000 - val_loss: 1.1348e-04 - val_accuracy: 1.0000\n",
            "Epoch 802/1000\n",
            "12/12 [==============================] - 4s 366ms/step - loss: 6.7643e-04 - accuracy: 1.0000 - val_loss: 5.7512e-05 - val_accuracy: 1.0000\n",
            "Epoch 803/1000\n",
            "12/12 [==============================] - 4s 364ms/step - loss: 2.6707e-04 - accuracy: 1.0000 - val_loss: 3.6694e-05 - val_accuracy: 1.0000\n",
            "Epoch 804/1000\n",
            "12/12 [==============================] - 4s 364ms/step - loss: 2.1691e-04 - accuracy: 1.0000 - val_loss: 2.7549e-05 - val_accuracy: 1.0000\n",
            "Epoch 805/1000\n",
            "12/12 [==============================] - 4s 366ms/step - loss: 1.1721e-04 - accuracy: 1.0000 - val_loss: 2.2070e-05 - val_accuracy: 1.0000\n",
            "Epoch 806/1000\n",
            "12/12 [==============================] - 4s 364ms/step - loss: 6.3668e-05 - accuracy: 1.0000 - val_loss: 1.7912e-05 - val_accuracy: 1.0000\n",
            "Epoch 807/1000\n",
            "12/12 [==============================] - 4s 364ms/step - loss: 7.0300e-05 - accuracy: 1.0000 - val_loss: 1.5403e-05 - val_accuracy: 1.0000\n",
            "Epoch 808/1000\n",
            "12/12 [==============================] - 4s 365ms/step - loss: 5.4135e-05 - accuracy: 1.0000 - val_loss: 1.2592e-05 - val_accuracy: 1.0000\n",
            "Epoch 809/1000\n",
            "12/12 [==============================] - 4s 365ms/step - loss: 5.0747e-05 - accuracy: 1.0000 - val_loss: 1.0884e-05 - val_accuracy: 1.0000\n",
            "Epoch 810/1000\n",
            "12/12 [==============================] - 4s 364ms/step - loss: 5.2465e-05 - accuracy: 1.0000 - val_loss: 8.6666e-06 - val_accuracy: 1.0000\n",
            "Epoch 811/1000\n",
            "12/12 [==============================] - 4s 363ms/step - loss: 3.4256e-05 - accuracy: 1.0000 - val_loss: 6.8991e-06 - val_accuracy: 1.0000\n",
            "Epoch 812/1000\n",
            "12/12 [==============================] - 4s 366ms/step - loss: 4.4703e-05 - accuracy: 1.0000 - val_loss: 6.2493e-06 - val_accuracy: 1.0000\n",
            "Epoch 813/1000\n",
            "12/12 [==============================] - 4s 364ms/step - loss: 3.6769e-05 - accuracy: 1.0000 - val_loss: 5.7288e-06 - val_accuracy: 1.0000\n",
            "Epoch 814/1000\n",
            "12/12 [==============================] - 4s 364ms/step - loss: 2.0309e-05 - accuracy: 1.0000 - val_loss: 5.0892e-06 - val_accuracy: 1.0000\n",
            "Epoch 815/1000\n",
            "12/12 [==============================] - 4s 362ms/step - loss: 3.1582e-05 - accuracy: 1.0000 - val_loss: 4.7512e-06 - val_accuracy: 1.0000\n",
            "Epoch 816/1000\n",
            "12/12 [==============================] - 4s 363ms/step - loss: 2.5646e-05 - accuracy: 1.0000 - val_loss: 4.5417e-06 - val_accuracy: 1.0000\n",
            "Epoch 817/1000\n",
            "12/12 [==============================] - 4s 363ms/step - loss: 2.8941e-05 - accuracy: 1.0000 - val_loss: 4.3555e-06 - val_accuracy: 1.0000\n",
            "Epoch 818/1000\n",
            "12/12 [==============================] - 4s 361ms/step - loss: 3.5056e-05 - accuracy: 1.0000 - val_loss: 4.1171e-06 - val_accuracy: 1.0000\n",
            "Epoch 819/1000\n",
            "12/12 [==============================] - 4s 364ms/step - loss: 3.9718e-05 - accuracy: 1.0000 - val_loss: 3.8750e-06 - val_accuracy: 1.0000\n",
            "Epoch 820/1000\n",
            "12/12 [==============================] - 4s 364ms/step - loss: 2.6732e-05 - accuracy: 1.0000 - val_loss: 3.6227e-06 - val_accuracy: 1.0000\n",
            "Epoch 821/1000\n",
            "12/12 [==============================] - 4s 363ms/step - loss: 1.6057e-05 - accuracy: 1.0000 - val_loss: 2.8088e-06 - val_accuracy: 1.0000\n",
            "Epoch 822/1000\n",
            "12/12 [==============================] - 4s 365ms/step - loss: 1.5079e-05 - accuracy: 1.0000 - val_loss: 2.9671e-06 - val_accuracy: 1.0000\n",
            "Epoch 823/1000\n",
            "12/12 [==============================] - 4s 364ms/step - loss: 1.2907e-05 - accuracy: 1.0000 - val_loss: 2.8535e-06 - val_accuracy: 1.0000\n",
            "Epoch 824/1000\n",
            "12/12 [==============================] - 4s 364ms/step - loss: 1.3833e-05 - accuracy: 1.0000 - val_loss: 2.7268e-06 - val_accuracy: 1.0000\n",
            "Epoch 825/1000\n",
            "12/12 [==============================] - 4s 364ms/step - loss: 8.6782e-06 - accuracy: 1.0000 - val_loss: 2.6160e-06 - val_accuracy: 1.0000\n",
            "Epoch 826/1000\n",
            "12/12 [==============================] - 4s 363ms/step - loss: 1.1232e-05 - accuracy: 1.0000 - val_loss: 2.5154e-06 - val_accuracy: 1.0000\n",
            "Epoch 827/1000\n",
            "12/12 [==============================] - 4s 364ms/step - loss: 1.1166e-05 - accuracy: 1.0000 - val_loss: 2.4446e-06 - val_accuracy: 1.0000\n",
            "Epoch 828/1000\n",
            "12/12 [==============================] - 4s 364ms/step - loss: 9.3990e-06 - accuracy: 1.0000 - val_loss: 2.3748e-06 - val_accuracy: 1.0000\n",
            "Epoch 829/1000\n",
            "12/12 [==============================] - 4s 368ms/step - loss: 1.0325e-05 - accuracy: 1.0000 - val_loss: 2.2956e-06 - val_accuracy: 1.0000\n",
            "Epoch 830/1000\n",
            "12/12 [==============================] - 4s 363ms/step - loss: 5.7172e-06 - accuracy: 1.0000 - val_loss: 2.2407e-06 - val_accuracy: 1.0000\n",
            "Epoch 831/1000\n",
            "12/12 [==============================] - 4s 363ms/step - loss: 7.2910e-06 - accuracy: 1.0000 - val_loss: 2.1830e-06 - val_accuracy: 1.0000\n",
            "Epoch 832/1000\n",
            "12/12 [==============================] - 4s 366ms/step - loss: 8.2885e-06 - accuracy: 1.0000 - val_loss: 2.1895e-06 - val_accuracy: 1.0000\n",
            "Epoch 833/1000\n",
            "12/12 [==============================] - 4s 362ms/step - loss: 5.8643e-06 - accuracy: 1.0000 - val_loss: 1.7844e-06 - val_accuracy: 1.0000\n",
            "Epoch 834/1000\n",
            "12/12 [==============================] - 4s 363ms/step - loss: 1.7532e-05 - accuracy: 1.0000 - val_loss: 2.6216e-06 - val_accuracy: 1.0000\n",
            "Epoch 835/1000\n",
            "12/12 [==============================] - 4s 362ms/step - loss: 1.1658e-05 - accuracy: 1.0000 - val_loss: 2.7501e-06 - val_accuracy: 1.0000\n",
            "Epoch 836/1000\n",
            "12/12 [==============================] - 4s 363ms/step - loss: 2.0981e-05 - accuracy: 1.0000 - val_loss: 2.6979e-06 - val_accuracy: 1.0000\n",
            "Epoch 837/1000\n",
            "12/12 [==============================] - 4s 364ms/step - loss: 1.3390e-05 - accuracy: 1.0000 - val_loss: 2.6085e-06 - val_accuracy: 1.0000\n",
            "Epoch 838/1000\n",
            "12/12 [==============================] - 4s 365ms/step - loss: 1.1943e-05 - accuracy: 1.0000 - val_loss: 2.5396e-06 - val_accuracy: 1.0000\n",
            "Epoch 839/1000\n",
            "12/12 [==============================] - 4s 362ms/step - loss: 7.1310e-06 - accuracy: 1.0000 - val_loss: 2.4735e-06 - val_accuracy: 1.0000\n",
            "Epoch 840/1000\n",
            "12/12 [==============================] - 4s 364ms/step - loss: 9.2849e-06 - accuracy: 1.0000 - val_loss: 2.4139e-06 - val_accuracy: 1.0000\n",
            "Epoch 841/1000\n",
            "12/12 [==============================] - 4s 363ms/step - loss: 9.3134e-06 - accuracy: 1.0000 - val_loss: 2.3590e-06 - val_accuracy: 1.0000\n",
            "Epoch 842/1000\n",
            "12/12 [==============================] - 4s 364ms/step - loss: 8.8854e-06 - accuracy: 1.0000 - val_loss: 2.3077e-06 - val_accuracy: 1.0000\n",
            "Epoch 843/1000\n",
            "12/12 [==============================] - 4s 366ms/step - loss: 1.0837e-05 - accuracy: 1.0000 - val_loss: 2.2844e-06 - val_accuracy: 1.0000\n",
            "Epoch 844/1000\n",
            "12/12 [==============================] - 4s 363ms/step - loss: 6.7568e-06 - accuracy: 1.0000 - val_loss: 2.2519e-06 - val_accuracy: 1.0000\n",
            "Epoch 845/1000\n",
            "12/12 [==============================] - 4s 363ms/step - loss: 5.8004e-06 - accuracy: 1.0000 - val_loss: 2.2193e-06 - val_accuracy: 1.0000\n",
            "Epoch 846/1000\n",
            "12/12 [==============================] - 4s 364ms/step - loss: 6.8834e-06 - accuracy: 1.0000 - val_loss: 2.1783e-06 - val_accuracy: 1.0000\n",
            "Epoch 847/1000\n",
            "12/12 [==============================] - 4s 365ms/step - loss: 7.2149e-06 - accuracy: 1.0000 - val_loss: 2.1504e-06 - val_accuracy: 1.0000\n",
            "Epoch 848/1000\n",
            "12/12 [==============================] - 4s 365ms/step - loss: 6.6255e-06 - accuracy: 1.0000 - val_loss: 2.1178e-06 - val_accuracy: 1.0000\n",
            "Epoch 849/1000\n",
            "12/12 [==============================] - 4s 363ms/step - loss: 6.3959e-06 - accuracy: 1.0000 - val_loss: 2.0917e-06 - val_accuracy: 1.0000\n",
            "Epoch 850/1000\n",
            "12/12 [==============================] - 4s 365ms/step - loss: 6.4464e-06 - accuracy: 1.0000 - val_loss: 2.0302e-06 - val_accuracy: 1.0000\n",
            "Epoch 851/1000\n",
            "12/12 [==============================] - 4s 362ms/step - loss: 7.8588e-06 - accuracy: 1.0000 - val_loss: 1.9250e-06 - val_accuracy: 1.0000\n",
            "Epoch 852/1000\n",
            "12/12 [==============================] - 4s 362ms/step - loss: 5.4175e-06 - accuracy: 1.0000 - val_loss: 1.7751e-06 - val_accuracy: 1.0000\n",
            "Epoch 853/1000\n",
            "12/12 [==============================] - 4s 364ms/step - loss: 9.0128e-06 - accuracy: 1.0000 - val_loss: 1.7685e-06 - val_accuracy: 1.0000\n",
            "Epoch 854/1000\n",
            "12/12 [==============================] - 4s 365ms/step - loss: 6.8354e-06 - accuracy: 1.0000 - val_loss: 1.7611e-06 - val_accuracy: 1.0000\n",
            "Epoch 855/1000\n",
            "12/12 [==============================] - 4s 362ms/step - loss: 6.8448e-06 - accuracy: 1.0000 - val_loss: 1.6633e-06 - val_accuracy: 1.0000\n",
            "Epoch 856/1000\n",
            "12/12 [==============================] - 4s 367ms/step - loss: 4.7673e-06 - accuracy: 1.0000 - val_loss: 1.6130e-06 - val_accuracy: 1.0000\n",
            "Epoch 857/1000\n",
            "12/12 [==============================] - 4s 363ms/step - loss: 5.3651e-06 - accuracy: 1.0000 - val_loss: 1.5553e-06 - val_accuracy: 1.0000\n",
            "Epoch 858/1000\n",
            "12/12 [==============================] - 4s 365ms/step - loss: 4.4841e-06 - accuracy: 1.0000 - val_loss: 1.5273e-06 - val_accuracy: 1.0000\n",
            "Epoch 859/1000\n",
            "12/12 [==============================] - 4s 363ms/step - loss: 5.1319e-06 - accuracy: 1.0000 - val_loss: 1.4938e-06 - val_accuracy: 1.0000\n",
            "Epoch 860/1000\n",
            "12/12 [==============================] - 4s 363ms/step - loss: 3.7904e-06 - accuracy: 1.0000 - val_loss: 1.4556e-06 - val_accuracy: 1.0000\n",
            "Epoch 861/1000\n",
            "12/12 [==============================] - 4s 363ms/step - loss: 5.9154e-06 - accuracy: 1.0000 - val_loss: 1.4454e-06 - val_accuracy: 1.0000\n",
            "Epoch 862/1000\n",
            "12/12 [==============================] - 4s 364ms/step - loss: 4.5286e-06 - accuracy: 1.0000 - val_loss: 1.4379e-06 - val_accuracy: 1.0000\n",
            "Epoch 863/1000\n",
            "12/12 [==============================] - 4s 364ms/step - loss: 3.0377e-06 - accuracy: 1.0000 - val_loss: 1.4007e-06 - val_accuracy: 1.0000\n",
            "Epoch 864/1000\n",
            "12/12 [==============================] - 4s 364ms/step - loss: 4.0871e-06 - accuracy: 1.0000 - val_loss: 1.3783e-06 - val_accuracy: 1.0000\n",
            "Epoch 865/1000\n",
            "12/12 [==============================] - 4s 364ms/step - loss: 4.3060e-06 - accuracy: 1.0000 - val_loss: 1.3318e-06 - val_accuracy: 1.0000\n",
            "Epoch 866/1000\n",
            "12/12 [==============================] - 4s 364ms/step - loss: 3.4491e-06 - accuracy: 1.0000 - val_loss: 1.2750e-06 - val_accuracy: 1.0000\n",
            "Epoch 867/1000\n",
            "12/12 [==============================] - 4s 364ms/step - loss: 4.7456e-06 - accuracy: 1.0000 - val_loss: 1.2461e-06 - val_accuracy: 1.0000\n",
            "Epoch 868/1000\n",
            "12/12 [==============================] - 4s 363ms/step - loss: 3.0956e-06 - accuracy: 1.0000 - val_loss: 1.2293e-06 - val_accuracy: 1.0000\n",
            "Epoch 869/1000\n",
            "12/12 [==============================] - 4s 364ms/step - loss: 3.5575e-06 - accuracy: 1.0000 - val_loss: 1.2182e-06 - val_accuracy: 1.0000\n",
            "Epoch 870/1000\n",
            "12/12 [==============================] - 4s 361ms/step - loss: 2.8043e-06 - accuracy: 1.0000 - val_loss: 1.2191e-06 - val_accuracy: 1.0000\n",
            "Epoch 871/1000\n",
            "12/12 [==============================] - 4s 361ms/step - loss: 2.3281e-06 - accuracy: 1.0000 - val_loss: 1.1949e-06 - val_accuracy: 1.0000\n",
            "Epoch 872/1000\n",
            "12/12 [==============================] - 4s 363ms/step - loss: 3.6469e-06 - accuracy: 1.0000 - val_loss: 1.1427e-06 - val_accuracy: 1.0000\n",
            "Epoch 873/1000\n",
            "12/12 [==============================] - 4s 362ms/step - loss: 4.4271e-06 - accuracy: 1.0000 - val_loss: 1.1064e-06 - val_accuracy: 1.0000\n",
            "Epoch 874/1000\n",
            "12/12 [==============================] - 4s 362ms/step - loss: 3.4406e-06 - accuracy: 1.0000 - val_loss: 1.0915e-06 - val_accuracy: 1.0000\n",
            "Epoch 875/1000\n",
            "12/12 [==============================] - 4s 362ms/step - loss: 4.9661e-06 - accuracy: 1.0000 - val_loss: 1.1436e-06 - val_accuracy: 1.0000\n",
            "Epoch 876/1000\n",
            "12/12 [==============================] - 4s 363ms/step - loss: 3.0885e-06 - accuracy: 1.0000 - val_loss: 1.1278e-06 - val_accuracy: 1.0000\n",
            "Epoch 877/1000\n",
            "12/12 [==============================] - 4s 363ms/step - loss: 2.6873e-06 - accuracy: 1.0000 - val_loss: 1.0468e-06 - val_accuracy: 1.0000\n",
            "Epoch 878/1000\n",
            "12/12 [==============================] - 4s 364ms/step - loss: 2.6242e-06 - accuracy: 1.0000 - val_loss: 1.0012e-06 - val_accuracy: 1.0000\n",
            "Epoch 879/1000\n",
            "12/12 [==============================] - 4s 363ms/step - loss: 3.6061e-06 - accuracy: 1.0000 - val_loss: 9.8253e-07 - val_accuracy: 1.0000\n",
            "Epoch 880/1000\n",
            "12/12 [==============================] - 4s 362ms/step - loss: 4.0985e-06 - accuracy: 1.0000 - val_loss: 9.7043e-07 - val_accuracy: 1.0000\n",
            "Epoch 881/1000\n",
            "12/12 [==============================] - 4s 362ms/step - loss: 2.7278e-06 - accuracy: 1.0000 - val_loss: 9.5739e-07 - val_accuracy: 1.0000\n",
            "Epoch 882/1000\n",
            "12/12 [==============================] - 4s 363ms/step - loss: 3.1587e-06 - accuracy: 1.0000 - val_loss: 9.2759e-07 - val_accuracy: 1.0000\n",
            "Epoch 883/1000\n",
            "12/12 [==============================] - 4s 363ms/step - loss: 3.0030e-06 - accuracy: 1.0000 - val_loss: 9.0803e-07 - val_accuracy: 1.0000\n",
            "Epoch 884/1000\n",
            "12/12 [==============================] - 4s 362ms/step - loss: 2.5453e-06 - accuracy: 1.0000 - val_loss: 8.9872e-07 - val_accuracy: 1.0000\n",
            "Epoch 885/1000\n",
            "12/12 [==============================] - 4s 362ms/step - loss: 2.5074e-06 - accuracy: 1.0000 - val_loss: 9.0151e-07 - val_accuracy: 1.0000\n",
            "Epoch 886/1000\n",
            "12/12 [==============================] - 4s 364ms/step - loss: 2.3377e-06 - accuracy: 1.0000 - val_loss: 8.8382e-07 - val_accuracy: 1.0000\n",
            "Epoch 887/1000\n",
            "12/12 [==============================] - 4s 364ms/step - loss: 2.1184e-06 - accuracy: 1.0000 - val_loss: 8.7544e-07 - val_accuracy: 1.0000\n",
            "Epoch 888/1000\n",
            "12/12 [==============================] - 4s 360ms/step - loss: 2.0816e-06 - accuracy: 1.0000 - val_loss: 8.6798e-07 - val_accuracy: 1.0000\n",
            "Epoch 889/1000\n",
            "12/12 [==============================] - 4s 362ms/step - loss: 2.0963e-06 - accuracy: 1.0000 - val_loss: 8.5122e-07 - val_accuracy: 1.0000\n",
            "Epoch 890/1000\n",
            "12/12 [==============================] - 4s 360ms/step - loss: 3.0092e-06 - accuracy: 1.0000 - val_loss: 8.4098e-07 - val_accuracy: 1.0000\n",
            "Epoch 891/1000\n",
            "12/12 [==============================] - 4s 361ms/step - loss: 2.5337e-06 - accuracy: 1.0000 - val_loss: 8.0466e-07 - val_accuracy: 1.0000\n",
            "Epoch 892/1000\n",
            "12/12 [==============================] - 4s 360ms/step - loss: 2.5353e-06 - accuracy: 1.0000 - val_loss: 7.6834e-07 - val_accuracy: 1.0000\n",
            "Epoch 893/1000\n",
            "12/12 [==============================] - 4s 362ms/step - loss: 2.5312e-06 - accuracy: 1.0000 - val_loss: 7.4971e-07 - val_accuracy: 1.0000\n",
            "Epoch 894/1000\n",
            "12/12 [==============================] - 4s 365ms/step - loss: 2.1600e-06 - accuracy: 1.0000 - val_loss: 7.4505e-07 - val_accuracy: 1.0000\n",
            "Epoch 895/1000\n",
            "12/12 [==============================] - 4s 362ms/step - loss: 1.9674e-06 - accuracy: 1.0000 - val_loss: 7.2922e-07 - val_accuracy: 1.0000\n",
            "Epoch 896/1000\n",
            "12/12 [==============================] - 4s 363ms/step - loss: 2.2615e-06 - accuracy: 1.0000 - val_loss: 7.0501e-07 - val_accuracy: 1.0000\n",
            "Epoch 897/1000\n",
            "12/12 [==============================] - 4s 361ms/step - loss: 2.4865e-06 - accuracy: 1.0000 - val_loss: 6.9476e-07 - val_accuracy: 1.0000\n",
            "Epoch 898/1000\n",
            "12/12 [==============================] - 4s 363ms/step - loss: 1.9391e-06 - accuracy: 1.0000 - val_loss: 6.8638e-07 - val_accuracy: 1.0000\n",
            "Epoch 899/1000\n",
            "12/12 [==============================] - 4s 360ms/step - loss: 2.8190e-06 - accuracy: 1.0000 - val_loss: 6.9383e-07 - val_accuracy: 1.0000\n",
            "Epoch 900/1000\n",
            "12/12 [==============================] - 4s 362ms/step - loss: 2.4944e-06 - accuracy: 1.0000 - val_loss: 6.7614e-07 - val_accuracy: 1.0000\n",
            "Epoch 901/1000\n",
            "12/12 [==============================] - 4s 362ms/step - loss: 1.8929e-06 - accuracy: 1.0000 - val_loss: 6.5658e-07 - val_accuracy: 1.0000\n",
            "Epoch 902/1000\n",
            "12/12 [==============================] - 4s 362ms/step - loss: 1.8146e-06 - accuracy: 1.0000 - val_loss: 6.4540e-07 - val_accuracy: 1.0000\n",
            "Epoch 903/1000\n",
            "12/12 [==============================] - 4s 362ms/step - loss: 1.7434e-06 - accuracy: 1.0000 - val_loss: 6.3981e-07 - val_accuracy: 1.0000\n",
            "Epoch 904/1000\n",
            "12/12 [==============================] - 4s 362ms/step - loss: 2.6146e-06 - accuracy: 1.0000 - val_loss: 6.3143e-07 - val_accuracy: 1.0000\n",
            "Epoch 905/1000\n",
            "12/12 [==============================] - 4s 362ms/step - loss: 1.7628e-06 - accuracy: 1.0000 - val_loss: 6.2491e-07 - val_accuracy: 1.0000\n",
            "Epoch 906/1000\n",
            "12/12 [==============================] - 4s 364ms/step - loss: 2.3882e-06 - accuracy: 1.0000 - val_loss: 6.0070e-07 - val_accuracy: 1.0000\n",
            "Epoch 907/1000\n",
            "12/12 [==============================] - 4s 363ms/step - loss: 2.8853e-06 - accuracy: 1.0000 - val_loss: 5.8021e-07 - val_accuracy: 1.0000\n",
            "Epoch 908/1000\n",
            "12/12 [==============================] - 4s 364ms/step - loss: 2.8064e-06 - accuracy: 1.0000 - val_loss: 5.7369e-07 - val_accuracy: 1.0000\n",
            "Epoch 909/1000\n",
            "12/12 [==============================] - 4s 364ms/step - loss: 2.3764e-06 - accuracy: 1.0000 - val_loss: 5.3365e-07 - val_accuracy: 1.0000\n",
            "Epoch 910/1000\n",
            "12/12 [==============================] - 4s 361ms/step - loss: 2.0162e-06 - accuracy: 1.0000 - val_loss: 5.2899e-07 - val_accuracy: 1.0000\n",
            "Epoch 911/1000\n",
            "12/12 [==============================] - 4s 365ms/step - loss: 1.5313e-06 - accuracy: 1.0000 - val_loss: 5.1129e-07 - val_accuracy: 1.0000\n",
            "Epoch 912/1000\n",
            "12/12 [==============================] - 4s 361ms/step - loss: 1.9925e-06 - accuracy: 1.0000 - val_loss: 5.0477e-07 - val_accuracy: 1.0000\n",
            "Epoch 913/1000\n",
            "12/12 [==============================] - 4s 363ms/step - loss: 1.6330e-06 - accuracy: 1.0000 - val_loss: 4.9919e-07 - val_accuracy: 1.0000\n",
            "Epoch 914/1000\n",
            "12/12 [==============================] - 4s 365ms/step - loss: 1.5430e-06 - accuracy: 1.0000 - val_loss: 5.1316e-07 - val_accuracy: 1.0000\n",
            "Epoch 915/1000\n",
            "12/12 [==============================] - 4s 366ms/step - loss: 1.2497e-06 - accuracy: 1.0000 - val_loss: 5.8300e-07 - val_accuracy: 1.0000\n",
            "Epoch 916/1000\n",
            "12/12 [==============================] - 4s 364ms/step - loss: 1.8183e-06 - accuracy: 1.0000 - val_loss: 4.8894e-07 - val_accuracy: 1.0000\n",
            "Epoch 917/1000\n",
            "12/12 [==============================] - 4s 366ms/step - loss: 1.7695e-06 - accuracy: 1.0000 - val_loss: 4.7497e-07 - val_accuracy: 1.0000\n",
            "Epoch 918/1000\n",
            "12/12 [==============================] - 4s 363ms/step - loss: 1.6603e-06 - accuracy: 1.0000 - val_loss: 4.6752e-07 - val_accuracy: 1.0000\n",
            "Epoch 919/1000\n",
            "12/12 [==============================] - 4s 366ms/step - loss: 1.5403e-06 - accuracy: 1.0000 - val_loss: 4.6100e-07 - val_accuracy: 1.0000\n",
            "Epoch 920/1000\n",
            "12/12 [==============================] - 4s 364ms/step - loss: 1.2871e-06 - accuracy: 1.0000 - val_loss: 4.5541e-07 - val_accuracy: 1.0000\n",
            "Epoch 921/1000\n",
            "12/12 [==============================] - 4s 367ms/step - loss: 1.4181e-06 - accuracy: 1.0000 - val_loss: 4.5169e-07 - val_accuracy: 1.0000\n",
            "Epoch 922/1000\n",
            "12/12 [==============================] - 4s 364ms/step - loss: 1.1183e-06 - accuracy: 1.0000 - val_loss: 4.4703e-07 - val_accuracy: 1.0000\n",
            "Epoch 923/1000\n",
            "12/12 [==============================] - 4s 366ms/step - loss: 1.5533e-06 - accuracy: 1.0000 - val_loss: 4.3958e-07 - val_accuracy: 1.0000\n",
            "Epoch 924/1000\n",
            "12/12 [==============================] - 4s 366ms/step - loss: 1.0966e-06 - accuracy: 1.0000 - val_loss: 4.3399e-07 - val_accuracy: 1.0000\n",
            "Epoch 925/1000\n",
            "12/12 [==============================] - 4s 366ms/step - loss: 1.4003e-06 - accuracy: 1.0000 - val_loss: 4.3120e-07 - val_accuracy: 1.0000\n",
            "Epoch 926/1000\n",
            "12/12 [==============================] - 4s 364ms/step - loss: 1.8003e-06 - accuracy: 1.0000 - val_loss: 4.3306e-07 - val_accuracy: 1.0000\n",
            "Epoch 927/1000\n",
            "12/12 [==============================] - 4s 365ms/step - loss: 1.4278e-06 - accuracy: 1.0000 - val_loss: 4.1723e-07 - val_accuracy: 1.0000\n",
            "Epoch 928/1000\n",
            "12/12 [==============================] - 4s 364ms/step - loss: 1.2510e-06 - accuracy: 1.0000 - val_loss: 4.0978e-07 - val_accuracy: 1.0000\n",
            "Epoch 929/1000\n",
            "12/12 [==============================] - 4s 364ms/step - loss: 1.0621e-06 - accuracy: 1.0000 - val_loss: 4.0419e-07 - val_accuracy: 1.0000\n",
            "Epoch 930/1000\n",
            "12/12 [==============================] - 4s 362ms/step - loss: 1.3456e-06 - accuracy: 1.0000 - val_loss: 4.0140e-07 - val_accuracy: 1.0000\n",
            "Epoch 931/1000\n",
            "12/12 [==============================] - 4s 363ms/step - loss: 1.0518e-06 - accuracy: 1.0000 - val_loss: 3.9488e-07 - val_accuracy: 1.0000\n",
            "Epoch 932/1000\n",
            "12/12 [==============================] - 4s 365ms/step - loss: 1.9715e-06 - accuracy: 1.0000 - val_loss: 3.9302e-07 - val_accuracy: 1.0000\n",
            "Epoch 933/1000\n",
            "12/12 [==============================] - 4s 362ms/step - loss: 1.7386e-06 - accuracy: 1.0000 - val_loss: 3.8463e-07 - val_accuracy: 1.0000\n",
            "Epoch 934/1000\n",
            "12/12 [==============================] - 4s 362ms/step - loss: 1.3125e-06 - accuracy: 1.0000 - val_loss: 3.8091e-07 - val_accuracy: 1.0000\n",
            "Epoch 935/1000\n",
            "12/12 [==============================] - 4s 364ms/step - loss: 1.0583e-06 - accuracy: 1.0000 - val_loss: 3.8277e-07 - val_accuracy: 1.0000\n",
            "Epoch 936/1000\n",
            "12/12 [==============================] - 4s 362ms/step - loss: 1.7591e-06 - accuracy: 1.0000 - val_loss: 3.6694e-07 - val_accuracy: 1.0000\n",
            "Epoch 937/1000\n",
            "12/12 [==============================] - 4s 362ms/step - loss: 8.6508e-07 - accuracy: 1.0000 - val_loss: 3.6135e-07 - val_accuracy: 1.0000\n",
            "Epoch 938/1000\n",
            "12/12 [==============================] - 4s 364ms/step - loss: 9.9876e-07 - accuracy: 1.0000 - val_loss: 3.5576e-07 - val_accuracy: 1.0000\n",
            "Epoch 939/1000\n",
            "12/12 [==============================] - 4s 364ms/step - loss: 9.1410e-07 - accuracy: 1.0000 - val_loss: 3.4831e-07 - val_accuracy: 1.0000\n",
            "Epoch 940/1000\n",
            "12/12 [==============================] - 4s 363ms/step - loss: 9.5060e-07 - accuracy: 1.0000 - val_loss: 3.4552e-07 - val_accuracy: 1.0000\n",
            "Epoch 941/1000\n",
            "12/12 [==============================] - 4s 363ms/step - loss: 1.0740e-06 - accuracy: 1.0000 - val_loss: 3.4552e-07 - val_accuracy: 1.0000\n",
            "Epoch 942/1000\n",
            "12/12 [==============================] - 4s 363ms/step - loss: 1.1799e-06 - accuracy: 1.0000 - val_loss: 3.3714e-07 - val_accuracy: 1.0000\n",
            "Epoch 943/1000\n",
            "12/12 [==============================] - 4s 364ms/step - loss: 1.1460e-06 - accuracy: 1.0000 - val_loss: 3.3434e-07 - val_accuracy: 1.0000\n",
            "Epoch 944/1000\n",
            "12/12 [==============================] - 4s 363ms/step - loss: 1.7434e-06 - accuracy: 1.0000 - val_loss: 3.2969e-07 - val_accuracy: 1.0000\n",
            "Epoch 945/1000\n",
            "12/12 [==============================] - 4s 361ms/step - loss: 1.0727e-06 - accuracy: 1.0000 - val_loss: 3.2410e-07 - val_accuracy: 1.0000\n",
            "Epoch 946/1000\n",
            "12/12 [==============================] - 4s 364ms/step - loss: 1.4748e-06 - accuracy: 1.0000 - val_loss: 3.2037e-07 - val_accuracy: 1.0000\n",
            "Epoch 947/1000\n",
            "12/12 [==============================] - 4s 362ms/step - loss: 1.1951e-06 - accuracy: 1.0000 - val_loss: 3.1479e-07 - val_accuracy: 1.0000\n",
            "Epoch 948/1000\n",
            "12/12 [==============================] - 4s 362ms/step - loss: 1.0488e-06 - accuracy: 1.0000 - val_loss: 3.1292e-07 - val_accuracy: 1.0000\n",
            "Epoch 949/1000\n",
            "12/12 [==============================] - 4s 362ms/step - loss: 1.4990e-06 - accuracy: 1.0000 - val_loss: 3.5670e-07 - val_accuracy: 1.0000\n",
            "Epoch 950/1000\n",
            "12/12 [==============================] - 4s 364ms/step - loss: 9.5256e-07 - accuracy: 1.0000 - val_loss: 3.1292e-07 - val_accuracy: 1.0000\n",
            "Epoch 951/1000\n",
            "12/12 [==============================] - 4s 363ms/step - loss: 9.2238e-07 - accuracy: 1.0000 - val_loss: 2.9523e-07 - val_accuracy: 1.0000\n",
            "Epoch 952/1000\n",
            "12/12 [==============================] - 4s 363ms/step - loss: 1.0211e-06 - accuracy: 1.0000 - val_loss: 2.9337e-07 - val_accuracy: 1.0000\n",
            "Epoch 953/1000\n",
            "12/12 [==============================] - 4s 364ms/step - loss: 1.0287e-06 - accuracy: 1.0000 - val_loss: 2.8964e-07 - val_accuracy: 1.0000\n",
            "Epoch 954/1000\n",
            "12/12 [==============================] - 4s 364ms/step - loss: 9.0183e-07 - accuracy: 1.0000 - val_loss: 2.8312e-07 - val_accuracy: 1.0000\n",
            "Epoch 955/1000\n",
            "12/12 [==============================] - 4s 363ms/step - loss: 9.8179e-07 - accuracy: 1.0000 - val_loss: 2.8126e-07 - val_accuracy: 1.0000\n",
            "Epoch 956/1000\n",
            "12/12 [==============================] - 4s 363ms/step - loss: 8.8925e-07 - accuracy: 1.0000 - val_loss: 2.7846e-07 - val_accuracy: 1.0000\n",
            "Epoch 957/1000\n",
            "12/12 [==============================] - 4s 361ms/step - loss: 7.7232e-07 - accuracy: 1.0000 - val_loss: 2.7753e-07 - val_accuracy: 1.0000\n",
            "Epoch 958/1000\n",
            "12/12 [==============================] - 4s 363ms/step - loss: 9.4687e-07 - accuracy: 1.0000 - val_loss: 2.8685e-07 - val_accuracy: 1.0000\n",
            "Epoch 959/1000\n",
            "12/12 [==============================] - 4s 362ms/step - loss: 7.4802e-07 - accuracy: 1.0000 - val_loss: 2.6915e-07 - val_accuracy: 1.0000\n",
            "Epoch 960/1000\n",
            "12/12 [==============================] - 4s 362ms/step - loss: 8.3141e-07 - accuracy: 1.0000 - val_loss: 2.6636e-07 - val_accuracy: 1.0000\n",
            "Epoch 961/1000\n",
            "12/12 [==============================] - 4s 363ms/step - loss: 9.6954e-07 - accuracy: 1.0000 - val_loss: 2.6263e-07 - val_accuracy: 1.0000\n",
            "Epoch 962/1000\n",
            "12/12 [==============================] - 4s 361ms/step - loss: 7.9791e-07 - accuracy: 1.0000 - val_loss: 2.5891e-07 - val_accuracy: 1.0000\n",
            "Epoch 963/1000\n",
            "12/12 [==============================] - 4s 361ms/step - loss: 7.5717e-07 - accuracy: 1.0000 - val_loss: 2.5798e-07 - val_accuracy: 1.0000\n",
            "Epoch 964/1000\n",
            "12/12 [==============================] - 4s 363ms/step - loss: 9.9000e-07 - accuracy: 1.0000 - val_loss: 2.7474e-07 - val_accuracy: 1.0000\n",
            "Epoch 965/1000\n",
            "12/12 [==============================] - 4s 363ms/step - loss: 8.6735e-07 - accuracy: 1.0000 - val_loss: 2.5518e-07 - val_accuracy: 1.0000\n",
            "Epoch 966/1000\n",
            "12/12 [==============================] - 4s 362ms/step - loss: 7.2653e-07 - accuracy: 1.0000 - val_loss: 2.5239e-07 - val_accuracy: 1.0000\n",
            "Epoch 967/1000\n",
            "12/12 [==============================] - 4s 360ms/step - loss: 1.3584e-06 - accuracy: 1.0000 - val_loss: 2.4680e-07 - val_accuracy: 1.0000\n",
            "Epoch 968/1000\n",
            "12/12 [==============================] - 4s 365ms/step - loss: 9.0723e-07 - accuracy: 1.0000 - val_loss: 2.4494e-07 - val_accuracy: 1.0000\n",
            "Epoch 969/1000\n",
            "12/12 [==============================] - 4s 365ms/step - loss: 6.4111e-07 - accuracy: 1.0000 - val_loss: 2.4959e-07 - val_accuracy: 1.0000\n",
            "Epoch 970/1000\n",
            "12/12 [==============================] - 4s 362ms/step - loss: 7.8831e-07 - accuracy: 1.0000 - val_loss: 2.4028e-07 - val_accuracy: 1.0000\n",
            "Epoch 971/1000\n",
            "12/12 [==============================] - 4s 362ms/step - loss: 9.5049e-07 - accuracy: 1.0000 - val_loss: 2.3656e-07 - val_accuracy: 1.0000\n",
            "Epoch 972/1000\n",
            "12/12 [==============================] - 4s 363ms/step - loss: 6.0427e-07 - accuracy: 1.0000 - val_loss: 2.3469e-07 - val_accuracy: 1.0000\n",
            "Epoch 973/1000\n",
            "12/12 [==============================] - 4s 362ms/step - loss: 8.2009e-07 - accuracy: 1.0000 - val_loss: 2.3004e-07 - val_accuracy: 1.0000\n",
            "Epoch 974/1000\n",
            "12/12 [==============================] - 4s 365ms/step - loss: 8.0441e-07 - accuracy: 1.0000 - val_loss: 2.3004e-07 - val_accuracy: 1.0000\n",
            "Epoch 975/1000\n",
            "12/12 [==============================] - 4s 364ms/step - loss: 8.0688e-07 - accuracy: 1.0000 - val_loss: 2.3935e-07 - val_accuracy: 1.0000\n",
            "Epoch 976/1000\n",
            "12/12 [==============================] - 4s 364ms/step - loss: 6.4546e-07 - accuracy: 1.0000 - val_loss: 2.4680e-07 - val_accuracy: 1.0000\n",
            "Epoch 977/1000\n",
            "12/12 [==============================] - 4s 362ms/step - loss: 5.8797e-07 - accuracy: 1.0000 - val_loss: 2.2538e-07 - val_accuracy: 1.0000\n",
            "Epoch 978/1000\n",
            "12/12 [==============================] - 4s 362ms/step - loss: 7.3979e-07 - accuracy: 1.0000 - val_loss: 2.2445e-07 - val_accuracy: 1.0000\n",
            "Epoch 979/1000\n",
            "12/12 [==============================] - 4s 365ms/step - loss: 7.9492e-07 - accuracy: 1.0000 - val_loss: 2.2259e-07 - val_accuracy: 1.0000\n",
            "Epoch 980/1000\n",
            "12/12 [==============================] - 4s 363ms/step - loss: 5.9987e-07 - accuracy: 1.0000 - val_loss: 2.2259e-07 - val_accuracy: 1.0000\n",
            "Epoch 981/1000\n",
            "12/12 [==============================] - 4s 363ms/step - loss: 7.5644e-07 - accuracy: 1.0000 - val_loss: 2.1700e-07 - val_accuracy: 1.0000\n",
            "Epoch 982/1000\n",
            "12/12 [==============================] - 4s 363ms/step - loss: 6.8324e-07 - accuracy: 1.0000 - val_loss: 2.1607e-07 - val_accuracy: 1.0000\n",
            "Epoch 983/1000\n",
            "12/12 [==============================] - 4s 364ms/step - loss: 8.9690e-07 - accuracy: 1.0000 - val_loss: 2.1514e-07 - val_accuracy: 1.0000\n",
            "Epoch 984/1000\n",
            "12/12 [==============================] - 4s 362ms/step - loss: 5.1023e-07 - accuracy: 1.0000 - val_loss: 2.0862e-07 - val_accuracy: 1.0000\n",
            "Epoch 985/1000\n",
            "12/12 [==============================] - 4s 363ms/step - loss: 6.5342e-07 - accuracy: 1.0000 - val_loss: 2.1048e-07 - val_accuracy: 1.0000\n",
            "Epoch 986/1000\n",
            "12/12 [==============================] - 4s 362ms/step - loss: 9.5164e-07 - accuracy: 1.0000 - val_loss: 2.1979e-07 - val_accuracy: 1.0000\n",
            "Epoch 987/1000\n",
            "12/12 [==============================] - 4s 362ms/step - loss: 7.1116e-07 - accuracy: 1.0000 - val_loss: 2.1886e-07 - val_accuracy: 1.0000\n",
            "Epoch 988/1000\n",
            "12/12 [==============================] - 4s 361ms/step - loss: 8.2043e-07 - accuracy: 1.0000 - val_loss: 2.1141e-07 - val_accuracy: 1.0000\n",
            "Epoch 989/1000\n",
            "12/12 [==============================] - 4s 364ms/step - loss: 7.7258e-07 - accuracy: 1.0000 - val_loss: 2.0396e-07 - val_accuracy: 1.0000\n",
            "Epoch 990/1000\n",
            "12/12 [==============================] - 4s 364ms/step - loss: 6.8672e-07 - accuracy: 1.0000 - val_loss: 1.9930e-07 - val_accuracy: 1.0000\n",
            "Epoch 991/1000\n",
            "12/12 [==============================] - 4s 364ms/step - loss: 6.7668e-07 - accuracy: 1.0000 - val_loss: 1.9558e-07 - val_accuracy: 1.0000\n",
            "Epoch 992/1000\n",
            "12/12 [==============================] - 4s 362ms/step - loss: 7.2324e-07 - accuracy: 1.0000 - val_loss: 1.9371e-07 - val_accuracy: 1.0000\n",
            "Epoch 993/1000\n",
            "12/12 [==============================] - 4s 366ms/step - loss: 6.5997e-07 - accuracy: 1.0000 - val_loss: 1.8999e-07 - val_accuracy: 1.0000\n",
            "Epoch 994/1000\n",
            "12/12 [==============================] - 4s 363ms/step - loss: 9.2018e-07 - accuracy: 1.0000 - val_loss: 1.9465e-07 - val_accuracy: 1.0000\n",
            "Epoch 995/1000\n",
            "12/12 [==============================] - 4s 363ms/step - loss: 1.0356e-06 - accuracy: 1.0000 - val_loss: 1.9092e-07 - val_accuracy: 1.0000\n",
            "Epoch 996/1000\n",
            "12/12 [==============================] - 4s 361ms/step - loss: 8.2971e-07 - accuracy: 1.0000 - val_loss: 1.8720e-07 - val_accuracy: 1.0000\n",
            "Epoch 997/1000\n",
            "12/12 [==============================] - 4s 364ms/step - loss: 6.7632e-07 - accuracy: 1.0000 - val_loss: 1.8254e-07 - val_accuracy: 1.0000\n",
            "Epoch 998/1000\n",
            "12/12 [==============================] - 4s 363ms/step - loss: 5.7371e-07 - accuracy: 1.0000 - val_loss: 1.7974e-07 - val_accuracy: 1.0000\n",
            "Epoch 999/1000\n",
            "12/12 [==============================] - 4s 365ms/step - loss: 7.2149e-07 - accuracy: 1.0000 - val_loss: 1.8068e-07 - val_accuracy: 1.0000\n",
            "Epoch 1000/1000\n",
            "12/12 [==============================] - 4s 362ms/step - loss: 2.1476e-06 - accuracy: 1.0000 - val_loss: 1.8347e-07 - val_accuracy: 1.0000\n"
          ],
          "name": "stdout"
        }
      ]
    },
    {
      "cell_type": "code",
      "metadata": {
        "id": "5_lJAfqVvBPd",
        "colab_type": "code",
        "colab": {
          "base_uri": "https://localhost:8080/",
          "height": 33
        },
        "outputId": "8f4b8009-6c8a-4aed-f5be-035c52834793"
      },
      "source": [
        "clf.export_model()"
      ],
      "execution_count": null,
      "outputs": [
        {
          "output_type": "execute_result",
          "data": {
            "text/plain": [
              "<tensorflow.python.keras.engine.training.Model at 0x7f2f3aaf66d8>"
            ]
          },
          "metadata": {
            "tags": []
          },
          "execution_count": 10
        }
      ]
    },
    {
      "cell_type": "markdown",
      "metadata": {
        "id": "Q-dndmBq2eyf",
        "colab_type": "text"
      },
      "source": [
        "##Testing"
      ]
    },
    {
      "cell_type": "code",
      "metadata": {
        "id": "YOyBq_LjedL1",
        "colab_type": "code",
        "colab": {}
      },
      "source": [
        "output = clf.predict(X_test, batch_size=32)"
      ],
      "execution_count": null,
      "outputs": []
    },
    {
      "cell_type": "code",
      "metadata": {
        "id": "tVzr11byedJb",
        "colab_type": "code",
        "colab": {
          "base_uri": "https://localhost:8080/",
          "height": 196
        },
        "outputId": "c50dcb0f-be74-47a0-c975-679bd9d88cd1"
      },
      "source": [
        "dataset = pd.DataFrame({'Out_Target': output[:, 0]})\n",
        "dataset.head()"
      ],
      "execution_count": null,
      "outputs": [
        {
          "output_type": "execute_result",
          "data": {
            "text/html": [
              "<div>\n",
              "<style scoped>\n",
              "    .dataframe tbody tr th:only-of-type {\n",
              "        vertical-align: middle;\n",
              "    }\n",
              "\n",
              "    .dataframe tbody tr th {\n",
              "        vertical-align: top;\n",
              "    }\n",
              "\n",
              "    .dataframe thead th {\n",
              "        text-align: right;\n",
              "    }\n",
              "</style>\n",
              "<table border=\"1\" class=\"dataframe\">\n",
              "  <thead>\n",
              "    <tr style=\"text-align: right;\">\n",
              "      <th></th>\n",
              "      <th>Out_Target</th>\n",
              "    </tr>\n",
              "  </thead>\n",
              "  <tbody>\n",
              "    <tr>\n",
              "      <th>0</th>\n",
              "      <td>7</td>\n",
              "    </tr>\n",
              "    <tr>\n",
              "      <th>1</th>\n",
              "      <td>2</td>\n",
              "    </tr>\n",
              "    <tr>\n",
              "      <th>2</th>\n",
              "      <td>7</td>\n",
              "    </tr>\n",
              "    <tr>\n",
              "      <th>3</th>\n",
              "      <td>6</td>\n",
              "    </tr>\n",
              "    <tr>\n",
              "      <th>4</th>\n",
              "      <td>3</td>\n",
              "    </tr>\n",
              "  </tbody>\n",
              "</table>\n",
              "</div>"
            ],
            "text/plain": [
              "   Out_Target\n",
              "0           7\n",
              "1           2\n",
              "2           7\n",
              "3           6\n",
              "4           3"
            ]
          },
          "metadata": {
            "tags": []
          },
          "execution_count": 12
        }
      ]
    },
    {
      "cell_type": "code",
      "metadata": {
        "id": "UgqMACZLl7Hg",
        "colab_type": "code",
        "colab": {
          "base_uri": "https://localhost:8080/",
          "height": 196
        },
        "outputId": "f8e8cf1f-5b46-4c61-ce15-3ba938b7f430"
      },
      "source": [
        "dataset[\"Out_Target\"].replace({0: \"bharatanatyam\",\n",
        "                               1: \"kathak\",\n",
        "                               2: \"kathakali\",\n",
        "                               3: \"kuchipudi\",\n",
        "                               4: \"manipuri\",\n",
        "                               5: \"mohiniyattam\",\n",
        "                               6: \"odissi\",\n",
        "                               7: \"sattriya\",\n",
        "                               }, inplace=True)\n",
        "dataset.head()"
      ],
      "execution_count": null,
      "outputs": [
        {
          "output_type": "execute_result",
          "data": {
            "text/html": [
              "<div>\n",
              "<style scoped>\n",
              "    .dataframe tbody tr th:only-of-type {\n",
              "        vertical-align: middle;\n",
              "    }\n",
              "\n",
              "    .dataframe tbody tr th {\n",
              "        vertical-align: top;\n",
              "    }\n",
              "\n",
              "    .dataframe thead th {\n",
              "        text-align: right;\n",
              "    }\n",
              "</style>\n",
              "<table border=\"1\" class=\"dataframe\">\n",
              "  <thead>\n",
              "    <tr style=\"text-align: right;\">\n",
              "      <th></th>\n",
              "      <th>Out_Target</th>\n",
              "    </tr>\n",
              "  </thead>\n",
              "  <tbody>\n",
              "    <tr>\n",
              "      <th>0</th>\n",
              "      <td>sattriya</td>\n",
              "    </tr>\n",
              "    <tr>\n",
              "      <th>1</th>\n",
              "      <td>kathakali</td>\n",
              "    </tr>\n",
              "    <tr>\n",
              "      <th>2</th>\n",
              "      <td>sattriya</td>\n",
              "    </tr>\n",
              "    <tr>\n",
              "      <th>3</th>\n",
              "      <td>odissi</td>\n",
              "    </tr>\n",
              "    <tr>\n",
              "      <th>4</th>\n",
              "      <td>kuchipudi</td>\n",
              "    </tr>\n",
              "  </tbody>\n",
              "</table>\n",
              "</div>"
            ],
            "text/plain": [
              "  Out_Target\n",
              "0   sattriya\n",
              "1  kathakali\n",
              "2   sattriya\n",
              "3     odissi\n",
              "4  kuchipudi"
            ]
          },
          "metadata": {
            "tags": []
          },
          "execution_count": 13
        }
      ]
    },
    {
      "cell_type": "code",
      "metadata": {
        "id": "sK8SLBRYmj8O",
        "colab_type": "code",
        "colab": {
          "base_uri": "https://localhost:8080/",
          "height": 196
        },
        "outputId": "d31cc74b-e16b-463c-ba67-7f42cf1df06d"
      },
      "source": [
        "labels_test[\"target\"] = dataset[\"Out_Target\"]\n",
        "labels_test.head()"
      ],
      "execution_count": null,
      "outputs": [
        {
          "output_type": "execute_result",
          "data": {
            "text/html": [
              "<div>\n",
              "<style scoped>\n",
              "    .dataframe tbody tr th:only-of-type {\n",
              "        vertical-align: middle;\n",
              "    }\n",
              "\n",
              "    .dataframe tbody tr th {\n",
              "        vertical-align: top;\n",
              "    }\n",
              "\n",
              "    .dataframe thead th {\n",
              "        text-align: right;\n",
              "    }\n",
              "</style>\n",
              "<table border=\"1\" class=\"dataframe\">\n",
              "  <thead>\n",
              "    <tr style=\"text-align: right;\">\n",
              "      <th></th>\n",
              "      <th>Image</th>\n",
              "      <th>target</th>\n",
              "    </tr>\n",
              "  </thead>\n",
              "  <tbody>\n",
              "    <tr>\n",
              "      <th>0</th>\n",
              "      <td>508.jpg</td>\n",
              "      <td>sattriya</td>\n",
              "    </tr>\n",
              "    <tr>\n",
              "      <th>1</th>\n",
              "      <td>246.jpg</td>\n",
              "      <td>kathakali</td>\n",
              "    </tr>\n",
              "    <tr>\n",
              "      <th>2</th>\n",
              "      <td>473.jpg</td>\n",
              "      <td>sattriya</td>\n",
              "    </tr>\n",
              "    <tr>\n",
              "      <th>3</th>\n",
              "      <td>485.jpg</td>\n",
              "      <td>odissi</td>\n",
              "    </tr>\n",
              "    <tr>\n",
              "      <th>4</th>\n",
              "      <td>128.jpg</td>\n",
              "      <td>kuchipudi</td>\n",
              "    </tr>\n",
              "  </tbody>\n",
              "</table>\n",
              "</div>"
            ],
            "text/plain": [
              "     Image     target\n",
              "0  508.jpg   sattriya\n",
              "1  246.jpg  kathakali\n",
              "2  473.jpg   sattriya\n",
              "3  485.jpg     odissi\n",
              "4  128.jpg  kuchipudi"
            ]
          },
          "metadata": {
            "tags": []
          },
          "execution_count": 14
        }
      ]
    },
    {
      "cell_type": "code",
      "metadata": {
        "id": "NKL41rGim5CH",
        "colab_type": "code",
        "colab": {
          "base_uri": "https://localhost:8080/",
          "height": 196
        },
        "outputId": "527cc7d8-a4af-44d2-b5c4-bb77499424d0"
      },
      "source": [
        "labels_test.to_csv(\"output.csv\",index=False)\n",
        "output = pd.read_csv(\"output.csv\")\n",
        "output.head()"
      ],
      "execution_count": null,
      "outputs": [
        {
          "output_type": "execute_result",
          "data": {
            "text/html": [
              "<div>\n",
              "<style scoped>\n",
              "    .dataframe tbody tr th:only-of-type {\n",
              "        vertical-align: middle;\n",
              "    }\n",
              "\n",
              "    .dataframe tbody tr th {\n",
              "        vertical-align: top;\n",
              "    }\n",
              "\n",
              "    .dataframe thead th {\n",
              "        text-align: right;\n",
              "    }\n",
              "</style>\n",
              "<table border=\"1\" class=\"dataframe\">\n",
              "  <thead>\n",
              "    <tr style=\"text-align: right;\">\n",
              "      <th></th>\n",
              "      <th>Image</th>\n",
              "      <th>target</th>\n",
              "    </tr>\n",
              "  </thead>\n",
              "  <tbody>\n",
              "    <tr>\n",
              "      <th>0</th>\n",
              "      <td>508.jpg</td>\n",
              "      <td>sattriya</td>\n",
              "    </tr>\n",
              "    <tr>\n",
              "      <th>1</th>\n",
              "      <td>246.jpg</td>\n",
              "      <td>kathakali</td>\n",
              "    </tr>\n",
              "    <tr>\n",
              "      <th>2</th>\n",
              "      <td>473.jpg</td>\n",
              "      <td>sattriya</td>\n",
              "    </tr>\n",
              "    <tr>\n",
              "      <th>3</th>\n",
              "      <td>485.jpg</td>\n",
              "      <td>odissi</td>\n",
              "    </tr>\n",
              "    <tr>\n",
              "      <th>4</th>\n",
              "      <td>128.jpg</td>\n",
              "      <td>kuchipudi</td>\n",
              "    </tr>\n",
              "  </tbody>\n",
              "</table>\n",
              "</div>"
            ],
            "text/plain": [
              "     Image     target\n",
              "0  508.jpg   sattriya\n",
              "1  246.jpg  kathakali\n",
              "2  473.jpg   sattriya\n",
              "3  485.jpg     odissi\n",
              "4  128.jpg  kuchipudi"
            ]
          },
          "metadata": {
            "tags": []
          },
          "execution_count": 15
        }
      ]
    },
    {
      "cell_type": "markdown",
      "metadata": {
        "id": "oM9ZgnF22hUT",
        "colab_type": "text"
      },
      "source": [
        "##Kill Process"
      ]
    },
    {
      "cell_type": "code",
      "metadata": {
        "id": "1gPZK33vnbOt",
        "colab_type": "code",
        "colab": {
          "base_uri": "https://localhost:8080/",
          "height": 284
        },
        "outputId": "f2981fd1-c945-442e-f642-3da14d696d86"
      },
      "source": [
        "!nvidia-smi"
      ],
      "execution_count": null,
      "outputs": [
        {
          "output_type": "stream",
          "text": [
            "Mon Jun  1 19:37:39 2020       \n",
            "+-----------------------------------------------------------------------------+\n",
            "| NVIDIA-SMI 440.82       Driver Version: 418.67       CUDA Version: 10.1     |\n",
            "|-------------------------------+----------------------+----------------------+\n",
            "| GPU  Name        Persistence-M| Bus-Id        Disp.A | Volatile Uncorr. ECC |\n",
            "| Fan  Temp  Perf  Pwr:Usage/Cap|         Memory-Usage | GPU-Util  Compute M. |\n",
            "|===============================+======================+======================|\n",
            "|   0  Tesla T4            Off  | 00000000:00:04.0 Off |                    0 |\n",
            "| N/A   76C    P0    32W /  70W |  14839MiB / 15079MiB |      0%      Default |\n",
            "+-------------------------------+----------------------+----------------------+\n",
            "                                                                               \n",
            "+-----------------------------------------------------------------------------+\n",
            "| Processes:                                                       GPU Memory |\n",
            "|  GPU       PID   Type   Process name                             Usage      |\n",
            "|=============================================================================|\n",
            "+-----------------------------------------------------------------------------+\n"
          ],
          "name": "stdout"
        }
      ]
    },
    {
      "cell_type": "code",
      "metadata": {
        "id": "hlIkkIQnoA5N",
        "colab_type": "code",
        "colab": {
          "base_uri": "https://localhost:8080/",
          "height": 87
        },
        "outputId": "f40c2ae0-f83e-40c5-90a3-c2cd69bfe4c1"
      },
      "source": [
        "!ps -aux|grep python"
      ],
      "execution_count": null,
      "outputs": [
        {
          "output_type": "stream",
          "text": [
            "root          19  0.8  0.7 415324 106220 ?       Sl   19:10   0:13 /usr/bin/python2 /usr/local/bin/jupyter-notebook --ip=\"172.28.0.2\" --port=9000 --FileContentsManager.root_dir=\"/\" --MappingKernelManager.root_dir=\"/content\"\n",
            "root         226 34.9 39.8 27649844 5309872 ?    Ssl  19:13   8:33 /usr/bin/python3 -m ipykernel_launcher -f /root/.local/share/jupyter/runtime/kernel-c19861c6-f2c3-498e-aa2e-c327d97839a7.json\n",
            "root        1506  0.0  0.0  39196  6568 ?        S    19:38   0:00 /bin/bash -c ps -aux|grep python\n"
          ],
          "name": "stdout"
        }
      ]
    },
    {
      "cell_type": "code",
      "metadata": {
        "id": "lkk0AXk2oM9F",
        "colab_type": "code",
        "colab": {}
      },
      "source": [
        "!kill -9 226 "
      ],
      "execution_count": null,
      "outputs": []
    },
    {
      "cell_type": "markdown",
      "metadata": {
        "id": "91Q2Ig6Fnms_",
        "colab_type": "text"
      },
      "source": [
        "#Keras Pre-Trained"
      ]
    },
    {
      "cell_type": "markdown",
      "metadata": {
        "id": "PkxPG7UKdZyK",
        "colab_type": "text"
      },
      "source": [
        "##Pre - Trained Method"
      ]
    },
    {
      "cell_type": "code",
      "metadata": {
        "id": "9EDRsZOcpxqZ",
        "colab_type": "code",
        "colab": {
          "base_uri": "https://localhost:8080/",
          "height": 672
        },
        "outputId": "257274da-51dc-4ff6-9e2c-2a94abafdfc3"
      },
      "source": [
        "import os\n",
        "import sys\n",
        "import cv2\n",
        "import keras\n",
        "import shutil\n",
        "import numpy as np\n",
        "import pandas as pd\n",
        "from tqdm import tqdm\n",
        "from PIL import Image\n",
        "!pip install livelossplot\n",
        "from keras.utils import np_utils\n",
        "from keras.regularizers import l2\n",
        "from keras.preprocessing import image\n",
        "from keras.optimizers import Adam,SGD\n",
        "from livelossplot import PlotLossesKeras\n",
        "from keras.models import Sequential,Model\n",
        "from sklearn.model_selection import train_test_split\n",
        "from keras.preprocessing.image import ImageDataGenerator\n",
        "from keras.layers.normalization import BatchNormalization\n",
        "from keras.callbacks import ReduceLROnPlateau,ModelCheckpoint,EarlyStopping\n",
        "from keras.layers import Convolution2D,Dense,MaxPool2D,Activation,Dropout,Flatten,GlobalAveragePooling2D,Conv2D,MaxPooling2D\n",
        "import warnings\n",
        "warnings.filterwarnings(\"ignore\")\n",
        "!git clone https://github.com/bckenstler/CLR.git\n",
        "from CLR.clr_callback import CyclicLR"
      ],
      "execution_count": null,
      "outputs": [
        {
          "output_type": "stream",
          "text": [
            "Using TensorFlow backend.\n"
          ],
          "name": "stderr"
        },
        {
          "output_type": "stream",
          "text": [
            "Collecting livelossplot\n",
            "  Downloading https://files.pythonhosted.org/packages/45/59/1e00dce77cacd9cd6038609809ee3666f6ba46953d2d1862637506b7c5d7/livelossplot-0.5.1-py3-none-any.whl\n",
            "Requirement already satisfied: bokeh; python_version >= \"3.6\" in /usr/local/lib/python3.6/dist-packages (from livelossplot) (1.4.0)\n",
            "Requirement already satisfied: ipython in /usr/local/lib/python3.6/dist-packages (from livelossplot) (5.5.0)\n",
            "Requirement already satisfied: matplotlib; python_version >= \"3.6\" in /usr/local/lib/python3.6/dist-packages (from livelossplot) (3.2.1)\n",
            "Requirement already satisfied: Jinja2>=2.7 in /usr/local/lib/python3.6/dist-packages (from bokeh; python_version >= \"3.6\"->livelossplot) (2.11.2)\n",
            "Requirement already satisfied: packaging>=16.8 in /usr/local/lib/python3.6/dist-packages (from bokeh; python_version >= \"3.6\"->livelossplot) (20.4)\n",
            "Requirement already satisfied: numpy>=1.7.1 in /usr/local/lib/python3.6/dist-packages (from bokeh; python_version >= \"3.6\"->livelossplot) (1.18.5)\n",
            "Requirement already satisfied: tornado>=4.3 in /usr/local/lib/python3.6/dist-packages (from bokeh; python_version >= \"3.6\"->livelossplot) (4.5.3)\n",
            "Requirement already satisfied: PyYAML>=3.10 in /usr/local/lib/python3.6/dist-packages (from bokeh; python_version >= \"3.6\"->livelossplot) (3.13)\n",
            "Requirement already satisfied: six>=1.5.2 in /usr/local/lib/python3.6/dist-packages (from bokeh; python_version >= \"3.6\"->livelossplot) (1.12.0)\n",
            "Requirement already satisfied: pillow>=4.0 in /usr/local/lib/python3.6/dist-packages (from bokeh; python_version >= \"3.6\"->livelossplot) (7.0.0)\n",
            "Requirement already satisfied: python-dateutil>=2.1 in /usr/local/lib/python3.6/dist-packages (from bokeh; python_version >= \"3.6\"->livelossplot) (2.8.1)\n",
            "Requirement already satisfied: pexpect; sys_platform != \"win32\" in /usr/local/lib/python3.6/dist-packages (from ipython->livelossplot) (4.8.0)\n",
            "Requirement already satisfied: simplegeneric>0.8 in /usr/local/lib/python3.6/dist-packages (from ipython->livelossplot) (0.8.1)\n",
            "Requirement already satisfied: setuptools>=18.5 in /usr/local/lib/python3.6/dist-packages (from ipython->livelossplot) (47.1.1)\n",
            "Requirement already satisfied: pickleshare in /usr/local/lib/python3.6/dist-packages (from ipython->livelossplot) (0.7.5)\n",
            "Requirement already satisfied: prompt-toolkit<2.0.0,>=1.0.4 in /usr/local/lib/python3.6/dist-packages (from ipython->livelossplot) (1.0.18)\n",
            "Requirement already satisfied: traitlets>=4.2 in /usr/local/lib/python3.6/dist-packages (from ipython->livelossplot) (4.3.3)\n",
            "Requirement already satisfied: pygments in /usr/local/lib/python3.6/dist-packages (from ipython->livelossplot) (2.1.3)\n",
            "Requirement already satisfied: decorator in /usr/local/lib/python3.6/dist-packages (from ipython->livelossplot) (4.4.2)\n",
            "Requirement already satisfied: pyparsing!=2.0.4,!=2.1.2,!=2.1.6,>=2.0.1 in /usr/local/lib/python3.6/dist-packages (from matplotlib; python_version >= \"3.6\"->livelossplot) (2.4.7)\n",
            "Requirement already satisfied: kiwisolver>=1.0.1 in /usr/local/lib/python3.6/dist-packages (from matplotlib; python_version >= \"3.6\"->livelossplot) (1.2.0)\n",
            "Requirement already satisfied: cycler>=0.10 in /usr/local/lib/python3.6/dist-packages (from matplotlib; python_version >= \"3.6\"->livelossplot) (0.10.0)\n",
            "Requirement already satisfied: MarkupSafe>=0.23 in /usr/local/lib/python3.6/dist-packages (from Jinja2>=2.7->bokeh; python_version >= \"3.6\"->livelossplot) (1.1.1)\n",
            "Requirement already satisfied: ptyprocess>=0.5 in /usr/local/lib/python3.6/dist-packages (from pexpect; sys_platform != \"win32\"->ipython->livelossplot) (0.6.0)\n",
            "Requirement already satisfied: wcwidth in /usr/local/lib/python3.6/dist-packages (from prompt-toolkit<2.0.0,>=1.0.4->ipython->livelossplot) (0.2.4)\n",
            "Requirement already satisfied: ipython-genutils in /usr/local/lib/python3.6/dist-packages (from traitlets>=4.2->ipython->livelossplot) (0.2.0)\n",
            "Installing collected packages: livelossplot\n",
            "Successfully installed livelossplot-0.5.1\n",
            "Cloning into 'CLR'...\n",
            "remote: Enumerating objects: 8, done.\u001b[K\n",
            "remote: Counting objects: 100% (8/8), done.\u001b[K\n",
            "remote: Compressing objects: 100% (7/7), done.\u001b[K\n",
            "remote: Total 252 (delta 1), reused 4 (delta 0), pack-reused 244\u001b[K\n",
            "Receiving objects: 100% (252/252), 2.06 MiB | 1.92 MiB/s, done.\n",
            "Resolving deltas: 100% (87/87), done.\n"
          ],
          "name": "stdout"
        }
      ]
    },
    {
      "cell_type": "code",
      "metadata": {
        "id": "QmUEZam9p2Kl",
        "colab_type": "code",
        "colab": {}
      },
      "source": [
        "#input data\n",
        "df=pd.read_csv(\"/content/dataset/train.csv\")\n",
        "dft=pd.read_csv(\"/content/dataset/test.csv\")"
      ],
      "execution_count": null,
      "outputs": []
    },
    {
      "cell_type": "code",
      "metadata": {
        "id": "dze6yOAeXbk0",
        "colab_type": "code",
        "colab": {
          "base_uri": "https://localhost:8080/",
          "height": 196
        },
        "outputId": "44abb99d-c188-4898-e677-5407b428e40b"
      },
      "source": [
        "df.head()"
      ],
      "execution_count": null,
      "outputs": [
        {
          "output_type": "execute_result",
          "data": {
            "text/html": [
              "<div>\n",
              "<style scoped>\n",
              "    .dataframe tbody tr th:only-of-type {\n",
              "        vertical-align: middle;\n",
              "    }\n",
              "\n",
              "    .dataframe tbody tr th {\n",
              "        vertical-align: top;\n",
              "    }\n",
              "\n",
              "    .dataframe thead th {\n",
              "        text-align: right;\n",
              "    }\n",
              "</style>\n",
              "<table border=\"1\" class=\"dataframe\">\n",
              "  <thead>\n",
              "    <tr style=\"text-align: right;\">\n",
              "      <th></th>\n",
              "      <th>Image</th>\n",
              "      <th>target</th>\n",
              "    </tr>\n",
              "  </thead>\n",
              "  <tbody>\n",
              "    <tr>\n",
              "      <th>0</th>\n",
              "      <td>96.jpg</td>\n",
              "      <td>manipuri</td>\n",
              "    </tr>\n",
              "    <tr>\n",
              "      <th>1</th>\n",
              "      <td>163.jpg</td>\n",
              "      <td>bharatanatyam</td>\n",
              "    </tr>\n",
              "    <tr>\n",
              "      <th>2</th>\n",
              "      <td>450.jpg</td>\n",
              "      <td>odissi</td>\n",
              "    </tr>\n",
              "    <tr>\n",
              "      <th>3</th>\n",
              "      <td>219.jpg</td>\n",
              "      <td>kathakali</td>\n",
              "    </tr>\n",
              "    <tr>\n",
              "      <th>4</th>\n",
              "      <td>455.jpg</td>\n",
              "      <td>odissi</td>\n",
              "    </tr>\n",
              "  </tbody>\n",
              "</table>\n",
              "</div>"
            ],
            "text/plain": [
              "     Image         target\n",
              "0   96.jpg       manipuri\n",
              "1  163.jpg  bharatanatyam\n",
              "2  450.jpg         odissi\n",
              "3  219.jpg      kathakali\n",
              "4  455.jpg         odissi"
            ]
          },
          "metadata": {
            "tags": []
          },
          "execution_count": 4
        }
      ]
    },
    {
      "cell_type": "code",
      "metadata": {
        "id": "e6lI7DzEqtGM",
        "colab_type": "code",
        "colab": {}
      },
      "source": [
        "one_hot = pd.get_dummies(df['target'])\n",
        "df = df.drop('target',axis = 1)\n",
        "df = df.join(one_hot)"
      ],
      "execution_count": null,
      "outputs": []
    },
    {
      "cell_type": "code",
      "metadata": {
        "id": "DY9mebYnp6kP",
        "colab_type": "code",
        "colab": {
          "base_uri": "https://localhost:8080/",
          "height": 268
        },
        "outputId": "35fdc79d-aa0a-4056-bd87-8408706af98f"
      },
      "source": [
        "print(df.head(5))\n",
        "print(\"---------------------------------------------------------\")\n",
        "print(dft.head(5))"
      ],
      "execution_count": null,
      "outputs": [
        {
          "output_type": "stream",
          "text": [
            "     Image  bharatanatyam  kathak  ...  mohiniyattam  odissi  sattriya\n",
            "0   96.jpg              0       0  ...             0       0         0\n",
            "1  163.jpg              1       0  ...             0       0         0\n",
            "2  450.jpg              0       0  ...             0       1         0\n",
            "3  219.jpg              0       0  ...             0       0         0\n",
            "4  455.jpg              0       0  ...             0       1         0\n",
            "\n",
            "[5 rows x 9 columns]\n",
            "---------------------------------------------------------\n",
            "     Image\n",
            "0  508.jpg\n",
            "1  246.jpg\n",
            "2  473.jpg\n",
            "3  485.jpg\n",
            "4  128.jpg\n"
          ],
          "name": "stdout"
        }
      ]
    },
    {
      "cell_type": "code",
      "metadata": {
        "id": "I2uey9SBZfnq",
        "colab_type": "code",
        "colab": {
          "base_uri": "https://localhost:8080/",
          "height": 1000
        },
        "outputId": "9d61979b-ed4f-4f93-b781-fe69e87f060e"
      },
      "source": [
        "pretrained(model=\"ResNet50\", batch_size=8, epochs=500)"
      ],
      "execution_count": null,
      "outputs": [
        {
          "output_type": "stream",
          "text": [
            "Resizing Image\n",
            "Image Shape ----> (364, 384, 384, 3)\n",
            "ResNet50\n",
            "Downloading data from https://github.com/fchollet/deep-learning-models/releases/download/v0.2/resnet50_weights_tf_dim_ordering_tf_kernels_notop.h5\n",
            "94658560/94653016 [==============================] - 8s 0us/step\n",
            "Train-Val Split - 20%\n",
            "Performing Data Augmentation\n",
            "Found 291 validated image filenames.\n",
            "Found 73 validated image filenames.\n",
            "Found 156 validated image filenames.\n",
            "Success\n",
            "Epoch 1/500\n",
            "200/200 [==============================] - 282s 1s/step - loss: 2.8825 - accuracy: 0.1721 - val_loss: 1.8176 - val_accuracy: 0.1233\n",
            "\n",
            "Epoch 00001: val_accuracy improved from -inf to 0.12329, saving model to ./model.01-1.82-0.12.h5\n",
            "Epoch 2/500\n",
            "200/200 [==============================] - 252s 1s/step - loss: 2.3573 - accuracy: 0.2618 - val_loss: 2.0200 - val_accuracy: 0.1644\n",
            "\n",
            "Epoch 00002: val_accuracy improved from 0.12329 to 0.16438, saving model to ./model.02-2.02-0.16.h5\n",
            "Epoch 3/500\n",
            "200/200 [==============================] - 253s 1s/step - loss: 1.8730 - accuracy: 0.3562 - val_loss: 0.5686 - val_accuracy: 0.2192\n",
            "\n",
            "Epoch 00003: val_accuracy improved from 0.16438 to 0.21918, saving model to ./model.03-0.57-0.22.h5\n",
            "Epoch 4/500\n",
            "200/200 [==============================] - 253s 1s/step - loss: 1.5856 - accuracy: 0.4571 - val_loss: 0.1032 - val_accuracy: 0.4110\n",
            "\n",
            "Epoch 00004: val_accuracy improved from 0.21918 to 0.41096, saving model to ./model.04-0.10-0.41.h5\n",
            "Epoch 5/500\n",
            "200/200 [==============================] - 252s 1s/step - loss: 1.3336 - accuracy: 0.5287 - val_loss: 0.1164 - val_accuracy: 0.6027\n",
            "\n",
            "Epoch 00005: val_accuracy improved from 0.41096 to 0.60274, saving model to ./model.05-0.12-0.60.h5\n",
            "Epoch 6/500\n",
            "200/200 [==============================] - 253s 1s/step - loss: 1.1549 - accuracy: 0.5905 - val_loss: 0.2207 - val_accuracy: 0.6301\n",
            "\n",
            "Epoch 00006: val_accuracy improved from 0.60274 to 0.63014, saving model to ./model.06-0.22-0.63.h5\n",
            "Epoch 7/500\n",
            "200/200 [==============================] - 253s 1s/step - loss: 0.9283 - accuracy: 0.6552 - val_loss: 0.2338 - val_accuracy: 0.6438\n",
            "\n",
            "Epoch 00007: val_accuracy improved from 0.63014 to 0.64384, saving model to ./model.07-0.23-0.64.h5\n",
            "Epoch 8/500\n",
            "200/200 [==============================] - 252s 1s/step - loss: 0.7943 - accuracy: 0.7185 - val_loss: 0.1211 - val_accuracy: 0.6986\n",
            "\n",
            "Epoch 00008: val_accuracy improved from 0.64384 to 0.69863, saving model to ./model.08-0.12-0.70.h5\n",
            "Epoch 9/500\n",
            "200/200 [==============================] - 252s 1s/step - loss: 0.6954 - accuracy: 0.7517 - val_loss: 0.0751 - val_accuracy: 0.7260\n",
            "\n",
            "Epoch 00009: val_accuracy improved from 0.69863 to 0.72603, saving model to ./model.09-0.08-0.73.h5\n",
            "Epoch 10/500\n",
            "200/200 [==============================] - 252s 1s/step - loss: 0.5797 - accuracy: 0.7955 - val_loss: 0.0950 - val_accuracy: 0.7397\n",
            "\n",
            "Epoch 00010: val_accuracy improved from 0.72603 to 0.73973, saving model to ./model.10-0.10-0.74.h5\n",
            "Epoch 11/500\n",
            "200/200 [==============================] - 252s 1s/step - loss: 0.5127 - accuracy: 0.8223 - val_loss: 0.1104 - val_accuracy: 0.7534\n",
            "\n",
            "Epoch 00011: val_accuracy improved from 0.73973 to 0.75342, saving model to ./model.11-0.11-0.75.h5\n",
            "Epoch 12/500\n",
            "200/200 [==============================] - 252s 1s/step - loss: 0.4475 - accuracy: 0.8508 - val_loss: 0.0654 - val_accuracy: 0.7671\n",
            "\n",
            "Epoch 00012: val_accuracy improved from 0.75342 to 0.76712, saving model to ./model.12-0.07-0.77.h5\n",
            "Epoch 13/500\n",
            "200/200 [==============================] - 253s 1s/step - loss: 0.3419 - accuracy: 0.8933 - val_loss: 0.0567 - val_accuracy: 0.7808\n",
            "\n",
            "Epoch 00013: val_accuracy improved from 0.76712 to 0.78082, saving model to ./model.13-0.06-0.78.h5\n",
            "Epoch 14/500\n",
            "200/200 [==============================] - 253s 1s/step - loss: 0.3008 - accuracy: 0.9029 - val_loss: 0.0443 - val_accuracy: 0.7808\n",
            "\n",
            "Epoch 00014: val_accuracy did not improve from 0.78082\n",
            "Epoch 15/500\n",
            "200/200 [==============================] - 252s 1s/step - loss: 0.2688 - accuracy: 0.9127 - val_loss: 0.0223 - val_accuracy: 0.7671\n",
            "\n",
            "Epoch 00015: val_accuracy did not improve from 0.78082\n",
            "Epoch 16/500\n",
            "200/200 [==============================] - 252s 1s/step - loss: 0.2067 - accuracy: 0.9401 - val_loss: 0.0142 - val_accuracy: 0.7808\n",
            "\n",
            "Epoch 00016: val_accuracy did not improve from 0.78082\n",
            "Epoch 17/500\n",
            "200/200 [==============================] - 253s 1s/step - loss: 0.2261 - accuracy: 0.9270 - val_loss: 0.0147 - val_accuracy: 0.7534\n",
            "\n",
            "Epoch 00017: val_accuracy did not improve from 0.78082\n",
            "Epoch 18/500\n",
            "200/200 [==============================] - 253s 1s/step - loss: 0.1765 - accuracy: 0.9435 - val_loss: 0.0086 - val_accuracy: 0.7671\n",
            "\n",
            "Epoch 00018: val_accuracy did not improve from 0.78082\n",
            "Epoch 19/500\n",
            "200/200 [==============================] - 252s 1s/step - loss: 0.1473 - accuracy: 0.9554 - val_loss: 0.0037 - val_accuracy: 0.7945\n",
            "\n",
            "Epoch 00019: val_accuracy improved from 0.78082 to 0.79452, saving model to ./model.19-0.00-0.79.h5\n",
            "Epoch 20/500\n",
            "200/200 [==============================] - 252s 1s/step - loss: 0.1366 - accuracy: 0.9611 - val_loss: 0.0213 - val_accuracy: 0.7945\n",
            "\n",
            "Epoch 00020: val_accuracy did not improve from 0.79452\n",
            "Epoch 21/500\n",
            "200/200 [==============================] - 253s 1s/step - loss: 0.1111 - accuracy: 0.9733 - val_loss: 0.0185 - val_accuracy: 0.7945\n",
            "\n",
            "Epoch 00021: val_accuracy did not improve from 0.79452\n",
            "Epoch 22/500\n",
            "200/200 [==============================] - 253s 1s/step - loss: 0.1110 - accuracy: 0.9644 - val_loss: 0.0225 - val_accuracy: 0.7534\n",
            "\n",
            "Epoch 00022: val_accuracy did not improve from 0.79452\n",
            "Epoch 23/500\n",
            "200/200 [==============================] - 253s 1s/step - loss: 0.0932 - accuracy: 0.9759 - val_loss: 0.0158 - val_accuracy: 0.7671\n",
            "\n",
            "Epoch 00023: val_accuracy did not improve from 0.79452\n",
            "Epoch 24/500\n",
            "200/200 [==============================] - 253s 1s/step - loss: 0.0713 - accuracy: 0.9815 - val_loss: 0.0067 - val_accuracy: 0.7808\n",
            "\n",
            "Epoch 00024: val_accuracy did not improve from 0.79452\n",
            "Epoch 25/500\n",
            "200/200 [==============================] - 254s 1s/step - loss: 0.0698 - accuracy: 0.9835 - val_loss: 0.0080 - val_accuracy: 0.7397\n",
            "\n",
            "Epoch 00025: val_accuracy did not improve from 0.79452\n",
            "Epoch 26/500\n",
            "200/200 [==============================] - 253s 1s/step - loss: 0.0662 - accuracy: 0.9834 - val_loss: 0.0122 - val_accuracy: 0.7671\n",
            "\n",
            "Epoch 00026: val_accuracy did not improve from 0.79452\n",
            "Epoch 27/500\n",
            "200/200 [==============================] - 253s 1s/step - loss: 0.0468 - accuracy: 0.9930 - val_loss: 0.0229 - val_accuracy: 0.7808\n",
            "\n",
            "Epoch 00027: val_accuracy did not improve from 0.79452\n",
            "Epoch 28/500\n",
            "200/200 [==============================] - 253s 1s/step - loss: 0.0341 - accuracy: 0.9911 - val_loss: 0.0077 - val_accuracy: 0.7671\n",
            "\n",
            "Epoch 00028: val_accuracy did not improve from 0.79452\n",
            "Epoch 29/500\n",
            "200/200 [==============================] - 253s 1s/step - loss: 0.0389 - accuracy: 0.9911 - val_loss: 0.0054 - val_accuracy: 0.8356\n",
            "\n",
            "Epoch 00029: val_accuracy improved from 0.79452 to 0.83562, saving model to ./model.29-0.01-0.84.h5\n",
            "Epoch 30/500\n",
            "200/200 [==============================] - 253s 1s/step - loss: 0.0360 - accuracy: 0.9911 - val_loss: 0.0050 - val_accuracy: 0.8219\n",
            "\n",
            "Epoch 00030: val_accuracy did not improve from 0.83562\n",
            "Epoch 31/500\n",
            "200/200 [==============================] - 253s 1s/step - loss: 0.0336 - accuracy: 0.9936 - val_loss: 0.0041 - val_accuracy: 0.8219\n",
            "\n",
            "Epoch 00031: val_accuracy did not improve from 0.83562\n",
            "Epoch 32/500\n",
            "200/200 [==============================] - 253s 1s/step - loss: 0.0407 - accuracy: 0.9879 - val_loss: 8.9974e-04 - val_accuracy: 0.8219\n",
            "\n",
            "Epoch 00032: val_accuracy did not improve from 0.83562\n",
            "Epoch 33/500\n",
            "200/200 [==============================] - 252s 1s/step - loss: 0.0328 - accuracy: 0.9911 - val_loss: 0.0015 - val_accuracy: 0.7945\n",
            "\n",
            "Epoch 00033: val_accuracy did not improve from 0.83562\n",
            "Epoch 34/500\n",
            "200/200 [==============================] - 254s 1s/step - loss: 0.0241 - accuracy: 0.9943 - val_loss: 1.5865e-04 - val_accuracy: 0.7808\n",
            "\n",
            "Epoch 00034: val_accuracy did not improve from 0.83562\n",
            "Epoch 35/500\n",
            "200/200 [==============================] - 252s 1s/step - loss: 0.0216 - accuracy: 0.9955 - val_loss: 0.0012 - val_accuracy: 0.7808\n",
            "\n",
            "Epoch 00035: val_accuracy did not improve from 0.83562\n",
            "Epoch 36/500\n",
            "200/200 [==============================] - 254s 1s/step - loss: 0.0225 - accuracy: 0.9949 - val_loss: 2.3803e-04 - val_accuracy: 0.7671\n",
            "\n",
            "Epoch 00036: val_accuracy did not improve from 0.83562\n",
            "Epoch 37/500\n",
            "200/200 [==============================] - 253s 1s/step - loss: 0.0202 - accuracy: 0.9936 - val_loss: 1.0907e-04 - val_accuracy: 0.7945\n",
            "\n",
            "Epoch 00037: val_accuracy did not improve from 0.83562\n",
            "Epoch 38/500\n",
            "200/200 [==============================] - 252s 1s/step - loss: 0.0203 - accuracy: 0.9949 - val_loss: 1.4709e-04 - val_accuracy: 0.8082\n",
            "\n",
            "Epoch 00038: val_accuracy did not improve from 0.83562\n",
            "Epoch 39/500\n",
            "200/200 [==============================] - 253s 1s/step - loss: 0.0179 - accuracy: 0.9937 - val_loss: 1.0275e-04 - val_accuracy: 0.8493\n",
            "\n",
            "Epoch 00039: val_accuracy improved from 0.83562 to 0.84932, saving model to ./model.39-0.00-0.85.h5\n",
            "Epoch 40/500\n",
            "200/200 [==============================] - 253s 1s/step - loss: 0.0208 - accuracy: 0.9949 - val_loss: 1.8595e-04 - val_accuracy: 0.8356\n",
            "\n",
            "Epoch 00040: val_accuracy did not improve from 0.84932\n",
            "Epoch 41/500\n",
            "200/200 [==============================] - 254s 1s/step - loss: 0.0151 - accuracy: 0.9943 - val_loss: 1.0216e-04 - val_accuracy: 0.8219\n",
            "\n",
            "Epoch 00041: val_accuracy did not improve from 0.84932\n",
            "Epoch 42/500\n",
            "200/200 [==============================] - 253s 1s/step - loss: 0.0170 - accuracy: 0.9955 - val_loss: 5.6027e-05 - val_accuracy: 0.8356\n",
            "\n",
            "Epoch 00042: val_accuracy did not improve from 0.84932\n",
            "Epoch 43/500\n",
            "200/200 [==============================] - 253s 1s/step - loss: 0.0121 - accuracy: 0.9975 - val_loss: 2.1086e-04 - val_accuracy: 0.8219\n",
            "\n",
            "Epoch 00043: val_accuracy did not improve from 0.84932\n",
            "Epoch 44/500\n",
            "200/200 [==============================] - 255s 1s/step - loss: 0.0116 - accuracy: 0.9975 - val_loss: 2.9087e-05 - val_accuracy: 0.8493\n",
            "\n",
            "Epoch 00044: val_accuracy did not improve from 0.84932\n",
            "Epoch 45/500\n",
            "200/200 [==============================] - 254s 1s/step - loss: 0.0138 - accuracy: 0.9975 - val_loss: 4.2795e-05 - val_accuracy: 0.8356\n",
            "\n",
            "Epoch 00045: val_accuracy did not improve from 0.84932\n",
            "Epoch 46/500\n",
            "200/200 [==============================] - 254s 1s/step - loss: 0.0143 - accuracy: 0.9968 - val_loss: 8.1178e-05 - val_accuracy: 0.7808\n",
            "\n",
            "Epoch 00046: val_accuracy did not improve from 0.84932\n",
            "Epoch 47/500\n",
            "200/200 [==============================] - 254s 1s/step - loss: 0.0118 - accuracy: 0.9975 - val_loss: 9.3456e-05 - val_accuracy: 0.8219\n",
            "\n",
            "Epoch 00047: val_accuracy did not improve from 0.84932\n",
            "Epoch 48/500\n",
            "200/200 [==============================] - 254s 1s/step - loss: 0.0131 - accuracy: 0.9956 - val_loss: 6.1989e-06 - val_accuracy: 0.8356\n",
            "\n",
            "Epoch 00048: val_accuracy did not improve from 0.84932\n",
            "Epoch 49/500\n",
            "200/200 [==============================] - 254s 1s/step - loss: 0.0112 - accuracy: 0.9968 - val_loss: 2.4795e-05 - val_accuracy: 0.8219\n",
            "\n",
            "Epoch 00049: val_accuracy did not improve from 0.84932\n",
            "Epoch 50/500\n",
            "200/200 [==============================] - 253s 1s/step - loss: 0.0102 - accuracy: 0.9987 - val_loss: 1.8835e-05 - val_accuracy: 0.8356\n",
            "\n",
            "Epoch 00050: val_accuracy did not improve from 0.84932\n",
            "Epoch 51/500\n",
            "200/200 [==============================] - 255s 1s/step - loss: 0.0079 - accuracy: 0.9975 - val_loss: 2.8371e-05 - val_accuracy: 0.8630\n",
            "\n",
            "Epoch 00051: val_accuracy improved from 0.84932 to 0.86301, saving model to ./model.51-0.00-0.86.h5\n",
            "Epoch 52/500\n",
            "200/200 [==============================] - 253s 1s/step - loss: 0.0105 - accuracy: 0.9968 - val_loss: 7.5102e-06 - val_accuracy: 0.8219\n",
            "\n",
            "Epoch 00052: val_accuracy did not improve from 0.86301\n",
            "Epoch 53/500\n",
            "200/200 [==============================] - 254s 1s/step - loss: 0.0062 - accuracy: 0.9987 - val_loss: 1.0848e-05 - val_accuracy: 0.8356\n",
            "\n",
            "Epoch 00053: val_accuracy did not improve from 0.86301\n",
            "Epoch 54/500\n",
            "200/200 [==============================] - 253s 1s/step - loss: 0.0089 - accuracy: 0.9987 - val_loss: 8.9407e-06 - val_accuracy: 0.8356\n",
            "\n",
            "Epoch 00054: val_accuracy did not improve from 0.86301\n",
            "Epoch 55/500\n",
            "200/200 [==============================] - 254s 1s/step - loss: 0.0071 - accuracy: 0.9981 - val_loss: 1.3041e-04 - val_accuracy: 0.8219\n",
            "\n",
            "Epoch 00055: val_accuracy did not improve from 0.86301\n",
            "Epoch 56/500\n",
            "200/200 [==============================] - 252s 1s/step - loss: 0.0114 - accuracy: 0.9968 - val_loss: 9.8943e-06 - val_accuracy: 0.8219\n",
            "\n",
            "Epoch 00056: val_accuracy did not improve from 0.86301\n",
            "Epoch 57/500\n",
            "200/200 [==============================] - 252s 1s/step - loss: 0.0079 - accuracy: 0.9956 - val_loss: 1.1563e-05 - val_accuracy: 0.8219\n",
            "\n",
            "Epoch 00057: val_accuracy did not improve from 0.86301\n",
            "Epoch 58/500\n",
            "200/200 [==============================] - 251s 1s/step - loss: 0.0048 - accuracy: 0.9987 - val_loss: 7.0333e-06 - val_accuracy: 0.8219\n",
            "\n",
            "Epoch 00058: val_accuracy did not improve from 0.86301\n",
            "Epoch 59/500\n",
            "200/200 [==============================] - 252s 1s/step - loss: 0.0041 - accuracy: 0.9987 - val_loss: 4.6492e-06 - val_accuracy: 0.8219\n",
            "\n",
            "Epoch 00059: val_accuracy did not improve from 0.86301\n",
            "Epoch 60/500\n",
            "200/200 [==============================] - 251s 1s/step - loss: 0.0068 - accuracy: 0.9975 - val_loss: 3.6955e-06 - val_accuracy: 0.8219\n",
            "\n",
            "Epoch 00060: val_accuracy did not improve from 0.86301\n",
            "Epoch 61/500\n",
            "200/200 [==============================] - 252s 1s/step - loss: 0.0040 - accuracy: 0.9994 - val_loss: 1.1921e-06 - val_accuracy: 0.7808\n",
            "\n",
            "Epoch 00061: val_accuracy did not improve from 0.86301\n",
            "Epoch 62/500\n",
            "200/200 [==============================] - 251s 1s/step - loss: 0.0075 - accuracy: 0.9968 - val_loss: 1.1921e-06 - val_accuracy: 0.8082\n",
            "\n",
            "Epoch 00062: val_accuracy did not improve from 0.86301\n",
            "Epoch 63/500\n",
            "200/200 [==============================] - 250s 1s/step - loss: 0.0065 - accuracy: 0.9981 - val_loss: 5.9605e-07 - val_accuracy: 0.8219\n",
            "\n",
            "Epoch 00063: val_accuracy did not improve from 0.86301\n",
            "Epoch 64/500\n",
            "200/200 [==============================] - 250s 1s/step - loss: 0.0052 - accuracy: 0.9987 - val_loss: 7.1526e-07 - val_accuracy: 0.8082\n",
            "\n",
            "Epoch 00064: val_accuracy did not improve from 0.86301\n",
            "Epoch 65/500\n",
            "200/200 [==============================] - 250s 1s/step - loss: 0.0101 - accuracy: 0.9968 - val_loss: 4.9709e-05 - val_accuracy: 0.8219\n",
            "\n",
            "Epoch 00065: val_accuracy did not improve from 0.86301\n",
            "Epoch 66/500\n",
            "200/200 [==============================] - 250s 1s/step - loss: 0.0060 - accuracy: 0.9981 - val_loss: 6.8305e-05 - val_accuracy: 0.8219\n",
            "\n",
            "Epoch 00066: val_accuracy did not improve from 0.86301\n",
            "Epoch 67/500\n",
            "200/200 [==============================] - 252s 1s/step - loss: 0.0033 - accuracy: 0.9994 - val_loss: 1.7881e-05 - val_accuracy: 0.8219\n",
            "\n",
            "Epoch 00067: val_accuracy did not improve from 0.86301\n",
            "Epoch 68/500\n",
            "200/200 [==============================] - 252s 1s/step - loss: 0.0061 - accuracy: 0.9987 - val_loss: 1.2159e-05 - val_accuracy: 0.7671\n",
            "\n",
            "Epoch 00068: val_accuracy did not improve from 0.86301\n",
            "Epoch 69/500\n",
            "200/200 [==============================] - 255s 1s/step - loss: 0.0039 - accuracy: 0.9987 - val_loss: 3.1590e-05 - val_accuracy: 0.7671\n",
            "\n",
            "Epoch 00069: val_accuracy did not improve from 0.86301\n",
            "Epoch 70/500\n",
            "200/200 [==============================] - 255s 1s/step - loss: 0.0035 - accuracy: 0.9994 - val_loss: 1.0848e-05 - val_accuracy: 0.8219\n",
            "\n",
            "Epoch 00070: val_accuracy did not improve from 0.86301\n",
            "Epoch 71/500\n",
            "200/200 [==============================] - 255s 1s/step - loss: 0.0092 - accuracy: 0.9968 - val_loss: 6.1510e-05 - val_accuracy: 0.8082\n",
            "\n",
            "Epoch 00071: val_accuracy did not improve from 0.86301\n",
            "Epoch 72/500\n",
            "200/200 [==============================] - 255s 1s/step - loss: 0.0025 - accuracy: 0.9994 - val_loss: 5.2452e-06 - val_accuracy: 0.7945\n",
            "\n",
            "Epoch 00072: val_accuracy did not improve from 0.86301\n",
            "Epoch 73/500\n",
            "200/200 [==============================] - 254s 1s/step - loss: 0.0026 - accuracy: 1.0000 - val_loss: 9.7751e-06 - val_accuracy: 0.7945\n",
            "\n",
            "Epoch 00073: val_accuracy did not improve from 0.86301\n",
            "Epoch 74/500\n",
            "200/200 [==============================] - 255s 1s/step - loss: 0.0012 - accuracy: 1.0000 - val_loss: 1.0490e-05 - val_accuracy: 0.7945\n",
            "\n",
            "Epoch 00074: val_accuracy did not improve from 0.86301\n",
            "Epoch 75/500\n",
            "200/200 [==============================] - 254s 1s/step - loss: 0.0065 - accuracy: 0.9981 - val_loss: 2.0385e-05 - val_accuracy: 0.7945\n",
            "\n",
            "Epoch 00075: val_accuracy did not improve from 0.86301\n",
            "Epoch 76/500\n",
            "200/200 [==============================] - 254s 1s/step - loss: 0.0053 - accuracy: 0.9987 - val_loss: 4.0531e-06 - val_accuracy: 0.8082\n",
            "\n",
            "Epoch 00076: val_accuracy did not improve from 0.86301\n",
            "Epoch 77/500\n",
            "200/200 [==============================] - 254s 1s/step - loss: 0.0024 - accuracy: 1.0000 - val_loss: 2.3842e-06 - val_accuracy: 0.7945\n",
            "\n",
            "Epoch 00077: val_accuracy did not improve from 0.86301\n",
            "Epoch 78/500\n",
            "200/200 [==============================] - 254s 1s/step - loss: 0.0036 - accuracy: 0.9987 - val_loss: 2.6226e-06 - val_accuracy: 0.7945\n",
            "\n",
            "Epoch 00078: val_accuracy did not improve from 0.86301\n",
            "Epoch 79/500\n",
            "200/200 [==============================] - 252s 1s/step - loss: 0.0018 - accuracy: 1.0000 - val_loss: 2.0266e-06 - val_accuracy: 0.8082\n",
            "\n",
            "Epoch 00079: val_accuracy did not improve from 0.86301\n",
            "Epoch 80/500\n",
            "200/200 [==============================] - 253s 1s/step - loss: 0.0040 - accuracy: 0.9987 - val_loss: 1.0729e-06 - val_accuracy: 0.8082\n",
            "\n",
            "Epoch 00080: val_accuracy did not improve from 0.86301\n",
            "Epoch 81/500\n",
            "199/200 [============================>.] - ETA: 1s - loss: 0.0027 - accuracy: 0.9994\n",
            "Epoch 00081: val_accuracy did not improve from 0.86301\n",
            "Epoch 82/500\n",
            "  6/200 [..............................] - ETA: 3:19 - loss: 0.0020 - accuracy: 1.0000"
          ],
          "name": "stdout"
        },
        {
          "output_type": "error",
          "ename": "KeyboardInterrupt",
          "evalue": "ignored",
          "traceback": [
            "\u001b[0;31m---------------------------------------------------------------------------\u001b[0m",
            "\u001b[0;31mKeyboardInterrupt\u001b[0m                         Traceback (most recent call last)",
            "\u001b[0;32m<ipython-input-8-b0f261802e7e>\u001b[0m in \u001b[0;36m<module>\u001b[0;34m()\u001b[0m\n\u001b[0;32m----> 1\u001b[0;31m \u001b[0mpretrained\u001b[0m\u001b[0;34m(\u001b[0m\u001b[0mmodel\u001b[0m\u001b[0;34m=\u001b[0m\u001b[0;34m\"ResNet50\"\u001b[0m\u001b[0;34m,\u001b[0m \u001b[0mbatch_size\u001b[0m\u001b[0;34m=\u001b[0m\u001b[0;36m8\u001b[0m\u001b[0;34m,\u001b[0m \u001b[0mepochs\u001b[0m\u001b[0;34m=\u001b[0m\u001b[0;36m500\u001b[0m\u001b[0;34m)\u001b[0m\u001b[0;34m\u001b[0m\u001b[0;34m\u001b[0m\u001b[0m\n\u001b[0m",
            "\u001b[0;32m<ipython-input-7-4788a1c3720f>\u001b[0m in \u001b[0;36mpretrained\u001b[0;34m(model, batch_size, epochs)\u001b[0m\n\u001b[1;32m     63\u001b[0m     \u001b[0mprint\u001b[0m\u001b[0;34m(\u001b[0m\u001b[0;34m\"ResNet50\"\u001b[0m\u001b[0;34m)\u001b[0m\u001b[0;34m\u001b[0m\u001b[0;34m\u001b[0m\u001b[0m\n\u001b[1;32m     64\u001b[0m     \u001b[0mmodel_finetuned\u001b[0m \u001b[0;34m=\u001b[0m \u001b[0mResNet50\u001b[0m\u001b[0;34m(\u001b[0m\u001b[0minclude_top\u001b[0m\u001b[0;34m=\u001b[0m\u001b[0;32mFalse\u001b[0m\u001b[0;34m,\u001b[0m \u001b[0mweights\u001b[0m\u001b[0;34m=\u001b[0m\u001b[0;34m'imagenet'\u001b[0m\u001b[0;34m,\u001b[0m \u001b[0minput_shape\u001b[0m\u001b[0;34m=\u001b[0m\u001b[0;34m(\u001b[0m\u001b[0mimg_size\u001b[0m\u001b[0;34m,\u001b[0m\u001b[0mimg_size\u001b[0m\u001b[0;34m,\u001b[0m\u001b[0;36m3\u001b[0m\u001b[0;34m)\u001b[0m\u001b[0;34m)\u001b[0m\u001b[0;34m\u001b[0m\u001b[0;34m\u001b[0m\u001b[0m\n\u001b[0;32m---> 65\u001b[0;31m     \u001b[0mtraining\u001b[0m\u001b[0;34m(\u001b[0m\u001b[0mmodel_finetuned\u001b[0m \u001b[0;34m=\u001b[0m \u001b[0mmodel_finetuned\u001b[0m\u001b[0;34m,\u001b[0m \u001b[0mimg_size\u001b[0m \u001b[0;34m=\u001b[0m \u001b[0mimg_size\u001b[0m\u001b[0;34m,\u001b[0m \u001b[0mbatch_size\u001b[0m \u001b[0;34m=\u001b[0m \u001b[0mbatch_size\u001b[0m\u001b[0;34m,\u001b[0m \u001b[0mepochs\u001b[0m \u001b[0;34m=\u001b[0m \u001b[0mepochs\u001b[0m\u001b[0;34m)\u001b[0m\u001b[0;34m\u001b[0m\u001b[0;34m\u001b[0m\u001b[0m\n\u001b[0m\u001b[1;32m     66\u001b[0m \u001b[0;34m\u001b[0m\u001b[0m\n\u001b[1;32m     67\u001b[0m   \u001b[0;32mif\u001b[0m \u001b[0mmodel\u001b[0m\u001b[0;34m==\u001b[0m\u001b[0;34m\"ResNet101\"\u001b[0m\u001b[0;34m:\u001b[0m\u001b[0;34m\u001b[0m\u001b[0;34m\u001b[0m\u001b[0m\n",
            "\u001b[0;32m<ipython-input-7-4788a1c3720f>\u001b[0m in \u001b[0;36mtraining\u001b[0;34m(model_finetuned, img_size, batch_size, epochs)\u001b[0m\n\u001b[1;32m    200\u001b[0m                                           \u001b[0mcallbacks\u001b[0m \u001b[0;34m=\u001b[0m \u001b[0mcallbacks\u001b[0m\u001b[0;34m,\u001b[0m\u001b[0;34m\u001b[0m\u001b[0;34m\u001b[0m\u001b[0m\n\u001b[1;32m    201\u001b[0m                                           \u001b[0muse_multiprocessing\u001b[0m\u001b[0;34m=\u001b[0m\u001b[0;32mFalse\u001b[0m\u001b[0;34m,\u001b[0m\u001b[0;34m\u001b[0m\u001b[0;34m\u001b[0m\u001b[0m\n\u001b[0;32m--> 202\u001b[0;31m                                           shuffle=True)\n\u001b[0m",
            "\u001b[0;32m/usr/local/lib/python3.6/dist-packages/keras/legacy/interfaces.py\u001b[0m in \u001b[0;36mwrapper\u001b[0;34m(*args, **kwargs)\u001b[0m\n\u001b[1;32m     89\u001b[0m                 warnings.warn('Update your `' + object_name + '` call to the ' +\n\u001b[1;32m     90\u001b[0m                               'Keras 2 API: ' + signature, stacklevel=2)\n\u001b[0;32m---> 91\u001b[0;31m             \u001b[0;32mreturn\u001b[0m \u001b[0mfunc\u001b[0m\u001b[0;34m(\u001b[0m\u001b[0;34m*\u001b[0m\u001b[0margs\u001b[0m\u001b[0;34m,\u001b[0m \u001b[0;34m**\u001b[0m\u001b[0mkwargs\u001b[0m\u001b[0;34m)\u001b[0m\u001b[0;34m\u001b[0m\u001b[0;34m\u001b[0m\u001b[0m\n\u001b[0m\u001b[1;32m     92\u001b[0m         \u001b[0mwrapper\u001b[0m\u001b[0;34m.\u001b[0m\u001b[0m_original_function\u001b[0m \u001b[0;34m=\u001b[0m \u001b[0mfunc\u001b[0m\u001b[0;34m\u001b[0m\u001b[0;34m\u001b[0m\u001b[0m\n\u001b[1;32m     93\u001b[0m         \u001b[0;32mreturn\u001b[0m \u001b[0mwrapper\u001b[0m\u001b[0;34m\u001b[0m\u001b[0;34m\u001b[0m\u001b[0m\n",
            "\u001b[0;32m/usr/local/lib/python3.6/dist-packages/keras/engine/training.py\u001b[0m in \u001b[0;36mfit_generator\u001b[0;34m(self, generator, steps_per_epoch, epochs, verbose, callbacks, validation_data, validation_steps, validation_freq, class_weight, max_queue_size, workers, use_multiprocessing, shuffle, initial_epoch)\u001b[0m\n\u001b[1;32m   1730\u001b[0m             \u001b[0muse_multiprocessing\u001b[0m\u001b[0;34m=\u001b[0m\u001b[0muse_multiprocessing\u001b[0m\u001b[0;34m,\u001b[0m\u001b[0;34m\u001b[0m\u001b[0;34m\u001b[0m\u001b[0m\n\u001b[1;32m   1731\u001b[0m             \u001b[0mshuffle\u001b[0m\u001b[0;34m=\u001b[0m\u001b[0mshuffle\u001b[0m\u001b[0;34m,\u001b[0m\u001b[0;34m\u001b[0m\u001b[0;34m\u001b[0m\u001b[0m\n\u001b[0;32m-> 1732\u001b[0;31m             initial_epoch=initial_epoch)\n\u001b[0m\u001b[1;32m   1733\u001b[0m \u001b[0;34m\u001b[0m\u001b[0m\n\u001b[1;32m   1734\u001b[0m     \u001b[0;34m@\u001b[0m\u001b[0minterfaces\u001b[0m\u001b[0;34m.\u001b[0m\u001b[0mlegacy_generator_methods_support\u001b[0m\u001b[0;34m\u001b[0m\u001b[0;34m\u001b[0m\u001b[0m\n",
            "\u001b[0;32m/usr/local/lib/python3.6/dist-packages/keras/engine/training_generator.py\u001b[0m in \u001b[0;36mfit_generator\u001b[0;34m(model, generator, steps_per_epoch, epochs, verbose, callbacks, validation_data, validation_steps, validation_freq, class_weight, max_queue_size, workers, use_multiprocessing, shuffle, initial_epoch)\u001b[0m\n\u001b[1;32m    218\u001b[0m                                             \u001b[0msample_weight\u001b[0m\u001b[0;34m=\u001b[0m\u001b[0msample_weight\u001b[0m\u001b[0;34m,\u001b[0m\u001b[0;34m\u001b[0m\u001b[0;34m\u001b[0m\u001b[0m\n\u001b[1;32m    219\u001b[0m                                             \u001b[0mclass_weight\u001b[0m\u001b[0;34m=\u001b[0m\u001b[0mclass_weight\u001b[0m\u001b[0;34m,\u001b[0m\u001b[0;34m\u001b[0m\u001b[0;34m\u001b[0m\u001b[0m\n\u001b[0;32m--> 220\u001b[0;31m                                             reset_metrics=False)\n\u001b[0m\u001b[1;32m    221\u001b[0m \u001b[0;34m\u001b[0m\u001b[0m\n\u001b[1;32m    222\u001b[0m                 \u001b[0mouts\u001b[0m \u001b[0;34m=\u001b[0m \u001b[0mto_list\u001b[0m\u001b[0;34m(\u001b[0m\u001b[0mouts\u001b[0m\u001b[0;34m)\u001b[0m\u001b[0;34m\u001b[0m\u001b[0;34m\u001b[0m\u001b[0m\n",
            "\u001b[0;32m/usr/local/lib/python3.6/dist-packages/keras/engine/training.py\u001b[0m in \u001b[0;36mtrain_on_batch\u001b[0;34m(self, x, y, sample_weight, class_weight, reset_metrics)\u001b[0m\n\u001b[1;32m   1512\u001b[0m             \u001b[0mins\u001b[0m \u001b[0;34m=\u001b[0m \u001b[0mx\u001b[0m \u001b[0;34m+\u001b[0m \u001b[0my\u001b[0m \u001b[0;34m+\u001b[0m \u001b[0msample_weights\u001b[0m\u001b[0;34m\u001b[0m\u001b[0;34m\u001b[0m\u001b[0m\n\u001b[1;32m   1513\u001b[0m         \u001b[0mself\u001b[0m\u001b[0;34m.\u001b[0m\u001b[0m_make_train_function\u001b[0m\u001b[0;34m(\u001b[0m\u001b[0;34m)\u001b[0m\u001b[0;34m\u001b[0m\u001b[0;34m\u001b[0m\u001b[0m\n\u001b[0;32m-> 1514\u001b[0;31m         \u001b[0moutputs\u001b[0m \u001b[0;34m=\u001b[0m \u001b[0mself\u001b[0m\u001b[0;34m.\u001b[0m\u001b[0mtrain_function\u001b[0m\u001b[0;34m(\u001b[0m\u001b[0mins\u001b[0m\u001b[0;34m)\u001b[0m\u001b[0;34m\u001b[0m\u001b[0;34m\u001b[0m\u001b[0m\n\u001b[0m\u001b[1;32m   1515\u001b[0m \u001b[0;34m\u001b[0m\u001b[0m\n\u001b[1;32m   1516\u001b[0m         \u001b[0;32mif\u001b[0m \u001b[0mreset_metrics\u001b[0m\u001b[0;34m:\u001b[0m\u001b[0;34m\u001b[0m\u001b[0;34m\u001b[0m\u001b[0m\n",
            "\u001b[0;32m/usr/local/lib/python3.6/dist-packages/tensorflow/python/keras/backend.py\u001b[0m in \u001b[0;36m__call__\u001b[0;34m(self, inputs)\u001b[0m\n\u001b[1;32m   3798\u001b[0m     return nest.pack_sequence_as(\n\u001b[1;32m   3799\u001b[0m         \u001b[0mself\u001b[0m\u001b[0;34m.\u001b[0m\u001b[0m_outputs_structure\u001b[0m\u001b[0;34m,\u001b[0m\u001b[0;34m\u001b[0m\u001b[0;34m\u001b[0m\u001b[0m\n\u001b[0;32m-> 3800\u001b[0;31m         \u001b[0;34m[\u001b[0m\u001b[0mx\u001b[0m\u001b[0;34m.\u001b[0m\u001b[0m_numpy\u001b[0m\u001b[0;34m(\u001b[0m\u001b[0;34m)\u001b[0m \u001b[0;32mfor\u001b[0m \u001b[0mx\u001b[0m \u001b[0;32min\u001b[0m \u001b[0moutputs\u001b[0m\u001b[0;34m]\u001b[0m\u001b[0;34m,\u001b[0m  \u001b[0;31m# pylint: disable=protected-access\u001b[0m\u001b[0;34m\u001b[0m\u001b[0;34m\u001b[0m\u001b[0m\n\u001b[0m\u001b[1;32m   3801\u001b[0m         expand_composites=True)\n\u001b[1;32m   3802\u001b[0m \u001b[0;34m\u001b[0m\u001b[0m\n",
            "\u001b[0;32m/usr/local/lib/python3.6/dist-packages/tensorflow/python/keras/backend.py\u001b[0m in \u001b[0;36m<listcomp>\u001b[0;34m(.0)\u001b[0m\n\u001b[1;32m   3798\u001b[0m     return nest.pack_sequence_as(\n\u001b[1;32m   3799\u001b[0m         \u001b[0mself\u001b[0m\u001b[0;34m.\u001b[0m\u001b[0m_outputs_structure\u001b[0m\u001b[0;34m,\u001b[0m\u001b[0;34m\u001b[0m\u001b[0;34m\u001b[0m\u001b[0m\n\u001b[0;32m-> 3800\u001b[0;31m         \u001b[0;34m[\u001b[0m\u001b[0mx\u001b[0m\u001b[0;34m.\u001b[0m\u001b[0m_numpy\u001b[0m\u001b[0;34m(\u001b[0m\u001b[0;34m)\u001b[0m \u001b[0;32mfor\u001b[0m \u001b[0mx\u001b[0m \u001b[0;32min\u001b[0m \u001b[0moutputs\u001b[0m\u001b[0;34m]\u001b[0m\u001b[0;34m,\u001b[0m  \u001b[0;31m# pylint: disable=protected-access\u001b[0m\u001b[0;34m\u001b[0m\u001b[0;34m\u001b[0m\u001b[0m\n\u001b[0m\u001b[1;32m   3801\u001b[0m         expand_composites=True)\n\u001b[1;32m   3802\u001b[0m \u001b[0;34m\u001b[0m\u001b[0m\n",
            "\u001b[0;32m/usr/local/lib/python3.6/dist-packages/tensorflow/python/framework/ops.py\u001b[0m in \u001b[0;36m_numpy\u001b[0;34m(self)\u001b[0m\n\u001b[1;32m    925\u001b[0m     \u001b[0;31m# pylint: disable=protected-access\u001b[0m\u001b[0;34m\u001b[0m\u001b[0;34m\u001b[0m\u001b[0;34m\u001b[0m\u001b[0m\n\u001b[1;32m    926\u001b[0m     \u001b[0;32mtry\u001b[0m\u001b[0;34m:\u001b[0m\u001b[0;34m\u001b[0m\u001b[0;34m\u001b[0m\u001b[0m\n\u001b[0;32m--> 927\u001b[0;31m       \u001b[0;32mreturn\u001b[0m \u001b[0mself\u001b[0m\u001b[0;34m.\u001b[0m\u001b[0m_numpy_internal\u001b[0m\u001b[0;34m(\u001b[0m\u001b[0;34m)\u001b[0m\u001b[0;34m\u001b[0m\u001b[0;34m\u001b[0m\u001b[0m\n\u001b[0m\u001b[1;32m    928\u001b[0m     \u001b[0;32mexcept\u001b[0m \u001b[0mcore\u001b[0m\u001b[0;34m.\u001b[0m\u001b[0m_NotOkStatusException\u001b[0m \u001b[0;32mas\u001b[0m \u001b[0me\u001b[0m\u001b[0;34m:\u001b[0m\u001b[0;34m\u001b[0m\u001b[0;34m\u001b[0m\u001b[0m\n\u001b[1;32m    929\u001b[0m       \u001b[0msix\u001b[0m\u001b[0;34m.\u001b[0m\u001b[0mraise_from\u001b[0m\u001b[0;34m(\u001b[0m\u001b[0mcore\u001b[0m\u001b[0;34m.\u001b[0m\u001b[0m_status_to_exception\u001b[0m\u001b[0;34m(\u001b[0m\u001b[0me\u001b[0m\u001b[0;34m.\u001b[0m\u001b[0mcode\u001b[0m\u001b[0;34m,\u001b[0m \u001b[0me\u001b[0m\u001b[0;34m.\u001b[0m\u001b[0mmessage\u001b[0m\u001b[0;34m)\u001b[0m\u001b[0;34m,\u001b[0m \u001b[0;32mNone\u001b[0m\u001b[0;34m)\u001b[0m\u001b[0;34m\u001b[0m\u001b[0;34m\u001b[0m\u001b[0m\n",
            "\u001b[0;31mKeyboardInterrupt\u001b[0m: "
          ]
        }
      ]
    },
    {
      "cell_type": "code",
      "metadata": {
        "id": "4vDr-oPDC1uD",
        "colab_type": "code",
        "colab": {
          "base_uri": "https://localhost:8080/",
          "height": 1000
        },
        "outputId": "17764bc5-65a7-4a83-e2ae-a17a784b91a4"
      },
      "source": [
        "pretrained(model=\"ResNet50\", batch_size=8, epochs=300)"
      ],
      "execution_count": null,
      "outputs": [
        {
          "output_type": "stream",
          "text": [
            "Resizing Image\n",
            "Image Shape ----> (364, 384, 384, 3)\n",
            "ResNet50\n",
            "Train-Val Split - 20%\n",
            "Performing Data Augmentation\n",
            "Found 291 validated image filenames.\n",
            "Found 73 validated image filenames.\n",
            "Found 156 validated image filenames.\n",
            "Success\n",
            "Epoch 1/300\n",
            "200/200 [==============================] - 200s 998ms/step - loss: 2.9796 - accuracy: 0.1669 - val_loss: 3.0351 - val_accuracy: 0.0959\n",
            "Epoch 2/300\n",
            "200/200 [==============================] - 182s 911ms/step - loss: 2.3723 - accuracy: 0.2565 - val_loss: 1.8676 - val_accuracy: 0.1918\n",
            "Epoch 3/300\n",
            "200/200 [==============================] - 182s 910ms/step - loss: 1.9649 - accuracy: 0.3486 - val_loss: 1.6047 - val_accuracy: 0.3562\n",
            "Epoch 4/300\n",
            "200/200 [==============================] - 182s 909ms/step - loss: 1.6483 - accuracy: 0.4452 - val_loss: 0.0997 - val_accuracy: 0.5342\n",
            "Epoch 5/300\n",
            "200/200 [==============================] - 182s 911ms/step - loss: 1.3714 - accuracy: 0.5219 - val_loss: 0.0024 - val_accuracy: 0.7123\n",
            "Epoch 6/300\n",
            "200/200 [==============================] - 182s 911ms/step - loss: 1.0719 - accuracy: 0.6190 - val_loss: 7.2465e-04 - val_accuracy: 0.7397\n",
            "Epoch 7/300\n",
            "200/200 [==============================] - 182s 908ms/step - loss: 0.9061 - accuracy: 0.6803 - val_loss: 3.0334e-04 - val_accuracy: 0.7397\n",
            "Epoch 8/300\n",
            "200/200 [==============================] - 182s 911ms/step - loss: 0.7912 - accuracy: 0.7225 - val_loss: 4.1484e-05 - val_accuracy: 0.7671\n",
            "Epoch 9/300\n",
            "200/200 [==============================] - 182s 908ms/step - loss: 0.6823 - accuracy: 0.7624 - val_loss: 3.5763e-06 - val_accuracy: 0.7534\n",
            "Epoch 10/300\n",
            "200/200 [==============================] - 182s 911ms/step - loss: 0.5754 - accuracy: 0.7937 - val_loss: 1.9193e-05 - val_accuracy: 0.7534\n",
            "Epoch 11/300\n",
            "200/200 [==============================] - 182s 909ms/step - loss: 0.4737 - accuracy: 0.8299 - val_loss: 9.5367e-07 - val_accuracy: 0.7808\n",
            "Epoch 12/300\n",
            "200/200 [==============================] - 182s 911ms/step - loss: 0.4547 - accuracy: 0.8419 - val_loss: 1.6689e-06 - val_accuracy: 0.7808\n",
            "Epoch 13/300\n",
            "200/200 [==============================] - 182s 911ms/step - loss: 0.3852 - accuracy: 0.8667 - val_loss: 3.5763e-07 - val_accuracy: 0.7534\n",
            "Epoch 14/300\n",
            "200/200 [==============================] - 182s 909ms/step - loss: 0.3180 - accuracy: 0.8911 - val_loss: 1.1921e-06 - val_accuracy: 0.7671\n",
            "Epoch 15/300\n",
            "200/200 [==============================] - 182s 911ms/step - loss: 0.2768 - accuracy: 0.9098 - val_loss: 3.5763e-07 - val_accuracy: 0.7945\n",
            "Epoch 16/300\n",
            "200/200 [==============================] - 182s 911ms/step - loss: 0.2034 - accuracy: 0.9378 - val_loss: 1.1921e-07 - val_accuracy: 0.7945\n",
            "Epoch 17/300\n",
            "200/200 [==============================] - 182s 909ms/step - loss: 0.2104 - accuracy: 0.9389 - val_loss: 1.1921e-07 - val_accuracy: 0.8082\n",
            "Epoch 18/300\n",
            "200/200 [==============================] - 182s 912ms/step - loss: 0.1740 - accuracy: 0.9498 - val_loss: 0.0000e+00 - val_accuracy: 0.8219\n",
            "Epoch 19/300\n",
            "200/200 [==============================] - 182s 909ms/step - loss: 0.1504 - accuracy: 0.9580 - val_loss: 0.0000e+00 - val_accuracy: 0.8219\n",
            "Epoch 20/300\n",
            "200/200 [==============================] - 182s 911ms/step - loss: 0.1181 - accuracy: 0.9695 - val_loss: 0.0000e+00 - val_accuracy: 0.8219\n",
            "Epoch 21/300\n",
            "200/200 [==============================] - 182s 909ms/step - loss: 0.1330 - accuracy: 0.9605 - val_loss: 0.0000e+00 - val_accuracy: 0.8082\n",
            "Epoch 22/300\n",
            "200/200 [==============================] - 183s 913ms/step - loss: 0.0886 - accuracy: 0.9797 - val_loss: 0.0000e+00 - val_accuracy: 0.8356\n",
            "Epoch 23/300\n",
            "200/200 [==============================] - 182s 910ms/step - loss: 0.0873 - accuracy: 0.9732 - val_loss: 0.0000e+00 - val_accuracy: 0.7945\n",
            "Epoch 24/300\n",
            "200/200 [==============================] - 182s 911ms/step - loss: 0.0690 - accuracy: 0.9860 - val_loss: 0.0000e+00 - val_accuracy: 0.8356\n",
            "Epoch 25/300\n",
            "200/200 [==============================] - 182s 910ms/step - loss: 0.0637 - accuracy: 0.9854 - val_loss: 0.0000e+00 - val_accuracy: 0.8630\n",
            "Epoch 26/300\n",
            "200/200 [==============================] - 182s 909ms/step - loss: 0.0575 - accuracy: 0.9847 - val_loss: 0.0000e+00 - val_accuracy: 0.8219\n",
            "Epoch 27/300\n",
            "200/200 [==============================] - 182s 911ms/step - loss: 0.0543 - accuracy: 0.9841 - val_loss: 0.0000e+00 - val_accuracy: 0.7945\n",
            "Epoch 28/300\n",
            "200/200 [==============================] - 182s 912ms/step - loss: 0.0450 - accuracy: 0.9854 - val_loss: 0.0000e+00 - val_accuracy: 0.8219\n",
            "Epoch 29/300\n",
            "187/200 [===========================>..] - ETA: 9s - loss: 0.0369 - accuracy: 0.9925 "
          ],
          "name": "stdout"
        }
      ]
    },
    {
      "cell_type": "code",
      "metadata": {
        "id": "OHvmZnuc8eqC",
        "colab_type": "code",
        "colab": {}
      },
      "source": [
        "def data_info():\n",
        "  train_dir = '/content/dataset/train/'\n",
        "  val_dir = '/content/dataset/train/'\n",
        "  test_dir = '/content/dataset/test/'\n",
        "  x_col = \"Image\"\n",
        "  y_col = ['bharatanatyam',\t'kathak',\t'kathakali',\t'kuchipudi',\t'manipuri'\t,'mohiniyattam',\t'odissi',\t'sattriya']\n",
        "  return train_dir, val_dir, test_dir, x_col, y_col\n",
        "\n",
        "def pretrained(model, batch_size, epochs):\n",
        "  \n",
        "  if model == \"ResNet50\":\n",
        "    img_size = 384\n",
        "    from keras.applications.resnet50 import ResNet50\n",
        "\n",
        "  if model == \"ResNet101\":\n",
        "    img_size = 224\n",
        "    from keras.applications.resnet import ResNet101\n",
        "\n",
        "  if model == \"ResNet50V2\":\n",
        "    img_size = 224\n",
        "    from keras.applications.resnet_v2 import ResNet50V2\n",
        "\n",
        "  if model == \"ResNet152V2\":\n",
        "    img_size = 224\n",
        "    from keras.applications.resnet_v2 import ResNet152V2\n",
        "\n",
        "  if model == \"ResNet101V2\":\n",
        "    img_size = 224\n",
        "    from keras.applications.resnet_v2 import ResNet101V2\n",
        "\n",
        "  if model == \"Xception\":\n",
        "    img_size = 299\n",
        "    from keras.applications.xception import Xception\n",
        "\n",
        "  if model == \"InceptionV3\":\n",
        "    img_size = 384\n",
        "    from keras.applications import InceptionV3\n",
        "\n",
        "  if model == \"InceptionResNetV2\":\n",
        "    img_size = 299\n",
        "    from keras.applications.inception_resnet_v2 import InceptionResNetV2\n",
        "\n",
        "  if model == \"VGG16\":\n",
        "    img_size = 224\n",
        "    from keras.applications.vgg16 import VGG16\n",
        "\n",
        "  print(\"Resizing Image\")\n",
        "  img=[]\n",
        "  filename=df.Image\n",
        "  for file in filename:\n",
        "      image=cv2.imread(\"/content/dataset/train/\"+file)\n",
        "      res=cv2.resize(image,(img_size,img_size))\n",
        "      img.append(res)\n",
        "  img=np.array(img)\n",
        "  print(\"Image Shape ---->\",img.shape)\n",
        "\n",
        "  if model==\"ResNet50V2\":\n",
        "    print(\"ResNet50V2\")\n",
        "    model_finetuned = ResNet50V2(include_top=False, weights='imagenet', input_shape=(img_size,img_size,3))\n",
        "    training(model_finetuned = model_finetuned, img_size = img_size, batch_size = batch_size, epochs = epochs)\n",
        "\n",
        "  if model==\"ResNet50\":\n",
        "    print(\"ResNet50\")\n",
        "    model_finetuned = ResNet50(include_top=False, weights='imagenet', input_shape=(img_size,img_size,3))\n",
        "    training(model_finetuned = model_finetuned, img_size = img_size, batch_size = batch_size, epochs = epochs)\n",
        "\n",
        "  if model==\"ResNet101\":\n",
        "    print(\"ResNet101\")\n",
        "    model_finetuned = ResNet101(include_top=False, weights='imagenet', input_shape=(img_size,img_size,3))\n",
        "    training(model_finetuned = model_finetuned, img_size = img_size, batch_size = batch_size, epochs = epochs)\n",
        "\n",
        "  if model==\"ResNet152V2\":\n",
        "    print(\"ResNet152V2\")\n",
        "    model_finetuned = ResNet152V2(include_top=False, weights='imagenet', input_shape=(img_size,img_size,3))\n",
        "    training(model_finetuned = model_finetuned, img_size = img_size, batch_size = batch_size, epochs = epochs)\n",
        "  \n",
        "  if model==\"ResNet101V2\":\n",
        "    print(\"ResNet101V2\")\n",
        "    model_finetuned = ResNet101V2(include_top=False, weights='imagenet', input_shape=(img_size,img_size,3))\n",
        "    training(model_finetuned = model_finetuned, img_size = img_size, batch_size = batch_size, epochs = epochs)\n",
        "        \n",
        "  if model==\"Xception\":\n",
        "    print(\"Xception\")\n",
        "    model_finetuned = Xception(include_top=False, weights='imagenet', input_shape=(img_size,img_size,3))\n",
        "    training(model_finetuned = model_finetuned, img_size = img_size, batch_size = batch_size, epochs = epochs)\n",
        "\n",
        "  if model == \"InceptionV3\":\n",
        "    print(\"InceptionV3\")\n",
        "    model_finetuned = InceptionV3(include_top=False, weights='imagenet', input_shape=(img_size,img_size,3))\n",
        "    training(model_finetuned = model_finetuned, img_size = img_size, batch_size = batch_size, epochs = epochs)\n",
        "\n",
        "  return model_finetuned\n",
        "\n",
        "def data_augment(img_size, batch_size):\n",
        "\n",
        "  train_dir, val_dir, test_dir, x_col, y_col = data_info()\n",
        "\n",
        "  print(\"Train-Val Split - 20%\")\n",
        "  train, val = train_test_split(df, test_size = 0.20)\n",
        "\n",
        "  print(\"Performing Data Augmentation\")\n",
        "  \n",
        "  train_datagen = ImageDataGenerator( horizontal_flip = True,\n",
        "                                      vertical_flip = False,\n",
        "                                      rotation_range=20,\n",
        "                                      width_shift_range=0.2,\n",
        "                                      height_shift_range=0.2,\n",
        "                                      brightness_range=(0.4,0.9),\n",
        "                                      zoom_range=[0.5,1.5],\n",
        "                                      fill_mode='reflect',\n",
        "                                      shear_range=10,\n",
        "                                      rescale=1/255)\n",
        "\n",
        "  train_generator=train_datagen.flow_from_dataframe(train,\n",
        "                                                    directory=train_dir,\n",
        "                                                    target_size=(img_size,img_size),\n",
        "                                                    x_col=x_col,\n",
        "                                                    y_col=y_col,\n",
        "                                                    class_mode='raw',\n",
        "                                                    shuffle=False,\n",
        "                                                    subset='training',\n",
        "                                                    batch_size=batch_size)\n",
        "\n",
        "  val_datagen = ImageDataGenerator(rescale=1/255)\n",
        "  \n",
        "  val_generator=val_datagen.flow_from_dataframe(val,\n",
        "                                                directory=val_dir,\n",
        "                                                target_size=(img_size,img_size),\n",
        "                                                x_col=x_col,\n",
        "                                                y_col=y_col,\n",
        "                                                class_mode='raw',\n",
        "                                                shuffle=False,\n",
        "                                                batch_size=batch_size)\n",
        "\n",
        "  \n",
        "  test_datagen = ImageDataGenerator(rescale=1/255)\n",
        "  test_generator=val_datagen.flow_from_dataframe(dft,\n",
        "                                                directory=test_dir,\n",
        "                                                target_size=(img_size,img_size),\n",
        "                                                x_col=x_col,\n",
        "                                                y_col=None,\n",
        "                                                class_mode=None,\n",
        "                                                shuffle=False,\n",
        "                                                batch_size=1)\n",
        "  \n",
        "  print(\"Success\")\n",
        "  return train_generator,val_generator,test_generator\n",
        "\n",
        "def training(model_finetuned, img_size, batch_size, epochs):\n",
        "\n",
        "  train_dir, val_dir, test_dir, x_col, y_col = data_info()\n",
        "  classes = len(y_col)\n",
        "\n",
        "  x = model_finetuned.output\n",
        "  x = GlobalAveragePooling2D()(x)\n",
        "  x = Dense(1024)(x)\n",
        "  x = Dropout(0.5)(x)\n",
        "  x = Dense(512)(x)\n",
        "  x = Dropout(0.5)(x)\n",
        "  predictions = Dense(classes, activation=\"softmax\")(x)\n",
        "\n",
        "  #adam = keras.optimizers.Adam(learning_rate=0.000005, beta_1=0.9, beta_2=0.999, amsgrad=False)\n",
        "\n",
        "  adam = keras.optimizers.Adam()\n",
        "\n",
        "  model_finetuned = Model(inputs=model_finetuned.input, outputs=predictions)\n",
        "  \n",
        "  model_finetuned.compile(optimizer=adam,\n",
        "                    loss = 'categorical_crossentropy',\n",
        "                    metrics=['accuracy'])\n",
        "\n",
        "  earlystop = EarlyStopping(monitor = 'val_loss', \n",
        "                            min_delta = 0, \n",
        "                            patience = 30,\n",
        "                            verbose = 1,\n",
        "                            restore_best_weights = True)\n",
        "\n",
        "  reduce_lr = ReduceLROnPlateau(monitor='val_loss',\n",
        "                                factor=0.3,\n",
        "                                patience=5,\n",
        "                                min_lr=0.000001)\n",
        "\n",
        "  checkpoint = ModelCheckpoint(\"./model.{epoch:02d}-{val_loss:.2f}-{val_accuracy:.2f}.h5\",\n",
        "                              monitor=\"val_accuracy\",\n",
        "                              mode=\"auto\",\n",
        "                              save_best_only = True,\n",
        "                              verbose=1)\n",
        "  \n",
        "  clr = CyclicLR(base_lr=0.00000001, max_lr=0.00001,step_size=4)\n",
        "\n",
        "  callbacks = [clr,checkpoint]\n",
        "\n",
        "  train_generator, val_generator, test_generator= data_augment(img_size = img_size, batch_size = batch_size)\n",
        "\n",
        "  history = model_finetuned.fit_generator(train_generator,\n",
        "                                          steps_per_epoch=200,\n",
        "                                          epochs=epochs,\n",
        "                                          validation_data=val_generator,\n",
        "                                          validation_steps=200,\n",
        "                                          callbacks = callbacks,\n",
        "                                          use_multiprocessing=False,\n",
        "                                          shuffle=True)"
      ],
      "execution_count": null,
      "outputs": []
    },
    {
      "cell_type": "markdown",
      "metadata": {
        "id": "QwzNPc_IeAZM",
        "colab_type": "text"
      },
      "source": [
        "##LR-Finder"
      ]
    },
    {
      "cell_type": "code",
      "metadata": {
        "id": "iar-85OvU_dX",
        "colab_type": "code",
        "colab": {
          "base_uri": "https://localhost:8080/",
          "height": 196
        },
        "outputId": "d459b900-d1e6-46c0-8d79-b49fa1ed57ce"
      },
      "source": [
        "df.head()"
      ],
      "execution_count": null,
      "outputs": [
        {
          "output_type": "execute_result",
          "data": {
            "text/html": [
              "<div>\n",
              "<style scoped>\n",
              "    .dataframe tbody tr th:only-of-type {\n",
              "        vertical-align: middle;\n",
              "    }\n",
              "\n",
              "    .dataframe tbody tr th {\n",
              "        vertical-align: top;\n",
              "    }\n",
              "\n",
              "    .dataframe thead th {\n",
              "        text-align: right;\n",
              "    }\n",
              "</style>\n",
              "<table border=\"1\" class=\"dataframe\">\n",
              "  <thead>\n",
              "    <tr style=\"text-align: right;\">\n",
              "      <th></th>\n",
              "      <th>Image</th>\n",
              "      <th>target</th>\n",
              "    </tr>\n",
              "  </thead>\n",
              "  <tbody>\n",
              "    <tr>\n",
              "      <th>0</th>\n",
              "      <td>96.jpg</td>\n",
              "      <td>4</td>\n",
              "    </tr>\n",
              "    <tr>\n",
              "      <th>1</th>\n",
              "      <td>163.jpg</td>\n",
              "      <td>0</td>\n",
              "    </tr>\n",
              "    <tr>\n",
              "      <th>2</th>\n",
              "      <td>450.jpg</td>\n",
              "      <td>6</td>\n",
              "    </tr>\n",
              "    <tr>\n",
              "      <th>3</th>\n",
              "      <td>219.jpg</td>\n",
              "      <td>2</td>\n",
              "    </tr>\n",
              "    <tr>\n",
              "      <th>4</th>\n",
              "      <td>455.jpg</td>\n",
              "      <td>6</td>\n",
              "    </tr>\n",
              "  </tbody>\n",
              "</table>\n",
              "</div>"
            ],
            "text/plain": [
              "     Image  target\n",
              "0   96.jpg       4\n",
              "1  163.jpg       0\n",
              "2  450.jpg       6\n",
              "3  219.jpg       2\n",
              "4  455.jpg       6"
            ]
          },
          "metadata": {
            "tags": []
          },
          "execution_count": 7
        }
      ]
    },
    {
      "cell_type": "code",
      "metadata": {
        "id": "C0soebXOVh2O",
        "colab_type": "code",
        "colab": {
          "base_uri": "https://localhost:8080/",
          "height": 33
        },
        "outputId": "37117c71-77fb-4535-b5ec-6cd6b43abd07"
      },
      "source": [
        "img=[]\n",
        "img_size = 224\n",
        "filename=df.Image\n",
        "for file in filename:\n",
        "    image=cv2.imread(\"/content/dataset/train/\"+file)\n",
        "    res=cv2.resize(image,(img_size,img_size))\n",
        "    img.append(res)\n",
        "X=np.array(img)\n",
        "print(\"Image Shape ---->\",X.shape)"
      ],
      "execution_count": null,
      "outputs": [
        {
          "output_type": "stream",
          "text": [
            "Image Shape ----> (364, 224, 224, 3)\n"
          ],
          "name": "stdout"
        }
      ]
    },
    {
      "cell_type": "code",
      "metadata": {
        "id": "mYptbotPU31w",
        "colab_type": "code",
        "colab": {
          "base_uri": "https://localhost:8080/",
          "height": 33
        },
        "outputId": "f863375d-7348-4e8e-c33e-f36cd7094b7d"
      },
      "source": [
        "from sklearn.preprocessing import LabelEncoder\n",
        "labelencoded = LabelEncoder()\n",
        "df['target'] = labelencoded.fit_transform(df['target'])\n",
        "from keras.utils import to_categorical\n",
        "y = df['target'].values\n",
        "y = to_categorical(y)\n",
        "print(\"Label Shape ---->\",y.shape)"
      ],
      "execution_count": null,
      "outputs": [
        {
          "output_type": "stream",
          "text": [
            "Label Shape ----> (364, 8)\n"
          ],
          "name": "stdout"
        }
      ]
    },
    {
      "cell_type": "code",
      "metadata": {
        "id": "e2Rtby_bxg82",
        "colab_type": "code",
        "colab": {}
      },
      "source": [
        ""
      ],
      "execution_count": null,
      "outputs": []
    },
    {
      "cell_type": "code",
      "metadata": {
        "id": "_1dvsDo5YkZj",
        "colab_type": "code",
        "colab": {}
      },
      "source": [
        "X_train, X_test, y_train, y_test = train_test_split(X, y, random_state=42, test_size=0.2)"
      ],
      "execution_count": null,
      "outputs": []
    },
    {
      "cell_type": "code",
      "metadata": {
        "id": "TSOxzu8UY3PE",
        "colab_type": "code",
        "colab": {
          "base_uri": "https://localhost:8080/",
          "height": 117
        },
        "outputId": "7839b36f-3e2e-466f-e66b-d3420c88fc14"
      },
      "source": [
        "!git clone https://github.com/WittmannF/LRFinder.git\n",
        "from LRFinder.keras_callback import LRFinder"
      ],
      "execution_count": null,
      "outputs": [
        {
          "output_type": "stream",
          "text": [
            "Cloning into 'LRFinder'...\n",
            "remote: Enumerating objects: 71, done.\u001b[K\n",
            "remote: Counting objects:   1% (1/71)\u001b[K\rremote: Counting objects:   2% (2/71)\u001b[K\rremote: Counting objects:   4% (3/71)\u001b[K\rremote: Counting objects:   5% (4/71)\u001b[K\rremote: Counting objects:   7% (5/71)\u001b[K\rremote: Counting objects:   8% (6/71)\u001b[K\rremote: Counting objects:   9% (7/71)\u001b[K\rremote: Counting objects:  11% (8/71)\u001b[K\rremote: Counting objects:  12% (9/71)\u001b[K\rremote: Counting objects:  14% (10/71)\u001b[K\rremote: Counting objects:  15% (11/71)\u001b[K\rremote: Counting objects:  16% (12/71)\u001b[K\rremote: Counting objects:  18% (13/71)\u001b[K\rremote: Counting objects:  19% (14/71)\u001b[K\rremote: Counting objects:  21% (15/71)\u001b[K\rremote: Counting objects:  22% (16/71)\u001b[K\rremote: Counting objects:  23% (17/71)\u001b[K\rremote: Counting objects:  25% (18/71)\u001b[K\rremote: Counting objects:  26% (19/71)\u001b[K\rremote: Counting objects:  28% (20/71)\u001b[K\rremote: Counting objects:  29% (21/71)\u001b[K\rremote: Counting objects:  30% (22/71)\u001b[K\rremote: Counting objects:  32% (23/71)\u001b[K\rremote: Counting objects:  33% (24/71)\u001b[K\rremote: Counting objects:  35% (25/71)\u001b[K\rremote: Counting objects:  36% (26/71)\u001b[K\rremote: Counting objects:  38% (27/71)\u001b[K\rremote: Counting objects:  39% (28/71)\u001b[K\rremote: Counting objects:  40% (29/71)\u001b[K\rremote: Counting objects:  42% (30/71)\u001b[K\rremote: Counting objects:  43% (31/71)\u001b[K\rremote: Counting objects:  45% (32/71)\u001b[K\rremote: Counting objects:  46% (33/71)\u001b[K\rremote: Counting objects:  47% (34/71)\u001b[K\rremote: Counting objects:  49% (35/71)\u001b[K\rremote: Counting objects:  50% (36/71)\u001b[K\rremote: Counting objects:  52% (37/71)\u001b[K\rremote: Counting objects:  53% (38/71)\u001b[K\rremote: Counting objects:  54% (39/71)\u001b[K\rremote: Counting objects:  56% (40/71)\u001b[K\rremote: Counting objects:  57% (41/71)\u001b[K\rremote: Counting objects:  59% (42/71)\u001b[K\rremote: Counting objects:  60% (43/71)\u001b[K\rremote: Counting objects:  61% (44/71)\u001b[K\rremote: Counting objects:  63% (45/71)\u001b[K\rremote: Counting objects:  64% (46/71)\u001b[K\rremote: Counting objects:  66% (47/71)\u001b[K\rremote: Counting objects:  67% (48/71)\u001b[K\rremote: Counting objects:  69% (49/71)\u001b[K\rremote: Counting objects:  70% (50/71)\u001b[K\rremote: Counting objects:  71% (51/71)\u001b[K\rremote: Counting objects:  73% (52/71)\u001b[K\rremote: Counting objects:  74% (53/71)\u001b[K\rremote: Counting objects:  76% (54/71)\u001b[K\rremote: Counting objects:  77% (55/71)\u001b[K\rremote: Counting objects:  78% (56/71)\u001b[K\rremote: Counting objects:  80% (57/71)\u001b[K\rremote: Counting objects:  81% (58/71)\u001b[K\rremote: Counting objects:  83% (59/71)\u001b[K\rremote: Counting objects:  84% (60/71)\u001b[K\rremote: Counting objects:  85% (61/71)\u001b[K\rremote: Counting objects:  87% (62/71)\u001b[K\rremote: Counting objects:  88% (63/71)\u001b[K\rremote: Counting objects:  90% (64/71)\u001b[K\rremote: Counting objects:  91% (65/71)\u001b[K\rremote: Counting objects:  92% (66/71)\u001b[K\rremote: Counting objects:  94% (67/71)\u001b[K\rremote: Counting objects:  95% (68/71)\u001b[K\rremote: Counting objects:  97% (69/71)\u001b[K\rremote: Counting objects:  98% (70/71)\u001b[K\rremote: Counting objects: 100% (71/71)\u001b[K\rremote: Counting objects: 100% (71/71), done.\u001b[K\n",
            "remote: Compressing objects:   1% (1/64)\u001b[K\rremote: Compressing objects:   3% (2/64)\u001b[K\rremote: Compressing objects:   4% (3/64)\u001b[K\rremote: Compressing objects:   6% (4/64)\u001b[K\rremote: Compressing objects:   7% (5/64)\u001b[K\rremote: Compressing objects:   9% (6/64)\u001b[K\rremote: Compressing objects:  10% (7/64)\u001b[K\rremote: Compressing objects:  12% (8/64)\u001b[K\rremote: Compressing objects:  14% (9/64)\u001b[K\rremote: Compressing objects:  15% (10/64)\u001b[K\rremote: Compressing objects:  17% (11/64)\u001b[K\rremote: Compressing objects:  18% (12/64)\u001b[K\rremote: Compressing objects:  20% (13/64)\u001b[K\rremote: Compressing objects:  21% (14/64)\u001b[K\rremote: Compressing objects:  23% (15/64)\u001b[K\rremote: Compressing objects:  25% (16/64)\u001b[K\rremote: Compressing objects:  26% (17/64)\u001b[K\rremote: Compressing objects:  28% (18/64)\u001b[K\rremote: Compressing objects:  29% (19/64)\u001b[K\rremote: Compressing objects:  31% (20/64)\u001b[K\rremote: Compressing objects:  32% (21/64)\u001b[K\rremote: Compressing objects:  34% (22/64)\u001b[K\rremote: Compressing objects:  35% (23/64)\u001b[K\rremote: Compressing objects:  37% (24/64)\u001b[K\rremote: Compressing objects:  39% (25/64)\u001b[K\rremote: Compressing objects:  40% (26/64)\u001b[K\rremote: Compressing objects:  42% (27/64)\u001b[K\rremote: Compressing objects:  43% (28/64)\u001b[K\rremote: Compressing objects:  45% (29/64)\u001b[K\rremote: Compressing objects:  46% (30/64)\u001b[K\rremote: Compressing objects:  48% (31/64)\u001b[K\rremote: Compressing objects:  50% (32/64)\u001b[K\rremote: Compressing objects:  51% (33/64)\u001b[K\rremote: Compressing objects:  53% (34/64)\u001b[K\rremote: Compressing objects:  54% (35/64)\u001b[K\rremote: Compressing objects:  56% (36/64)\u001b[K\rremote: Compressing objects:  57% (37/64)\u001b[K\rremote: Compressing objects:  59% (38/64)\u001b[K\rremote: Compressing objects:  60% (39/64)\u001b[K\rremote: Compressing objects:  62% (40/64)\u001b[K\rremote: Compressing objects:  64% (41/64)\u001b[K\rremote: Compressing objects:  65% (42/64)\u001b[K\rremote: Compressing objects:  67% (43/64)\u001b[K\rremote: Compressing objects:  68% (44/64)\u001b[K\rremote: Compressing objects:  70% (45/64)\u001b[K\rremote: Compressing objects:  71% (46/64)\u001b[K\rremote: Compressing objects:  73% (47/64)\u001b[K\rremote: Compressing objects:  75% (48/64)\u001b[K\rremote: Compressing objects:  76% (49/64)\u001b[K\rremote: Compressing objects:  78% (50/64)\u001b[K\rremote: Compressing objects:  79% (51/64)\u001b[K\rremote: Compressing objects:  81% (52/64)\u001b[K\rremote: Compressing objects:  82% (53/64)\u001b[K\rremote: Compressing objects:  84% (54/64)\u001b[K\rremote: Compressing objects:  85% (55/64)\u001b[K\rremote: Compressing objects:  87% (56/64)\u001b[K\rremote: Compressing objects:  89% (57/64)\u001b[K\rremote: Compressing objects:  90% (58/64)\u001b[K\rremote: Compressing objects:  92% (59/64)\u001b[K\rremote: Compressing objects:  93% (60/64)\u001b[K\rremote: Compressing objects:  95% (61/64)\u001b[K\rremote: Compressing objects:  96% (62/64)\u001b[K\rremote: Compressing objects:  98% (63/64)\u001b[K\rremote: Compressing objects: 100% (64/64)\u001b[K\rremote: Compressing objects: 100% (64/64), done.\u001b[K\n",
            "Unpacking objects:   1% (1/71)   \rUnpacking objects:   2% (2/71)   \rUnpacking objects:   4% (3/71)   \rUnpacking objects:   5% (4/71)   \rUnpacking objects:   7% (5/71)   \rUnpacking objects:   8% (6/71)   \rUnpacking objects:   9% (7/71)   \rUnpacking objects:  11% (8/71)   \rUnpacking objects:  12% (9/71)   \rUnpacking objects:  14% (10/71)   \rUnpacking objects:  15% (11/71)   \rUnpacking objects:  16% (12/71)   \rUnpacking objects:  18% (13/71)   \rUnpacking objects:  19% (14/71)   \rUnpacking objects:  21% (15/71)   \rUnpacking objects:  22% (16/71)   \rUnpacking objects:  23% (17/71)   \rUnpacking objects:  25% (18/71)   \rUnpacking objects:  26% (19/71)   \rUnpacking objects:  28% (20/71)   \rUnpacking objects:  29% (21/71)   \rUnpacking objects:  30% (22/71)   \rUnpacking objects:  32% (23/71)   \rUnpacking objects:  33% (24/71)   \rUnpacking objects:  35% (25/71)   \rUnpacking objects:  36% (26/71)   \rUnpacking objects:  38% (27/71)   \rUnpacking objects:  39% (28/71)   \rUnpacking objects:  40% (29/71)   \rUnpacking objects:  42% (30/71)   \rUnpacking objects:  43% (31/71)   \rUnpacking objects:  45% (32/71)   \rUnpacking objects:  46% (33/71)   \rUnpacking objects:  47% (34/71)   \rUnpacking objects:  49% (35/71)   \rUnpacking objects:  50% (36/71)   \rUnpacking objects:  52% (37/71)   \rUnpacking objects:  53% (38/71)   \rUnpacking objects:  54% (39/71)   \rUnpacking objects:  56% (40/71)   \rUnpacking objects:  57% (41/71)   \rUnpacking objects:  59% (42/71)   \rUnpacking objects:  60% (43/71)   \rUnpacking objects:  61% (44/71)   \rUnpacking objects:  63% (45/71)   \rUnpacking objects:  64% (46/71)   \rUnpacking objects:  66% (47/71)   \rUnpacking objects:  67% (48/71)   \rUnpacking objects:  69% (49/71)   \rUnpacking objects:  70% (50/71)   \rUnpacking objects:  71% (51/71)   \rUnpacking objects:  73% (52/71)   \rUnpacking objects:  74% (53/71)   \rUnpacking objects:  76% (54/71)   \rUnpacking objects:  77% (55/71)   \rUnpacking objects:  78% (56/71)   \rremote: Total 71 (delta 24), reused 20 (delta 5), pack-reused 0\u001b[K\n",
            "Unpacking objects:  80% (57/71)   \rUnpacking objects:  81% (58/71)   \rUnpacking objects:  83% (59/71)   \rUnpacking objects:  84% (60/71)   \rUnpacking objects:  85% (61/71)   \rUnpacking objects:  87% (62/71)   \rUnpacking objects:  88% (63/71)   \rUnpacking objects:  90% (64/71)   \rUnpacking objects:  91% (65/71)   \rUnpacking objects:  92% (66/71)   \rUnpacking objects:  94% (67/71)   \rUnpacking objects:  95% (68/71)   \rUnpacking objects:  97% (69/71)   \rUnpacking objects:  98% (70/71)   \rUnpacking objects: 100% (71/71)   \rUnpacking objects: 100% (71/71), done.\n"
          ],
          "name": "stdout"
        }
      ]
    },
    {
      "cell_type": "code",
      "metadata": {
        "id": "WR5cW-7YY8Qp",
        "colab_type": "code",
        "colab": {}
      },
      "source": [
        "model = Sequential()\n",
        "model.add(Conv2D(32, kernel_size=(3, 3),activation='relu',input_shape=(224,224,3)))\n",
        "model.add(Conv2D(64, (3, 3), activation='relu'))\n",
        "model.add(MaxPooling2D(pool_size=(2, 2)))\n",
        "model.add(Dropout(0.25))\n",
        "model.add(Flatten())\n",
        "model.add(Dense(128, activation='relu'))\n",
        "model.add(Dropout(0.5))\n",
        "model.add(Dense(8, activation='softmax'))\n",
        "model.compile(loss='categorical_crossentropy',optimizer='Adam',metrics=['accuracy'])"
      ],
      "execution_count": null,
      "outputs": []
    },
    {
      "cell_type": "code",
      "metadata": {
        "id": "hpxOn6NTaFK6",
        "colab_type": "code",
        "colab": {
          "base_uri": "https://localhost:8080/",
          "height": 50
        },
        "outputId": "4a93f527-465d-467e-b4f4-8c43a9c67193"
      },
      "source": [
        "from keras.applications.resnet50 import ResNet50\n",
        "model_finetuned_res50 = ResNet50(include_top=False, weights='imagenet', input_shape=(img_size,img_size,3))\n",
        "x = model_finetuned_res50.output\n",
        "x = GlobalAveragePooling2D()(x)\n",
        "x = Dense(1024)(x)\n",
        "x = Dropout(0.5)(x)\n",
        "x = Dense(512)(x)\n",
        "x = Dropout(0.5)(x)\n",
        "predictions = Dense(8, activation=\"softmax\")(x)\n",
        "adam = keras.optimizers.Adam()\n",
        "model_finetuned_res50 = Model(inputs=model_finetuned_res50.input, outputs=predictions)\n",
        "model_finetuned_res50.compile(optimizer=adam,\n",
        "                  loss = 'categorical_crossentropy',\n",
        "                  metrics=['accuracy'])"
      ],
      "execution_count": null,
      "outputs": [
        {
          "output_type": "stream",
          "text": [
            "Downloading data from https://github.com/fchollet/deep-learning-models/releases/download/v0.2/resnet50_weights_tf_dim_ordering_tf_kernels_notop.h5\n",
            "94658560/94653016 [==============================] - 2s 0us/step\n"
          ],
          "name": "stdout"
        }
      ]
    },
    {
      "cell_type": "code",
      "metadata": {
        "id": "mV4nxqFQY_yI",
        "colab_type": "code",
        "colab": {}
      },
      "source": [
        "lr_finder = LRFinder(min_lr=1e-7, max_lr=1)\n",
        "model_finetuned_res50.fit(X_train, y_train, batch_size=16, callbacks=[lr_finder], epochs=10)"
      ],
      "execution_count": null,
      "outputs": []
    },
    {
      "cell_type": "code",
      "metadata": {
        "id": "926EZNZjdFbe",
        "colab_type": "code",
        "colab": {
          "base_uri": "https://localhost:8080/",
          "height": 134
        },
        "outputId": "14698cd9-2278-41ff-9c92-b2d70d282020"
      },
      "source": [
        "!git clone https://github.com/bckenstler/CLR.git\n",
        "from CLR.clr_callback import CyclicLR"
      ],
      "execution_count": null,
      "outputs": [
        {
          "output_type": "stream",
          "text": [
            "Cloning into 'CLR'...\n",
            "remote: Enumerating objects: 8, done.\u001b[K\n",
            "remote: Counting objects:  12% (1/8)\u001b[K\rremote: Counting objects:  25% (2/8)\u001b[K\rremote: Counting objects:  37% (3/8)\u001b[K\rremote: Counting objects:  50% (4/8)\u001b[K\rremote: Counting objects:  62% (5/8)\u001b[K\rremote: Counting objects:  75% (6/8)\u001b[K\rremote: Counting objects:  87% (7/8)\u001b[K\rremote: Counting objects: 100% (8/8)\u001b[K\rremote: Counting objects: 100% (8/8), done.\u001b[K\n",
            "remote: Compressing objects:  14% (1/7)\u001b[K\rremote: Compressing objects:  28% (2/7)\u001b[K\rremote: Compressing objects:  42% (3/7)\u001b[K\rremote: Compressing objects:  57% (4/7)\u001b[K\rremote: Compressing objects:  71% (5/7)\u001b[K\rremote: Compressing objects:  85% (6/7)\u001b[K\rremote: Compressing objects: 100% (7/7)\u001b[K\rremote: Compressing objects: 100% (7/7), done.\u001b[K\n",
            "Receiving objects:   0% (1/252)   \rReceiving objects:   1% (3/252)   \rReceiving objects:   2% (6/252)   \rReceiving objects:   3% (8/252)   \rReceiving objects:   4% (11/252)   \rReceiving objects:   5% (13/252)   \rReceiving objects:   6% (16/252)   \rReceiving objects:   7% (18/252)   \rReceiving objects:   8% (21/252)   \rReceiving objects:   9% (23/252)   \rReceiving objects:  10% (26/252)   \rReceiving objects:  11% (28/252)   \rReceiving objects:  12% (31/252)   \rReceiving objects:  13% (33/252)   \rReceiving objects:  14% (36/252)   \rReceiving objects:  15% (38/252)   \rReceiving objects:  16% (41/252)   \rReceiving objects:  17% (43/252)   \rReceiving objects:  18% (46/252)   \rReceiving objects:  19% (48/252)   \rReceiving objects:  20% (51/252)   \rReceiving objects:  21% (53/252)   \rReceiving objects:  22% (56/252)   \rReceiving objects:  23% (58/252)   \rReceiving objects:  24% (61/252)   \rReceiving objects:  25% (63/252)   \rReceiving objects:  26% (66/252)   \rReceiving objects:  27% (69/252)   \rReceiving objects:  28% (71/252)   \rReceiving objects:  29% (74/252)   \rReceiving objects:  30% (76/252)   \rReceiving objects:  31% (79/252)   \rReceiving objects:  32% (81/252)   \rReceiving objects:  33% (84/252)   \rReceiving objects:  34% (86/252)   \rReceiving objects:  35% (89/252)   \rReceiving objects:  36% (91/252)   \rReceiving objects:  37% (94/252)   \rReceiving objects:  38% (96/252)   \rReceiving objects:  39% (99/252)   \rReceiving objects:  40% (101/252)   \rReceiving objects:  41% (104/252)   \rReceiving objects:  42% (106/252)   \rReceiving objects:  43% (109/252)   \rReceiving objects:  44% (111/252)   \rReceiving objects:  45% (114/252)   \rReceiving objects:  46% (116/252)   \rReceiving objects:  47% (119/252)   \rReceiving objects:  48% (121/252)   \rReceiving objects:  49% (124/252)   \rReceiving objects:  50% (126/252)   \rReceiving objects:  51% (129/252)   \rReceiving objects:  52% (132/252)   \rReceiving objects:  53% (134/252)   \rReceiving objects:  54% (137/252)   \rReceiving objects:  55% (139/252)   \rReceiving objects:  56% (142/252)   \rReceiving objects:  57% (144/252)   \rReceiving objects:  58% (147/252)   \rReceiving objects:  59% (149/252)   \rReceiving objects:  60% (152/252)   \rReceiving objects:  61% (154/252)   \rReceiving objects:  62% (157/252)   \rReceiving objects:  63% (159/252)   \rReceiving objects:  64% (162/252)   \rReceiving objects:  65% (164/252)   \rReceiving objects:  66% (167/252)   \rReceiving objects:  67% (169/252)   \rReceiving objects:  68% (172/252)   \rReceiving objects:  69% (174/252)   \rReceiving objects:  70% (177/252)   \rReceiving objects:  71% (179/252)   \rReceiving objects:  72% (182/252)   \rReceiving objects:  73% (184/252)   \rReceiving objects:  74% (187/252)   \rReceiving objects:  75% (189/252)   \rReceiving objects:  76% (192/252)   \rReceiving objects:  77% (195/252)   \rReceiving objects:  78% (197/252)   \rReceiving objects:  79% (200/252)   \rReceiving objects:  80% (202/252)   \rReceiving objects:  81% (205/252)   \rReceiving objects:  82% (207/252)   \rReceiving objects:  83% (210/252)   \rReceiving objects:  84% (212/252)   \rReceiving objects:  85% (215/252)   \rReceiving objects:  86% (217/252)   \rReceiving objects:  87% (220/252)   \rReceiving objects:  88% (222/252)   \rReceiving objects:  89% (225/252)   \rReceiving objects:  90% (227/252)   \rReceiving objects:  91% (230/252)   \rReceiving objects:  92% (232/252)   \rReceiving objects:  93% (235/252)   \rReceiving objects:  94% (237/252)   \rReceiving objects:  95% (240/252)   \rReceiving objects:  96% (242/252)   \rReceiving objects:  97% (245/252)   \rReceiving objects:  98% (247/252)   \rReceiving objects:  99% (250/252)   \rremote: Total 252 (delta 1), reused 4 (delta 0), pack-reused 244\u001b[K\n",
            "Receiving objects: 100% (252/252)   \rReceiving objects: 100% (252/252), 2.06 MiB | 11.33 MiB/s, done.\n",
            "Resolving deltas:   0% (0/87)   \rResolving deltas:  29% (26/87)   \rResolving deltas:  34% (30/87)   \rResolving deltas:  37% (33/87)   \rResolving deltas:  41% (36/87)   \rResolving deltas:  43% (38/87)   \rResolving deltas:  44% (39/87)   \rResolving deltas:  47% (41/87)   \rResolving deltas:  65% (57/87)   \rResolving deltas:  66% (58/87)   \rResolving deltas:  71% (62/87)   \rResolving deltas:  80% (70/87)   \rResolving deltas:  87% (76/87)   \rResolving deltas:  89% (78/87)   \rResolving deltas:  90% (79/87)   \rResolving deltas:  91% (80/87)   \rResolving deltas:  94% (82/87)   \rResolving deltas:  97% (85/87)   \rResolving deltas:  98% (86/87)   \rResolving deltas: 100% (87/87)   \rResolving deltas: 100% (87/87), done.\n"
          ],
          "name": "stdout"
        }
      ]
    },
    {
      "cell_type": "code",
      "metadata": {
        "id": "63NW3qmko9vv",
        "colab_type": "code",
        "colab": {}
      },
      "source": [
        "# construct the image generator for data augmentation\n",
        "aug = ImageDataGenerator(width_shift_range=0.1,height_shift_range=0.1, horizontal_flip=True,fill_mode=\"nearest\")"
      ],
      "execution_count": null,
      "outputs": []
    },
    {
      "cell_type": "code",
      "metadata": {
        "id": "FCbgW8vmx1zG",
        "colab_type": "code",
        "colab": {}
      },
      "source": [
        "X = X.astype(\"float\")\n",
        "mean = np.mean(X, axis=0)\n",
        "X -= mean"
      ],
      "execution_count": null,
      "outputs": []
    },
    {
      "cell_type": "code",
      "metadata": {
        "id": "c1fvDK5ZyB-J",
        "colab_type": "code",
        "colab": {}
      },
      "source": [
        "from sklearn.preprocessing import LabelBinarizer\n",
        "lb = LabelBinarizer()\n",
        "y = lb.fit_transform(y)"
      ],
      "execution_count": null,
      "outputs": []
    },
    {
      "cell_type": "code",
      "metadata": {
        "id": "AMXj815_ewcR",
        "colab_type": "code",
        "colab": {}
      },
      "source": [
        "reduce_lr = ReduceLROnPlateau(monitor='val_loss', factor=0.3, patience=500, min_lr=0.000001)\n",
        "earlystop = EarlyStopping(monitor = 'val_loss', min_delta = 0, patience = 500,verbose = 1,restore_best_weights = True)"
      ],
      "execution_count": null,
      "outputs": []
    },
    {
      "cell_type": "code",
      "metadata": {
        "id": "31yFSAT8eF1N",
        "colab_type": "code",
        "colab": {
          "base_uri": "https://localhost:8080/",
          "height": 1000
        },
        "outputId": "0e11b91e-c3a2-45ec-af50-99272d788b96"
      },
      "source": [
        "clr = CyclicLR(base_lr=0.000001, max_lr=0.0005,step_size=8)\n",
        "model_finetuned_res50.fit(X, y, callbacks=[clr],batch_size=16,epochs=200,validation_split=0.2)"
      ],
      "execution_count": null,
      "outputs": [
        {
          "output_type": "stream",
          "text": [
            "Train on 291 samples, validate on 73 samples\n",
            "Epoch 1/200\n",
            "291/291 [==============================] - 15s 53ms/step - loss: 34.7968 - accuracy: 0.1237 - val_loss: 6.6224 - val_accuracy: 0.1233\n",
            "Epoch 2/200\n",
            "291/291 [==============================] - 15s 53ms/step - loss: 32.8310 - accuracy: 0.1100 - val_loss: 6.6228 - val_accuracy: 0.1233\n",
            "Epoch 3/200\n",
            "291/291 [==============================] - 15s 52ms/step - loss: 32.7747 - accuracy: 0.0997 - val_loss: 5.9083 - val_accuracy: 0.1233\n",
            "Epoch 4/200\n",
            "291/291 [==============================] - 15s 52ms/step - loss: 29.6494 - accuracy: 0.1306 - val_loss: 6.2151 - val_accuracy: 0.1233\n",
            "Epoch 5/200\n",
            "291/291 [==============================] - 15s 52ms/step - loss: 31.7804 - accuracy: 0.1753 - val_loss: 6.4037 - val_accuracy: 0.1233\n",
            "Epoch 6/200\n",
            "291/291 [==============================] - 15s 52ms/step - loss: 31.7103 - accuracy: 0.1100 - val_loss: 6.1475 - val_accuracy: 0.1233\n",
            "Epoch 7/200\n",
            "291/291 [==============================] - 15s 52ms/step - loss: 30.8256 - accuracy: 0.1065 - val_loss: 8.0629 - val_accuracy: 0.1233\n",
            "Epoch 8/200\n",
            "291/291 [==============================] - 15s 52ms/step - loss: 32.8760 - accuracy: 0.1203 - val_loss: 6.2499 - val_accuracy: 0.1233\n",
            "Epoch 9/200\n",
            "291/291 [==============================] - 15s 51ms/step - loss: 28.6294 - accuracy: 0.1581 - val_loss: 5.6232 - val_accuracy: 0.1233\n",
            "Epoch 10/200\n",
            "291/291 [==============================] - 15s 52ms/step - loss: 29.5220 - accuracy: 0.1168 - val_loss: 5.3801 - val_accuracy: 0.1233\n",
            "Epoch 11/200\n",
            "291/291 [==============================] - 15s 51ms/step - loss: 30.3435 - accuracy: 0.1443 - val_loss: 5.8214 - val_accuracy: 0.1233\n",
            "Epoch 12/200\n",
            "291/291 [==============================] - 15s 52ms/step - loss: 29.2677 - accuracy: 0.1203 - val_loss: 5.8371 - val_accuracy: 0.1233\n",
            "Epoch 13/200\n",
            "291/291 [==============================] - 15s 52ms/step - loss: 29.3948 - accuracy: 0.1271 - val_loss: 7.0387 - val_accuracy: 0.1233\n",
            "Epoch 14/200\n",
            "291/291 [==============================] - 15s 51ms/step - loss: 30.3213 - accuracy: 0.1271 - val_loss: 7.7068 - val_accuracy: 0.1233\n",
            "Epoch 15/200\n",
            "291/291 [==============================] - 15s 52ms/step - loss: 28.2776 - accuracy: 0.1787 - val_loss: 7.5255 - val_accuracy: 0.1233\n",
            "Epoch 16/200\n",
            "291/291 [==============================] - 15s 53ms/step - loss: 29.9977 - accuracy: 0.1100 - val_loss: 6.3418 - val_accuracy: 0.1233\n",
            "Epoch 17/200\n",
            "291/291 [==============================] - 15s 53ms/step - loss: 28.7082 - accuracy: 0.1134 - val_loss: 7.4527 - val_accuracy: 0.1233\n",
            "Epoch 18/200\n",
            "291/291 [==============================] - 15s 53ms/step - loss: 28.7495 - accuracy: 0.1237 - val_loss: 6.5855 - val_accuracy: 0.1233\n",
            "Epoch 19/200\n",
            "291/291 [==============================] - 15s 52ms/step - loss: 28.9501 - accuracy: 0.1134 - val_loss: 6.5088 - val_accuracy: 0.1233\n",
            "Epoch 20/200\n",
            "291/291 [==============================] - 15s 53ms/step - loss: 30.9159 - accuracy: 0.1271 - val_loss: 5.4459 - val_accuracy: 0.1233\n",
            "Epoch 21/200\n",
            "291/291 [==============================] - 15s 53ms/step - loss: 28.8905 - accuracy: 0.1340 - val_loss: 5.5077 - val_accuracy: 0.1233\n",
            "Epoch 22/200\n",
            "144/291 [=============>................] - ETA: 7s - loss: 26.5460 - accuracy: 0.1042"
          ],
          "name": "stdout"
        },
        {
          "output_type": "error",
          "ename": "KeyboardInterrupt",
          "evalue": "ignored",
          "traceback": [
            "\u001b[0;31m---------------------------------------------------------------------------\u001b[0m",
            "\u001b[0;31mKeyboardInterrupt\u001b[0m                         Traceback (most recent call last)",
            "\u001b[0;32m<ipython-input-28-2a1b2069c44e>\u001b[0m in \u001b[0;36m<module>\u001b[0;34m()\u001b[0m\n\u001b[1;32m      1\u001b[0m \u001b[0mclr\u001b[0m \u001b[0;34m=\u001b[0m \u001b[0mCyclicLR\u001b[0m\u001b[0;34m(\u001b[0m\u001b[0mbase_lr\u001b[0m\u001b[0;34m=\u001b[0m\u001b[0;36m0.000001\u001b[0m\u001b[0;34m,\u001b[0m \u001b[0mmax_lr\u001b[0m\u001b[0;34m=\u001b[0m\u001b[0;36m0.0005\u001b[0m\u001b[0;34m,\u001b[0m\u001b[0mstep_size\u001b[0m\u001b[0;34m=\u001b[0m\u001b[0;36m8\u001b[0m\u001b[0;34m)\u001b[0m\u001b[0;34m\u001b[0m\u001b[0;34m\u001b[0m\u001b[0m\n\u001b[0;32m----> 2\u001b[0;31m \u001b[0mmodel_finetuned_res50\u001b[0m\u001b[0;34m.\u001b[0m\u001b[0mfit\u001b[0m\u001b[0;34m(\u001b[0m\u001b[0mX\u001b[0m\u001b[0;34m,\u001b[0m \u001b[0my\u001b[0m\u001b[0;34m,\u001b[0m \u001b[0mcallbacks\u001b[0m\u001b[0;34m=\u001b[0m\u001b[0;34m[\u001b[0m\u001b[0mclr\u001b[0m\u001b[0;34m]\u001b[0m\u001b[0;34m,\u001b[0m\u001b[0mbatch_size\u001b[0m\u001b[0;34m=\u001b[0m\u001b[0;36m16\u001b[0m\u001b[0;34m,\u001b[0m\u001b[0mepochs\u001b[0m\u001b[0;34m=\u001b[0m\u001b[0;36m200\u001b[0m\u001b[0;34m,\u001b[0m\u001b[0mvalidation_split\u001b[0m\u001b[0;34m=\u001b[0m\u001b[0;36m0.2\u001b[0m\u001b[0;34m)\u001b[0m\u001b[0;34m\u001b[0m\u001b[0;34m\u001b[0m\u001b[0m\n\u001b[0m",
            "\u001b[0;32m/usr/local/lib/python3.6/dist-packages/keras/engine/training.py\u001b[0m in \u001b[0;36mfit\u001b[0;34m(self, x, y, batch_size, epochs, verbose, callbacks, validation_split, validation_data, shuffle, class_weight, sample_weight, initial_epoch, steps_per_epoch, validation_steps, validation_freq, max_queue_size, workers, use_multiprocessing, **kwargs)\u001b[0m\n\u001b[1;32m   1237\u001b[0m                                         \u001b[0msteps_per_epoch\u001b[0m\u001b[0;34m=\u001b[0m\u001b[0msteps_per_epoch\u001b[0m\u001b[0;34m,\u001b[0m\u001b[0;34m\u001b[0m\u001b[0;34m\u001b[0m\u001b[0m\n\u001b[1;32m   1238\u001b[0m                                         \u001b[0mvalidation_steps\u001b[0m\u001b[0;34m=\u001b[0m\u001b[0mvalidation_steps\u001b[0m\u001b[0;34m,\u001b[0m\u001b[0;34m\u001b[0m\u001b[0;34m\u001b[0m\u001b[0m\n\u001b[0;32m-> 1239\u001b[0;31m                                         validation_freq=validation_freq)\n\u001b[0m\u001b[1;32m   1240\u001b[0m \u001b[0;34m\u001b[0m\u001b[0m\n\u001b[1;32m   1241\u001b[0m     def evaluate(self,\n",
            "\u001b[0;32m/usr/local/lib/python3.6/dist-packages/keras/engine/training_arrays.py\u001b[0m in \u001b[0;36mfit_loop\u001b[0;34m(model, fit_function, fit_inputs, out_labels, batch_size, epochs, verbose, callbacks, val_function, val_inputs, shuffle, initial_epoch, steps_per_epoch, validation_steps, validation_freq)\u001b[0m\n\u001b[1;32m    194\u001b[0m                     \u001b[0mins_batch\u001b[0m\u001b[0;34m[\u001b[0m\u001b[0mi\u001b[0m\u001b[0;34m]\u001b[0m \u001b[0;34m=\u001b[0m \u001b[0mins_batch\u001b[0m\u001b[0;34m[\u001b[0m\u001b[0mi\u001b[0m\u001b[0;34m]\u001b[0m\u001b[0;34m.\u001b[0m\u001b[0mtoarray\u001b[0m\u001b[0;34m(\u001b[0m\u001b[0;34m)\u001b[0m\u001b[0;34m\u001b[0m\u001b[0;34m\u001b[0m\u001b[0m\n\u001b[1;32m    195\u001b[0m \u001b[0;34m\u001b[0m\u001b[0m\n\u001b[0;32m--> 196\u001b[0;31m                 \u001b[0mouts\u001b[0m \u001b[0;34m=\u001b[0m \u001b[0mfit_function\u001b[0m\u001b[0;34m(\u001b[0m\u001b[0mins_batch\u001b[0m\u001b[0;34m)\u001b[0m\u001b[0;34m\u001b[0m\u001b[0;34m\u001b[0m\u001b[0m\n\u001b[0m\u001b[1;32m    197\u001b[0m                 \u001b[0mouts\u001b[0m \u001b[0;34m=\u001b[0m \u001b[0mto_list\u001b[0m\u001b[0;34m(\u001b[0m\u001b[0mouts\u001b[0m\u001b[0;34m)\u001b[0m\u001b[0;34m\u001b[0m\u001b[0;34m\u001b[0m\u001b[0m\n\u001b[1;32m    198\u001b[0m                 \u001b[0;32mfor\u001b[0m \u001b[0ml\u001b[0m\u001b[0;34m,\u001b[0m \u001b[0mo\u001b[0m \u001b[0;32min\u001b[0m \u001b[0mzip\u001b[0m\u001b[0;34m(\u001b[0m\u001b[0mout_labels\u001b[0m\u001b[0;34m,\u001b[0m \u001b[0mouts\u001b[0m\u001b[0;34m)\u001b[0m\u001b[0;34m:\u001b[0m\u001b[0;34m\u001b[0m\u001b[0;34m\u001b[0m\u001b[0m\n",
            "\u001b[0;32m/usr/local/lib/python3.6/dist-packages/tensorflow/python/keras/backend.py\u001b[0m in \u001b[0;36m__call__\u001b[0;34m(self, inputs)\u001b[0m\n\u001b[1;32m   3790\u001b[0m         \u001b[0mvalue\u001b[0m \u001b[0;34m=\u001b[0m \u001b[0mmath_ops\u001b[0m\u001b[0;34m.\u001b[0m\u001b[0mcast\u001b[0m\u001b[0;34m(\u001b[0m\u001b[0mvalue\u001b[0m\u001b[0;34m,\u001b[0m \u001b[0mtensor\u001b[0m\u001b[0;34m.\u001b[0m\u001b[0mdtype\u001b[0m\u001b[0;34m)\u001b[0m\u001b[0;34m\u001b[0m\u001b[0;34m\u001b[0m\u001b[0m\n\u001b[1;32m   3791\u001b[0m       \u001b[0mconverted_inputs\u001b[0m\u001b[0;34m.\u001b[0m\u001b[0mappend\u001b[0m\u001b[0;34m(\u001b[0m\u001b[0mvalue\u001b[0m\u001b[0;34m)\u001b[0m\u001b[0;34m\u001b[0m\u001b[0;34m\u001b[0m\u001b[0m\n\u001b[0;32m-> 3792\u001b[0;31m     \u001b[0moutputs\u001b[0m \u001b[0;34m=\u001b[0m \u001b[0mself\u001b[0m\u001b[0;34m.\u001b[0m\u001b[0m_graph_fn\u001b[0m\u001b[0;34m(\u001b[0m\u001b[0;34m*\u001b[0m\u001b[0mconverted_inputs\u001b[0m\u001b[0;34m)\u001b[0m\u001b[0;34m\u001b[0m\u001b[0;34m\u001b[0m\u001b[0m\n\u001b[0m\u001b[1;32m   3793\u001b[0m \u001b[0;34m\u001b[0m\u001b[0m\n\u001b[1;32m   3794\u001b[0m     \u001b[0;31m# EagerTensor.numpy() will often make a copy to ensure memory safety.\u001b[0m\u001b[0;34m\u001b[0m\u001b[0;34m\u001b[0m\u001b[0;34m\u001b[0m\u001b[0m\n",
            "\u001b[0;32m/usr/local/lib/python3.6/dist-packages/tensorflow/python/eager/function.py\u001b[0m in \u001b[0;36m__call__\u001b[0;34m(self, *args, **kwargs)\u001b[0m\n\u001b[1;32m   1603\u001b[0m       \u001b[0mTypeError\u001b[0m\u001b[0;34m:\u001b[0m \u001b[0mFor\u001b[0m \u001b[0minvalid\u001b[0m \u001b[0mpositional\u001b[0m\u001b[0;34m/\u001b[0m\u001b[0mkeyword\u001b[0m \u001b[0margument\u001b[0m \u001b[0mcombinations\u001b[0m\u001b[0;34m.\u001b[0m\u001b[0;34m\u001b[0m\u001b[0;34m\u001b[0m\u001b[0m\n\u001b[1;32m   1604\u001b[0m     \"\"\"\n\u001b[0;32m-> 1605\u001b[0;31m     \u001b[0;32mreturn\u001b[0m \u001b[0mself\u001b[0m\u001b[0;34m.\u001b[0m\u001b[0m_call_impl\u001b[0m\u001b[0;34m(\u001b[0m\u001b[0margs\u001b[0m\u001b[0;34m,\u001b[0m \u001b[0mkwargs\u001b[0m\u001b[0;34m)\u001b[0m\u001b[0;34m\u001b[0m\u001b[0;34m\u001b[0m\u001b[0m\n\u001b[0m\u001b[1;32m   1606\u001b[0m \u001b[0;34m\u001b[0m\u001b[0m\n\u001b[1;32m   1607\u001b[0m   \u001b[0;32mdef\u001b[0m \u001b[0m_call_impl\u001b[0m\u001b[0;34m(\u001b[0m\u001b[0mself\u001b[0m\u001b[0;34m,\u001b[0m \u001b[0margs\u001b[0m\u001b[0;34m,\u001b[0m \u001b[0mkwargs\u001b[0m\u001b[0;34m,\u001b[0m \u001b[0mcancellation_manager\u001b[0m\u001b[0;34m=\u001b[0m\u001b[0;32mNone\u001b[0m\u001b[0;34m)\u001b[0m\u001b[0;34m:\u001b[0m\u001b[0;34m\u001b[0m\u001b[0;34m\u001b[0m\u001b[0m\n",
            "\u001b[0;32m/usr/local/lib/python3.6/dist-packages/tensorflow/python/eager/function.py\u001b[0m in \u001b[0;36m_call_impl\u001b[0;34m(self, args, kwargs, cancellation_manager)\u001b[0m\n\u001b[1;32m   1643\u001b[0m       raise TypeError(\"Keyword arguments {} unknown. Expected {}.\".format(\n\u001b[1;32m   1644\u001b[0m           list(kwargs.keys()), list(self._arg_keywords)))\n\u001b[0;32m-> 1645\u001b[0;31m     \u001b[0;32mreturn\u001b[0m \u001b[0mself\u001b[0m\u001b[0;34m.\u001b[0m\u001b[0m_call_flat\u001b[0m\u001b[0;34m(\u001b[0m\u001b[0margs\u001b[0m\u001b[0;34m,\u001b[0m \u001b[0mself\u001b[0m\u001b[0;34m.\u001b[0m\u001b[0mcaptured_inputs\u001b[0m\u001b[0;34m,\u001b[0m \u001b[0mcancellation_manager\u001b[0m\u001b[0;34m)\u001b[0m\u001b[0;34m\u001b[0m\u001b[0;34m\u001b[0m\u001b[0m\n\u001b[0m\u001b[1;32m   1646\u001b[0m \u001b[0;34m\u001b[0m\u001b[0m\n\u001b[1;32m   1647\u001b[0m   \u001b[0;32mdef\u001b[0m \u001b[0m_filtered_call\u001b[0m\u001b[0;34m(\u001b[0m\u001b[0mself\u001b[0m\u001b[0;34m,\u001b[0m \u001b[0margs\u001b[0m\u001b[0;34m,\u001b[0m \u001b[0mkwargs\u001b[0m\u001b[0;34m)\u001b[0m\u001b[0;34m:\u001b[0m\u001b[0;34m\u001b[0m\u001b[0;34m\u001b[0m\u001b[0m\n",
            "\u001b[0;32m/usr/local/lib/python3.6/dist-packages/tensorflow/python/eager/function.py\u001b[0m in \u001b[0;36m_call_flat\u001b[0;34m(self, args, captured_inputs, cancellation_manager)\u001b[0m\n\u001b[1;32m   1744\u001b[0m       \u001b[0;31m# No tape is watching; skip to running the function.\u001b[0m\u001b[0;34m\u001b[0m\u001b[0;34m\u001b[0m\u001b[0;34m\u001b[0m\u001b[0m\n\u001b[1;32m   1745\u001b[0m       return self._build_call_outputs(self._inference_function.call(\n\u001b[0;32m-> 1746\u001b[0;31m           ctx, args, cancellation_manager=cancellation_manager))\n\u001b[0m\u001b[1;32m   1747\u001b[0m     forward_backward = self._select_forward_and_backward_functions(\n\u001b[1;32m   1748\u001b[0m         \u001b[0margs\u001b[0m\u001b[0;34m,\u001b[0m\u001b[0;34m\u001b[0m\u001b[0;34m\u001b[0m\u001b[0m\n",
            "\u001b[0;32m/usr/local/lib/python3.6/dist-packages/tensorflow/python/eager/function.py\u001b[0m in \u001b[0;36mcall\u001b[0;34m(self, ctx, args, cancellation_manager)\u001b[0m\n\u001b[1;32m    596\u001b[0m               \u001b[0minputs\u001b[0m\u001b[0;34m=\u001b[0m\u001b[0margs\u001b[0m\u001b[0;34m,\u001b[0m\u001b[0;34m\u001b[0m\u001b[0;34m\u001b[0m\u001b[0m\n\u001b[1;32m    597\u001b[0m               \u001b[0mattrs\u001b[0m\u001b[0;34m=\u001b[0m\u001b[0mattrs\u001b[0m\u001b[0;34m,\u001b[0m\u001b[0;34m\u001b[0m\u001b[0;34m\u001b[0m\u001b[0m\n\u001b[0;32m--> 598\u001b[0;31m               ctx=ctx)\n\u001b[0m\u001b[1;32m    599\u001b[0m         \u001b[0;32melse\u001b[0m\u001b[0;34m:\u001b[0m\u001b[0;34m\u001b[0m\u001b[0;34m\u001b[0m\u001b[0m\n\u001b[1;32m    600\u001b[0m           outputs = execute.execute_with_cancellation(\n",
            "\u001b[0;32m/usr/local/lib/python3.6/dist-packages/tensorflow/python/eager/execute.py\u001b[0m in \u001b[0;36mquick_execute\u001b[0;34m(op_name, num_outputs, inputs, attrs, ctx, name)\u001b[0m\n\u001b[1;32m     58\u001b[0m     \u001b[0mctx\u001b[0m\u001b[0;34m.\u001b[0m\u001b[0mensure_initialized\u001b[0m\u001b[0;34m(\u001b[0m\u001b[0;34m)\u001b[0m\u001b[0;34m\u001b[0m\u001b[0;34m\u001b[0m\u001b[0m\n\u001b[1;32m     59\u001b[0m     tensors = pywrap_tfe.TFE_Py_Execute(ctx._handle, device_name, op_name,\n\u001b[0;32m---> 60\u001b[0;31m                                         inputs, attrs, num_outputs)\n\u001b[0m\u001b[1;32m     61\u001b[0m   \u001b[0;32mexcept\u001b[0m \u001b[0mcore\u001b[0m\u001b[0;34m.\u001b[0m\u001b[0m_NotOkStatusException\u001b[0m \u001b[0;32mas\u001b[0m \u001b[0me\u001b[0m\u001b[0;34m:\u001b[0m\u001b[0;34m\u001b[0m\u001b[0;34m\u001b[0m\u001b[0m\n\u001b[1;32m     62\u001b[0m     \u001b[0;32mif\u001b[0m \u001b[0mname\u001b[0m \u001b[0;32mis\u001b[0m \u001b[0;32mnot\u001b[0m \u001b[0;32mNone\u001b[0m\u001b[0;34m:\u001b[0m\u001b[0;34m\u001b[0m\u001b[0;34m\u001b[0m\u001b[0m\n",
            "\u001b[0;31mKeyboardInterrupt\u001b[0m: "
          ]
        }
      ]
    },
    {
      "cell_type": "code",
      "metadata": {
        "id": "WjI9XmHmnY5d",
        "colab_type": "code",
        "colab": {}
      },
      "source": [
        "clr = CyclicLR(base_lr=0.000005, max_lr=0.05,step_size=8)\n",
        "model_finetuned_res50.fit(x=aug.flow(X_train, y_train, batch_size=16),\n",
        "                          validation_data=(X_test, y_test),\n",
        "                          callbacks=[clr],\n",
        "                          steps_per_epoch=X_train.shape[0],\n",
        "                          epochs=200)"
      ],
      "execution_count": null,
      "outputs": []
    },
    {
      "cell_type": "code",
      "metadata": {
        "id": "sY_YiC1Xhike",
        "colab_type": "code",
        "colab": {}
      },
      "source": [
        "h = clr.history\n",
        "lr = h['lr']\n",
        "acc = h['accuracy']"
      ],
      "execution_count": null,
      "outputs": []
    },
    {
      "cell_type": "code",
      "metadata": {
        "id": "D5fk034_hkuS",
        "colab_type": "code",
        "colab": {
          "base_uri": "https://localhost:8080/",
          "height": 284
        },
        "outputId": "d148421a-9552-4369-a45e-0fb00506b35b"
      },
      "source": [
        "import matplotlib.pyplot as plt\n",
        "plt.plot(lr,acc)"
      ],
      "execution_count": null,
      "outputs": [
        {
          "output_type": "execute_result",
          "data": {
            "text/plain": [
              "[<matplotlib.lines.Line2D at 0x7f842bd18ef0>]"
            ]
          },
          "metadata": {
            "tags": []
          },
          "execution_count": 44
        },
        {
          "output_type": "display_data",
          "data": {
            "image/png": "[encoded data removed]",
            "text/plain": [
              "<Figure size 432x288 with 1 Axes>"
            ]
          },
          "metadata": {
            "tags": [],
            "needs_background": "light"
          }
        }
      ]
    },
    {
      "cell_type": "code",
      "metadata": {
        "id": "uyP1dkDTeFy3",
        "colab_type": "code",
        "colab": {}
      },
      "source": [
        "clr = CyclicLR(base_lr=0.001, max_lr=0.006,step_size=2000., mode='triangular2')\n",
        "model.fit(X_train, Y_train, callbacks=[clr])"
      ],
      "execution_count": null,
      "outputs": []
    },
    {
      "cell_type": "code",
      "metadata": {
        "id": "KwKMoeLweFwz",
        "colab_type": "code",
        "colab": {}
      },
      "source": [
        ""
      ],
      "execution_count": null,
      "outputs": []
    },
    {
      "cell_type": "code",
      "metadata": {
        "id": "Cg5b1GteeFtv",
        "colab_type": "code",
        "colab": {}
      },
      "source": [
        ""
      ],
      "execution_count": null,
      "outputs": []
    },
    {
      "cell_type": "code",
      "metadata": {
        "id": "Ms19TUVGeFrA",
        "colab_type": "code",
        "colab": {}
      },
      "source": [
        ""
      ],
      "execution_count": null,
      "outputs": []
    },
    {
      "cell_type": "markdown",
      "metadata": {
        "id": "_VZgqF9DT1N2",
        "colab_type": "text"
      },
      "source": [
        "##ResNet50V2"
      ]
    },
    {
      "cell_type": "code",
      "metadata": {
        "id": "numWD9-JT_Md",
        "colab_type": "code",
        "colab": {
          "base_uri": "https://localhost:8080/",
          "height": 67
        },
        "outputId": "e01cd6d3-be42-40cf-aae3-7dd654a6fd78"
      },
      "source": [
        "img_size = 224\n",
        "from keras.applications.resnet_v2 import ResNet50V2\n",
        "model_finetuned_res50 = ResNet50V2(include_top=False, weights='imagenet', input_shape=(img_size,img_size,3))\n",
        "#resizing and shaping images for transfer learning with ResNet151\n",
        "img=[]\n",
        "filename=df.Image\n",
        "for file in filename:\n",
        "    image=cv2.imread(\"/content/dataset/train/\"+file)\n",
        "    res=cv2.resize(image,(img_size,img_size))\n",
        "    img.append(res)\n",
        "img=np.array(img)\n",
        "print(img.shape)"
      ],
      "execution_count": null,
      "outputs": [
        {
          "output_type": "stream",
          "text": [
            "Downloading data from https://github.com/keras-team/keras-applications/releases/download/resnet/resnet50v2_weights_tf_dim_ordering_tf_kernels_notop.h5\n",
            "94674944/94668760 [==============================] - 3s 0us/step\n",
            "(364, 224, 224, 3)\n"
          ],
          "name": "stdout"
        }
      ]
    },
    {
      "cell_type": "code",
      "metadata": {
        "id": "VniS7qahUqhI",
        "colab_type": "code",
        "colab": {
          "base_uri": "https://localhost:8080/",
          "height": 67
        },
        "outputId": "faeaf02a-b7c3-4f8e-e664-a9cdcf6b15c2"
      },
      "source": [
        "#splitting data for training and validation\n",
        "train, val = train_test_split(df, test_size = 0.20)\n",
        "\n",
        "#data augmentation\n",
        "from keras.preprocessing.image import ImageDataGenerator\n",
        "train_datagen = ImageDataGenerator( horizontal_flip=True,\n",
        "                                    rotation_range=45,\n",
        "                                    width_shift_range=0.1,\n",
        "                                    height_shift_range=0.1,\n",
        "                                    zoom_range=.1,\n",
        "                                    fill_mode='nearest',\n",
        "                                    shear_range=0.3,\n",
        "                                    rescale=1/255)\n",
        "\n",
        "train_generator=train_datagen.flow_from_dataframe(train,\n",
        "                                                  directory='/content/dataset/train/',\n",
        "                                                  target_size=(img_size,img_size),\n",
        "                                                  x_col=\"Image\",\n",
        "                                                  y_col=['bharatanatyam',\t'kathak',\t'kathakali',\t'kuchipudi',\t'manipuri'\t,'mohiniyattam',\t'odissi',\t'sattriya'],\n",
        "                                                  class_mode='raw',\n",
        "                                                  shuffle=False,\n",
        "                                                  subset='training',\n",
        "                                                  batch_size=1)\n",
        "\n",
        "val_datagen = ImageDataGenerator(rescale=1/255)\n",
        "val_generator=val_datagen.flow_from_dataframe(val,\n",
        "                                              directory='/content/dataset/train/',\n",
        "                                              target_size=(img_size,img_size),\n",
        "                                              x_col=\"Image\",\n",
        "                                              y_col=['bharatanatyam',\t'kathak',\t'kathakali',\t'kuchipudi',\t'manipuri'\t,'mohiniyattam',\t'odissi',\t'sattriya'],\n",
        "                                              class_mode='raw',\n",
        "                                              shuffle=False,\n",
        "                                              batch_size=1)\n",
        "\n",
        "\n",
        "test_datagen = ImageDataGenerator(rescale=1/255)\n",
        "test_generator=val_datagen.flow_from_dataframe(dft,\n",
        "                                              directory='/content/dataset/test/',\n",
        "                                              target_size=(img_size,img_size),\n",
        "                                              x_col=\"Image\",\n",
        "                                              y_col=None,\n",
        "                                              class_mode=None,\n",
        "                                              shuffle=False,\n",
        "                                              batch_size=1)"
      ],
      "execution_count": null,
      "outputs": [
        {
          "output_type": "stream",
          "text": [
            "Found 291 validated image filenames.\n",
            "Found 73 validated image filenames.\n",
            "Found 156 validated image filenames.\n"
          ],
          "name": "stdout"
        }
      ]
    },
    {
      "cell_type": "code",
      "metadata": {
        "id": "ujt0q6DvU_xI",
        "colab_type": "code",
        "colab": {}
      },
      "source": [
        "from keras.applications.resnet_v2 import ResNet50V2\n",
        "model_finetuned_res50 = ResNet50V2(include_top=False, weights='imagenet', input_shape=(img_size,img_size,3))\n",
        "x = model_finetuned_res50.output\n",
        "x = GlobalAveragePooling2D()(x)\n",
        "x = Dense(1024)(x)\n",
        "x = Dropout(0.5)(x)\n",
        "x = Dense(512)(x)\n",
        "x = Dropout(0.5)(x)\n",
        "predictions = Dense(8, activation=\"sigmoid\")(x)\n",
        "adam = keras.optimizers.Adam(learning_rate=0.0000005, beta_1=0.9, beta_2=0.999, amsgrad=False)\n",
        "model_finetuned_res50 = Model(inputs=model_finetuned_res50.input, outputs=predictions)\n",
        "model_finetuned_res50.compile(optimizer=adam,\n",
        "                  loss = 'categorical_crossentropy',\n",
        "                  metrics=['accuracy'])\n",
        "\n",
        "\n",
        "\n",
        "from livelossplot import PlotLossesKeras\n",
        "from keras.callbacks import ReduceLROnPlateau,ModelCheckpoint,EarlyStopping\n",
        "\n",
        "earlystop = EarlyStopping(monitor = 'val_loss', \n",
        "                          min_delta = 0, \n",
        "                          patience = 30,\n",
        "                          verbose = 1,\n",
        "                          restore_best_weights = True)\n",
        "\n",
        "reduce_lr = ReduceLROnPlateau(monitor='val_loss',\n",
        "                              factor=0.3,\n",
        "                              patience=3,\n",
        "                              min_lr=0.000001)\n",
        "\n",
        "checkpoint = ModelCheckpoint(\"./resnet50v2-model.{epoch:02d}-{val_loss:.2f}-{val_accuracy:.2f}.h5\",\n",
        "                             monitor=\"val_loss\",\n",
        "                             mode=\"auto\",\n",
        "                             save_best_only = True,\n",
        "                             verbose=1)\n",
        "\n",
        "callbacks = [PlotLossesKeras(),reduce_lr,earlystop]\n",
        "\n",
        "history = model_finetuned_res50.fit_generator(train_generator,\n",
        "                                        steps_per_epoch=200,\n",
        "                                        epochs=50,\n",
        "                                        validation_data=val_generator,\n",
        "                                        validation_steps=200,\n",
        "                                        callbacks = callbacks,\n",
        "                                        use_multiprocessing=False,\n",
        "                                        shuffle=True)"
      ],
      "execution_count": null,
      "outputs": []
    },
    {
      "cell_type": "markdown",
      "metadata": {
        "id": "O7Ebuly-YIom",
        "colab_type": "text"
      },
      "source": [
        "##ResNet101"
      ]
    },
    {
      "cell_type": "code",
      "metadata": {
        "id": "d1XIgVPEU_uo",
        "colab_type": "code",
        "colab": {
          "base_uri": "https://localhost:8080/",
          "height": 118
        },
        "outputId": "f62931be-d32e-42b4-f93a-cb85828430d9"
      },
      "source": [
        "img_size = 224\n",
        "from keras.applications.resnet import ResNet101\n",
        "model_finetuned_res101 = ResNet101(include_top=False, weights='imagenet', input_shape=(img_size,img_size,3))\n",
        "#resizing and shaping images for transfer learning with ResNet151\n",
        "img=[]\n",
        "filename=df.Image\n",
        "for file in filename:\n",
        "    image=cv2.imread(\"/content/dataset/train/\"+file)\n",
        "    res=cv2.resize(image,(img_size,img_size))\n",
        "    img.append(res)\n",
        "img=np.array(img)\n",
        "print(img.shape)\n",
        "\n",
        "#splitting data for training and validation\n",
        "train, val = train_test_split(df, test_size = 0.20)\n",
        "\n",
        "#data augmentation\n",
        "from keras.preprocessing.image import ImageDataGenerator\n",
        "train_datagen = ImageDataGenerator( horizontal_flip=True,\n",
        "                                    rotation_range=45,\n",
        "                                    width_shift_range=0.1,\n",
        "                                    height_shift_range=0.1,\n",
        "                                    zoom_range=.1,\n",
        "                                    fill_mode='nearest',\n",
        "                                    shear_range=0.3,\n",
        "                                    rescale=1/255)\n",
        "\n",
        "train_generator=train_datagen.flow_from_dataframe(train,\n",
        "                                                  directory='/content/dataset/train/',\n",
        "                                                  target_size=(img_size,img_size),\n",
        "                                                  x_col=\"Image\",\n",
        "                                                  y_col=['bharatanatyam',\t'kathak',\t'kathakali',\t'kuchipudi',\t'manipuri'\t,'mohiniyattam',\t'odissi',\t'sattriya'],\n",
        "                                                  class_mode='raw',\n",
        "                                                  shuffle=False,\n",
        "                                                  subset='training',\n",
        "                                                  batch_size=1)\n",
        "\n",
        "val_datagen = ImageDataGenerator(rescale=1/255)\n",
        "val_generator=val_datagen.flow_from_dataframe(val,\n",
        "                                              directory='/content/dataset/train/',\n",
        "                                              target_size=(img_size,img_size),\n",
        "                                              x_col=\"Image\",\n",
        "                                              y_col=['bharatanatyam',\t'kathak',\t'kathakali',\t'kuchipudi',\t'manipuri'\t,'mohiniyattam',\t'odissi',\t'sattriya'],\n",
        "                                              class_mode='raw',\n",
        "                                              shuffle=False,\n",
        "                                              batch_size=1)\n",
        "\n",
        "\n",
        "test_datagen = ImageDataGenerator(rescale=1/255)\n",
        "test_generator=val_datagen.flow_from_dataframe(dft,\n",
        "                                              directory='/content/dataset/test/',\n",
        "                                              target_size=(img_size,img_size),\n",
        "                                              x_col=\"Image\",\n",
        "                                              y_col=None,\n",
        "                                              class_mode=None,\n",
        "                                              shuffle=False,\n",
        "                                              batch_size=1)"
      ],
      "execution_count": null,
      "outputs": [
        {
          "output_type": "stream",
          "text": [
            "Downloading data from https://github.com/keras-team/keras-applications/releases/download/resnet/resnet101_weights_tf_dim_ordering_tf_kernels_notop.h5\n",
            "171450368/171446536 [==============================] - 4s 0us/step\n",
            "(364, 224, 224, 3)\n",
            "Found 291 validated image filenames.\n",
            "Found 73 validated image filenames.\n",
            "Found 156 validated image filenames.\n"
          ],
          "name": "stdout"
        }
      ]
    },
    {
      "cell_type": "code",
      "metadata": {
        "id": "fiYwoFkEZaIg",
        "colab_type": "code",
        "colab": {
          "base_uri": "https://localhost:8080/",
          "height": 778
        },
        "outputId": "4958a17c-a75c-4ce6-f7ab-1c70adaf30b2"
      },
      "source": [
        "from keras.applications.resnet import ResNet101\n",
        "model_finetuned_res101 = ResNet101(include_top=False, weights='imagenet', input_shape=(img_size,img_size,3))\n",
        "x = model_finetuned_res101.output\n",
        "x = GlobalAveragePooling2D()(x)\n",
        "x = Dense(1024)(x)\n",
        "x = Dropout(0.5)(x)\n",
        "x = Dense(512)(x)\n",
        "x = Dropout(0.5)(x)\n",
        "predictions = Dense(8, activation=\"sigmoid\")(x)\n",
        "adam = keras.optimizers.Adam(learning_rate=0.0000005, beta_1=0.9, beta_2=0.999, amsgrad=False)\n",
        "model_finetuned_res101 = Model(inputs=model_finetuned_res101.input, outputs=predictions)\n",
        "model_finetuned_res101.compile(optimizer=adam,\n",
        "                  loss = 'categorical_crossentropy',\n",
        "                  metrics=['accuracy'])\n",
        "\n",
        "\n",
        "\n",
        "from livelossplot import PlotLossesKeras\n",
        "from keras.callbacks import ReduceLROnPlateau,ModelCheckpoint,EarlyStopping\n",
        "\n",
        "earlystop = EarlyStopping(monitor = 'val_loss', \n",
        "                          min_delta = 0, \n",
        "                          patience = 30,\n",
        "                          verbose = 1,\n",
        "                          restore_best_weights = True)\n",
        "\n",
        "reduce_lr = ReduceLROnPlateau(monitor='val_loss',\n",
        "                              factor=0.3,\n",
        "                              patience=3,\n",
        "                              min_lr=0.000001)\n",
        "\n",
        "checkpoint = ModelCheckpoint(\"./resnet50v2-model.{epoch:02d}-{val_loss:.2f}-{val_accuracy:.2f}.h5\",\n",
        "                             monitor=\"val_loss\",\n",
        "                             mode=\"auto\",\n",
        "                             save_best_only = True,\n",
        "                             verbose=1)\n",
        "\n",
        "callbacks = [PlotLossesKeras(),reduce_lr,earlystop]\n",
        "\n",
        "history = model_finetuned_res50.fit_generator(train_generator,\n",
        "                                        steps_per_epoch=200,\n",
        "                                        epochs=50,\n",
        "                                        validation_data=val_generator,\n",
        "                                        validation_steps=200,\n",
        "                                        callbacks = callbacks,\n",
        "                                        use_multiprocessing=False,\n",
        "                                        shuffle=True)"
      ],
      "execution_count": null,
      "outputs": [
        {
          "output_type": "display_data",
          "data": {
            "image/png": "[encoded data removed]",
            "text/plain": [
              "<Figure size 864x864 with 3 Axes>"
            ]
          },
          "metadata": {
            "tags": [],
            "needs_background": "light"
          }
        },
        {
          "output_type": "stream",
          "text": [
            "accuracy\n",
            "\tvalidation       \t (min:    0.075, max:    0.155, cur:    0.125)\n",
            "\ttraining         \t (min:    0.095, max:    0.180, cur:    0.150)\n",
            "Loss\n",
            "\tvalidation       \t (min:    1.677, max:    2.759, cur:    2.158)\n",
            "\ttraining         \t (min:    2.058, max:    2.149, cur:    2.088)\n",
            "lr\n",
            "\tlr               \t (min:    0.000, max:    0.000, cur:    0.000)\n",
            "Restoring model weights from the end of the best epoch\n",
            "Epoch 00032: early stopping\n"
          ],
          "name": "stdout"
        }
      ]
    },
    {
      "cell_type": "markdown",
      "metadata": {
        "id": "5qj30ydEnt7p",
        "colab_type": "text"
      },
      "source": [
        "##ResNet151"
      ]
    },
    {
      "cell_type": "code",
      "metadata": {
        "id": "5B_YWjMCnqNN",
        "colab_type": "code",
        "colab": {}
      },
      "source": [
        "img_size = 224"
      ],
      "execution_count": null,
      "outputs": []
    },
    {
      "cell_type": "code",
      "metadata": {
        "id": "fXG0qr8nrL0d",
        "colab_type": "code",
        "colab": {
          "base_uri": "https://localhost:8080/",
          "height": 34
        },
        "outputId": "d3757cfd-2ee1-4587-be0b-1f2b1d4934b3"
      },
      "source": [
        "\n",
        "#resizing and shaping images for transfer learning with ResNet151\n",
        "img=[]\n",
        "filename=df.Image\n",
        "for file in filename:\n",
        "    image=cv2.imread(\"/content/dataset/train/\"+file)\n",
        "    res=cv2.resize(image,(img_size,img_size))\n",
        "    img.append(res)\n",
        "img=np.array(img)\n",
        "print(img.shape)"
      ],
      "execution_count": null,
      "outputs": [
        {
          "output_type": "stream",
          "text": [
            "(364, 224, 224, 3)\n"
          ],
          "name": "stdout"
        }
      ]
    },
    {
      "cell_type": "code",
      "metadata": {
        "id": "NSrB0tgqryDh",
        "colab_type": "code",
        "colab": {
          "base_uri": "https://localhost:8080/",
          "height": 67
        },
        "outputId": "7bcadc11-0cc3-49ce-c152-ad092fde1062"
      },
      "source": [
        "#splitting data for training and validation\n",
        "train, val = train_test_split(df, test_size = 0.25)\n",
        "\n",
        "#data augmentation\n",
        "from keras.preprocessing.image import ImageDataGenerator\n",
        "train_datagen = ImageDataGenerator( horizontal_flip=True,\n",
        "                                    vertical_flip=True,\n",
        "                                    rotation_range=10,\n",
        "                                    width_shift_range=0.1,\n",
        "                                    height_shift_range=0.1,\n",
        "                                    zoom_range=.1,\n",
        "                                    fill_mode='nearest',\n",
        "                                    shear_range=0.1,\n",
        "                                    rescale=1/255)\n",
        "\n",
        "train_generator=train_datagen.flow_from_dataframe(train,\n",
        "                                                  directory='/content/dataset/train/',\n",
        "                                                  target_size=(img_size,img_size),\n",
        "                                                  x_col=\"Image\",\n",
        "                                                  y_col=['bharatanatyam',\t'kathak',\t'kathakali',\t'kuchipudi',\t'manipuri'\t,'mohiniyattam',\t'odissi',\t'sattriya'],\n",
        "                                                  class_mode='raw',\n",
        "                                                  shuffle=False,\n",
        "                                                  subset='training',\n",
        "                                                  batch_size=5)\n",
        "\n",
        "val_datagen = ImageDataGenerator(rescale=1/255)\n",
        "val_generator=val_datagen.flow_from_dataframe(val,\n",
        "                                              directory='/content/dataset/train/',\n",
        "                                              target_size=(img_size,img_size),\n",
        "                                              x_col=\"Image\",\n",
        "                                              y_col=['bharatanatyam',\t'kathak',\t'kathakali',\t'kuchipudi',\t'manipuri'\t,'mohiniyattam',\t'odissi',\t'sattriya'],\n",
        "                                              class_mode='raw',\n",
        "                                              shuffle=False,\n",
        "                                              batch_size=5)\n",
        "\n",
        "\n",
        "test_datagen = ImageDataGenerator(rescale=1/255)\n",
        "test_generator=val_datagen.flow_from_dataframe(dft,\n",
        "                                              directory='/content/dataset/test/',\n",
        "                                              target_size=(img_size,img_size),\n",
        "                                              x_col=\"Image\",\n",
        "                                              y_col=None,\n",
        "                                              class_mode=None,\n",
        "                                              shuffle=False,\n",
        "                                              batch_size=1)\n"
      ],
      "execution_count": null,
      "outputs": [
        {
          "output_type": "stream",
          "text": [
            "Found 273 validated image filenames.\n",
            "Found 91 validated image filenames.\n",
            "Found 156 validated image filenames.\n"
          ],
          "name": "stdout"
        }
      ]
    },
    {
      "cell_type": "code",
      "metadata": {
        "id": "twczpawzrYjB",
        "colab_type": "code",
        "colab": {}
      },
      "source": [
        "from keras.applications.resnet_v2 import ResNet152V2 \n",
        "model_finetuned_152 = ResNet152V2(include_top=False, weights='imagenet', input_shape=(img_size,img_size,3))\n",
        "\n",
        "x = model_finetuned_152.output\n",
        "x = GlobalAveragePooling2D()(x)\n",
        "x = Dropout(0.5)(x)\n",
        "predictions = Dense(8, activation=\"sigmoid\")(x)\n",
        "\n",
        "adam = keras.optimizers.Adam(learning_rate=0.000005, beta_1=0.9, beta_2=0.999, amsgrad=False)\n",
        "model_finetuned_152 = Model(inputs=model_finetuned_152.input, outputs=predictions)\n",
        "model_finetuned_152.compile(optimizer=adam,\n",
        "                  loss = 'categorical_crossentropy',\n",
        "                  metrics=['accuracy'])\n",
        "model_finetuned_152.summary()"
      ],
      "execution_count": null,
      "outputs": []
    },
    {
      "cell_type": "code",
      "metadata": {
        "id": "ZGGOiz85s72F",
        "colab_type": "code",
        "colab": {
          "base_uri": "https://localhost:8080/",
          "height": 1000
        },
        "outputId": "9a2921cc-30f7-456b-ae16-46b58b3d4770"
      },
      "source": [
        "from livelossplot import PlotLossesKeras\n",
        "from keras.callbacks import ReduceLROnPlateau,ModelCheckpoint,EarlyStopping\n",
        "\n",
        "earlystop = EarlyStopping(monitor = 'val_loss', \n",
        "                          min_delta = 0, \n",
        "                          patience = 30,\n",
        "                          verbose = 1,\n",
        "                          restore_best_weights = True)\n",
        "\n",
        "reduce_lr = ReduceLROnPlateau(monitor='val_loss',\n",
        "                              factor=0.3,\n",
        "                              patience=3,\n",
        "                              min_lr=0.000001)\n",
        "\n",
        "checkpoint = ModelCheckpoint(\"./resnet151-model.{epoch:02d}-{val_loss:.2f}-{val_accuracy:.2f}.h5\",\n",
        "                             monitor=\"val_loss\",\n",
        "                             mode=\"auto\",\n",
        "                             save_best_only = True,\n",
        "                             verbose=1)\n",
        "\n",
        "callbacks = [PlotLossesKeras(),reduce_lr,earlystop,checkpoint]\n",
        "\n",
        "history = model_finetuned_152.fit_generator(train_generator,\n",
        "                                        steps_per_epoch=200,\n",
        "                                        epochs=50,\n",
        "                                        validation_data=val_generator,\n",
        "                                        validation_steps=200,\n",
        "                                        callbacks = callbacks,\n",
        "                                        use_multiprocessing=False,\n",
        "                                        shuffle=True)"
      ],
      "execution_count": null,
      "outputs": [
        {
          "output_type": "display_data",
          "data": {
            "image/png": "[encoded data removed]",
            "text/plain": [
              "<Figure size 864x864 with 3 Axes>"
            ]
          },
          "metadata": {
            "tags": [],
            "needs_background": "light"
          }
        },
        {
          "output_type": "stream",
          "text": [
            "accuracy\n",
            "\tvalidation       \t (min:    0.218, max:    0.750, cur:    0.732)\n",
            "\ttraining         \t (min:    0.159, max:    0.970, cur:    0.967)\n",
            "Loss\n",
            "\tvalidation       \t (min:    0.230, max:    3.721, cur:    1.173)\n",
            "\ttraining         \t (min:    0.325, max:    2.093, cur:    0.325)\n",
            "lr\n",
            "\tlr               \t (min:    0.000, max:    0.000, cur:    0.000)\n",
            "\n",
            "Epoch 00020: val_loss did not improve from 0.22952\n",
            "Epoch 21/50\n",
            "169/200 [========================>.....] - ETA: 29s - loss: 0.3250 - accuracy: 0.9701"
          ],
          "name": "stdout"
        },
        {
          "output_type": "error",
          "ename": "KeyboardInterrupt",
          "evalue": "ignored",
          "traceback": [
            "\u001b[0;31m---------------------------------------------------------------------------\u001b[0m",
            "\u001b[0;31mKeyboardInterrupt\u001b[0m                         Traceback (most recent call last)",
            "\u001b[0;32m<ipython-input-41-a9036e4dcc79>\u001b[0m in \u001b[0;36m<module>\u001b[0;34m()\u001b[0m\n\u001b[1;32m     28\u001b[0m                                         \u001b[0mcallbacks\u001b[0m \u001b[0;34m=\u001b[0m \u001b[0mcallbacks\u001b[0m\u001b[0;34m,\u001b[0m\u001b[0;34m\u001b[0m\u001b[0;34m\u001b[0m\u001b[0m\n\u001b[1;32m     29\u001b[0m                                         \u001b[0muse_multiprocessing\u001b[0m\u001b[0;34m=\u001b[0m\u001b[0;32mFalse\u001b[0m\u001b[0;34m,\u001b[0m\u001b[0;34m\u001b[0m\u001b[0;34m\u001b[0m\u001b[0m\n\u001b[0;32m---> 30\u001b[0;31m                                         shuffle=True)\n\u001b[0m",
            "\u001b[0;32m/usr/local/lib/python3.6/dist-packages/keras/legacy/interfaces.py\u001b[0m in \u001b[0;36mwrapper\u001b[0;34m(*args, **kwargs)\u001b[0m\n\u001b[1;32m     89\u001b[0m                 warnings.warn('Update your `' + object_name + '` call to the ' +\n\u001b[1;32m     90\u001b[0m                               'Keras 2 API: ' + signature, stacklevel=2)\n\u001b[0;32m---> 91\u001b[0;31m             \u001b[0;32mreturn\u001b[0m \u001b[0mfunc\u001b[0m\u001b[0;34m(\u001b[0m\u001b[0;34m*\u001b[0m\u001b[0margs\u001b[0m\u001b[0;34m,\u001b[0m \u001b[0;34m**\u001b[0m\u001b[0mkwargs\u001b[0m\u001b[0;34m)\u001b[0m\u001b[0;34m\u001b[0m\u001b[0;34m\u001b[0m\u001b[0m\n\u001b[0m\u001b[1;32m     92\u001b[0m         \u001b[0mwrapper\u001b[0m\u001b[0;34m.\u001b[0m\u001b[0m_original_function\u001b[0m \u001b[0;34m=\u001b[0m \u001b[0mfunc\u001b[0m\u001b[0;34m\u001b[0m\u001b[0;34m\u001b[0m\u001b[0m\n\u001b[1;32m     93\u001b[0m         \u001b[0;32mreturn\u001b[0m \u001b[0mwrapper\u001b[0m\u001b[0;34m\u001b[0m\u001b[0;34m\u001b[0m\u001b[0m\n",
            "\u001b[0;32m/usr/local/lib/python3.6/dist-packages/keras/engine/training.py\u001b[0m in \u001b[0;36mfit_generator\u001b[0;34m(self, generator, steps_per_epoch, epochs, verbose, callbacks, validation_data, validation_steps, validation_freq, class_weight, max_queue_size, workers, use_multiprocessing, shuffle, initial_epoch)\u001b[0m\n\u001b[1;32m   1730\u001b[0m             \u001b[0muse_multiprocessing\u001b[0m\u001b[0;34m=\u001b[0m\u001b[0muse_multiprocessing\u001b[0m\u001b[0;34m,\u001b[0m\u001b[0;34m\u001b[0m\u001b[0;34m\u001b[0m\u001b[0m\n\u001b[1;32m   1731\u001b[0m             \u001b[0mshuffle\u001b[0m\u001b[0;34m=\u001b[0m\u001b[0mshuffle\u001b[0m\u001b[0;34m,\u001b[0m\u001b[0;34m\u001b[0m\u001b[0;34m\u001b[0m\u001b[0m\n\u001b[0;32m-> 1732\u001b[0;31m             initial_epoch=initial_epoch)\n\u001b[0m\u001b[1;32m   1733\u001b[0m \u001b[0;34m\u001b[0m\u001b[0m\n\u001b[1;32m   1734\u001b[0m     \u001b[0;34m@\u001b[0m\u001b[0minterfaces\u001b[0m\u001b[0;34m.\u001b[0m\u001b[0mlegacy_generator_methods_support\u001b[0m\u001b[0;34m\u001b[0m\u001b[0;34m\u001b[0m\u001b[0m\n",
            "\u001b[0;32m/usr/local/lib/python3.6/dist-packages/keras/engine/training_generator.py\u001b[0m in \u001b[0;36mfit_generator\u001b[0;34m(model, generator, steps_per_epoch, epochs, verbose, callbacks, validation_data, validation_steps, validation_freq, class_weight, max_queue_size, workers, use_multiprocessing, shuffle, initial_epoch)\u001b[0m\n\u001b[1;32m    218\u001b[0m                                             \u001b[0msample_weight\u001b[0m\u001b[0;34m=\u001b[0m\u001b[0msample_weight\u001b[0m\u001b[0;34m,\u001b[0m\u001b[0;34m\u001b[0m\u001b[0;34m\u001b[0m\u001b[0m\n\u001b[1;32m    219\u001b[0m                                             \u001b[0mclass_weight\u001b[0m\u001b[0;34m=\u001b[0m\u001b[0mclass_weight\u001b[0m\u001b[0;34m,\u001b[0m\u001b[0;34m\u001b[0m\u001b[0;34m\u001b[0m\u001b[0m\n\u001b[0;32m--> 220\u001b[0;31m                                             reset_metrics=False)\n\u001b[0m\u001b[1;32m    221\u001b[0m \u001b[0;34m\u001b[0m\u001b[0m\n\u001b[1;32m    222\u001b[0m                 \u001b[0mouts\u001b[0m \u001b[0;34m=\u001b[0m \u001b[0mto_list\u001b[0m\u001b[0;34m(\u001b[0m\u001b[0mouts\u001b[0m\u001b[0;34m)\u001b[0m\u001b[0;34m\u001b[0m\u001b[0;34m\u001b[0m\u001b[0m\n",
            "\u001b[0;32m/usr/local/lib/python3.6/dist-packages/keras/engine/training.py\u001b[0m in \u001b[0;36mtrain_on_batch\u001b[0;34m(self, x, y, sample_weight, class_weight, reset_metrics)\u001b[0m\n\u001b[1;32m   1512\u001b[0m             \u001b[0mins\u001b[0m \u001b[0;34m=\u001b[0m \u001b[0mx\u001b[0m \u001b[0;34m+\u001b[0m \u001b[0my\u001b[0m \u001b[0;34m+\u001b[0m \u001b[0msample_weights\u001b[0m\u001b[0;34m\u001b[0m\u001b[0;34m\u001b[0m\u001b[0m\n\u001b[1;32m   1513\u001b[0m         \u001b[0mself\u001b[0m\u001b[0;34m.\u001b[0m\u001b[0m_make_train_function\u001b[0m\u001b[0;34m(\u001b[0m\u001b[0;34m)\u001b[0m\u001b[0;34m\u001b[0m\u001b[0;34m\u001b[0m\u001b[0m\n\u001b[0;32m-> 1514\u001b[0;31m         \u001b[0moutputs\u001b[0m \u001b[0;34m=\u001b[0m \u001b[0mself\u001b[0m\u001b[0;34m.\u001b[0m\u001b[0mtrain_function\u001b[0m\u001b[0;34m(\u001b[0m\u001b[0mins\u001b[0m\u001b[0;34m)\u001b[0m\u001b[0;34m\u001b[0m\u001b[0;34m\u001b[0m\u001b[0m\n\u001b[0m\u001b[1;32m   1515\u001b[0m \u001b[0;34m\u001b[0m\u001b[0m\n\u001b[1;32m   1516\u001b[0m         \u001b[0;32mif\u001b[0m \u001b[0mreset_metrics\u001b[0m\u001b[0;34m:\u001b[0m\u001b[0;34m\u001b[0m\u001b[0;34m\u001b[0m\u001b[0m\n",
            "\u001b[0;32m/usr/local/lib/python3.6/dist-packages/tensorflow_core/python/keras/backend.py\u001b[0m in \u001b[0;36m__call__\u001b[0;34m(self, inputs)\u001b[0m\n\u001b[1;32m   3733\u001b[0m     return nest.pack_sequence_as(\n\u001b[1;32m   3734\u001b[0m         \u001b[0mself\u001b[0m\u001b[0;34m.\u001b[0m\u001b[0m_outputs_structure\u001b[0m\u001b[0;34m,\u001b[0m\u001b[0;34m\u001b[0m\u001b[0;34m\u001b[0m\u001b[0m\n\u001b[0;32m-> 3735\u001b[0;31m         \u001b[0;34m[\u001b[0m\u001b[0mx\u001b[0m\u001b[0;34m.\u001b[0m\u001b[0m_numpy\u001b[0m\u001b[0;34m(\u001b[0m\u001b[0;34m)\u001b[0m \u001b[0;32mfor\u001b[0m \u001b[0mx\u001b[0m \u001b[0;32min\u001b[0m \u001b[0moutputs\u001b[0m\u001b[0;34m]\u001b[0m\u001b[0;34m,\u001b[0m  \u001b[0;31m# pylint: disable=protected-access\u001b[0m\u001b[0;34m\u001b[0m\u001b[0;34m\u001b[0m\u001b[0m\n\u001b[0m\u001b[1;32m   3736\u001b[0m         expand_composites=True)\n\u001b[1;32m   3737\u001b[0m \u001b[0;34m\u001b[0m\u001b[0m\n",
            "\u001b[0;32m/usr/local/lib/python3.6/dist-packages/tensorflow_core/python/keras/backend.py\u001b[0m in \u001b[0;36m<listcomp>\u001b[0;34m(.0)\u001b[0m\n\u001b[1;32m   3733\u001b[0m     return nest.pack_sequence_as(\n\u001b[1;32m   3734\u001b[0m         \u001b[0mself\u001b[0m\u001b[0;34m.\u001b[0m\u001b[0m_outputs_structure\u001b[0m\u001b[0;34m,\u001b[0m\u001b[0;34m\u001b[0m\u001b[0;34m\u001b[0m\u001b[0m\n\u001b[0;32m-> 3735\u001b[0;31m         \u001b[0;34m[\u001b[0m\u001b[0mx\u001b[0m\u001b[0;34m.\u001b[0m\u001b[0m_numpy\u001b[0m\u001b[0;34m(\u001b[0m\u001b[0;34m)\u001b[0m \u001b[0;32mfor\u001b[0m \u001b[0mx\u001b[0m \u001b[0;32min\u001b[0m \u001b[0moutputs\u001b[0m\u001b[0;34m]\u001b[0m\u001b[0;34m,\u001b[0m  \u001b[0;31m# pylint: disable=protected-access\u001b[0m\u001b[0;34m\u001b[0m\u001b[0;34m\u001b[0m\u001b[0m\n\u001b[0m\u001b[1;32m   3736\u001b[0m         expand_composites=True)\n\u001b[1;32m   3737\u001b[0m \u001b[0;34m\u001b[0m\u001b[0m\n",
            "\u001b[0;32m/usr/local/lib/python3.6/dist-packages/tensorflow_core/python/framework/ops.py\u001b[0m in \u001b[0;36m_numpy\u001b[0;34m(self)\u001b[0m\n\u001b[1;32m    906\u001b[0m     \u001b[0;31m# pylint: disable=protected-access\u001b[0m\u001b[0;34m\u001b[0m\u001b[0;34m\u001b[0m\u001b[0;34m\u001b[0m\u001b[0m\n\u001b[1;32m    907\u001b[0m     \u001b[0;32mtry\u001b[0m\u001b[0;34m:\u001b[0m\u001b[0;34m\u001b[0m\u001b[0;34m\u001b[0m\u001b[0m\n\u001b[0;32m--> 908\u001b[0;31m       \u001b[0;32mreturn\u001b[0m \u001b[0mself\u001b[0m\u001b[0;34m.\u001b[0m\u001b[0m_numpy_internal\u001b[0m\u001b[0;34m(\u001b[0m\u001b[0;34m)\u001b[0m\u001b[0;34m\u001b[0m\u001b[0;34m\u001b[0m\u001b[0m\n\u001b[0m\u001b[1;32m    909\u001b[0m     \u001b[0;32mexcept\u001b[0m \u001b[0mcore\u001b[0m\u001b[0;34m.\u001b[0m\u001b[0m_NotOkStatusException\u001b[0m \u001b[0;32mas\u001b[0m \u001b[0me\u001b[0m\u001b[0;34m:\u001b[0m\u001b[0;34m\u001b[0m\u001b[0;34m\u001b[0m\u001b[0m\n\u001b[1;32m    910\u001b[0m       \u001b[0msix\u001b[0m\u001b[0;34m.\u001b[0m\u001b[0mraise_from\u001b[0m\u001b[0;34m(\u001b[0m\u001b[0mcore\u001b[0m\u001b[0;34m.\u001b[0m\u001b[0m_status_to_exception\u001b[0m\u001b[0;34m(\u001b[0m\u001b[0me\u001b[0m\u001b[0;34m.\u001b[0m\u001b[0mcode\u001b[0m\u001b[0;34m,\u001b[0m \u001b[0me\u001b[0m\u001b[0;34m.\u001b[0m\u001b[0mmessage\u001b[0m\u001b[0;34m)\u001b[0m\u001b[0;34m,\u001b[0m \u001b[0;32mNone\u001b[0m\u001b[0;34m)\u001b[0m\u001b[0;34m\u001b[0m\u001b[0;34m\u001b[0m\u001b[0m\n",
            "\u001b[0;31mKeyboardInterrupt\u001b[0m: "
          ]
        }
      ]
    },
    {
      "cell_type": "code",
      "metadata": {
        "id": "MnjX8t9ovZGc",
        "colab_type": "code",
        "colab": {}
      },
      "source": [
        "# load weights into new model\n",
        "model_finetuned_152.load_weights(\"/content/resnet151-model.11-0.23-0.70.h5\")\n",
        "test_generator.reset()"
      ],
      "execution_count": null,
      "outputs": []
    },
    {
      "cell_type": "code",
      "metadata": {
        "id": "dIBChGzy8sjx",
        "colab_type": "code",
        "colab": {
          "base_uri": "https://localhost:8080/",
          "height": 34
        },
        "outputId": "644675da-4536-4ae6-8019-a71e2fe2cbde"
      },
      "source": [
        "#get prediction from test data\n",
        "pred = model_finetuned_152.predict_generator(test_generator, verbose=1)\n",
        "classes = pred.argmax(axis=-1)\n",
        "#print(pred)"
      ],
      "execution_count": null,
      "outputs": [
        {
          "output_type": "stream",
          "text": [
            "156/156 [==============================] - 13s 83ms/step\n"
          ],
          "name": "stdout"
        }
      ]
    },
    {
      "cell_type": "code",
      "metadata": {
        "id": "Xd1JsWlX87vB",
        "colab_type": "code",
        "colab": {
          "base_uri": "https://localhost:8080/",
          "height": 402
        },
        "outputId": "c8ae8ed2-80b0-4637-dfe0-427f9c245cc8"
      },
      "source": [
        "import pandas as pd\n",
        "filenames=test_generator.filenames\n",
        "results=pd.DataFrame({\"Filename\":filenames,\n",
        "                      'bharatanatyam':pred[:,0],\n",
        "                      'kathak':pred[:,1] ,\n",
        "                      'kathakali':pred[:,2],\n",
        "                      'kuchipudi':pred[:,3],\n",
        "                      'manipuri':pred[:,4],\n",
        "                      'mohiniyattam':pred[:,5],\n",
        "                      'odissi':pred[:,6],\n",
        "                      'sattriya':pred[:,7],\n",
        "                      'class':classes})\n",
        "\n",
        "results[\"class\"].replace({0: \"bharatanatyam\",\n",
        "                               1: \"kathak\",\n",
        "                               2: \"kathakali\",\n",
        "                               3: \"kuchipudi\",\n",
        "                               4: \"manipuri\",\n",
        "                               5: \"mohiniyattam\",\n",
        "                               6: \"odissi\",\n",
        "                               7: \"sattriya\",\n",
        "                               }, inplace=True)\n",
        "results.head(-1)"
      ],
      "execution_count": null,
      "outputs": [
        {
          "output_type": "execute_result",
          "data": {
            "text/html": [
              "<div>\n",
              "<style scoped>\n",
              "    .dataframe tbody tr th:only-of-type {\n",
              "        vertical-align: middle;\n",
              "    }\n",
              "\n",
              "    .dataframe tbody tr th {\n",
              "        vertical-align: top;\n",
              "    }\n",
              "\n",
              "    .dataframe thead th {\n",
              "        text-align: right;\n",
              "    }\n",
              "</style>\n",
              "<table border=\"1\" class=\"dataframe\">\n",
              "  <thead>\n",
              "    <tr style=\"text-align: right;\">\n",
              "      <th></th>\n",
              "      <th>Filename</th>\n",
              "      <th>bharatanatyam</th>\n",
              "      <th>kathak</th>\n",
              "      <th>kathakali</th>\n",
              "      <th>kuchipudi</th>\n",
              "      <th>manipuri</th>\n",
              "      <th>mohiniyattam</th>\n",
              "      <th>odissi</th>\n",
              "      <th>sattriya</th>\n",
              "      <th>class</th>\n",
              "    </tr>\n",
              "  </thead>\n",
              "  <tbody>\n",
              "    <tr>\n",
              "      <th>0</th>\n",
              "      <td>508.jpg</td>\n",
              "      <td>0.130744</td>\n",
              "      <td>0.215634</td>\n",
              "      <td>0.009526</td>\n",
              "      <td>0.630246</td>\n",
              "      <td>0.110950</td>\n",
              "      <td>0.018184</td>\n",
              "      <td>0.011960</td>\n",
              "      <td>0.063524</td>\n",
              "      <td>kuchipudi</td>\n",
              "    </tr>\n",
              "    <tr>\n",
              "      <th>1</th>\n",
              "      <td>246.jpg</td>\n",
              "      <td>0.127946</td>\n",
              "      <td>0.005501</td>\n",
              "      <td>0.013085</td>\n",
              "      <td>0.021352</td>\n",
              "      <td>0.012164</td>\n",
              "      <td>0.428758</td>\n",
              "      <td>0.222957</td>\n",
              "      <td>0.045385</td>\n",
              "      <td>mohiniyattam</td>\n",
              "    </tr>\n",
              "    <tr>\n",
              "      <th>2</th>\n",
              "      <td>473.jpg</td>\n",
              "      <td>0.229606</td>\n",
              "      <td>0.255673</td>\n",
              "      <td>0.016769</td>\n",
              "      <td>0.574273</td>\n",
              "      <td>0.015444</td>\n",
              "      <td>0.008015</td>\n",
              "      <td>0.386881</td>\n",
              "      <td>0.017567</td>\n",
              "      <td>kuchipudi</td>\n",
              "    </tr>\n",
              "    <tr>\n",
              "      <th>3</th>\n",
              "      <td>485.jpg</td>\n",
              "      <td>0.409173</td>\n",
              "      <td>0.181878</td>\n",
              "      <td>0.073174</td>\n",
              "      <td>0.182614</td>\n",
              "      <td>0.360783</td>\n",
              "      <td>0.049106</td>\n",
              "      <td>0.088504</td>\n",
              "      <td>0.132445</td>\n",
              "      <td>bharatanatyam</td>\n",
              "    </tr>\n",
              "    <tr>\n",
              "      <th>4</th>\n",
              "      <td>128.jpg</td>\n",
              "      <td>0.603590</td>\n",
              "      <td>0.032997</td>\n",
              "      <td>0.006968</td>\n",
              "      <td>0.557062</td>\n",
              "      <td>0.046974</td>\n",
              "      <td>0.007637</td>\n",
              "      <td>0.006305</td>\n",
              "      <td>0.013130</td>\n",
              "      <td>bharatanatyam</td>\n",
              "    </tr>\n",
              "    <tr>\n",
              "      <th>...</th>\n",
              "      <td>...</td>\n",
              "      <td>...</td>\n",
              "      <td>...</td>\n",
              "      <td>...</td>\n",
              "      <td>...</td>\n",
              "      <td>...</td>\n",
              "      <td>...</td>\n",
              "      <td>...</td>\n",
              "      <td>...</td>\n",
              "      <td>...</td>\n",
              "    </tr>\n",
              "    <tr>\n",
              "      <th>150</th>\n",
              "      <td>275.jpg</td>\n",
              "      <td>0.073985</td>\n",
              "      <td>0.004869</td>\n",
              "      <td>0.003292</td>\n",
              "      <td>0.020547</td>\n",
              "      <td>0.003692</td>\n",
              "      <td>0.631807</td>\n",
              "      <td>0.020025</td>\n",
              "      <td>0.015565</td>\n",
              "      <td>mohiniyattam</td>\n",
              "    </tr>\n",
              "    <tr>\n",
              "      <th>151</th>\n",
              "      <td>366.jpg</td>\n",
              "      <td>0.014759</td>\n",
              "      <td>0.075433</td>\n",
              "      <td>0.193936</td>\n",
              "      <td>0.015785</td>\n",
              "      <td>0.014143</td>\n",
              "      <td>0.006580</td>\n",
              "      <td>0.021580</td>\n",
              "      <td>0.275945</td>\n",
              "      <td>sattriya</td>\n",
              "    </tr>\n",
              "    <tr>\n",
              "      <th>152</th>\n",
              "      <td>226.jpg</td>\n",
              "      <td>0.040328</td>\n",
              "      <td>0.021795</td>\n",
              "      <td>0.167517</td>\n",
              "      <td>0.032768</td>\n",
              "      <td>0.020599</td>\n",
              "      <td>0.180882</td>\n",
              "      <td>0.361541</td>\n",
              "      <td>0.225703</td>\n",
              "      <td>odissi</td>\n",
              "    </tr>\n",
              "    <tr>\n",
              "      <th>153</th>\n",
              "      <td>35.jpg</td>\n",
              "      <td>0.091720</td>\n",
              "      <td>0.209881</td>\n",
              "      <td>0.006322</td>\n",
              "      <td>0.203661</td>\n",
              "      <td>0.092264</td>\n",
              "      <td>0.044424</td>\n",
              "      <td>0.027497</td>\n",
              "      <td>0.110158</td>\n",
              "      <td>kathak</td>\n",
              "    </tr>\n",
              "    <tr>\n",
              "      <th>154</th>\n",
              "      <td>458.jpg</td>\n",
              "      <td>0.016822</td>\n",
              "      <td>0.024921</td>\n",
              "      <td>0.510233</td>\n",
              "      <td>0.019269</td>\n",
              "      <td>0.010371</td>\n",
              "      <td>0.004786</td>\n",
              "      <td>0.093416</td>\n",
              "      <td>0.008513</td>\n",
              "      <td>kathakali</td>\n",
              "    </tr>\n",
              "  </tbody>\n",
              "</table>\n",
              "<p>155 rows × 10 columns</p>\n",
              "</div>"
            ],
            "text/plain": [
              "    Filename  bharatanatyam    kathak  ...    odissi  sattriya          class\n",
              "0    508.jpg       0.130744  0.215634  ...  0.011960  0.063524      kuchipudi\n",
              "1    246.jpg       0.127946  0.005501  ...  0.222957  0.045385   mohiniyattam\n",
              "2    473.jpg       0.229606  0.255673  ...  0.386881  0.017567      kuchipudi\n",
              "3    485.jpg       0.409173  0.181878  ...  0.088504  0.132445  bharatanatyam\n",
              "4    128.jpg       0.603590  0.032997  ...  0.006305  0.013130  bharatanatyam\n",
              "..       ...            ...       ...  ...       ...       ...            ...\n",
              "150  275.jpg       0.073985  0.004869  ...  0.020025  0.015565   mohiniyattam\n",
              "151  366.jpg       0.014759  0.075433  ...  0.021580  0.275945       sattriya\n",
              "152  226.jpg       0.040328  0.021795  ...  0.361541  0.225703         odissi\n",
              "153   35.jpg       0.091720  0.209881  ...  0.027497  0.110158         kathak\n",
              "154  458.jpg       0.016822  0.024921  ...  0.093416  0.008513      kathakali\n",
              "\n",
              "[155 rows x 10 columns]"
            ]
          },
          "metadata": {
            "tags": []
          },
          "execution_count": 71
        }
      ]
    },
    {
      "cell_type": "code",
      "metadata": {
        "id": "U2gS2AUhjZOl",
        "colab_type": "code",
        "colab": {
          "base_uri": "https://localhost:8080/",
          "height": 195
        },
        "outputId": "4305eadf-4716-47b4-a8af-e1462ee83c19"
      },
      "source": [
        "dft['target'] = results['class']\n",
        "dft.head()"
      ],
      "execution_count": null,
      "outputs": [
        {
          "output_type": "execute_result",
          "data": {
            "text/html": [
              "<div>\n",
              "<style scoped>\n",
              "    .dataframe tbody tr th:only-of-type {\n",
              "        vertical-align: middle;\n",
              "    }\n",
              "\n",
              "    .dataframe tbody tr th {\n",
              "        vertical-align: top;\n",
              "    }\n",
              "\n",
              "    .dataframe thead th {\n",
              "        text-align: right;\n",
              "    }\n",
              "</style>\n",
              "<table border=\"1\" class=\"dataframe\">\n",
              "  <thead>\n",
              "    <tr style=\"text-align: right;\">\n",
              "      <th></th>\n",
              "      <th>Image</th>\n",
              "      <th>target</th>\n",
              "    </tr>\n",
              "  </thead>\n",
              "  <tbody>\n",
              "    <tr>\n",
              "      <th>0</th>\n",
              "      <td>508.jpg</td>\n",
              "      <td>kuchipudi</td>\n",
              "    </tr>\n",
              "    <tr>\n",
              "      <th>1</th>\n",
              "      <td>246.jpg</td>\n",
              "      <td>mohiniyattam</td>\n",
              "    </tr>\n",
              "    <tr>\n",
              "      <th>2</th>\n",
              "      <td>473.jpg</td>\n",
              "      <td>kuchipudi</td>\n",
              "    </tr>\n",
              "    <tr>\n",
              "      <th>3</th>\n",
              "      <td>485.jpg</td>\n",
              "      <td>bharatanatyam</td>\n",
              "    </tr>\n",
              "    <tr>\n",
              "      <th>4</th>\n",
              "      <td>128.jpg</td>\n",
              "      <td>bharatanatyam</td>\n",
              "    </tr>\n",
              "  </tbody>\n",
              "</table>\n",
              "</div>"
            ],
            "text/plain": [
              "     Image         target\n",
              "0  508.jpg      kuchipudi\n",
              "1  246.jpg   mohiniyattam\n",
              "2  473.jpg      kuchipudi\n",
              "3  485.jpg  bharatanatyam\n",
              "4  128.jpg  bharatanatyam"
            ]
          },
          "metadata": {
            "tags": []
          },
          "execution_count": 75
        }
      ]
    },
    {
      "cell_type": "code",
      "metadata": {
        "id": "JUeen6EVjF4T",
        "colab_type": "code",
        "colab": {
          "base_uri": "https://localhost:8080/",
          "height": 195
        },
        "outputId": "7276fd40-5e37-4bc3-c28e-02c36583303d"
      },
      "source": [
        "dft['target'] = results['class']\n",
        "dft.to_csv(\"output.csv\",index=False)\n",
        "output = pd.read_csv(\"output.csv\")\n",
        "output.head()"
      ],
      "execution_count": null,
      "outputs": [
        {
          "output_type": "execute_result",
          "data": {
            "text/html": [
              "<div>\n",
              "<style scoped>\n",
              "    .dataframe tbody tr th:only-of-type {\n",
              "        vertical-align: middle;\n",
              "    }\n",
              "\n",
              "    .dataframe tbody tr th {\n",
              "        vertical-align: top;\n",
              "    }\n",
              "\n",
              "    .dataframe thead th {\n",
              "        text-align: right;\n",
              "    }\n",
              "</style>\n",
              "<table border=\"1\" class=\"dataframe\">\n",
              "  <thead>\n",
              "    <tr style=\"text-align: right;\">\n",
              "      <th></th>\n",
              "      <th>Image</th>\n",
              "      <th>target</th>\n",
              "    </tr>\n",
              "  </thead>\n",
              "  <tbody>\n",
              "    <tr>\n",
              "      <th>0</th>\n",
              "      <td>508.jpg</td>\n",
              "      <td>kuchipudi</td>\n",
              "    </tr>\n",
              "    <tr>\n",
              "      <th>1</th>\n",
              "      <td>246.jpg</td>\n",
              "      <td>mohiniyattam</td>\n",
              "    </tr>\n",
              "    <tr>\n",
              "      <th>2</th>\n",
              "      <td>473.jpg</td>\n",
              "      <td>kuchipudi</td>\n",
              "    </tr>\n",
              "    <tr>\n",
              "      <th>3</th>\n",
              "      <td>485.jpg</td>\n",
              "      <td>bharatanatyam</td>\n",
              "    </tr>\n",
              "    <tr>\n",
              "      <th>4</th>\n",
              "      <td>128.jpg</td>\n",
              "      <td>bharatanatyam</td>\n",
              "    </tr>\n",
              "  </tbody>\n",
              "</table>\n",
              "</div>"
            ],
            "text/plain": [
              "     Image         target\n",
              "0  508.jpg      kuchipudi\n",
              "1  246.jpg   mohiniyattam\n",
              "2  473.jpg      kuchipudi\n",
              "3  485.jpg  bharatanatyam\n",
              "4  128.jpg  bharatanatyam"
            ]
          },
          "metadata": {
            "tags": []
          },
          "execution_count": 76
        }
      ]
    },
    {
      "cell_type": "markdown",
      "metadata": {
        "id": "khQ8pqAUNtDz",
        "colab_type": "text"
      },
      "source": [
        "##ResNet50"
      ]
    },
    {
      "cell_type": "code",
      "metadata": {
        "id": "31ExunGiNu7S",
        "colab_type": "code",
        "colab": {
          "base_uri": "https://localhost:8080/",
          "height": 33
        },
        "outputId": "69c8de9f-f667-4ac0-ded4-8c5db69d565b"
      },
      "source": [
        "img_size = 384\n",
        "from keras.applications.resnet50 import ResNet50\n",
        "model_finetuned_res50 = ResNet50(include_top=False, weights='imagenet', input_shape=(img_size,img_size,3))\n",
        "#resizing and shaping images for transfer learning with ResNet151\n",
        "img=[]\n",
        "filename=df.Image\n",
        "for file in filename:\n",
        "    image=cv2.imread(\"/content/dataset/train/\"+file)\n",
        "    res=cv2.resize(image,(img_size,img_size))\n",
        "    img.append(res)\n",
        "img=np.array(img)\n",
        "print(img.shape)"
      ],
      "execution_count": null,
      "outputs": [
        {
          "output_type": "stream",
          "text": [
            "(364, 384, 384, 3)\n"
          ],
          "name": "stdout"
        }
      ]
    },
    {
      "cell_type": "code",
      "metadata": {
        "id": "IRAVHe5LOYXI",
        "colab_type": "code",
        "colab": {
          "base_uri": "https://localhost:8080/",
          "height": 67
        },
        "outputId": "9e443ebb-80c7-4915-f2e9-ec335077bce3"
      },
      "source": [
        "#splitting data for training and validation\n",
        "train, val = train_test_split(df, test_size = 0.20)\n",
        "bs = 8\n",
        "#data augmentation\n",
        "from keras.preprocessing.image import ImageDataGenerator\n",
        "train_datagen = ImageDataGenerator( horizontal_flip=True,\n",
        "                                    vertical_flip=True,\n",
        "                                    rotation_range=10,\n",
        "                                    width_shift_range=0.1,\n",
        "                                    height_shift_range=0.1,\n",
        "                                    zoom_range=.1,\n",
        "                                    fill_mode='nearest',\n",
        "                                    shear_range=0.1,\n",
        "                                    rescale=1/255)\n",
        "\n",
        "train_generator=train_datagen.flow_from_dataframe(train,\n",
        "                                                  directory='/content/dataset/train/',\n",
        "                                                  target_size=(img_size,img_size),\n",
        "                                                  x_col=\"Image\",\n",
        "                                                  y_col=['bharatanatyam',\t'kathak',\t'kathakali',\t'kuchipudi',\t'manipuri'\t,'mohiniyattam',\t'odissi',\t'sattriya'],\n",
        "                                                  class_mode='raw',\n",
        "                                                  shuffle=False,\n",
        "                                                  subset='training',\n",
        "                                                  batch_size=bs)\n",
        "\n",
        "val_datagen = ImageDataGenerator(horizontal_flip=True,\n",
        "                                  vertical_flip=True,\n",
        "                                  rotation_range=10,\n",
        "                                  width_shift_range=0.1,\n",
        "                                  height_shift_range=0.1,\n",
        "                                  zoom_range=.1,\n",
        "                                  fill_mode='nearest',\n",
        "                                  shear_range=0.1,\n",
        "                                  rescale=1/255)\n",
        "val_generator=val_datagen.flow_from_dataframe(val,\n",
        "                                              directory='/content/dataset/train/',\n",
        "                                              target_size=(img_size,img_size),\n",
        "                                              x_col=\"Image\",\n",
        "                                              y_col=['bharatanatyam',\t'kathak',\t'kathakali',\t'kuchipudi',\t'manipuri'\t,'mohiniyattam',\t'odissi',\t'sattriya'],\n",
        "                                              class_mode='raw',\n",
        "                                              shuffle=False,\n",
        "                                              batch_size=bs)\n",
        "\n",
        "\n",
        "test_datagen = ImageDataGenerator(rescale=1/255)\n",
        "test_generator=val_datagen.flow_from_dataframe(dft,\n",
        "                                              directory='/content/dataset/test/',\n",
        "                                              target_size=(img_size,img_size),\n",
        "                                              x_col=\"Image\",\n",
        "                                              y_col=None,\n",
        "                                              class_mode=None,\n",
        "                                              shuffle=False,\n",
        "                                              batch_size=1)"
      ],
      "execution_count": null,
      "outputs": [
        {
          "output_type": "stream",
          "text": [
            "Found 291 validated image filenames.\n",
            "Found 73 validated image filenames.\n",
            "Found 156 validated image filenames.\n"
          ],
          "name": "stdout"
        }
      ]
    },
    {
      "cell_type": "code",
      "metadata": {
        "id": "fV-MBX0xOwXt",
        "colab_type": "code",
        "colab": {}
      },
      "source": [
        "from keras.applications.resnet50 import ResNet50\n",
        "model_finetuned_res50 = ResNet50(include_top=False, weights='imagenet', input_shape=(img_size,img_size,3))\n",
        "x = model_finetuned_res50.output\n",
        "x = GlobalAveragePooling2D()(x)\n",
        "x = Dense(1024)(x)\n",
        "x = Dropout(0.5)(x)\n",
        "x = Dense(512)(x)\n",
        "x = Dropout(0.5)(x)\n",
        "predictions = Dense(8, activation=\"softmax\")(x)\n",
        "adam = keras.optimizers.Adam(learning_rate=0.000009, beta_1=0.9, beta_2=0.999, amsgrad=False)\n",
        "model_finetuned_res50 = Model(inputs=model_finetuned_res50.input, outputs=predictions)\n",
        "model_finetuned_res50.compile(optimizer=adam,\n",
        "                  loss = 'categorical_crossentropy',\n",
        "                  metrics=['accuracy'])\n",
        "#model_finetuned_res50.summary()"
      ],
      "execution_count": null,
      "outputs": []
    },
    {
      "cell_type": "code",
      "metadata": {
        "id": "ZQD3KZASwTLz",
        "colab_type": "code",
        "colab": {
          "base_uri": "https://localhost:8080/",
          "height": 1000
        },
        "outputId": "b82abdba-470a-46db-e93a-fa2a5b7ebe53"
      },
      "source": [
        "from livelossplot import PlotLossesKeras\n",
        "from keras.callbacks import ReduceLROnPlateau,ModelCheckpoint,EarlyStopping\n",
        "\n",
        "earlystop = EarlyStopping(monitor = 'val_loss', \n",
        "                          min_delta = 0, \n",
        "                          patience = 30,\n",
        "                          verbose = 1,\n",
        "                          restore_best_weights = True)\n",
        "\n",
        "reduce_lr = ReduceLROnPlateau(monitor='val_loss',\n",
        "                              factor=0.3,\n",
        "                              patience=3,\n",
        "                              min_lr=0.000001)\n",
        "\n",
        "checkpoint = ModelCheckpoint(\"./resnet50-model.{epoch:02d}-{val_loss:.2f}-{val_accuracy:.2f}.h5\",\n",
        "                             monitor=\"val_loss\",\n",
        "                             mode=\"auto\",\n",
        "                             save_best_only = True,\n",
        "                             verbose=1)\n",
        "\n",
        "callbacks = [PlotLossesKeras(),reduce_lr,earlystop]\n",
        "\n",
        "history = model_finetuned_res50.fit_generator(train_generator,\n",
        "                                        steps_per_epoch=200,\n",
        "                                        epochs=50,\n",
        "                                        validation_data=val_generator,\n",
        "                                        validation_steps=200,\n",
        "                                        callbacks = callbacks,\n",
        "                                        use_multiprocessing=False,\n",
        "                                        shuffle=True)"
      ],
      "execution_count": null,
      "outputs": [
        {
          "output_type": "display_data",
          "data": {
            "image/png": "[encoded data removed]",
            "text/plain": [
              "<Figure size 864x864 with 3 Axes>"
            ]
          },
          "metadata": {
            "tags": [],
            "needs_background": "light"
          }
        },
        {
          "output_type": "stream",
          "text": [
            "accuracy\n",
            "\tvalidation       \t (min:    0.136, max:    0.824, cur:    0.811)\n",
            "\ttraining         \t (min:    0.183, max:    0.984, cur:    0.984)\n",
            "Loss\n",
            "\tvalidation       \t (min:    0.000, max:    2.814, cur:    0.002)\n",
            "\ttraining         \t (min:    0.087, max:    2.803, cur:    0.087)\n",
            "lr\n",
            "\tlr               \t (min:    0.000, max:    0.000, cur:    0.000)\n",
            "Epoch 16/50\n",
            "199/200 [============================>.] - ETA: 0s - loss: 0.0767 - accuracy: 0.9878"
          ],
          "name": "stdout"
        },
        {
          "output_type": "error",
          "ename": "KeyboardInterrupt",
          "evalue": "ignored",
          "traceback": [
            "\u001b[0;31m---------------------------------------------------------------------------\u001b[0m",
            "\u001b[0;31mKeyboardInterrupt\u001b[0m                         Traceback (most recent call last)",
            "\u001b[0;32m<ipython-input-14-767c255cec10>\u001b[0m in \u001b[0;36m<module>\u001b[0;34m()\u001b[0m\n\u001b[1;32m     28\u001b[0m                                         \u001b[0mcallbacks\u001b[0m \u001b[0;34m=\u001b[0m \u001b[0mcallbacks\u001b[0m\u001b[0;34m,\u001b[0m\u001b[0;34m\u001b[0m\u001b[0;34m\u001b[0m\u001b[0m\n\u001b[1;32m     29\u001b[0m                                         \u001b[0muse_multiprocessing\u001b[0m\u001b[0;34m=\u001b[0m\u001b[0;32mFalse\u001b[0m\u001b[0;34m,\u001b[0m\u001b[0;34m\u001b[0m\u001b[0;34m\u001b[0m\u001b[0m\n\u001b[0;32m---> 30\u001b[0;31m                                         shuffle=True)\n\u001b[0m",
            "\u001b[0;32m/usr/local/lib/python3.6/dist-packages/keras/legacy/interfaces.py\u001b[0m in \u001b[0;36mwrapper\u001b[0;34m(*args, **kwargs)\u001b[0m\n\u001b[1;32m     89\u001b[0m                 warnings.warn('Update your `' + object_name + '` call to the ' +\n\u001b[1;32m     90\u001b[0m                               'Keras 2 API: ' + signature, stacklevel=2)\n\u001b[0;32m---> 91\u001b[0;31m             \u001b[0;32mreturn\u001b[0m \u001b[0mfunc\u001b[0m\u001b[0;34m(\u001b[0m\u001b[0;34m*\u001b[0m\u001b[0margs\u001b[0m\u001b[0;34m,\u001b[0m \u001b[0;34m**\u001b[0m\u001b[0mkwargs\u001b[0m\u001b[0;34m)\u001b[0m\u001b[0;34m\u001b[0m\u001b[0;34m\u001b[0m\u001b[0m\n\u001b[0m\u001b[1;32m     92\u001b[0m         \u001b[0mwrapper\u001b[0m\u001b[0;34m.\u001b[0m\u001b[0m_original_function\u001b[0m \u001b[0;34m=\u001b[0m \u001b[0mfunc\u001b[0m\u001b[0;34m\u001b[0m\u001b[0;34m\u001b[0m\u001b[0m\n\u001b[1;32m     93\u001b[0m         \u001b[0;32mreturn\u001b[0m \u001b[0mwrapper\u001b[0m\u001b[0;34m\u001b[0m\u001b[0;34m\u001b[0m\u001b[0m\n",
            "\u001b[0;32m/usr/local/lib/python3.6/dist-packages/keras/engine/training.py\u001b[0m in \u001b[0;36mfit_generator\u001b[0;34m(self, generator, steps_per_epoch, epochs, verbose, callbacks, validation_data, validation_steps, validation_freq, class_weight, max_queue_size, workers, use_multiprocessing, shuffle, initial_epoch)\u001b[0m\n\u001b[1;32m   1730\u001b[0m             \u001b[0muse_multiprocessing\u001b[0m\u001b[0;34m=\u001b[0m\u001b[0muse_multiprocessing\u001b[0m\u001b[0;34m,\u001b[0m\u001b[0;34m\u001b[0m\u001b[0;34m\u001b[0m\u001b[0m\n\u001b[1;32m   1731\u001b[0m             \u001b[0mshuffle\u001b[0m\u001b[0;34m=\u001b[0m\u001b[0mshuffle\u001b[0m\u001b[0;34m,\u001b[0m\u001b[0;34m\u001b[0m\u001b[0;34m\u001b[0m\u001b[0m\n\u001b[0;32m-> 1732\u001b[0;31m             initial_epoch=initial_epoch)\n\u001b[0m\u001b[1;32m   1733\u001b[0m \u001b[0;34m\u001b[0m\u001b[0m\n\u001b[1;32m   1734\u001b[0m     \u001b[0;34m@\u001b[0m\u001b[0minterfaces\u001b[0m\u001b[0;34m.\u001b[0m\u001b[0mlegacy_generator_methods_support\u001b[0m\u001b[0;34m\u001b[0m\u001b[0;34m\u001b[0m\u001b[0m\n",
            "\u001b[0;32m/usr/local/lib/python3.6/dist-packages/keras/engine/training_generator.py\u001b[0m in \u001b[0;36mfit_generator\u001b[0;34m(model, generator, steps_per_epoch, epochs, verbose, callbacks, validation_data, validation_steps, validation_freq, class_weight, max_queue_size, workers, use_multiprocessing, shuffle, initial_epoch)\u001b[0m\n\u001b[1;32m    240\u001b[0m                             \u001b[0mvalidation_steps\u001b[0m\u001b[0;34m,\u001b[0m\u001b[0;34m\u001b[0m\u001b[0;34m\u001b[0m\u001b[0m\n\u001b[1;32m    241\u001b[0m                             \u001b[0mcallbacks\u001b[0m\u001b[0;34m=\u001b[0m\u001b[0mcallbacks\u001b[0m\u001b[0;34m,\u001b[0m\u001b[0;34m\u001b[0m\u001b[0;34m\u001b[0m\u001b[0m\n\u001b[0;32m--> 242\u001b[0;31m                             workers=0)\n\u001b[0m\u001b[1;32m    243\u001b[0m                     \u001b[0;32melse\u001b[0m\u001b[0;34m:\u001b[0m\u001b[0;34m\u001b[0m\u001b[0;34m\u001b[0m\u001b[0m\n\u001b[1;32m    244\u001b[0m                         \u001b[0;31m# No need for try/except because\u001b[0m\u001b[0;34m\u001b[0m\u001b[0;34m\u001b[0m\u001b[0;34m\u001b[0m\u001b[0m\n",
            "\u001b[0;32m/usr/local/lib/python3.6/dist-packages/keras/legacy/interfaces.py\u001b[0m in \u001b[0;36mwrapper\u001b[0;34m(*args, **kwargs)\u001b[0m\n\u001b[1;32m     89\u001b[0m                 warnings.warn('Update your `' + object_name + '` call to the ' +\n\u001b[1;32m     90\u001b[0m                               'Keras 2 API: ' + signature, stacklevel=2)\n\u001b[0;32m---> 91\u001b[0;31m             \u001b[0;32mreturn\u001b[0m \u001b[0mfunc\u001b[0m\u001b[0;34m(\u001b[0m\u001b[0;34m*\u001b[0m\u001b[0margs\u001b[0m\u001b[0;34m,\u001b[0m \u001b[0;34m**\u001b[0m\u001b[0mkwargs\u001b[0m\u001b[0;34m)\u001b[0m\u001b[0;34m\u001b[0m\u001b[0;34m\u001b[0m\u001b[0m\n\u001b[0m\u001b[1;32m     92\u001b[0m         \u001b[0mwrapper\u001b[0m\u001b[0;34m.\u001b[0m\u001b[0m_original_function\u001b[0m \u001b[0;34m=\u001b[0m \u001b[0mfunc\u001b[0m\u001b[0;34m\u001b[0m\u001b[0;34m\u001b[0m\u001b[0m\n\u001b[1;32m     93\u001b[0m         \u001b[0;32mreturn\u001b[0m \u001b[0mwrapper\u001b[0m\u001b[0;34m\u001b[0m\u001b[0;34m\u001b[0m\u001b[0m\n",
            "\u001b[0;32m/usr/local/lib/python3.6/dist-packages/keras/engine/training.py\u001b[0m in \u001b[0;36mevaluate_generator\u001b[0;34m(self, generator, steps, callbacks, max_queue_size, workers, use_multiprocessing, verbose)\u001b[0m\n\u001b[1;32m   1789\u001b[0m             \u001b[0mworkers\u001b[0m\u001b[0;34m=\u001b[0m\u001b[0mworkers\u001b[0m\u001b[0;34m,\u001b[0m\u001b[0;34m\u001b[0m\u001b[0;34m\u001b[0m\u001b[0m\n\u001b[1;32m   1790\u001b[0m             \u001b[0muse_multiprocessing\u001b[0m\u001b[0;34m=\u001b[0m\u001b[0muse_multiprocessing\u001b[0m\u001b[0;34m,\u001b[0m\u001b[0;34m\u001b[0m\u001b[0;34m\u001b[0m\u001b[0m\n\u001b[0;32m-> 1791\u001b[0;31m             verbose=verbose)\n\u001b[0m\u001b[1;32m   1792\u001b[0m \u001b[0;34m\u001b[0m\u001b[0m\n\u001b[1;32m   1793\u001b[0m     \u001b[0;34m@\u001b[0m\u001b[0minterfaces\u001b[0m\u001b[0;34m.\u001b[0m\u001b[0mlegacy_generator_methods_support\u001b[0m\u001b[0;34m\u001b[0m\u001b[0;34m\u001b[0m\u001b[0m\n",
            "\u001b[0;32m/usr/local/lib/python3.6/dist-packages/keras/engine/training_generator.py\u001b[0m in \u001b[0;36mevaluate_generator\u001b[0;34m(model, generator, steps, callbacks, max_queue_size, workers, use_multiprocessing, verbose)\u001b[0m\n\u001b[1;32m    363\u001b[0m \u001b[0;34m\u001b[0m\u001b[0m\n\u001b[1;32m    364\u001b[0m         \u001b[0;32mwhile\u001b[0m \u001b[0msteps_done\u001b[0m \u001b[0;34m<\u001b[0m \u001b[0msteps\u001b[0m\u001b[0;34m:\u001b[0m\u001b[0;34m\u001b[0m\u001b[0;34m\u001b[0m\u001b[0m\n\u001b[0;32m--> 365\u001b[0;31m             \u001b[0mgenerator_output\u001b[0m \u001b[0;34m=\u001b[0m \u001b[0mnext\u001b[0m\u001b[0;34m(\u001b[0m\u001b[0moutput_generator\u001b[0m\u001b[0;34m)\u001b[0m\u001b[0;34m\u001b[0m\u001b[0;34m\u001b[0m\u001b[0m\n\u001b[0m\u001b[1;32m    366\u001b[0m             \u001b[0;32mif\u001b[0m \u001b[0;32mnot\u001b[0m \u001b[0mhasattr\u001b[0m\u001b[0;34m(\u001b[0m\u001b[0mgenerator_output\u001b[0m\u001b[0;34m,\u001b[0m \u001b[0;34m'__len__'\u001b[0m\u001b[0;34m)\u001b[0m\u001b[0;34m:\u001b[0m\u001b[0;34m\u001b[0m\u001b[0;34m\u001b[0m\u001b[0m\n\u001b[1;32m    367\u001b[0m                 raise ValueError('Output of generator should be a tuple '\n",
            "\u001b[0;32m/usr/local/lib/python3.6/dist-packages/keras/utils/data_utils.py\u001b[0m in \u001b[0;36mget\u001b[0;34m(self)\u001b[0m\n\u001b[1;32m    608\u001b[0m                 \u001b[0;32mtry\u001b[0m\u001b[0;34m:\u001b[0m\u001b[0;34m\u001b[0m\u001b[0;34m\u001b[0m\u001b[0m\n\u001b[1;32m    609\u001b[0m                     \u001b[0mfuture\u001b[0m \u001b[0;34m=\u001b[0m \u001b[0mself\u001b[0m\u001b[0;34m.\u001b[0m\u001b[0mqueue\u001b[0m\u001b[0;34m.\u001b[0m\u001b[0mget\u001b[0m\u001b[0;34m(\u001b[0m\u001b[0mblock\u001b[0m\u001b[0;34m=\u001b[0m\u001b[0;32mTrue\u001b[0m\u001b[0;34m)\u001b[0m\u001b[0;34m\u001b[0m\u001b[0;34m\u001b[0m\u001b[0m\n\u001b[0;32m--> 610\u001b[0;31m                     \u001b[0minputs\u001b[0m \u001b[0;34m=\u001b[0m \u001b[0mfuture\u001b[0m\u001b[0;34m.\u001b[0m\u001b[0mget\u001b[0m\u001b[0;34m(\u001b[0m\u001b[0mtimeout\u001b[0m\u001b[0;34m=\u001b[0m\u001b[0;36m30\u001b[0m\u001b[0;34m)\u001b[0m\u001b[0;34m\u001b[0m\u001b[0;34m\u001b[0m\u001b[0m\n\u001b[0m\u001b[1;32m    611\u001b[0m                 \u001b[0;32mexcept\u001b[0m \u001b[0mmp\u001b[0m\u001b[0;34m.\u001b[0m\u001b[0mTimeoutError\u001b[0m\u001b[0;34m:\u001b[0m\u001b[0;34m\u001b[0m\u001b[0;34m\u001b[0m\u001b[0m\n\u001b[1;32m    612\u001b[0m                     \u001b[0midx\u001b[0m \u001b[0;34m=\u001b[0m \u001b[0mfuture\u001b[0m\u001b[0;34m.\u001b[0m\u001b[0midx\u001b[0m\u001b[0;34m\u001b[0m\u001b[0;34m\u001b[0m\u001b[0m\n",
            "\u001b[0;32m/usr/lib/python3.6/multiprocessing/pool.py\u001b[0m in \u001b[0;36mget\u001b[0;34m(self, timeout)\u001b[0m\n\u001b[1;32m    636\u001b[0m \u001b[0;34m\u001b[0m\u001b[0m\n\u001b[1;32m    637\u001b[0m     \u001b[0;32mdef\u001b[0m \u001b[0mget\u001b[0m\u001b[0;34m(\u001b[0m\u001b[0mself\u001b[0m\u001b[0;34m,\u001b[0m \u001b[0mtimeout\u001b[0m\u001b[0;34m=\u001b[0m\u001b[0;32mNone\u001b[0m\u001b[0;34m)\u001b[0m\u001b[0;34m:\u001b[0m\u001b[0;34m\u001b[0m\u001b[0;34m\u001b[0m\u001b[0m\n\u001b[0;32m--> 638\u001b[0;31m         \u001b[0mself\u001b[0m\u001b[0;34m.\u001b[0m\u001b[0mwait\u001b[0m\u001b[0;34m(\u001b[0m\u001b[0mtimeout\u001b[0m\u001b[0;34m)\u001b[0m\u001b[0;34m\u001b[0m\u001b[0;34m\u001b[0m\u001b[0m\n\u001b[0m\u001b[1;32m    639\u001b[0m         \u001b[0;32mif\u001b[0m \u001b[0;32mnot\u001b[0m \u001b[0mself\u001b[0m\u001b[0;34m.\u001b[0m\u001b[0mready\u001b[0m\u001b[0;34m(\u001b[0m\u001b[0;34m)\u001b[0m\u001b[0;34m:\u001b[0m\u001b[0;34m\u001b[0m\u001b[0;34m\u001b[0m\u001b[0m\n\u001b[1;32m    640\u001b[0m             \u001b[0;32mraise\u001b[0m \u001b[0mTimeoutError\u001b[0m\u001b[0;34m\u001b[0m\u001b[0;34m\u001b[0m\u001b[0m\n",
            "\u001b[0;32m/usr/lib/python3.6/multiprocessing/pool.py\u001b[0m in \u001b[0;36mwait\u001b[0;34m(self, timeout)\u001b[0m\n\u001b[1;32m    633\u001b[0m \u001b[0;34m\u001b[0m\u001b[0m\n\u001b[1;32m    634\u001b[0m     \u001b[0;32mdef\u001b[0m \u001b[0mwait\u001b[0m\u001b[0;34m(\u001b[0m\u001b[0mself\u001b[0m\u001b[0;34m,\u001b[0m \u001b[0mtimeout\u001b[0m\u001b[0;34m=\u001b[0m\u001b[0;32mNone\u001b[0m\u001b[0;34m)\u001b[0m\u001b[0;34m:\u001b[0m\u001b[0;34m\u001b[0m\u001b[0;34m\u001b[0m\u001b[0m\n\u001b[0;32m--> 635\u001b[0;31m         \u001b[0mself\u001b[0m\u001b[0;34m.\u001b[0m\u001b[0m_event\u001b[0m\u001b[0;34m.\u001b[0m\u001b[0mwait\u001b[0m\u001b[0;34m(\u001b[0m\u001b[0mtimeout\u001b[0m\u001b[0;34m)\u001b[0m\u001b[0;34m\u001b[0m\u001b[0;34m\u001b[0m\u001b[0m\n\u001b[0m\u001b[1;32m    636\u001b[0m \u001b[0;34m\u001b[0m\u001b[0m\n\u001b[1;32m    637\u001b[0m     \u001b[0;32mdef\u001b[0m \u001b[0mget\u001b[0m\u001b[0;34m(\u001b[0m\u001b[0mself\u001b[0m\u001b[0;34m,\u001b[0m \u001b[0mtimeout\u001b[0m\u001b[0;34m=\u001b[0m\u001b[0;32mNone\u001b[0m\u001b[0;34m)\u001b[0m\u001b[0;34m:\u001b[0m\u001b[0;34m\u001b[0m\u001b[0;34m\u001b[0m\u001b[0m\n",
            "\u001b[0;32m/usr/lib/python3.6/threading.py\u001b[0m in \u001b[0;36mwait\u001b[0;34m(self, timeout)\u001b[0m\n\u001b[1;32m    549\u001b[0m             \u001b[0msignaled\u001b[0m \u001b[0;34m=\u001b[0m \u001b[0mself\u001b[0m\u001b[0;34m.\u001b[0m\u001b[0m_flag\u001b[0m\u001b[0;34m\u001b[0m\u001b[0;34m\u001b[0m\u001b[0m\n\u001b[1;32m    550\u001b[0m             \u001b[0;32mif\u001b[0m \u001b[0;32mnot\u001b[0m \u001b[0msignaled\u001b[0m\u001b[0;34m:\u001b[0m\u001b[0;34m\u001b[0m\u001b[0;34m\u001b[0m\u001b[0m\n\u001b[0;32m--> 551\u001b[0;31m                 \u001b[0msignaled\u001b[0m \u001b[0;34m=\u001b[0m \u001b[0mself\u001b[0m\u001b[0;34m.\u001b[0m\u001b[0m_cond\u001b[0m\u001b[0;34m.\u001b[0m\u001b[0mwait\u001b[0m\u001b[0;34m(\u001b[0m\u001b[0mtimeout\u001b[0m\u001b[0;34m)\u001b[0m\u001b[0;34m\u001b[0m\u001b[0;34m\u001b[0m\u001b[0m\n\u001b[0m\u001b[1;32m    552\u001b[0m             \u001b[0;32mreturn\u001b[0m \u001b[0msignaled\u001b[0m\u001b[0;34m\u001b[0m\u001b[0;34m\u001b[0m\u001b[0m\n\u001b[1;32m    553\u001b[0m \u001b[0;34m\u001b[0m\u001b[0m\n",
            "\u001b[0;32m/usr/lib/python3.6/threading.py\u001b[0m in \u001b[0;36mwait\u001b[0;34m(self, timeout)\u001b[0m\n\u001b[1;32m    297\u001b[0m             \u001b[0;32melse\u001b[0m\u001b[0;34m:\u001b[0m\u001b[0;34m\u001b[0m\u001b[0;34m\u001b[0m\u001b[0m\n\u001b[1;32m    298\u001b[0m                 \u001b[0;32mif\u001b[0m \u001b[0mtimeout\u001b[0m \u001b[0;34m>\u001b[0m \u001b[0;36m0\u001b[0m\u001b[0;34m:\u001b[0m\u001b[0;34m\u001b[0m\u001b[0;34m\u001b[0m\u001b[0m\n\u001b[0;32m--> 299\u001b[0;31m                     \u001b[0mgotit\u001b[0m \u001b[0;34m=\u001b[0m \u001b[0mwaiter\u001b[0m\u001b[0;34m.\u001b[0m\u001b[0macquire\u001b[0m\u001b[0;34m(\u001b[0m\u001b[0;32mTrue\u001b[0m\u001b[0;34m,\u001b[0m \u001b[0mtimeout\u001b[0m\u001b[0;34m)\u001b[0m\u001b[0;34m\u001b[0m\u001b[0;34m\u001b[0m\u001b[0m\n\u001b[0m\u001b[1;32m    300\u001b[0m                 \u001b[0;32melse\u001b[0m\u001b[0;34m:\u001b[0m\u001b[0;34m\u001b[0m\u001b[0;34m\u001b[0m\u001b[0m\n\u001b[1;32m    301\u001b[0m                     \u001b[0mgotit\u001b[0m \u001b[0;34m=\u001b[0m \u001b[0mwaiter\u001b[0m\u001b[0;34m.\u001b[0m\u001b[0macquire\u001b[0m\u001b[0;34m(\u001b[0m\u001b[0;32mFalse\u001b[0m\u001b[0;34m)\u001b[0m\u001b[0;34m\u001b[0m\u001b[0;34m\u001b[0m\u001b[0m\n",
            "\u001b[0;31mKeyboardInterrupt\u001b[0m: "
          ]
        }
      ]
    },
    {
      "cell_type": "code",
      "metadata": {
        "id": "x9_C-TNjPEGR",
        "colab_type": "code",
        "colab": {
          "base_uri": "https://localhost:8080/",
          "height": 1000
        },
        "outputId": "6954cc25-551e-48f5-d027-7e9e508d3742"
      },
      "source": [
        "from livelossplot import PlotLossesKeras\n",
        "from keras.callbacks import ReduceLROnPlateau,ModelCheckpoint,EarlyStopping\n",
        "\n",
        "earlystop = EarlyStopping(monitor = 'val_accuracy', \n",
        "                          min_delta = 0, \n",
        "                          patience = 30,\n",
        "                          verbose = 1,\n",
        "                          restore_best_weights = True)\n",
        "\n",
        "reduce_lr = ReduceLROnPlateau(monitor='val_accuracy',\n",
        "                              factor=0.3,\n",
        "                              patience=3,\n",
        "                              min_lr=0.000001)\n",
        "\n",
        "checkpoint = ModelCheckpoint(\"./resnet50-model.{epoch:02d}-{val_loss:.2f}-{val_accuracy:.2f}.h5\",\n",
        "                             monitor=\"val_loss\",\n",
        "                             mode=\"auto\",\n",
        "                             save_best_only = True,\n",
        "                             verbose=1,)\n",
        "\n",
        "callbacks = [PlotLossesKeras(),reduce_lr,earlystop]\n",
        "\n",
        "history = model_finetuned_res50.fit_generator(train_generator,\n",
        "                                        steps_per_epoch=300,\n",
        "                                        epochs=50,\n",
        "                                        validation_data=val_generator,\n",
        "                                        validation_steps=300,\n",
        "                                        callbacks = callbacks,\n",
        "                                        use_multiprocessing=False,\n",
        "                                        shuffle=True)"
      ],
      "execution_count": null,
      "outputs": [
        {
          "output_type": "display_data",
          "data": {
            "image/png": "[encoded data removed]",
            "text/plain": [
              "<Figure size 864x864 with 3 Axes>"
            ]
          },
          "metadata": {
            "tags": [],
            "needs_background": "light"
          }
        },
        {
          "output_type": "stream",
          "text": [
            "accuracy\n",
            "\tvalidation       \t (min:    0.157, max:    0.792, cur:    0.788)\n",
            "\ttraining         \t (min:    0.199, max:    0.957, cur:    0.957)\n",
            "Loss\n",
            "\tvalidation       \t (min:    0.000, max:    1.800, cur:    0.000)\n",
            "\ttraining         \t (min:    0.143, max:    3.505, cur:    0.143)\n",
            "lr\n",
            "\tlr               \t (min:    0.000, max:    0.000, cur:    0.000)\n",
            "Epoch 12/50\n",
            "174/300 [================>.............] - ETA: 49s - loss: 0.1534 - accuracy: 0.9488"
          ],
          "name": "stdout"
        },
        {
          "output_type": "error",
          "ename": "KeyboardInterrupt",
          "evalue": "ignored",
          "traceback": [
            "\u001b[0;31m---------------------------------------------------------------------------\u001b[0m",
            "\u001b[0;31mKeyboardInterrupt\u001b[0m                         Traceback (most recent call last)",
            "\u001b[0;32m<ipython-input-24-dbddbe506dc0>\u001b[0m in \u001b[0;36m<module>\u001b[0;34m()\u001b[0m\n\u001b[1;32m     28\u001b[0m                                         \u001b[0mcallbacks\u001b[0m \u001b[0;34m=\u001b[0m \u001b[0mcallbacks\u001b[0m\u001b[0;34m,\u001b[0m\u001b[0;34m\u001b[0m\u001b[0;34m\u001b[0m\u001b[0m\n\u001b[1;32m     29\u001b[0m                                         \u001b[0muse_multiprocessing\u001b[0m\u001b[0;34m=\u001b[0m\u001b[0;32mFalse\u001b[0m\u001b[0;34m,\u001b[0m\u001b[0;34m\u001b[0m\u001b[0;34m\u001b[0m\u001b[0m\n\u001b[0;32m---> 30\u001b[0;31m                                         shuffle=True)\n\u001b[0m",
            "\u001b[0;32m/usr/local/lib/python3.6/dist-packages/keras/legacy/interfaces.py\u001b[0m in \u001b[0;36mwrapper\u001b[0;34m(*args, **kwargs)\u001b[0m\n\u001b[1;32m     89\u001b[0m                 warnings.warn('Update your `' + object_name + '` call to the ' +\n\u001b[1;32m     90\u001b[0m                               'Keras 2 API: ' + signature, stacklevel=2)\n\u001b[0;32m---> 91\u001b[0;31m             \u001b[0;32mreturn\u001b[0m \u001b[0mfunc\u001b[0m\u001b[0;34m(\u001b[0m\u001b[0;34m*\u001b[0m\u001b[0margs\u001b[0m\u001b[0;34m,\u001b[0m \u001b[0;34m**\u001b[0m\u001b[0mkwargs\u001b[0m\u001b[0;34m)\u001b[0m\u001b[0;34m\u001b[0m\u001b[0;34m\u001b[0m\u001b[0m\n\u001b[0m\u001b[1;32m     92\u001b[0m         \u001b[0mwrapper\u001b[0m\u001b[0;34m.\u001b[0m\u001b[0m_original_function\u001b[0m \u001b[0;34m=\u001b[0m \u001b[0mfunc\u001b[0m\u001b[0;34m\u001b[0m\u001b[0;34m\u001b[0m\u001b[0m\n\u001b[1;32m     93\u001b[0m         \u001b[0;32mreturn\u001b[0m \u001b[0mwrapper\u001b[0m\u001b[0;34m\u001b[0m\u001b[0;34m\u001b[0m\u001b[0m\n",
            "\u001b[0;32m/usr/local/lib/python3.6/dist-packages/keras/engine/training.py\u001b[0m in \u001b[0;36mfit_generator\u001b[0;34m(self, generator, steps_per_epoch, epochs, verbose, callbacks, validation_data, validation_steps, validation_freq, class_weight, max_queue_size, workers, use_multiprocessing, shuffle, initial_epoch)\u001b[0m\n\u001b[1;32m   1730\u001b[0m             \u001b[0muse_multiprocessing\u001b[0m\u001b[0;34m=\u001b[0m\u001b[0muse_multiprocessing\u001b[0m\u001b[0;34m,\u001b[0m\u001b[0;34m\u001b[0m\u001b[0;34m\u001b[0m\u001b[0m\n\u001b[1;32m   1731\u001b[0m             \u001b[0mshuffle\u001b[0m\u001b[0;34m=\u001b[0m\u001b[0mshuffle\u001b[0m\u001b[0;34m,\u001b[0m\u001b[0;34m\u001b[0m\u001b[0;34m\u001b[0m\u001b[0m\n\u001b[0;32m-> 1732\u001b[0;31m             initial_epoch=initial_epoch)\n\u001b[0m\u001b[1;32m   1733\u001b[0m \u001b[0;34m\u001b[0m\u001b[0m\n\u001b[1;32m   1734\u001b[0m     \u001b[0;34m@\u001b[0m\u001b[0minterfaces\u001b[0m\u001b[0;34m.\u001b[0m\u001b[0mlegacy_generator_methods_support\u001b[0m\u001b[0;34m\u001b[0m\u001b[0;34m\u001b[0m\u001b[0m\n",
            "\u001b[0;32m/usr/local/lib/python3.6/dist-packages/keras/engine/training_generator.py\u001b[0m in \u001b[0;36mfit_generator\u001b[0;34m(model, generator, steps_per_epoch, epochs, verbose, callbacks, validation_data, validation_steps, validation_freq, class_weight, max_queue_size, workers, use_multiprocessing, shuffle, initial_epoch)\u001b[0m\n\u001b[1;32m    183\u001b[0m             \u001b[0mbatch_index\u001b[0m \u001b[0;34m=\u001b[0m \u001b[0;36m0\u001b[0m\u001b[0;34m\u001b[0m\u001b[0;34m\u001b[0m\u001b[0m\n\u001b[1;32m    184\u001b[0m             \u001b[0;32mwhile\u001b[0m \u001b[0msteps_done\u001b[0m \u001b[0;34m<\u001b[0m \u001b[0msteps_per_epoch\u001b[0m\u001b[0;34m:\u001b[0m\u001b[0;34m\u001b[0m\u001b[0;34m\u001b[0m\u001b[0m\n\u001b[0;32m--> 185\u001b[0;31m                 \u001b[0mgenerator_output\u001b[0m \u001b[0;34m=\u001b[0m \u001b[0mnext\u001b[0m\u001b[0;34m(\u001b[0m\u001b[0moutput_generator\u001b[0m\u001b[0;34m)\u001b[0m\u001b[0;34m\u001b[0m\u001b[0;34m\u001b[0m\u001b[0m\n\u001b[0m\u001b[1;32m    186\u001b[0m \u001b[0;34m\u001b[0m\u001b[0m\n\u001b[1;32m    187\u001b[0m                 \u001b[0;32mif\u001b[0m \u001b[0;32mnot\u001b[0m \u001b[0mhasattr\u001b[0m\u001b[0;34m(\u001b[0m\u001b[0mgenerator_output\u001b[0m\u001b[0;34m,\u001b[0m \u001b[0;34m'__len__'\u001b[0m\u001b[0;34m)\u001b[0m\u001b[0;34m:\u001b[0m\u001b[0;34m\u001b[0m\u001b[0;34m\u001b[0m\u001b[0m\n",
            "\u001b[0;32m/usr/local/lib/python3.6/dist-packages/keras/utils/data_utils.py\u001b[0m in \u001b[0;36mget\u001b[0;34m(self)\u001b[0m\n\u001b[1;32m    608\u001b[0m                 \u001b[0;32mtry\u001b[0m\u001b[0;34m:\u001b[0m\u001b[0;34m\u001b[0m\u001b[0;34m\u001b[0m\u001b[0m\n\u001b[1;32m    609\u001b[0m                     \u001b[0mfuture\u001b[0m \u001b[0;34m=\u001b[0m \u001b[0mself\u001b[0m\u001b[0;34m.\u001b[0m\u001b[0mqueue\u001b[0m\u001b[0;34m.\u001b[0m\u001b[0mget\u001b[0m\u001b[0;34m(\u001b[0m\u001b[0mblock\u001b[0m\u001b[0;34m=\u001b[0m\u001b[0;32mTrue\u001b[0m\u001b[0;34m)\u001b[0m\u001b[0;34m\u001b[0m\u001b[0;34m\u001b[0m\u001b[0m\n\u001b[0;32m--> 610\u001b[0;31m                     \u001b[0minputs\u001b[0m \u001b[0;34m=\u001b[0m \u001b[0mfuture\u001b[0m\u001b[0;34m.\u001b[0m\u001b[0mget\u001b[0m\u001b[0;34m(\u001b[0m\u001b[0mtimeout\u001b[0m\u001b[0;34m=\u001b[0m\u001b[0;36m30\u001b[0m\u001b[0;34m)\u001b[0m\u001b[0;34m\u001b[0m\u001b[0;34m\u001b[0m\u001b[0m\n\u001b[0m\u001b[1;32m    611\u001b[0m                 \u001b[0;32mexcept\u001b[0m \u001b[0mmp\u001b[0m\u001b[0;34m.\u001b[0m\u001b[0mTimeoutError\u001b[0m\u001b[0;34m:\u001b[0m\u001b[0;34m\u001b[0m\u001b[0;34m\u001b[0m\u001b[0m\n\u001b[1;32m    612\u001b[0m                     \u001b[0midx\u001b[0m \u001b[0;34m=\u001b[0m \u001b[0mfuture\u001b[0m\u001b[0;34m.\u001b[0m\u001b[0midx\u001b[0m\u001b[0;34m\u001b[0m\u001b[0;34m\u001b[0m\u001b[0m\n",
            "\u001b[0;32m/usr/lib/python3.6/multiprocessing/pool.py\u001b[0m in \u001b[0;36mget\u001b[0;34m(self, timeout)\u001b[0m\n\u001b[1;32m    636\u001b[0m \u001b[0;34m\u001b[0m\u001b[0m\n\u001b[1;32m    637\u001b[0m     \u001b[0;32mdef\u001b[0m \u001b[0mget\u001b[0m\u001b[0;34m(\u001b[0m\u001b[0mself\u001b[0m\u001b[0;34m,\u001b[0m \u001b[0mtimeout\u001b[0m\u001b[0;34m=\u001b[0m\u001b[0;32mNone\u001b[0m\u001b[0;34m)\u001b[0m\u001b[0;34m:\u001b[0m\u001b[0;34m\u001b[0m\u001b[0;34m\u001b[0m\u001b[0m\n\u001b[0;32m--> 638\u001b[0;31m         \u001b[0mself\u001b[0m\u001b[0;34m.\u001b[0m\u001b[0mwait\u001b[0m\u001b[0;34m(\u001b[0m\u001b[0mtimeout\u001b[0m\u001b[0;34m)\u001b[0m\u001b[0;34m\u001b[0m\u001b[0;34m\u001b[0m\u001b[0m\n\u001b[0m\u001b[1;32m    639\u001b[0m         \u001b[0;32mif\u001b[0m \u001b[0;32mnot\u001b[0m \u001b[0mself\u001b[0m\u001b[0;34m.\u001b[0m\u001b[0mready\u001b[0m\u001b[0;34m(\u001b[0m\u001b[0;34m)\u001b[0m\u001b[0;34m:\u001b[0m\u001b[0;34m\u001b[0m\u001b[0;34m\u001b[0m\u001b[0m\n\u001b[1;32m    640\u001b[0m             \u001b[0;32mraise\u001b[0m \u001b[0mTimeoutError\u001b[0m\u001b[0;34m\u001b[0m\u001b[0;34m\u001b[0m\u001b[0m\n",
            "\u001b[0;32m/usr/lib/python3.6/multiprocessing/pool.py\u001b[0m in \u001b[0;36mwait\u001b[0;34m(self, timeout)\u001b[0m\n\u001b[1;32m    633\u001b[0m \u001b[0;34m\u001b[0m\u001b[0m\n\u001b[1;32m    634\u001b[0m     \u001b[0;32mdef\u001b[0m \u001b[0mwait\u001b[0m\u001b[0;34m(\u001b[0m\u001b[0mself\u001b[0m\u001b[0;34m,\u001b[0m \u001b[0mtimeout\u001b[0m\u001b[0;34m=\u001b[0m\u001b[0;32mNone\u001b[0m\u001b[0;34m)\u001b[0m\u001b[0;34m:\u001b[0m\u001b[0;34m\u001b[0m\u001b[0;34m\u001b[0m\u001b[0m\n\u001b[0;32m--> 635\u001b[0;31m         \u001b[0mself\u001b[0m\u001b[0;34m.\u001b[0m\u001b[0m_event\u001b[0m\u001b[0;34m.\u001b[0m\u001b[0mwait\u001b[0m\u001b[0;34m(\u001b[0m\u001b[0mtimeout\u001b[0m\u001b[0;34m)\u001b[0m\u001b[0;34m\u001b[0m\u001b[0;34m\u001b[0m\u001b[0m\n\u001b[0m\u001b[1;32m    636\u001b[0m \u001b[0;34m\u001b[0m\u001b[0m\n\u001b[1;32m    637\u001b[0m     \u001b[0;32mdef\u001b[0m \u001b[0mget\u001b[0m\u001b[0;34m(\u001b[0m\u001b[0mself\u001b[0m\u001b[0;34m,\u001b[0m \u001b[0mtimeout\u001b[0m\u001b[0;34m=\u001b[0m\u001b[0;32mNone\u001b[0m\u001b[0;34m)\u001b[0m\u001b[0;34m:\u001b[0m\u001b[0;34m\u001b[0m\u001b[0;34m\u001b[0m\u001b[0m\n",
            "\u001b[0;32m/usr/lib/python3.6/threading.py\u001b[0m in \u001b[0;36mwait\u001b[0;34m(self, timeout)\u001b[0m\n\u001b[1;32m    549\u001b[0m             \u001b[0msignaled\u001b[0m \u001b[0;34m=\u001b[0m \u001b[0mself\u001b[0m\u001b[0;34m.\u001b[0m\u001b[0m_flag\u001b[0m\u001b[0;34m\u001b[0m\u001b[0;34m\u001b[0m\u001b[0m\n\u001b[1;32m    550\u001b[0m             \u001b[0;32mif\u001b[0m \u001b[0;32mnot\u001b[0m \u001b[0msignaled\u001b[0m\u001b[0;34m:\u001b[0m\u001b[0;34m\u001b[0m\u001b[0;34m\u001b[0m\u001b[0m\n\u001b[0;32m--> 551\u001b[0;31m                 \u001b[0msignaled\u001b[0m \u001b[0;34m=\u001b[0m \u001b[0mself\u001b[0m\u001b[0;34m.\u001b[0m\u001b[0m_cond\u001b[0m\u001b[0;34m.\u001b[0m\u001b[0mwait\u001b[0m\u001b[0;34m(\u001b[0m\u001b[0mtimeout\u001b[0m\u001b[0;34m)\u001b[0m\u001b[0;34m\u001b[0m\u001b[0;34m\u001b[0m\u001b[0m\n\u001b[0m\u001b[1;32m    552\u001b[0m             \u001b[0;32mreturn\u001b[0m \u001b[0msignaled\u001b[0m\u001b[0;34m\u001b[0m\u001b[0;34m\u001b[0m\u001b[0m\n\u001b[1;32m    553\u001b[0m \u001b[0;34m\u001b[0m\u001b[0m\n",
            "\u001b[0;32m/usr/lib/python3.6/threading.py\u001b[0m in \u001b[0;36mwait\u001b[0;34m(self, timeout)\u001b[0m\n\u001b[1;32m    297\u001b[0m             \u001b[0;32melse\u001b[0m\u001b[0;34m:\u001b[0m\u001b[0;34m\u001b[0m\u001b[0;34m\u001b[0m\u001b[0m\n\u001b[1;32m    298\u001b[0m                 \u001b[0;32mif\u001b[0m \u001b[0mtimeout\u001b[0m \u001b[0;34m>\u001b[0m \u001b[0;36m0\u001b[0m\u001b[0;34m:\u001b[0m\u001b[0;34m\u001b[0m\u001b[0;34m\u001b[0m\u001b[0m\n\u001b[0;32m--> 299\u001b[0;31m                     \u001b[0mgotit\u001b[0m \u001b[0;34m=\u001b[0m \u001b[0mwaiter\u001b[0m\u001b[0;34m.\u001b[0m\u001b[0macquire\u001b[0m\u001b[0;34m(\u001b[0m\u001b[0;32mTrue\u001b[0m\u001b[0;34m,\u001b[0m \u001b[0mtimeout\u001b[0m\u001b[0;34m)\u001b[0m\u001b[0;34m\u001b[0m\u001b[0;34m\u001b[0m\u001b[0m\n\u001b[0m\u001b[1;32m    300\u001b[0m                 \u001b[0;32melse\u001b[0m\u001b[0;34m:\u001b[0m\u001b[0;34m\u001b[0m\u001b[0;34m\u001b[0m\u001b[0m\n\u001b[1;32m    301\u001b[0m                     \u001b[0mgotit\u001b[0m \u001b[0;34m=\u001b[0m \u001b[0mwaiter\u001b[0m\u001b[0;34m.\u001b[0m\u001b[0macquire\u001b[0m\u001b[0;34m(\u001b[0m\u001b[0;32mFalse\u001b[0m\u001b[0;34m)\u001b[0m\u001b[0;34m\u001b[0m\u001b[0;34m\u001b[0m\u001b[0m\n",
            "\u001b[0;31mKeyboardInterrupt\u001b[0m: "
          ]
        }
      ]
    },
    {
      "cell_type": "code",
      "metadata": {
        "id": "jqkLh-C4B5Rv",
        "colab_type": "code",
        "colab": {}
      },
      "source": [
        "from keras.models import load_model\n",
        "model = load_model('/content/resnet50-model.21-0.08-0.80.h5')"
      ],
      "execution_count": null,
      "outputs": []
    },
    {
      "cell_type": "code",
      "metadata": {
        "id": "YGjFzfXoEGfm",
        "colab_type": "code",
        "colab": {}
      },
      "source": [
        "model.summary()"
      ],
      "execution_count": null,
      "outputs": []
    },
    {
      "cell_type": "code",
      "metadata": {
        "id": "bmlVcRMvSx7w",
        "colab_type": "code",
        "colab": {
          "base_uri": "https://localhost:8080/",
          "height": 745
        },
        "outputId": "6c1f3445-bf1b-48cd-cace-1bb29986c029"
      },
      "source": [
        "model_finetuned_res50 = pretrained(model=\"ResNet50\", batch_size=8, epochs=2)"
      ],
      "execution_count": null,
      "outputs": [
        {
          "output_type": "display_data",
          "data": {
            "image/png": "[encoded data removed]",
            "text/plain": [
              "<Figure size 864x864 with 3 Axes>"
            ]
          },
          "metadata": {
            "tags": [],
            "needs_background": "light"
          }
        },
        {
          "output_type": "stream",
          "text": [
            "accuracy\n",
            "\tvalidation       \t (min:    0.096, max:    0.123, cur:    0.096)\n",
            "\ttraining         \t (min:    0.168, max:    0.275, cur:    0.275)\n",
            "Loss\n",
            "\tvalidation       \t (min:    2.833, max:    4.735, cur:    4.735)\n",
            "\ttraining         \t (min:    2.798, max:    3.806, cur:    2.798)\n",
            "lr\n",
            "\tlr               \t (min:    0.000, max:    0.000, cur:    0.000)\n"
          ],
          "name": "stdout"
        }
      ]
    },
    {
      "cell_type": "code",
      "metadata": {
        "id": "uN1FlkAeWthF",
        "colab_type": "code",
        "colab": {}
      },
      "source": [
        "# load weights into new model\n",
        "model_finetuned_res50.load_weights(\"/content/model.29-0.01-0.84.h5\")\n",
        "test_generator.reset()"
      ],
      "execution_count": null,
      "outputs": []
    },
    {
      "cell_type": "code",
      "metadata": {
        "id": "xQVUu9LKW1XL",
        "colab_type": "code",
        "colab": {
          "base_uri": "https://localhost:8080/",
          "height": 421
        },
        "outputId": "60cce8f2-ac40-4ef7-c364-b5e7615b19ef"
      },
      "source": [
        "#get prediction from test data\n",
        "pred = model_finetuned_res50.predict_generator(test_generator, verbose=1)\n",
        "classes = pred.argmax(axis=-1)\n",
        "#print(pred)\n",
        "import pandas as pd\n",
        "filenames=test_generator.filenames\n",
        "results=pd.DataFrame({\"Filename\":filenames,\n",
        "                      'bharatanatyam':pred[:,0],\n",
        "                      'kathak':pred[:,1] ,\n",
        "                      'kathakali':pred[:,2],\n",
        "                      'kuchipudi':pred[:,3],\n",
        "                      'manipuri':pred[:,4],\n",
        "                      'mohiniyattam':pred[:,5],\n",
        "                      'odissi':pred[:,6],\n",
        "                      'sattriya':pred[:,7],\n",
        "                      'class':classes})\n",
        "\n",
        "results[\"class\"].replace({0: \"bharatanatyam\",\n",
        "                               1: \"kathak\",\n",
        "                               2: \"kathakali\",\n",
        "                               3: \"kuchipudi\",\n",
        "                               4: \"manipuri\",\n",
        "                               5: \"mohiniyattam\",\n",
        "                               6: \"odissi\",\n",
        "                               7: \"sattriya\",\n",
        "                               }, inplace=True)\n",
        "results.head(-1)"
      ],
      "execution_count": null,
      "outputs": [
        {
          "output_type": "stream",
          "text": [
            "156/156 [==============================] - 9s 59ms/step\n"
          ],
          "name": "stdout"
        },
        {
          "output_type": "execute_result",
          "data": {
            "text/html": [
              "<div>\n",
              "<style scoped>\n",
              "    .dataframe tbody tr th:only-of-type {\n",
              "        vertical-align: middle;\n",
              "    }\n",
              "\n",
              "    .dataframe tbody tr th {\n",
              "        vertical-align: top;\n",
              "    }\n",
              "\n",
              "    .dataframe thead th {\n",
              "        text-align: right;\n",
              "    }\n",
              "</style>\n",
              "<table border=\"1\" class=\"dataframe\">\n",
              "  <thead>\n",
              "    <tr style=\"text-align: right;\">\n",
              "      <th></th>\n",
              "      <th>Filename</th>\n",
              "      <th>bharatanatyam</th>\n",
              "      <th>kathak</th>\n",
              "      <th>kathakali</th>\n",
              "      <th>kuchipudi</th>\n",
              "      <th>manipuri</th>\n",
              "      <th>mohiniyattam</th>\n",
              "      <th>odissi</th>\n",
              "      <th>sattriya</th>\n",
              "      <th>class</th>\n",
              "    </tr>\n",
              "  </thead>\n",
              "  <tbody>\n",
              "    <tr>\n",
              "      <th>0</th>\n",
              "      <td>508.jpg</td>\n",
              "      <td>0.004343</td>\n",
              "      <td>0.000516</td>\n",
              "      <td>2.474301e-04</td>\n",
              "      <td>0.020192</td>\n",
              "      <td>3.228251e-04</td>\n",
              "      <td>1.037882e-03</td>\n",
              "      <td>0.972803</td>\n",
              "      <td>5.381702e-04</td>\n",
              "      <td>odissi</td>\n",
              "    </tr>\n",
              "    <tr>\n",
              "      <th>1</th>\n",
              "      <td>246.jpg</td>\n",
              "      <td>0.004862</td>\n",
              "      <td>0.000661</td>\n",
              "      <td>2.327150e-03</td>\n",
              "      <td>0.026849</td>\n",
              "      <td>5.740466e-04</td>\n",
              "      <td>9.277467e-01</td>\n",
              "      <td>0.002879</td>\n",
              "      <td>3.410067e-02</td>\n",
              "      <td>mohiniyattam</td>\n",
              "    </tr>\n",
              "    <tr>\n",
              "      <th>2</th>\n",
              "      <td>473.jpg</td>\n",
              "      <td>0.001352</td>\n",
              "      <td>0.001775</td>\n",
              "      <td>9.732472e-04</td>\n",
              "      <td>0.075261</td>\n",
              "      <td>6.931609e-04</td>\n",
              "      <td>1.145923e-02</td>\n",
              "      <td>0.906720</td>\n",
              "      <td>1.766400e-03</td>\n",
              "      <td>odissi</td>\n",
              "    </tr>\n",
              "    <tr>\n",
              "      <th>3</th>\n",
              "      <td>485.jpg</td>\n",
              "      <td>0.012502</td>\n",
              "      <td>0.004040</td>\n",
              "      <td>4.558841e-02</td>\n",
              "      <td>0.918430</td>\n",
              "      <td>6.823978e-03</td>\n",
              "      <td>8.245510e-04</td>\n",
              "      <td>0.006434</td>\n",
              "      <td>5.356327e-03</td>\n",
              "      <td>kuchipudi</td>\n",
              "    </tr>\n",
              "    <tr>\n",
              "      <th>4</th>\n",
              "      <td>128.jpg</td>\n",
              "      <td>0.999708</td>\n",
              "      <td>0.000014</td>\n",
              "      <td>6.062987e-07</td>\n",
              "      <td>0.000235</td>\n",
              "      <td>1.647025e-06</td>\n",
              "      <td>2.170613e-05</td>\n",
              "      <td>0.000009</td>\n",
              "      <td>1.026696e-05</td>\n",
              "      <td>bharatanatyam</td>\n",
              "    </tr>\n",
              "    <tr>\n",
              "      <th>...</th>\n",
              "      <td>...</td>\n",
              "      <td>...</td>\n",
              "      <td>...</td>\n",
              "      <td>...</td>\n",
              "      <td>...</td>\n",
              "      <td>...</td>\n",
              "      <td>...</td>\n",
              "      <td>...</td>\n",
              "      <td>...</td>\n",
              "      <td>...</td>\n",
              "    </tr>\n",
              "    <tr>\n",
              "      <th>150</th>\n",
              "      <td>275.jpg</td>\n",
              "      <td>0.030624</td>\n",
              "      <td>0.019700</td>\n",
              "      <td>1.076655e-02</td>\n",
              "      <td>0.042292</td>\n",
              "      <td>7.084394e-03</td>\n",
              "      <td>8.553454e-01</td>\n",
              "      <td>0.002249</td>\n",
              "      <td>3.193897e-02</td>\n",
              "      <td>mohiniyattam</td>\n",
              "    </tr>\n",
              "    <tr>\n",
              "      <th>151</th>\n",
              "      <td>366.jpg</td>\n",
              "      <td>0.001272</td>\n",
              "      <td>0.018253</td>\n",
              "      <td>8.359981e-03</td>\n",
              "      <td>0.003598</td>\n",
              "      <td>1.192339e-02</td>\n",
              "      <td>2.861007e-04</td>\n",
              "      <td>0.004693</td>\n",
              "      <td>9.516137e-01</td>\n",
              "      <td>sattriya</td>\n",
              "    </tr>\n",
              "    <tr>\n",
              "      <th>152</th>\n",
              "      <td>226.jpg</td>\n",
              "      <td>0.000059</td>\n",
              "      <td>0.000001</td>\n",
              "      <td>3.918062e-01</td>\n",
              "      <td>0.000473</td>\n",
              "      <td>6.058973e-01</td>\n",
              "      <td>1.253888e-03</td>\n",
              "      <td>0.000180</td>\n",
              "      <td>3.294220e-04</td>\n",
              "      <td>manipuri</td>\n",
              "    </tr>\n",
              "    <tr>\n",
              "      <th>153</th>\n",
              "      <td>35.jpg</td>\n",
              "      <td>0.396988</td>\n",
              "      <td>0.515785</td>\n",
              "      <td>1.103386e-03</td>\n",
              "      <td>0.063529</td>\n",
              "      <td>2.310385e-03</td>\n",
              "      <td>1.219710e-03</td>\n",
              "      <td>0.016154</td>\n",
              "      <td>2.909608e-03</td>\n",
              "      <td>kathak</td>\n",
              "    </tr>\n",
              "    <tr>\n",
              "      <th>154</th>\n",
              "      <td>458.jpg</td>\n",
              "      <td>0.000033</td>\n",
              "      <td>0.000001</td>\n",
              "      <td>7.422290e-03</td>\n",
              "      <td>0.000542</td>\n",
              "      <td>5.665623e-07</td>\n",
              "      <td>3.975702e-07</td>\n",
              "      <td>0.992001</td>\n",
              "      <td>2.777596e-08</td>\n",
              "      <td>odissi</td>\n",
              "    </tr>\n",
              "  </tbody>\n",
              "</table>\n",
              "<p>155 rows × 10 columns</p>\n",
              "</div>"
            ],
            "text/plain": [
              "    Filename  bharatanatyam    kathak  ...    odissi      sattriya          class\n",
              "0    508.jpg       0.004343  0.000516  ...  0.972803  5.381702e-04         odissi\n",
              "1    246.jpg       0.004862  0.000661  ...  0.002879  3.410067e-02   mohiniyattam\n",
              "2    473.jpg       0.001352  0.001775  ...  0.906720  1.766400e-03         odissi\n",
              "3    485.jpg       0.012502  0.004040  ...  0.006434  5.356327e-03      kuchipudi\n",
              "4    128.jpg       0.999708  0.000014  ...  0.000009  1.026696e-05  bharatanatyam\n",
              "..       ...            ...       ...  ...       ...           ...            ...\n",
              "150  275.jpg       0.030624  0.019700  ...  0.002249  3.193897e-02   mohiniyattam\n",
              "151  366.jpg       0.001272  0.018253  ...  0.004693  9.516137e-01       sattriya\n",
              "152  226.jpg       0.000059  0.000001  ...  0.000180  3.294220e-04       manipuri\n",
              "153   35.jpg       0.396988  0.515785  ...  0.016154  2.909608e-03         kathak\n",
              "154  458.jpg       0.000033  0.000001  ...  0.992001  2.777596e-08         odissi\n",
              "\n",
              "[155 rows x 10 columns]"
            ]
          },
          "metadata": {
            "tags": []
          },
          "execution_count": 18
        }
      ]
    },
    {
      "cell_type": "code",
      "metadata": {
        "id": "DqhDoaUmfvhU",
        "colab_type": "code",
        "colab": {
          "base_uri": "https://localhost:8080/",
          "height": 196
        },
        "outputId": "b366bf31-b5c1-4dfb-8dcb-01443d561272"
      },
      "source": [
        "dft['target'] = results['class']\n",
        "dft.to_csv(\"output.csv\",index=False)\n",
        "output = pd.read_csv(\"output.csv\")\n",
        "output.head()"
      ],
      "execution_count": null,
      "outputs": [
        {
          "output_type": "execute_result",
          "data": {
            "text/html": [
              "<div>\n",
              "<style scoped>\n",
              "    .dataframe tbody tr th:only-of-type {\n",
              "        vertical-align: middle;\n",
              "    }\n",
              "\n",
              "    .dataframe tbody tr th {\n",
              "        vertical-align: top;\n",
              "    }\n",
              "\n",
              "    .dataframe thead th {\n",
              "        text-align: right;\n",
              "    }\n",
              "</style>\n",
              "<table border=\"1\" class=\"dataframe\">\n",
              "  <thead>\n",
              "    <tr style=\"text-align: right;\">\n",
              "      <th></th>\n",
              "      <th>Image</th>\n",
              "      <th>target</th>\n",
              "    </tr>\n",
              "  </thead>\n",
              "  <tbody>\n",
              "    <tr>\n",
              "      <th>0</th>\n",
              "      <td>508.jpg</td>\n",
              "      <td>odissi</td>\n",
              "    </tr>\n",
              "    <tr>\n",
              "      <th>1</th>\n",
              "      <td>246.jpg</td>\n",
              "      <td>mohiniyattam</td>\n",
              "    </tr>\n",
              "    <tr>\n",
              "      <th>2</th>\n",
              "      <td>473.jpg</td>\n",
              "      <td>odissi</td>\n",
              "    </tr>\n",
              "    <tr>\n",
              "      <th>3</th>\n",
              "      <td>485.jpg</td>\n",
              "      <td>kuchipudi</td>\n",
              "    </tr>\n",
              "    <tr>\n",
              "      <th>4</th>\n",
              "      <td>128.jpg</td>\n",
              "      <td>bharatanatyam</td>\n",
              "    </tr>\n",
              "  </tbody>\n",
              "</table>\n",
              "</div>"
            ],
            "text/plain": [
              "     Image         target\n",
              "0  508.jpg         odissi\n",
              "1  246.jpg   mohiniyattam\n",
              "2  473.jpg         odissi\n",
              "3  485.jpg      kuchipudi\n",
              "4  128.jpg  bharatanatyam"
            ]
          },
          "metadata": {
            "tags": []
          },
          "execution_count": 19
        }
      ]
    },
    {
      "cell_type": "code",
      "metadata": {
        "id": "z1rf4rsGvxRP",
        "colab_type": "code",
        "colab": {}
      },
      "source": [
        ""
      ],
      "execution_count": null,
      "outputs": []
    },
    {
      "cell_type": "markdown",
      "metadata": {
        "id": "yvR6ygmpFVHz",
        "colab_type": "text"
      },
      "source": [
        "##Xception"
      ]
    },
    {
      "cell_type": "code",
      "metadata": {
        "id": "mW0guInWFWWu",
        "colab_type": "code",
        "colab": {
          "base_uri": "https://localhost:8080/",
          "height": 34
        },
        "outputId": "ef606cd2-9ed1-458c-c16d-e9a870f877f5"
      },
      "source": [
        "img_size = 299\n",
        "from keras.applications.xception import Xception\n",
        "model_finetuned_xcep = Xception(include_top=False, weights='imagenet', input_shape=(img_size,img_size,3))\n",
        "#resizing and shaping images for transfer learning with ResNet151\n",
        "img=[]\n",
        "filename=df.Image\n",
        "for file in filename:\n",
        "    image=cv2.imread(\"/content/dataset/train/\"+file)\n",
        "    res=cv2.resize(image,(img_size,img_size))\n",
        "    img.append(res)\n",
        "img=np.array(img)\n",
        "print(img.shape)"
      ],
      "execution_count": null,
      "outputs": [
        {
          "output_type": "stream",
          "text": [
            "(364, 299, 299, 3)\n"
          ],
          "name": "stdout"
        }
      ]
    },
    {
      "cell_type": "code",
      "metadata": {
        "id": "KD-wu5Y_GXqB",
        "colab_type": "code",
        "colab": {
          "base_uri": "https://localhost:8080/",
          "height": 67
        },
        "outputId": "2c57bd4b-7a9b-4e0d-8166-15b5a7bb9434"
      },
      "source": [
        "#splitting data for training and validation\n",
        "train, val = train_test_split(df, test_size = 0.20)\n",
        "\n",
        "#data augmentation\n",
        "from keras.preprocessing.image import ImageDataGenerator\n",
        "train_datagen = ImageDataGenerator( horizontal_flip=True,\n",
        "                                    vertical_flip=True,\n",
        "                                    rotation_range=20,\n",
        "                                    width_shift_range=0.2,\n",
        "                                    height_shift_range=0.2,\n",
        "                                    zoom_range=.2,\n",
        "                                    fill_mode='nearest',\n",
        "                                    shear_range=0.3,\n",
        "                                    rescale=1/255)\n",
        "\n",
        "train_generator=train_datagen.flow_from_dataframe(train,\n",
        "                                                  directory='/content/dataset/train/',\n",
        "                                                  target_size=(img_size,img_size),\n",
        "                                                  x_col=\"Image\",\n",
        "                                                  y_col=['bharatanatyam',\t'kathak',\t'kathakali',\t'kuchipudi',\t'manipuri'\t,'mohiniyattam',\t'odissi',\t'sattriya'],\n",
        "                                                  class_mode='raw',\n",
        "                                                  shuffle=False,\n",
        "                                                  subset='training',\n",
        "                                                  batch_size=5)\n",
        "\n",
        "val_datagen = ImageDataGenerator(rescale=1/255)\n",
        "val_generator=val_datagen.flow_from_dataframe(val,\n",
        "                                              directory='/content/dataset/train/',\n",
        "                                              target_size=(img_size,img_size),\n",
        "                                              x_col=\"Image\",\n",
        "                                              y_col=['bharatanatyam',\t'kathak',\t'kathakali',\t'kuchipudi',\t'manipuri'\t,'mohiniyattam',\t'odissi',\t'sattriya'],\n",
        "                                              class_mode='raw',\n",
        "                                              shuffle=False,\n",
        "                                              batch_size=5)\n",
        "\n",
        "\n",
        "test_datagen = ImageDataGenerator(rescale=1/255)\n",
        "test_generator=val_datagen.flow_from_dataframe(dft,\n",
        "                                              directory='/content/dataset/test/',\n",
        "                                              target_size=(img_size,img_size),\n",
        "                                              x_col=\"Image\",\n",
        "                                              y_col=None,\n",
        "                                              class_mode=None,\n",
        "                                              shuffle=False,\n",
        "                                              batch_size=1)"
      ],
      "execution_count": null,
      "outputs": [
        {
          "output_type": "stream",
          "text": [
            "Found 291 validated image filenames.\n",
            "Found 73 validated image filenames.\n",
            "Found 156 validated image filenames.\n"
          ],
          "name": "stdout"
        }
      ]
    },
    {
      "cell_type": "code",
      "metadata": {
        "id": "xVgkgP4LGhOl",
        "colab_type": "code",
        "colab": {
          "base_uri": "https://localhost:8080/",
          "height": 1000
        },
        "outputId": "bcdd7f41-957a-48fe-c71c-863a27c683db"
      },
      "source": [
        "from keras.applications.xception import Xception\n",
        "model_finetuned_xcep = Xception(include_top=False, weights='imagenet', input_shape=(img_size,img_size,3))\n",
        "x = model_finetuned_xcep.output\n",
        "x = GlobalAveragePooling2D()(x)\n",
        "x = Dense(1024)(x)\n",
        "x = Dropout(0.5)(x)\n",
        "#x = Dense(512)(x)\n",
        "#x = Dropout(0.5)(x)\n",
        "predictions = Dense(8, activation=\"sigmoid\")(x)\n",
        "adam = keras.optimizers.Adam(learning_rate=0.0000005, beta_1=0.9, beta_2=0.999, amsgrad=False)\n",
        "model_finetuned_xcep = Model(inputs=model_finetuned_xcep.input, outputs=predictions)\n",
        "model_finetuned_xcep.compile(optimizer=adam,\n",
        "                  loss = 'categorical_crossentropy',\n",
        "                  metrics=['accuracy'])\n",
        "#model_finetuned_xcep.summary()\n",
        "\n",
        "from livelossplot import PlotLossesKeras\n",
        "from keras.callbacks import ReduceLROnPlateau,ModelCheckpoint,EarlyStopping\n",
        "\n",
        "earlystop = EarlyStopping(monitor = 'val_loss', \n",
        "                          min_delta = 0, \n",
        "                          patience = 30,\n",
        "                          verbose = 1,\n",
        "                          restore_best_weights = True)\n",
        "\n",
        "reduce_lr = ReduceLROnPlateau(monitor='val_loss',\n",
        "                              factor=0.3,\n",
        "                              patience=3,\n",
        "                              min_lr=0.000001)\n",
        "\n",
        "checkpoint = ModelCheckpoint(\"./xcep-model.{epoch:02d}-{val_loss:.2f}-{val_accuracy:.2f}.h5\",\n",
        "                             monitor=\"val_loss\",\n",
        "                             mode=\"auto\",\n",
        "                             save_best_only = True,\n",
        "                             verbose=1)\n",
        "\n",
        "callbacks = [PlotLossesKeras(),reduce_lr,earlystop]\n",
        "\n",
        "history = model_finetuned_xcep.fit_generator(train_generator,\n",
        "                                        steps_per_epoch=400,\n",
        "                                        epochs=50,\n",
        "                                        validation_data=val_generator,\n",
        "                                        validation_steps=400,\n",
        "                                        callbacks = callbacks,\n",
        "                                        use_multiprocessing=False,\n",
        "                                        shuffle=True)"
      ],
      "execution_count": null,
      "outputs": [
        {
          "output_type": "display_data",
          "data": {
            "image/png": "[encoded data removed]",
            "text/plain": [
              "<Figure size 864x864 with 3 Axes>"
            ]
          },
          "metadata": {
            "tags": [],
            "needs_background": "light"
          }
        },
        {
          "output_type": "stream",
          "text": [
            "accuracy\n",
            "\tvalidation       \t (min:    0.096, max:    0.288, cur:    0.288)\n",
            "\ttraining         \t (min:    0.139, max:    0.224, cur:    0.224)\n",
            "Loss\n",
            "\tvalidation       \t (min:    2.035, max:    2.148, cur:    2.074)\n",
            "\ttraining         \t (min:    2.012, max:    2.091, cur:    2.012)\n",
            "lr\n",
            "\tlr               \t (min:    0.000, max:    0.000, cur:    0.000)\n",
            "Epoch 7/50\n",
            "399/400 [============================>.] - ETA: 0s - loss: 1.9891 - accuracy: 0.2420"
          ],
          "name": "stdout"
        },
        {
          "output_type": "error",
          "ename": "KeyboardInterrupt",
          "evalue": "ignored",
          "traceback": [
            "\u001b[0;31m---------------------------------------------------------------------------\u001b[0m",
            "\u001b[0;31mKeyboardInterrupt\u001b[0m                         Traceback (most recent call last)",
            "\u001b[0;32m<ipython-input-12-be4ff7b99dd6>\u001b[0m in \u001b[0;36m<module>\u001b[0;34m()\u001b[0m\n\u001b[1;32m     44\u001b[0m                                         \u001b[0mcallbacks\u001b[0m \u001b[0;34m=\u001b[0m \u001b[0mcallbacks\u001b[0m\u001b[0;34m,\u001b[0m\u001b[0;34m\u001b[0m\u001b[0;34m\u001b[0m\u001b[0m\n\u001b[1;32m     45\u001b[0m                                         \u001b[0muse_multiprocessing\u001b[0m\u001b[0;34m=\u001b[0m\u001b[0;32mFalse\u001b[0m\u001b[0;34m,\u001b[0m\u001b[0;34m\u001b[0m\u001b[0;34m\u001b[0m\u001b[0m\n\u001b[0;32m---> 46\u001b[0;31m                                         shuffle=True)\n\u001b[0m",
            "\u001b[0;32m/usr/local/lib/python3.6/dist-packages/keras/legacy/interfaces.py\u001b[0m in \u001b[0;36mwrapper\u001b[0;34m(*args, **kwargs)\u001b[0m\n\u001b[1;32m     89\u001b[0m                 warnings.warn('Update your `' + object_name + '` call to the ' +\n\u001b[1;32m     90\u001b[0m                               'Keras 2 API: ' + signature, stacklevel=2)\n\u001b[0;32m---> 91\u001b[0;31m             \u001b[0;32mreturn\u001b[0m \u001b[0mfunc\u001b[0m\u001b[0;34m(\u001b[0m\u001b[0;34m*\u001b[0m\u001b[0margs\u001b[0m\u001b[0;34m,\u001b[0m \u001b[0;34m**\u001b[0m\u001b[0mkwargs\u001b[0m\u001b[0;34m)\u001b[0m\u001b[0;34m\u001b[0m\u001b[0;34m\u001b[0m\u001b[0m\n\u001b[0m\u001b[1;32m     92\u001b[0m         \u001b[0mwrapper\u001b[0m\u001b[0;34m.\u001b[0m\u001b[0m_original_function\u001b[0m \u001b[0;34m=\u001b[0m \u001b[0mfunc\u001b[0m\u001b[0;34m\u001b[0m\u001b[0;34m\u001b[0m\u001b[0m\n\u001b[1;32m     93\u001b[0m         \u001b[0;32mreturn\u001b[0m \u001b[0mwrapper\u001b[0m\u001b[0;34m\u001b[0m\u001b[0;34m\u001b[0m\u001b[0m\n",
            "\u001b[0;32m/usr/local/lib/python3.6/dist-packages/keras/engine/training.py\u001b[0m in \u001b[0;36mfit_generator\u001b[0;34m(self, generator, steps_per_epoch, epochs, verbose, callbacks, validation_data, validation_steps, validation_freq, class_weight, max_queue_size, workers, use_multiprocessing, shuffle, initial_epoch)\u001b[0m\n\u001b[1;32m   1730\u001b[0m             \u001b[0muse_multiprocessing\u001b[0m\u001b[0;34m=\u001b[0m\u001b[0muse_multiprocessing\u001b[0m\u001b[0;34m,\u001b[0m\u001b[0;34m\u001b[0m\u001b[0;34m\u001b[0m\u001b[0m\n\u001b[1;32m   1731\u001b[0m             \u001b[0mshuffle\u001b[0m\u001b[0;34m=\u001b[0m\u001b[0mshuffle\u001b[0m\u001b[0;34m,\u001b[0m\u001b[0;34m\u001b[0m\u001b[0;34m\u001b[0m\u001b[0m\n\u001b[0;32m-> 1732\u001b[0;31m             initial_epoch=initial_epoch)\n\u001b[0m\u001b[1;32m   1733\u001b[0m \u001b[0;34m\u001b[0m\u001b[0m\n\u001b[1;32m   1734\u001b[0m     \u001b[0;34m@\u001b[0m\u001b[0minterfaces\u001b[0m\u001b[0;34m.\u001b[0m\u001b[0mlegacy_generator_methods_support\u001b[0m\u001b[0;34m\u001b[0m\u001b[0;34m\u001b[0m\u001b[0m\n",
            "\u001b[0;32m/usr/local/lib/python3.6/dist-packages/keras/engine/training_generator.py\u001b[0m in \u001b[0;36mfit_generator\u001b[0;34m(model, generator, steps_per_epoch, epochs, verbose, callbacks, validation_data, validation_steps, validation_freq, class_weight, max_queue_size, workers, use_multiprocessing, shuffle, initial_epoch)\u001b[0m\n\u001b[1;32m    240\u001b[0m                             \u001b[0mvalidation_steps\u001b[0m\u001b[0;34m,\u001b[0m\u001b[0;34m\u001b[0m\u001b[0;34m\u001b[0m\u001b[0m\n\u001b[1;32m    241\u001b[0m                             \u001b[0mcallbacks\u001b[0m\u001b[0;34m=\u001b[0m\u001b[0mcallbacks\u001b[0m\u001b[0;34m,\u001b[0m\u001b[0;34m\u001b[0m\u001b[0;34m\u001b[0m\u001b[0m\n\u001b[0;32m--> 242\u001b[0;31m                             workers=0)\n\u001b[0m\u001b[1;32m    243\u001b[0m                     \u001b[0;32melse\u001b[0m\u001b[0;34m:\u001b[0m\u001b[0;34m\u001b[0m\u001b[0;34m\u001b[0m\u001b[0m\n\u001b[1;32m    244\u001b[0m                         \u001b[0;31m# No need for try/except because\u001b[0m\u001b[0;34m\u001b[0m\u001b[0;34m\u001b[0m\u001b[0;34m\u001b[0m\u001b[0m\n",
            "\u001b[0;32m/usr/local/lib/python3.6/dist-packages/keras/legacy/interfaces.py\u001b[0m in \u001b[0;36mwrapper\u001b[0;34m(*args, **kwargs)\u001b[0m\n\u001b[1;32m     89\u001b[0m                 warnings.warn('Update your `' + object_name + '` call to the ' +\n\u001b[1;32m     90\u001b[0m                               'Keras 2 API: ' + signature, stacklevel=2)\n\u001b[0;32m---> 91\u001b[0;31m             \u001b[0;32mreturn\u001b[0m \u001b[0mfunc\u001b[0m\u001b[0;34m(\u001b[0m\u001b[0;34m*\u001b[0m\u001b[0margs\u001b[0m\u001b[0;34m,\u001b[0m \u001b[0;34m**\u001b[0m\u001b[0mkwargs\u001b[0m\u001b[0;34m)\u001b[0m\u001b[0;34m\u001b[0m\u001b[0;34m\u001b[0m\u001b[0m\n\u001b[0m\u001b[1;32m     92\u001b[0m         \u001b[0mwrapper\u001b[0m\u001b[0;34m.\u001b[0m\u001b[0m_original_function\u001b[0m \u001b[0;34m=\u001b[0m \u001b[0mfunc\u001b[0m\u001b[0;34m\u001b[0m\u001b[0;34m\u001b[0m\u001b[0m\n\u001b[1;32m     93\u001b[0m         \u001b[0;32mreturn\u001b[0m \u001b[0mwrapper\u001b[0m\u001b[0;34m\u001b[0m\u001b[0;34m\u001b[0m\u001b[0m\n",
            "\u001b[0;32m/usr/local/lib/python3.6/dist-packages/keras/engine/training.py\u001b[0m in \u001b[0;36mevaluate_generator\u001b[0;34m(self, generator, steps, callbacks, max_queue_size, workers, use_multiprocessing, verbose)\u001b[0m\n\u001b[1;32m   1789\u001b[0m             \u001b[0mworkers\u001b[0m\u001b[0;34m=\u001b[0m\u001b[0mworkers\u001b[0m\u001b[0;34m,\u001b[0m\u001b[0;34m\u001b[0m\u001b[0;34m\u001b[0m\u001b[0m\n\u001b[1;32m   1790\u001b[0m             \u001b[0muse_multiprocessing\u001b[0m\u001b[0;34m=\u001b[0m\u001b[0muse_multiprocessing\u001b[0m\u001b[0;34m,\u001b[0m\u001b[0;34m\u001b[0m\u001b[0;34m\u001b[0m\u001b[0m\n\u001b[0;32m-> 1791\u001b[0;31m             verbose=verbose)\n\u001b[0m\u001b[1;32m   1792\u001b[0m \u001b[0;34m\u001b[0m\u001b[0m\n\u001b[1;32m   1793\u001b[0m     \u001b[0;34m@\u001b[0m\u001b[0minterfaces\u001b[0m\u001b[0;34m.\u001b[0m\u001b[0mlegacy_generator_methods_support\u001b[0m\u001b[0;34m\u001b[0m\u001b[0;34m\u001b[0m\u001b[0m\n",
            "\u001b[0;32m/usr/local/lib/python3.6/dist-packages/keras/engine/training_generator.py\u001b[0m in \u001b[0;36mevaluate_generator\u001b[0;34m(model, generator, steps, callbacks, max_queue_size, workers, use_multiprocessing, verbose)\u001b[0m\n\u001b[1;32m    399\u001b[0m             outs = model.test_on_batch(x, y,\n\u001b[1;32m    400\u001b[0m                                        \u001b[0msample_weight\u001b[0m\u001b[0;34m=\u001b[0m\u001b[0msample_weight\u001b[0m\u001b[0;34m,\u001b[0m\u001b[0;34m\u001b[0m\u001b[0;34m\u001b[0m\u001b[0m\n\u001b[0;32m--> 401\u001b[0;31m                                        reset_metrics=False)\n\u001b[0m\u001b[1;32m    402\u001b[0m             \u001b[0mouts\u001b[0m \u001b[0;34m=\u001b[0m \u001b[0mto_list\u001b[0m\u001b[0;34m(\u001b[0m\u001b[0mouts\u001b[0m\u001b[0;34m)\u001b[0m\u001b[0;34m\u001b[0m\u001b[0;34m\u001b[0m\u001b[0m\n\u001b[1;32m    403\u001b[0m             \u001b[0mouts_per_batch\u001b[0m\u001b[0;34m.\u001b[0m\u001b[0mappend\u001b[0m\u001b[0;34m(\u001b[0m\u001b[0mouts\u001b[0m\u001b[0;34m)\u001b[0m\u001b[0;34m\u001b[0m\u001b[0;34m\u001b[0m\u001b[0m\n",
            "\u001b[0;32m/usr/local/lib/python3.6/dist-packages/keras/engine/training.py\u001b[0m in \u001b[0;36mtest_on_batch\u001b[0;34m(self, x, y, sample_weight, reset_metrics)\u001b[0m\n\u001b[1;32m   1557\u001b[0m             \u001b[0mins\u001b[0m \u001b[0;34m=\u001b[0m \u001b[0mx\u001b[0m \u001b[0;34m+\u001b[0m \u001b[0my\u001b[0m \u001b[0;34m+\u001b[0m \u001b[0msample_weights\u001b[0m\u001b[0;34m\u001b[0m\u001b[0;34m\u001b[0m\u001b[0m\n\u001b[1;32m   1558\u001b[0m         \u001b[0mself\u001b[0m\u001b[0;34m.\u001b[0m\u001b[0m_make_test_function\u001b[0m\u001b[0;34m(\u001b[0m\u001b[0;34m)\u001b[0m\u001b[0;34m\u001b[0m\u001b[0;34m\u001b[0m\u001b[0m\n\u001b[0;32m-> 1559\u001b[0;31m         \u001b[0moutputs\u001b[0m \u001b[0;34m=\u001b[0m \u001b[0mself\u001b[0m\u001b[0;34m.\u001b[0m\u001b[0mtest_function\u001b[0m\u001b[0;34m(\u001b[0m\u001b[0mins\u001b[0m\u001b[0;34m)\u001b[0m\u001b[0;34m\u001b[0m\u001b[0;34m\u001b[0m\u001b[0m\n\u001b[0m\u001b[1;32m   1560\u001b[0m \u001b[0;34m\u001b[0m\u001b[0m\n\u001b[1;32m   1561\u001b[0m         \u001b[0;32mif\u001b[0m \u001b[0mreset_metrics\u001b[0m\u001b[0;34m:\u001b[0m\u001b[0;34m\u001b[0m\u001b[0;34m\u001b[0m\u001b[0m\n",
            "\u001b[0;32m/usr/local/lib/python3.6/dist-packages/tensorflow_core/python/keras/backend.py\u001b[0m in \u001b[0;36m__call__\u001b[0;34m(self, inputs)\u001b[0m\n\u001b[1;32m   3725\u001b[0m         \u001b[0mvalue\u001b[0m \u001b[0;34m=\u001b[0m \u001b[0mmath_ops\u001b[0m\u001b[0;34m.\u001b[0m\u001b[0mcast\u001b[0m\u001b[0;34m(\u001b[0m\u001b[0mvalue\u001b[0m\u001b[0;34m,\u001b[0m \u001b[0mtensor\u001b[0m\u001b[0;34m.\u001b[0m\u001b[0mdtype\u001b[0m\u001b[0;34m)\u001b[0m\u001b[0;34m\u001b[0m\u001b[0;34m\u001b[0m\u001b[0m\n\u001b[1;32m   3726\u001b[0m       \u001b[0mconverted_inputs\u001b[0m\u001b[0;34m.\u001b[0m\u001b[0mappend\u001b[0m\u001b[0;34m(\u001b[0m\u001b[0mvalue\u001b[0m\u001b[0;34m)\u001b[0m\u001b[0;34m\u001b[0m\u001b[0;34m\u001b[0m\u001b[0m\n\u001b[0;32m-> 3727\u001b[0;31m     \u001b[0moutputs\u001b[0m \u001b[0;34m=\u001b[0m \u001b[0mself\u001b[0m\u001b[0;34m.\u001b[0m\u001b[0m_graph_fn\u001b[0m\u001b[0;34m(\u001b[0m\u001b[0;34m*\u001b[0m\u001b[0mconverted_inputs\u001b[0m\u001b[0;34m)\u001b[0m\u001b[0;34m\u001b[0m\u001b[0;34m\u001b[0m\u001b[0m\n\u001b[0m\u001b[1;32m   3728\u001b[0m \u001b[0;34m\u001b[0m\u001b[0m\n\u001b[1;32m   3729\u001b[0m     \u001b[0;31m# EagerTensor.numpy() will often make a copy to ensure memory safety.\u001b[0m\u001b[0;34m\u001b[0m\u001b[0;34m\u001b[0m\u001b[0;34m\u001b[0m\u001b[0m\n",
            "\u001b[0;32m/usr/local/lib/python3.6/dist-packages/tensorflow_core/python/eager/function.py\u001b[0m in \u001b[0;36m__call__\u001b[0;34m(self, *args, **kwargs)\u001b[0m\n\u001b[1;32m   1549\u001b[0m       \u001b[0mTypeError\u001b[0m\u001b[0;34m:\u001b[0m \u001b[0mFor\u001b[0m \u001b[0minvalid\u001b[0m \u001b[0mpositional\u001b[0m\u001b[0;34m/\u001b[0m\u001b[0mkeyword\u001b[0m \u001b[0margument\u001b[0m \u001b[0mcombinations\u001b[0m\u001b[0;34m.\u001b[0m\u001b[0;34m\u001b[0m\u001b[0;34m\u001b[0m\u001b[0m\n\u001b[1;32m   1550\u001b[0m     \"\"\"\n\u001b[0;32m-> 1551\u001b[0;31m     \u001b[0;32mreturn\u001b[0m \u001b[0mself\u001b[0m\u001b[0;34m.\u001b[0m\u001b[0m_call_impl\u001b[0m\u001b[0;34m(\u001b[0m\u001b[0margs\u001b[0m\u001b[0;34m,\u001b[0m \u001b[0mkwargs\u001b[0m\u001b[0;34m)\u001b[0m\u001b[0;34m\u001b[0m\u001b[0;34m\u001b[0m\u001b[0m\n\u001b[0m\u001b[1;32m   1552\u001b[0m \u001b[0;34m\u001b[0m\u001b[0m\n\u001b[1;32m   1553\u001b[0m   \u001b[0;32mdef\u001b[0m \u001b[0m_call_impl\u001b[0m\u001b[0;34m(\u001b[0m\u001b[0mself\u001b[0m\u001b[0;34m,\u001b[0m \u001b[0margs\u001b[0m\u001b[0;34m,\u001b[0m \u001b[0mkwargs\u001b[0m\u001b[0;34m,\u001b[0m \u001b[0mcancellation_manager\u001b[0m\u001b[0;34m=\u001b[0m\u001b[0;32mNone\u001b[0m\u001b[0;34m)\u001b[0m\u001b[0;34m:\u001b[0m\u001b[0;34m\u001b[0m\u001b[0;34m\u001b[0m\u001b[0m\n",
            "\u001b[0;32m/usr/local/lib/python3.6/dist-packages/tensorflow_core/python/eager/function.py\u001b[0m in \u001b[0;36m_call_impl\u001b[0;34m(self, args, kwargs, cancellation_manager)\u001b[0m\n\u001b[1;32m   1589\u001b[0m       raise TypeError(\"Keyword arguments {} unknown. Expected {}.\".format(\n\u001b[1;32m   1590\u001b[0m           list(kwargs.keys()), list(self._arg_keywords)))\n\u001b[0;32m-> 1591\u001b[0;31m     \u001b[0;32mreturn\u001b[0m \u001b[0mself\u001b[0m\u001b[0;34m.\u001b[0m\u001b[0m_call_flat\u001b[0m\u001b[0;34m(\u001b[0m\u001b[0margs\u001b[0m\u001b[0;34m,\u001b[0m \u001b[0mself\u001b[0m\u001b[0;34m.\u001b[0m\u001b[0mcaptured_inputs\u001b[0m\u001b[0;34m,\u001b[0m \u001b[0mcancellation_manager\u001b[0m\u001b[0;34m)\u001b[0m\u001b[0;34m\u001b[0m\u001b[0;34m\u001b[0m\u001b[0m\n\u001b[0m\u001b[1;32m   1592\u001b[0m \u001b[0;34m\u001b[0m\u001b[0m\n\u001b[1;32m   1593\u001b[0m   \u001b[0;32mdef\u001b[0m \u001b[0m_filtered_call\u001b[0m\u001b[0;34m(\u001b[0m\u001b[0mself\u001b[0m\u001b[0;34m,\u001b[0m \u001b[0margs\u001b[0m\u001b[0;34m,\u001b[0m \u001b[0mkwargs\u001b[0m\u001b[0;34m)\u001b[0m\u001b[0;34m:\u001b[0m\u001b[0;34m\u001b[0m\u001b[0;34m\u001b[0m\u001b[0m\n",
            "\u001b[0;32m/usr/local/lib/python3.6/dist-packages/tensorflow_core/python/eager/function.py\u001b[0m in \u001b[0;36m_call_flat\u001b[0;34m(self, args, captured_inputs, cancellation_manager)\u001b[0m\n\u001b[1;32m   1690\u001b[0m       \u001b[0;31m# No tape is watching; skip to running the function.\u001b[0m\u001b[0;34m\u001b[0m\u001b[0;34m\u001b[0m\u001b[0;34m\u001b[0m\u001b[0m\n\u001b[1;32m   1691\u001b[0m       return self._build_call_outputs(self._inference_function.call(\n\u001b[0;32m-> 1692\u001b[0;31m           ctx, args, cancellation_manager=cancellation_manager))\n\u001b[0m\u001b[1;32m   1693\u001b[0m     forward_backward = self._select_forward_and_backward_functions(\n\u001b[1;32m   1694\u001b[0m         \u001b[0margs\u001b[0m\u001b[0;34m,\u001b[0m\u001b[0;34m\u001b[0m\u001b[0;34m\u001b[0m\u001b[0m\n",
            "\u001b[0;32m/usr/local/lib/python3.6/dist-packages/tensorflow_core/python/eager/function.py\u001b[0m in \u001b[0;36mcall\u001b[0;34m(self, ctx, args, cancellation_manager)\u001b[0m\n\u001b[1;32m    543\u001b[0m               \u001b[0minputs\u001b[0m\u001b[0;34m=\u001b[0m\u001b[0margs\u001b[0m\u001b[0;34m,\u001b[0m\u001b[0;34m\u001b[0m\u001b[0;34m\u001b[0m\u001b[0m\n\u001b[1;32m    544\u001b[0m               \u001b[0mattrs\u001b[0m\u001b[0;34m=\u001b[0m\u001b[0;34m(\u001b[0m\u001b[0;34m\"executor_type\"\u001b[0m\u001b[0;34m,\u001b[0m \u001b[0mexecutor_type\u001b[0m\u001b[0;34m,\u001b[0m \u001b[0;34m\"config_proto\"\u001b[0m\u001b[0;34m,\u001b[0m \u001b[0mconfig\u001b[0m\u001b[0;34m)\u001b[0m\u001b[0;34m,\u001b[0m\u001b[0;34m\u001b[0m\u001b[0;34m\u001b[0m\u001b[0m\n\u001b[0;32m--> 545\u001b[0;31m               ctx=ctx)\n\u001b[0m\u001b[1;32m    546\u001b[0m         \u001b[0;32melse\u001b[0m\u001b[0;34m:\u001b[0m\u001b[0;34m\u001b[0m\u001b[0;34m\u001b[0m\u001b[0m\n\u001b[1;32m    547\u001b[0m           outputs = execute.execute_with_cancellation(\n",
            "\u001b[0;32m/usr/local/lib/python3.6/dist-packages/tensorflow_core/python/eager/execute.py\u001b[0m in \u001b[0;36mquick_execute\u001b[0;34m(op_name, num_outputs, inputs, attrs, ctx, name)\u001b[0m\n\u001b[1;32m     59\u001b[0m     tensors = pywrap_tensorflow.TFE_Py_Execute(ctx._handle, device_name,\n\u001b[1;32m     60\u001b[0m                                                \u001b[0mop_name\u001b[0m\u001b[0;34m,\u001b[0m \u001b[0minputs\u001b[0m\u001b[0;34m,\u001b[0m \u001b[0mattrs\u001b[0m\u001b[0;34m,\u001b[0m\u001b[0;34m\u001b[0m\u001b[0;34m\u001b[0m\u001b[0m\n\u001b[0;32m---> 61\u001b[0;31m                                                num_outputs)\n\u001b[0m\u001b[1;32m     62\u001b[0m   \u001b[0;32mexcept\u001b[0m \u001b[0mcore\u001b[0m\u001b[0;34m.\u001b[0m\u001b[0m_NotOkStatusException\u001b[0m \u001b[0;32mas\u001b[0m \u001b[0me\u001b[0m\u001b[0;34m:\u001b[0m\u001b[0;34m\u001b[0m\u001b[0;34m\u001b[0m\u001b[0m\n\u001b[1;32m     63\u001b[0m     \u001b[0;32mif\u001b[0m \u001b[0mname\u001b[0m \u001b[0;32mis\u001b[0m \u001b[0;32mnot\u001b[0m \u001b[0;32mNone\u001b[0m\u001b[0;34m:\u001b[0m\u001b[0;34m\u001b[0m\u001b[0;34m\u001b[0m\u001b[0m\n",
            "\u001b[0;31mKeyboardInterrupt\u001b[0m: "
          ]
        }
      ]
    },
    {
      "cell_type": "code",
      "metadata": {
        "id": "zB5rJkzWGrAl",
        "colab_type": "code",
        "colab": {}
      },
      "source": [
        "from keras.models import load_model\n",
        "model = load_model('/content/resnet50-model.21-0.08-0.80.h5')\n",
        "#get prediction from test data\n",
        "pred = model_finetuned_xcep.predict_generator(test_generator, verbose=1)\n",
        "classes = pred.argmax(axis=-1)\n",
        "#print(pred)\n",
        "import pandas as pd\n",
        "filenames=test_generator.filenames\n",
        "results=pd.DataFrame({\"Filename\":filenames,\n",
        "                      'bharatanatyam':pred[:,0],\n",
        "                      'kathak':pred[:,1] ,\n",
        "                      'kathakali':pred[:,2],\n",
        "                      'kuchipudi':pred[:,3],\n",
        "                      'manipuri':pred[:,4],\n",
        "                      'mohiniyattam':pred[:,5],\n",
        "                      'odissi':pred[:,6],\n",
        "                      'sattriya':pred[:,7],\n",
        "                      'class':classes})\n",
        "\n",
        "results[\"class\"].replace({0: \"bharatanatyam\",\n",
        "                               1: \"kathak\",\n",
        "                               2: \"kathakali\",\n",
        "                               3: \"kuchipudi\",\n",
        "                               4: \"manipuri\",\n",
        "                               5: \"mohiniyattam\",\n",
        "                               6: \"odissi\",\n",
        "                               7: \"sattriya\",\n",
        "                               }, inplace=True)\n",
        "results.head(-1)"
      ],
      "execution_count": null,
      "outputs": []
    },
    {
      "cell_type": "code",
      "metadata": {
        "id": "kER0Bd8EGwNw",
        "colab_type": "code",
        "colab": {}
      },
      "source": [
        "dft['target'] = results['class']\n",
        "dft.to_csv(\"output.csv\",index=False)\n",
        "output = pd.read_csv(\"output.csv\")\n",
        "output.head()"
      ],
      "execution_count": null,
      "outputs": []
    },
    {
      "cell_type": "code",
      "metadata": {
        "id": "xQzIe2FZFoRm",
        "colab_type": "code",
        "colab": {}
      },
      "source": [
        ""
      ],
      "execution_count": null,
      "outputs": []
    }
  ]
}