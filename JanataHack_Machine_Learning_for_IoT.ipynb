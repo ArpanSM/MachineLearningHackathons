{
  "nbformat": 4,
  "nbformat_minor": 0,
  "metadata": {
    "colab": {
      "name": "JanataHack: Machine Learning for IoT.ipynb",
      "provenance": [],
      "collapsed_sections": [],
      "authorship_tag": "ABX9TyNk4wE3dFrhpRQkRpd4+/7n",
      "include_colab_link": true
    },
    "kernelspec": {
      "name": "python3",
      "display_name": "Python 3"
    }
  },
  "cells": [
    {
      "cell_type": "markdown",
      "metadata": {
        "id": "view-in-github",
        "colab_type": "text"
      },
      "source": [
        "<a href=\"https://colab.research.google.com/github/ArpanSM/MachineLearningHackathons/blob/master/JanataHack_Machine_Learning_for_IoT.ipynb\" target=\"_parent\"><img src=\"https://colab.research.google.com/assets/colab-badge.svg\" alt=\"Open In Colab\"/></a>"
      ]
    },
    {
      "cell_type": "code",
      "metadata": {
        "id": "m5n2JTDdC0Zo",
        "colab_type": "code",
        "colab": {}
      },
      "source": [
        "import pandas as pd\n",
        "import numpy as np\n",
        "import matplotlib.pyplot as plt\n",
        "df = pd.read_csv(\"train.csv\")"
      ],
      "execution_count": 0,
      "outputs": []
    },
    {
      "cell_type": "markdown",
      "metadata": {
        "id": "R3N2lf7Vw0ac",
        "colab_type": "text"
      },
      "source": [
        "## Date Time Conversion and Feature Engineering"
      ]
    },
    {
      "cell_type": "code",
      "metadata": {
        "id": "1GsynwlWD-a2",
        "colab_type": "code",
        "colab": {}
      },
      "source": [
        "# applying groupby() function to group the data on team value. \n",
        "gk = df.groupby('Junction') \n",
        "jun1 = gk.get_group(1) \n",
        "jun2 = gk.get_group(2)\n",
        "jun3 = gk.get_group(3) \n",
        "jun4 = gk.get_group(4) "
      ],
      "execution_count": 0,
      "outputs": []
    },
    {
      "cell_type": "code",
      "metadata": {
        "id": "hWGpEz0dFgEl",
        "colab_type": "code",
        "colab": {}
      },
      "source": [
        "def get_dom(dt):\n",
        "    return dt.day\n",
        "\n",
        "def get_weekday(dt):\n",
        "    return dt.weekday()\n",
        "\n",
        "def get_hour(dt):\n",
        "    return dt.hour\n",
        "  \n",
        "def get_year(dt):\n",
        "    return dt.year\n",
        "\n",
        "def get_month(dt):\n",
        "    return dt.month\n",
        "\n",
        "def get_dayofyear(dt):\n",
        "    return dt.dayofyear\n",
        "\n",
        "def get_weekofyear(dt):\n",
        "    return dt.weekofyear"
      ],
      "execution_count": 0,
      "outputs": []
    },
    {
      "cell_type": "code",
      "metadata": {
        "id": "5ntwZQZuH9Jv",
        "colab_type": "code",
        "outputId": "1fa61e99-e4f3-4729-840e-c42cd7ff6ebd",
        "colab": {
          "base_uri": "https://localhost:8080/",
          "height": 1000
        }
      },
      "source": [
        "jun1['DateTime'] = jun1['DateTime'].map(pd.to_datetime)\n",
        "jun1['date'] = jun1['DateTime'].map(get_dom)\n",
        "jun1['weekday'] = jun1['DateTime'].map(get_weekday)\n",
        "jun1['hour'] = jun1['DateTime'].map(get_hour)\n",
        "jun1['month'] = jun1['DateTime'].map(get_month)\n",
        "jun1['year'] = jun1['DateTime'].map(get_year)\n",
        "jun1['dayofyear'] = jun1['DateTime'].map(get_dayofyear)\n",
        "jun1['weekofyear'] = jun1['DateTime'].map(get_weekofyear)\n",
        "\n",
        "jun2['DateTime'] = jun2['DateTime'].map(pd.to_datetime)\n",
        "jun2['date'] = jun2['DateTime'].map(get_dom)\n",
        "jun2['weekday'] = jun2['DateTime'].map(get_weekday)\n",
        "jun2['hour'] = jun2['DateTime'].map(get_hour)\n",
        "jun2['month'] = jun2['DateTime'].map(get_month)\n",
        "jun2['year'] = jun2['DateTime'].map(get_year)\n",
        "jun2['dayofyear'] = jun2['DateTime'].map(get_dayofyear)\n",
        "jun2['weekofyear'] = jun2['DateTime'].map(get_weekofyear)\n",
        "\n",
        "jun3['DateTime'] = jun3['DateTime'].map(pd.to_datetime)\n",
        "jun3['date'] = jun3['DateTime'].map(get_dom)\n",
        "jun3['weekday'] = jun3['DateTime'].map(get_weekday)\n",
        "jun3['hour'] = jun3['DateTime'].map(get_hour)\n",
        "jun3['month'] = jun3['DateTime'].map(get_month)\n",
        "jun3['year'] = jun3['DateTime'].map(get_year)\n",
        "jun3['dayofyear'] = jun3['DateTime'].map(get_dayofyear)\n",
        "jun3['weekofyear'] = jun3['DateTime'].map(get_weekofyear)\n",
        "\n",
        "jun4['DateTime'] = jun4['DateTime'].map(pd.to_datetime)\n",
        "jun4['date'] = jun4['DateTime'].map(get_dom)\n",
        "jun4['weekday'] = jun4['DateTime'].map(get_weekday)\n",
        "jun4['hour'] = jun4['DateTime'].map(get_hour)\n",
        "jun4['month'] = jun4['DateTime'].map(get_month)\n",
        "jun4['year'] = jun4['DateTime'].map(get_year)\n",
        "jun4['dayofyear'] = jun4['DateTime'].map(get_dayofyear)\n",
        "jun4['weekofyear'] = jun4['DateTime'].map(get_weekofyear)"
      ],
      "execution_count": 6,
      "outputs": [
        {
          "output_type": "stream",
          "text": [
            "/usr/local/lib/python3.6/dist-packages/ipykernel_launcher.py:1: SettingWithCopyWarning: \n",
            "A value is trying to be set on a copy of a slice from a DataFrame.\n",
            "Try using .loc[row_indexer,col_indexer] = value instead\n",
            "\n",
            "See the caveats in the documentation: https://pandas.pydata.org/pandas-docs/stable/user_guide/indexing.html#returning-a-view-versus-a-copy\n",
            "  \"\"\"Entry point for launching an IPython kernel.\n",
            "/usr/local/lib/python3.6/dist-packages/ipykernel_launcher.py:2: SettingWithCopyWarning: \n",
            "A value is trying to be set on a copy of a slice from a DataFrame.\n",
            "Try using .loc[row_indexer,col_indexer] = value instead\n",
            "\n",
            "See the caveats in the documentation: https://pandas.pydata.org/pandas-docs/stable/user_guide/indexing.html#returning-a-view-versus-a-copy\n",
            "  \n",
            "/usr/local/lib/python3.6/dist-packages/ipykernel_launcher.py:3: SettingWithCopyWarning: \n",
            "A value is trying to be set on a copy of a slice from a DataFrame.\n",
            "Try using .loc[row_indexer,col_indexer] = value instead\n",
            "\n",
            "See the caveats in the documentation: https://pandas.pydata.org/pandas-docs/stable/user_guide/indexing.html#returning-a-view-versus-a-copy\n",
            "  This is separate from the ipykernel package so we can avoid doing imports until\n",
            "/usr/local/lib/python3.6/dist-packages/ipykernel_launcher.py:4: SettingWithCopyWarning: \n",
            "A value is trying to be set on a copy of a slice from a DataFrame.\n",
            "Try using .loc[row_indexer,col_indexer] = value instead\n",
            "\n",
            "See the caveats in the documentation: https://pandas.pydata.org/pandas-docs/stable/user_guide/indexing.html#returning-a-view-versus-a-copy\n",
            "  after removing the cwd from sys.path.\n",
            "/usr/local/lib/python3.6/dist-packages/ipykernel_launcher.py:5: SettingWithCopyWarning: \n",
            "A value is trying to be set on a copy of a slice from a DataFrame.\n",
            "Try using .loc[row_indexer,col_indexer] = value instead\n",
            "\n",
            "See the caveats in the documentation: https://pandas.pydata.org/pandas-docs/stable/user_guide/indexing.html#returning-a-view-versus-a-copy\n",
            "  \"\"\"\n",
            "/usr/local/lib/python3.6/dist-packages/ipykernel_launcher.py:6: SettingWithCopyWarning: \n",
            "A value is trying to be set on a copy of a slice from a DataFrame.\n",
            "Try using .loc[row_indexer,col_indexer] = value instead\n",
            "\n",
            "See the caveats in the documentation: https://pandas.pydata.org/pandas-docs/stable/user_guide/indexing.html#returning-a-view-versus-a-copy\n",
            "  \n",
            "/usr/local/lib/python3.6/dist-packages/ipykernel_launcher.py:7: SettingWithCopyWarning: \n",
            "A value is trying to be set on a copy of a slice from a DataFrame.\n",
            "Try using .loc[row_indexer,col_indexer] = value instead\n",
            "\n",
            "See the caveats in the documentation: https://pandas.pydata.org/pandas-docs/stable/user_guide/indexing.html#returning-a-view-versus-a-copy\n",
            "  import sys\n",
            "/usr/local/lib/python3.6/dist-packages/ipykernel_launcher.py:8: SettingWithCopyWarning: \n",
            "A value is trying to be set on a copy of a slice from a DataFrame.\n",
            "Try using .loc[row_indexer,col_indexer] = value instead\n",
            "\n",
            "See the caveats in the documentation: https://pandas.pydata.org/pandas-docs/stable/user_guide/indexing.html#returning-a-view-versus-a-copy\n",
            "  \n",
            "/usr/local/lib/python3.6/dist-packages/ipykernel_launcher.py:10: SettingWithCopyWarning: \n",
            "A value is trying to be set on a copy of a slice from a DataFrame.\n",
            "Try using .loc[row_indexer,col_indexer] = value instead\n",
            "\n",
            "See the caveats in the documentation: https://pandas.pydata.org/pandas-docs/stable/user_guide/indexing.html#returning-a-view-versus-a-copy\n",
            "  # Remove the CWD from sys.path while we load stuff.\n",
            "/usr/local/lib/python3.6/dist-packages/ipykernel_launcher.py:11: SettingWithCopyWarning: \n",
            "A value is trying to be set on a copy of a slice from a DataFrame.\n",
            "Try using .loc[row_indexer,col_indexer] = value instead\n",
            "\n",
            "See the caveats in the documentation: https://pandas.pydata.org/pandas-docs/stable/user_guide/indexing.html#returning-a-view-versus-a-copy\n",
            "  # This is added back by InteractiveShellApp.init_path()\n",
            "/usr/local/lib/python3.6/dist-packages/ipykernel_launcher.py:12: SettingWithCopyWarning: \n",
            "A value is trying to be set on a copy of a slice from a DataFrame.\n",
            "Try using .loc[row_indexer,col_indexer] = value instead\n",
            "\n",
            "See the caveats in the documentation: https://pandas.pydata.org/pandas-docs/stable/user_guide/indexing.html#returning-a-view-versus-a-copy\n",
            "  if sys.path[0] == '':\n",
            "/usr/local/lib/python3.6/dist-packages/ipykernel_launcher.py:13: SettingWithCopyWarning: \n",
            "A value is trying to be set on a copy of a slice from a DataFrame.\n",
            "Try using .loc[row_indexer,col_indexer] = value instead\n",
            "\n",
            "See the caveats in the documentation: https://pandas.pydata.org/pandas-docs/stable/user_guide/indexing.html#returning-a-view-versus-a-copy\n",
            "  del sys.path[0]\n",
            "/usr/local/lib/python3.6/dist-packages/ipykernel_launcher.py:14: SettingWithCopyWarning: \n",
            "A value is trying to be set on a copy of a slice from a DataFrame.\n",
            "Try using .loc[row_indexer,col_indexer] = value instead\n",
            "\n",
            "See the caveats in the documentation: https://pandas.pydata.org/pandas-docs/stable/user_guide/indexing.html#returning-a-view-versus-a-copy\n",
            "  \n",
            "/usr/local/lib/python3.6/dist-packages/ipykernel_launcher.py:15: SettingWithCopyWarning: \n",
            "A value is trying to be set on a copy of a slice from a DataFrame.\n",
            "Try using .loc[row_indexer,col_indexer] = value instead\n",
            "\n",
            "See the caveats in the documentation: https://pandas.pydata.org/pandas-docs/stable/user_guide/indexing.html#returning-a-view-versus-a-copy\n",
            "  from ipykernel import kernelapp as app\n",
            "/usr/local/lib/python3.6/dist-packages/ipykernel_launcher.py:16: SettingWithCopyWarning: \n",
            "A value is trying to be set on a copy of a slice from a DataFrame.\n",
            "Try using .loc[row_indexer,col_indexer] = value instead\n",
            "\n",
            "See the caveats in the documentation: https://pandas.pydata.org/pandas-docs/stable/user_guide/indexing.html#returning-a-view-versus-a-copy\n",
            "  app.launch_new_instance()\n",
            "/usr/local/lib/python3.6/dist-packages/ipykernel_launcher.py:17: SettingWithCopyWarning: \n",
            "A value is trying to be set on a copy of a slice from a DataFrame.\n",
            "Try using .loc[row_indexer,col_indexer] = value instead\n",
            "\n",
            "See the caveats in the documentation: https://pandas.pydata.org/pandas-docs/stable/user_guide/indexing.html#returning-a-view-versus-a-copy\n",
            "/usr/local/lib/python3.6/dist-packages/ipykernel_launcher.py:19: SettingWithCopyWarning: \n",
            "A value is trying to be set on a copy of a slice from a DataFrame.\n",
            "Try using .loc[row_indexer,col_indexer] = value instead\n",
            "\n",
            "See the caveats in the documentation: https://pandas.pydata.org/pandas-docs/stable/user_guide/indexing.html#returning-a-view-versus-a-copy\n",
            "/usr/local/lib/python3.6/dist-packages/ipykernel_launcher.py:20: SettingWithCopyWarning: \n",
            "A value is trying to be set on a copy of a slice from a DataFrame.\n",
            "Try using .loc[row_indexer,col_indexer] = value instead\n",
            "\n",
            "See the caveats in the documentation: https://pandas.pydata.org/pandas-docs/stable/user_guide/indexing.html#returning-a-view-versus-a-copy\n",
            "/usr/local/lib/python3.6/dist-packages/ipykernel_launcher.py:21: SettingWithCopyWarning: \n",
            "A value is trying to be set on a copy of a slice from a DataFrame.\n",
            "Try using .loc[row_indexer,col_indexer] = value instead\n",
            "\n",
            "See the caveats in the documentation: https://pandas.pydata.org/pandas-docs/stable/user_guide/indexing.html#returning-a-view-versus-a-copy\n",
            "/usr/local/lib/python3.6/dist-packages/ipykernel_launcher.py:22: SettingWithCopyWarning: \n",
            "A value is trying to be set on a copy of a slice from a DataFrame.\n",
            "Try using .loc[row_indexer,col_indexer] = value instead\n",
            "\n",
            "See the caveats in the documentation: https://pandas.pydata.org/pandas-docs/stable/user_guide/indexing.html#returning-a-view-versus-a-copy\n",
            "/usr/local/lib/python3.6/dist-packages/ipykernel_launcher.py:23: SettingWithCopyWarning: \n",
            "A value is trying to be set on a copy of a slice from a DataFrame.\n",
            "Try using .loc[row_indexer,col_indexer] = value instead\n",
            "\n",
            "See the caveats in the documentation: https://pandas.pydata.org/pandas-docs/stable/user_guide/indexing.html#returning-a-view-versus-a-copy\n",
            "/usr/local/lib/python3.6/dist-packages/ipykernel_launcher.py:24: SettingWithCopyWarning: \n",
            "A value is trying to be set on a copy of a slice from a DataFrame.\n",
            "Try using .loc[row_indexer,col_indexer] = value instead\n",
            "\n",
            "See the caveats in the documentation: https://pandas.pydata.org/pandas-docs/stable/user_guide/indexing.html#returning-a-view-versus-a-copy\n",
            "/usr/local/lib/python3.6/dist-packages/ipykernel_launcher.py:25: SettingWithCopyWarning: \n",
            "A value is trying to be set on a copy of a slice from a DataFrame.\n",
            "Try using .loc[row_indexer,col_indexer] = value instead\n",
            "\n",
            "See the caveats in the documentation: https://pandas.pydata.org/pandas-docs/stable/user_guide/indexing.html#returning-a-view-versus-a-copy\n",
            "/usr/local/lib/python3.6/dist-packages/ipykernel_launcher.py:26: SettingWithCopyWarning: \n",
            "A value is trying to be set on a copy of a slice from a DataFrame.\n",
            "Try using .loc[row_indexer,col_indexer] = value instead\n",
            "\n",
            "See the caveats in the documentation: https://pandas.pydata.org/pandas-docs/stable/user_guide/indexing.html#returning-a-view-versus-a-copy\n",
            "/usr/local/lib/python3.6/dist-packages/ipykernel_launcher.py:28: SettingWithCopyWarning: \n",
            "A value is trying to be set on a copy of a slice from a DataFrame.\n",
            "Try using .loc[row_indexer,col_indexer] = value instead\n",
            "\n",
            "See the caveats in the documentation: https://pandas.pydata.org/pandas-docs/stable/user_guide/indexing.html#returning-a-view-versus-a-copy\n",
            "/usr/local/lib/python3.6/dist-packages/ipykernel_launcher.py:29: SettingWithCopyWarning: \n",
            "A value is trying to be set on a copy of a slice from a DataFrame.\n",
            "Try using .loc[row_indexer,col_indexer] = value instead\n",
            "\n",
            "See the caveats in the documentation: https://pandas.pydata.org/pandas-docs/stable/user_guide/indexing.html#returning-a-view-versus-a-copy\n",
            "/usr/local/lib/python3.6/dist-packages/ipykernel_launcher.py:30: SettingWithCopyWarning: \n",
            "A value is trying to be set on a copy of a slice from a DataFrame.\n",
            "Try using .loc[row_indexer,col_indexer] = value instead\n",
            "\n",
            "See the caveats in the documentation: https://pandas.pydata.org/pandas-docs/stable/user_guide/indexing.html#returning-a-view-versus-a-copy\n",
            "/usr/local/lib/python3.6/dist-packages/ipykernel_launcher.py:31: SettingWithCopyWarning: \n",
            "A value is trying to be set on a copy of a slice from a DataFrame.\n",
            "Try using .loc[row_indexer,col_indexer] = value instead\n",
            "\n",
            "See the caveats in the documentation: https://pandas.pydata.org/pandas-docs/stable/user_guide/indexing.html#returning-a-view-versus-a-copy\n",
            "/usr/local/lib/python3.6/dist-packages/ipykernel_launcher.py:32: SettingWithCopyWarning: \n",
            "A value is trying to be set on a copy of a slice from a DataFrame.\n",
            "Try using .loc[row_indexer,col_indexer] = value instead\n",
            "\n",
            "See the caveats in the documentation: https://pandas.pydata.org/pandas-docs/stable/user_guide/indexing.html#returning-a-view-versus-a-copy\n",
            "/usr/local/lib/python3.6/dist-packages/ipykernel_launcher.py:33: SettingWithCopyWarning: \n",
            "A value is trying to be set on a copy of a slice from a DataFrame.\n",
            "Try using .loc[row_indexer,col_indexer] = value instead\n",
            "\n",
            "See the caveats in the documentation: https://pandas.pydata.org/pandas-docs/stable/user_guide/indexing.html#returning-a-view-versus-a-copy\n",
            "/usr/local/lib/python3.6/dist-packages/ipykernel_launcher.py:34: SettingWithCopyWarning: \n",
            "A value is trying to be set on a copy of a slice from a DataFrame.\n",
            "Try using .loc[row_indexer,col_indexer] = value instead\n",
            "\n",
            "See the caveats in the documentation: https://pandas.pydata.org/pandas-docs/stable/user_guide/indexing.html#returning-a-view-versus-a-copy\n",
            "/usr/local/lib/python3.6/dist-packages/ipykernel_launcher.py:35: SettingWithCopyWarning: \n",
            "A value is trying to be set on a copy of a slice from a DataFrame.\n",
            "Try using .loc[row_indexer,col_indexer] = value instead\n",
            "\n",
            "See the caveats in the documentation: https://pandas.pydata.org/pandas-docs/stable/user_guide/indexing.html#returning-a-view-versus-a-copy\n"
          ],
          "name": "stderr"
        }
      ]
    },
    {
      "cell_type": "markdown",
      "metadata": {
        "id": "6exVx67k8q6W",
        "colab_type": "text"
      },
      "source": [
        "# XGBoost"
      ]
    },
    {
      "cell_type": "markdown",
      "metadata": {
        "id": "71Si1Ul2xQ-p",
        "colab_type": "text"
      },
      "source": [
        "## Jun1"
      ]
    },
    {
      "cell_type": "code",
      "metadata": {
        "id": "JKiMdII0J3Cu",
        "colab_type": "code",
        "colab": {}
      },
      "source": [
        "import numpy as np\n",
        "import pandas as pd\n",
        "from sklearn import preprocessing\n",
        "import xgboost as xgb\n",
        "from xgboost.sklearn import XGBRegressor\n",
        "from sklearn.model_selection import GridSearchCV, train_test_split,RandomizedSearchCV\n",
        "from math import sqrt\n",
        "from sklearn.metrics import r2_score\n",
        "from sklearn.metrics import mean_squared_error"
      ],
      "execution_count": 0,
      "outputs": []
    },
    {
      "cell_type": "code",
      "metadata": {
        "id": "keoCoTrzM2wv",
        "colab_type": "code",
        "colab": {}
      },
      "source": [
        "# Organize our data for training\n",
        "X = jun1.drop([\"Vehicles\",\"DateTime\",\"ID\"], axis=1)\n",
        "Y = jun1[\"Vehicles\"]\n",
        "X, X_Val, Y, Y_Val = train_test_split(X, Y,test_size=0.01)"
      ],
      "execution_count": 0,
      "outputs": []
    },
    {
      "cell_type": "code",
      "metadata": {
        "id": "cRxO5X1_M61b",
        "colab_type": "code",
        "colab": {}
      },
      "source": [
        "# Various hyper-parameters to tune\n",
        "xgb1 = XGBRegressor()\n",
        "parameters = {'nthread':[4], #when use hyperthread, xgboost may become slower\n",
        "              'objective':['reg:linear'],\n",
        "              'silent': [1],\n",
        "              'learning_rate': [0.025],\n",
        "              'n_estimators': [4500],\n",
        "              'max_depth': [9],\n",
        "              'min_child_weight': [5],\n",
        "              'gamma':[0.01],\n",
        "              'subsample': [0.865],\n",
        "              'scale_pos_weight':[1],\n",
        "              'colsample_bytree':[0.875],\n",
        "              'reg_alpha':[0.00125],\n",
        "              'reg_lambda':[0.825]}"
      ],
      "execution_count": 0,
      "outputs": []
    },
    {
      "cell_type": "code",
      "metadata": {
        "id": "OXSscgrZATD1",
        "colab_type": "code",
        "colab": {}
      },
      "source": [
        "rscvj1 = RandomizedSearchCV(xgb1,\n",
        "                            parameters,\n",
        "                            n_jobs=5,\n",
        "                            cv=2)\n",
        "rscvj1.fit(X,Y)\n",
        "print(\"Best Parameters\")\n",
        "print(rscvj1.best_params_)\n",
        "print(\"--------------------------------------------\")\n",
        "print(\"R2-Score\")\n",
        "print(round(r2_score(Y_Val, rscvj1.best_estimator_.predict(X_Val)),4))\n",
        "print(\"--------------------------------------------\")\n",
        "print(\"RMSE Score\")\n",
        "print(round(sqrt(mean_squared_error(Y_Val, rscvj1.best_estimator_.predict(X_Val))),4))"
      ],
      "execution_count": 0,
      "outputs": []
    },
    {
      "cell_type": "code",
      "metadata": {
        "id": "uvNGZLRqksgp",
        "colab_type": "code",
        "colab": {
          "base_uri": "https://localhost:8080/",
          "height": 134
        },
        "outputId": "d68ca22f-8b3d-4fc1-be5d-ccdbb027f5f0"
      },
      "source": [
        "best1_jun1 = rscvj1.best_estimator_\n",
        "best1_jun1"
      ],
      "execution_count": 12,
      "outputs": [
        {
          "output_type": "execute_result",
          "data": {
            "text/plain": [
              "XGBRegressor(base_score=0.5, booster='gbtree', colsample_bylevel=1,\n",
              "             colsample_bynode=1, colsample_bytree=0.875, gamma=0.01,\n",
              "             importance_type='gain', learning_rate=0.025, max_delta_step=0,\n",
              "             max_depth=9, min_child_weight=5, missing=None, n_estimators=4500,\n",
              "             n_jobs=1, nthread=4, objective='reg:linear', random_state=0,\n",
              "             reg_alpha=0.00125, reg_lambda=0.825, scale_pos_weight=1, seed=None,\n",
              "             silent=1, subsample=0.865, verbosity=1)"
            ]
          },
          "metadata": {
            "tags": []
          },
          "execution_count": 12
        }
      ]
    },
    {
      "cell_type": "code",
      "metadata": {
        "id": "hC_tAAR_1LfD",
        "colab_type": "code",
        "colab": {
          "base_uri": "https://localhost:8080/",
          "height": 171
        },
        "outputId": "b9219506-30ce-446d-d270-de3effd75419"
      },
      "source": [
        "xgbj1_grid = GridSearchCV(xgb1,\n",
        "                        parameters,\n",
        "                        cv = 2,\n",
        "                        n_jobs = -1,\n",
        "                        verbose=False)\n",
        "\n",
        "xgbj1_grid.fit(X,Y)\n",
        "print(\"Best Parameters\")\n",
        "print(xgbj1_grid.best_params_)\n",
        "print(\"--------------------------------------------\")\n",
        "print(\"R2-Score\")\n",
        "print(round(r2_score(Y_Val, xgbj1_grid.best_estimator_.predict(X_Val)),4))\n",
        "print(\"--------------------------------------------\")\n",
        "print(\"RMSE Score\")\n",
        "print(sqrt(mean_squared_error(Y_Val, xgbj1_grid.best_estimator_.predict(X_Val))))"
      ],
      "execution_count": 29,
      "outputs": [
        {
          "output_type": "stream",
          "text": [
            "Best Parameters\n",
            "{'colsample_bytree': 0.875, 'gamma': 0.01, 'learning_rate': 0.025, 'max_depth': 9, 'min_child_weight': 5, 'n_estimators': 4500, 'nthread': 4, 'objective': 'reg:linear', 'reg_alpha': 0.00125, 'reg_lambda': 0.825, 'scale_pos_weight': 1, 'silent': 1, 'subsample': 0.865}\n",
            "--------------------------------------------\n",
            "R2-Score\n",
            "0.9722\n",
            "--------------------------------------------\n",
            "RMSE Score\n",
            "3.7674011031296915\n"
          ],
          "name": "stdout"
        }
      ]
    },
    {
      "cell_type": "markdown",
      "metadata": {
        "id": "ARj0Hiy7vGcG",
        "colab_type": "text"
      },
      "source": [
        "## Jun2"
      ]
    },
    {
      "cell_type": "code",
      "metadata": {
        "id": "n1XgtKNAtALg",
        "colab_type": "code",
        "colab": {}
      },
      "source": [
        "# Organize our data for training\n",
        "X = jun2.drop([\"Vehicles\",\"DateTime\",\"ID\"], axis=1)\n",
        "Y = jun2[\"Vehicles\"]\n",
        "X, X_Val, Y, Y_Val = train_test_split(X, Y,test_size=0.01)\n",
        "\n",
        "# Various hyper-parameters to tune\n",
        "xgb1 = XGBRegressor()\n",
        "parameters = {'nthread':[4], #when use hyperthread, xgboost may become slower\n",
        "              'objective':['reg:linear'],\n",
        "              'silent': [1],\n",
        "              'learning_rate': [0.04],\n",
        "              'n_estimators': [2600],\n",
        "              'max_depth': [4],\n",
        "              'min_child_weight': [5],\n",
        "              'gamma':[0.05],\n",
        "              'subsample': [0.5],\n",
        "              'scale_pos_weight':[1],\n",
        "              'colsample_bytree':[0.9],\n",
        "              'reg_alpha':[0.03],\n",
        "              'reg_lambda':[0.86]}"
      ],
      "execution_count": 0,
      "outputs": []
    },
    {
      "cell_type": "code",
      "metadata": {
        "id": "HWNFhrX8loN3",
        "colab_type": "code",
        "colab": {}
      },
      "source": [
        "rscvj2 = RandomizedSearchCV(xgb1,\n",
        "                            parameters,\n",
        "                            n_jobs=5,\n",
        "                            cv=2)\n",
        "rscvj2.fit(X,Y)\n",
        "print(\"Best Parameters\")\n",
        "print(rscvj2.best_params_)\n",
        "print(\"--------------------------------------------\")\n",
        "print(\"R2-Score\")\n",
        "print(round(r2_score(Y_Val, rscvj2.best_estimator_.predict(X_Val)),4))\n",
        "print(\"--------------------------------------------\")\n",
        "print(\"RMSE Score\")\n",
        "print(sqrt(mean_squared_error(Y_Val, rscvj2.best_estimator_.predict(X_Val))))"
      ],
      "execution_count": 0,
      "outputs": []
    },
    {
      "cell_type": "code",
      "metadata": {
        "id": "q4H3FqZWl0D0",
        "colab_type": "code",
        "colab": {
          "base_uri": "https://localhost:8080/",
          "height": 171
        },
        "outputId": "c77dd366-960c-48a7-e985-e7a3f034b99f"
      },
      "source": [
        "xgbj2_grid = GridSearchCV(xgb1,\n",
        "                        parameters,\n",
        "                        cv = 2,\n",
        "                        n_jobs = -1,\n",
        "                        verbose=False)\n",
        "\n",
        "xgbj2_grid.fit(X,Y)\n",
        "print(\"Best Parameters\")\n",
        "print(xgbj2_grid.best_params_)\n",
        "print(\"--------------------------------------------\")\n",
        "print(\"R2-Score\")\n",
        "print(round(r2_score(Y_Val, xgbj2_grid.best_estimator_.predict(X_Val)),4))\n",
        "print(\"--------------------------------------------\")\n",
        "print(\"RMSE Score\")\n",
        "print(sqrt(mean_squared_error(Y_Val, xgbj2_grid.best_estimator_.predict(X_Val))))"
      ],
      "execution_count": 31,
      "outputs": [
        {
          "output_type": "stream",
          "text": [
            "Best Parameters\n",
            "{'colsample_bytree': 0.9, 'gamma': 0.05, 'learning_rate': 0.04, 'max_depth': 4, 'min_child_weight': 5, 'n_estimators': 2600, 'nthread': 4, 'objective': 'reg:linear', 'reg_alpha': 0.03, 'reg_lambda': 0.86, 'scale_pos_weight': 1, 'silent': 1, 'subsample': 0.5}\n",
            "--------------------------------------------\n",
            "R2-Score\n",
            "0.9226\n",
            "--------------------------------------------\n",
            "RMSE Score\n",
            "2.0918132855500025\n"
          ],
          "name": "stdout"
        }
      ]
    },
    {
      "cell_type": "markdown",
      "metadata": {
        "id": "qVYTH5NMvK9w",
        "colab_type": "text"
      },
      "source": [
        "## Jun3"
      ]
    },
    {
      "cell_type": "code",
      "metadata": {
        "id": "rhoQTvuaC2N-",
        "colab_type": "code",
        "colab": {}
      },
      "source": [
        "# Organize our data for training\n",
        "X = jun3.drop([\"Vehicles\",\"DateTime\",\"ID\"], axis=1)\n",
        "Y = jun3[\"Vehicles\"]\n",
        "X, X_Val, Y, Y_Val = train_test_split(X, Y,test_size=0.01)"
      ],
      "execution_count": 0,
      "outputs": []
    },
    {
      "cell_type": "code",
      "metadata": {
        "id": "r3L7WuYrvKin",
        "colab_type": "code",
        "colab": {}
      },
      "source": [
        "# Various hyper-parameters to tune\n",
        "xgb1 = XGBRegressor()\n",
        "parameters = {'nthread':[4], #when use hyperthread, xgboost may become slower\n",
        "              'objective':['reg:linear'],\n",
        "              'silent': [1],\n",
        "              'learning_rate': [0.025],\n",
        "              'n_estimators': [400],\n",
        "              'max_depth': [24],\n",
        "              'min_child_weight': [1],\n",
        "              'gamma':[0.05],\n",
        "              'subsample': [0.8],\n",
        "              'scale_pos_weight':[1],\n",
        "              'colsample_bytree':[0.9],\n",
        "              'reg_alpha':[0.2]}"
      ],
      "execution_count": 0,
      "outputs": []
    },
    {
      "cell_type": "code",
      "metadata": {
        "id": "RuZ6XbyqB3Yu",
        "colab_type": "code",
        "colab": {
          "base_uri": "https://localhost:8080/",
          "height": 205
        },
        "outputId": "1f865e6a-dd2b-4076-e9b1-0295b3fe74a1"
      },
      "source": [
        "rscvj3 = RandomizedSearchCV(xgb1,\n",
        "                            parameters,\n",
        "                            n_jobs=5,\n",
        "                            cv=2)\n",
        "rscvj3.fit(X,Y)\n",
        "print(\"Best Parameters\")\n",
        "print(rscvj3.best_params_)\n",
        "print(\"--------------------------------------------\")\n",
        "print(\"R2-Score\")\n",
        "print(round(r2_score(Y_Val, rscvj3.best_estimator_.predict(X_Val)),4))\n",
        "print(\"--------------------------------------------\")\n",
        "print(\"RMSE Score\")\n",
        "print(sqrt(mean_squared_error(Y_Val, rscvj3.best_estimator_.predict(X_Val))))"
      ],
      "execution_count": 24,
      "outputs": [
        {
          "output_type": "stream",
          "text": [
            "/usr/local/lib/python3.6/dist-packages/sklearn/model_selection/_search.py:281: UserWarning: The total space of parameters 1 is smaller than n_iter=10. Running 1 iterations. For exhaustive searches, use GridSearchCV.\n",
            "  % (grid_size, self.n_iter, grid_size), UserWarning)\n"
          ],
          "name": "stderr"
        },
        {
          "output_type": "stream",
          "text": [
            "Best Parameters\n",
            "{'subsample': 0.8, 'silent': 1, 'scale_pos_weight': 1, 'reg_alpha': 0.2, 'objective': 'reg:linear', 'nthread': 4, 'n_estimators': 400, 'min_child_weight': 1, 'max_depth': 24, 'learning_rate': 0.025, 'gamma': 0.05, 'colsample_bytree': 0.9}\n",
            "--------------------------------------------\n",
            "R2-Score\n",
            "0.7917\n",
            "--------------------------------------------\n",
            "RMSE Score\n",
            "4.432730583451207\n"
          ],
          "name": "stdout"
        }
      ]
    },
    {
      "cell_type": "code",
      "metadata": {
        "id": "SllP6mSHCiUc",
        "colab_type": "code",
        "colab": {
          "base_uri": "https://localhost:8080/",
          "height": 171
        },
        "outputId": "d77a6783-ac76-4849-fc2f-0010a1b936ba"
      },
      "source": [
        "xgbj3_grid = GridSearchCV(xgb1,\n",
        "                        parameters,\n",
        "                        cv = 2,\n",
        "                        n_jobs = -1,\n",
        "                        verbose=False)\n",
        "xgbj3_grid.fit(X,Y)\n",
        "print(\"Best Parameters\")\n",
        "print(xgbj3_grid.best_params_)\n",
        "print(\"--------------------------------------------\")\n",
        "print(\"R2-Score\")\n",
        "print(round(r2_score(Y_Val, xgbj3_grid.best_estimator_.predict(X_Val)),4))\n",
        "print(\"--------------------------------------------\")\n",
        "print(\"RMSE Score\")\n",
        "print(sqrt(mean_squared_error(Y_Val, xgbj3_grid.best_estimator_.predict(X_Val))))"
      ],
      "execution_count": 34,
      "outputs": [
        {
          "output_type": "stream",
          "text": [
            "Best Parameters\n",
            "{'colsample_bytree': 0.9, 'gamma': 0.05, 'learning_rate': 0.025, 'max_depth': 24, 'min_child_weight': 1, 'n_estimators': 400, 'nthread': 4, 'objective': 'reg:linear', 'reg_alpha': 0.2, 'scale_pos_weight': 1, 'silent': 1, 'subsample': 0.8}\n",
            "--------------------------------------------\n",
            "R2-Score\n",
            "0.8025\n",
            "--------------------------------------------\n",
            "RMSE Score\n",
            "5.1552103765071875\n"
          ],
          "name": "stdout"
        }
      ]
    },
    {
      "cell_type": "markdown",
      "metadata": {
        "id": "4sUV-Q5yvibG",
        "colab_type": "text"
      },
      "source": [
        "## Jun4"
      ]
    },
    {
      "cell_type": "code",
      "metadata": {
        "id": "qNyjfrsUvhsF",
        "colab_type": "code",
        "colab": {}
      },
      "source": [
        "# Organize our data for training\n",
        "X = jun4.drop([\"Vehicles\",\"DateTime\",\"ID\"], axis=1)\n",
        "Y = jun4[\"Vehicles\"]\n",
        "X, X_Val, Y, Y_Val = train_test_split(X, Y,test_size=0.01)\n",
        "\n",
        "# Various hyper-parameters to tune\n",
        "xgb1 = XGBRegressor()\n",
        "parameters = {'nthread':[4], #when use hyperthread, xgboost may become slower\n",
        "              'objective':['reg:linear'],\n",
        "              'silent': [1],\n",
        "              'learning_rate': [0.01],\n",
        "              'n_estimators': [600],\n",
        "              'max_depth': [4],\n",
        "              'min_child_weight': [10],\n",
        "              'gamma':[0.05],\n",
        "              'subsample': [0.5],\n",
        "              'scale_pos_weight':[1],\n",
        "              'colsample_bytree':[0.9],\n",
        "              'reg_alpha':[0.05]}"
      ],
      "execution_count": 0,
      "outputs": []
    },
    {
      "cell_type": "code",
      "metadata": {
        "colab_type": "code",
        "id": "mP2KIesI1_hS",
        "colab": {}
      },
      "source": [
        "rscvj4 = RandomizedSearchCV(xgb1,\n",
        "                            parameters,\n",
        "                            n_jobs=5,\n",
        "                            cv=2)\n",
        "rscvj4.fit(X,Y)\n",
        "print(\"Best Parameters\")\n",
        "print(rscvj4.best_params_)\n",
        "print(\"--------------------------------------------\")\n",
        "print(\"R2-Score\")\n",
        "print(round(r2_score(Y_Val, rscvj4.best_estimator_.predict(X_Val)),4))\n",
        "print(\"--------------------------------------------\")\n",
        "print(\"RMSE Score\")\n",
        "print(sqrt(mean_squared_error(Y_Val, rscvj4.best_estimator_.predict(X_Val))))"
      ],
      "execution_count": 0,
      "outputs": []
    },
    {
      "cell_type": "code",
      "metadata": {
        "id": "g_krkXycwiAT",
        "colab_type": "code",
        "colab": {
          "base_uri": "https://localhost:8080/",
          "height": 171
        },
        "outputId": "5a2686b7-2dab-4ef5-cffb-09408efaea0e"
      },
      "source": [
        "xgbj4_grid = GridSearchCV(xgb1,\n",
        "                        parameters,\n",
        "                        cv = 2,\n",
        "                        n_jobs = -1,\n",
        "                        verbose=False)\n",
        "\n",
        "\n",
        "xgbj4_grid.fit(X,Y)\n",
        "print(\"Best Parameters\")\n",
        "print(xgbj4_grid.best_params_)\n",
        "print(\"--------------------------------------------\")\n",
        "from sklearn.metrics import r2_score\n",
        "print(\"R2-Score\")\n",
        "print(round(r2_score(Y_Val, xgbj4_grid.best_estimator_.predict(X_Val)),4))\n",
        "print(\"--------------------------------------------\")\n",
        "print(\"RMSE Score\")\n",
        "print(sqrt(mean_squared_error(Y_Val, xgbj4_grid.best_estimator_.predict(X_Val))))"
      ],
      "execution_count": 36,
      "outputs": [
        {
          "output_type": "stream",
          "text": [
            "Best Parameters\n",
            "{'colsample_bytree': 0.9, 'gamma': 0.05, 'learning_rate': 0.01, 'max_depth': 4, 'min_child_weight': 10, 'n_estimators': 600, 'nthread': 4, 'objective': 'reg:linear', 'reg_alpha': 0.05, 'scale_pos_weight': 1, 'silent': 1, 'subsample': 0.5}\n",
            "--------------------------------------------\n",
            "R2-Score\n",
            "0.6234\n",
            "--------------------------------------------\n",
            "RMSE Score\n",
            "1.815186483424554\n"
          ],
          "name": "stdout"
        }
      ]
    },
    {
      "cell_type": "markdown",
      "metadata": {
        "id": "cIE5Nde5PxKR",
        "colab_type": "text"
      },
      "source": [
        "# Test"
      ]
    },
    {
      "cell_type": "code",
      "metadata": {
        "id": "ABGZDYeQPzQ0",
        "colab_type": "code",
        "colab": {}
      },
      "source": [
        "dftest = pd.read_csv(\"test.csv\")\n",
        "sub = pd.read_csv(\"sample_submission.csv\")\n",
        "# applying groupby() function to group the data on team value. \n",
        "gk = dftest.groupby('Junction') \n",
        "jun1t = gk.get_group(1) \n",
        "jun2t = gk.get_group(2)\n",
        "jun3t = gk.get_group(3) \n",
        "jun4t = gk.get_group(4) \n",
        "\n",
        "jun1t['DateTime'] = jun1t['DateTime'].map(pd.to_datetime)\n",
        "jun1t['date'] = jun1t['DateTime'].map(get_dom)\n",
        "jun1t['weekday'] = jun1t['DateTime'].map(get_weekday)\n",
        "jun1t['hour'] = jun1t['DateTime'].map(get_hour)\n",
        "jun1t['month'] = jun1t['DateTime'].map(get_month)\n",
        "jun1t['year'] = jun1t['DateTime'].map(get_year)\n",
        "jun1t['dayofyear'] = jun1t['DateTime'].map(get_dayofyear)\n",
        "jun1t['weekofyear'] = jun1t['DateTime'].map(get_weekofyear)\n",
        "\n",
        "jun2t['DateTime'] = jun2t['DateTime'].map(pd.to_datetime)\n",
        "jun2t['date'] = jun2t['DateTime'].map(get_dom)\n",
        "jun2t['weekday'] = jun2t['DateTime'].map(get_weekday)\n",
        "jun2t['hour'] = jun2t['DateTime'].map(get_hour)\n",
        "jun2t['month'] = jun2t['DateTime'].map(get_month)\n",
        "jun2t['year'] = jun2t['DateTime'].map(get_year)\n",
        "jun2t['dayofyear'] = jun2t['DateTime'].map(get_dayofyear)\n",
        "jun2t['weekofyear'] = jun2t['DateTime'].map(get_weekofyear)\n",
        "\n",
        "jun3t['DateTime'] = jun3t['DateTime'].map(pd.to_datetime)\n",
        "jun3t['date'] = jun3t['DateTime'].map(get_dom)\n",
        "jun3t['weekday'] = jun3t['DateTime'].map(get_weekday)\n",
        "jun3t['hour'] = jun3t['DateTime'].map(get_hour)\n",
        "jun3t['month'] = jun3t['DateTime'].map(get_month)\n",
        "jun3t['year'] = jun3t['DateTime'].map(get_year)\n",
        "jun3t['dayofyear'] = jun3t['DateTime'].map(get_dayofyear)\n",
        "jun3t['weekofyear'] = jun3t['DateTime'].map(get_weekofyear)\n",
        "\n",
        "jun4t['DateTime'] = jun4t['DateTime'].map(pd.to_datetime)\n",
        "jun4t['date'] = jun4t['DateTime'].map(get_dom)\n",
        "jun4t['weekday'] = jun4t['DateTime'].map(get_weekday)\n",
        "jun4t['hour'] = jun4t['DateTime'].map(get_hour)\n",
        "jun4t['month'] = jun4t['DateTime'].map(get_month)\n",
        "jun4t['year'] = jun4t['DateTime'].map(get_year)\n",
        "jun4t['dayofyear'] = jun4t['DateTime'].map(get_dayofyear)\n",
        "jun4t['weekofyear'] = jun4t['DateTime'].map(get_weekofyear)"
      ],
      "execution_count": 0,
      "outputs": []
    },
    {
      "cell_type": "code",
      "metadata": {
        "id": "8HObutHV9bRL",
        "colab_type": "code",
        "colab": {
          "base_uri": "https://localhost:8080/",
          "height": 598
        },
        "outputId": "ccb55537-57e9-454d-f34b-7ee6bb0e0708"
      },
      "source": [
        "# Save the file\n",
        "jun1t['out'] = xgbj1_grid.best_estimator_.predict(jun1t.drop([\"DateTime\",\"ID\"], axis=1))\n",
        "jun2t['out'] = xgbj2_grid.best_estimator_.predict(jun2t.drop([\"DateTime\",\"ID\"], axis=1))\n",
        "jun3t['out'] = xgbj3_grid.best_estimator_.predict(jun3t.drop([\"DateTime\",\"ID\"], axis=1))\n",
        "jun4t['out'] = xgbj4_grid.best_estimator_.predict(jun4t.drop([\"DateTime\",\"ID\"], axis=1))\n",
        "\n",
        "result = pd.concat([jun1t,jun2t,jun3t,jun4t])\n",
        "result.head()"
      ],
      "execution_count": 38,
      "outputs": [
        {
          "output_type": "stream",
          "text": [
            "/usr/local/lib/python3.6/dist-packages/ipykernel_launcher.py:2: SettingWithCopyWarning: \n",
            "A value is trying to be set on a copy of a slice from a DataFrame.\n",
            "Try using .loc[row_indexer,col_indexer] = value instead\n",
            "\n",
            "See the caveats in the documentation: https://pandas.pydata.org/pandas-docs/stable/user_guide/indexing.html#returning-a-view-versus-a-copy\n",
            "  \n",
            "/usr/local/lib/python3.6/dist-packages/ipykernel_launcher.py:3: SettingWithCopyWarning: \n",
            "A value is trying to be set on a copy of a slice from a DataFrame.\n",
            "Try using .loc[row_indexer,col_indexer] = value instead\n",
            "\n",
            "See the caveats in the documentation: https://pandas.pydata.org/pandas-docs/stable/user_guide/indexing.html#returning-a-view-versus-a-copy\n",
            "  This is separate from the ipykernel package so we can avoid doing imports until\n",
            "/usr/local/lib/python3.6/dist-packages/ipykernel_launcher.py:4: SettingWithCopyWarning: \n",
            "A value is trying to be set on a copy of a slice from a DataFrame.\n",
            "Try using .loc[row_indexer,col_indexer] = value instead\n",
            "\n",
            "See the caveats in the documentation: https://pandas.pydata.org/pandas-docs/stable/user_guide/indexing.html#returning-a-view-versus-a-copy\n",
            "  after removing the cwd from sys.path.\n",
            "/usr/local/lib/python3.6/dist-packages/ipykernel_launcher.py:5: SettingWithCopyWarning: \n",
            "A value is trying to be set on a copy of a slice from a DataFrame.\n",
            "Try using .loc[row_indexer,col_indexer] = value instead\n",
            "\n",
            "See the caveats in the documentation: https://pandas.pydata.org/pandas-docs/stable/user_guide/indexing.html#returning-a-view-versus-a-copy\n",
            "  \"\"\"\n"
          ],
          "name": "stderr"
        },
        {
          "output_type": "execute_result",
          "data": {
            "text/html": [
              "<div>\n",
              "<style scoped>\n",
              "    .dataframe tbody tr th:only-of-type {\n",
              "        vertical-align: middle;\n",
              "    }\n",
              "\n",
              "    .dataframe tbody tr th {\n",
              "        vertical-align: top;\n",
              "    }\n",
              "\n",
              "    .dataframe thead th {\n",
              "        text-align: right;\n",
              "    }\n",
              "</style>\n",
              "<table border=\"1\" class=\"dataframe\">\n",
              "  <thead>\n",
              "    <tr style=\"text-align: right;\">\n",
              "      <th></th>\n",
              "      <th>DateTime</th>\n",
              "      <th>Junction</th>\n",
              "      <th>ID</th>\n",
              "      <th>date</th>\n",
              "      <th>weekday</th>\n",
              "      <th>hour</th>\n",
              "      <th>month</th>\n",
              "      <th>year</th>\n",
              "      <th>dayofyear</th>\n",
              "      <th>weekofyear</th>\n",
              "      <th>out</th>\n",
              "    </tr>\n",
              "  </thead>\n",
              "  <tbody>\n",
              "    <tr>\n",
              "      <th>0</th>\n",
              "      <td>2017-07-01 00:00:00</td>\n",
              "      <td>1</td>\n",
              "      <td>20170701001</td>\n",
              "      <td>1</td>\n",
              "      <td>5</td>\n",
              "      <td>0</td>\n",
              "      <td>7</td>\n",
              "      <td>2017</td>\n",
              "      <td>182</td>\n",
              "      <td>26</td>\n",
              "      <td>70.404770</td>\n",
              "    </tr>\n",
              "    <tr>\n",
              "      <th>1</th>\n",
              "      <td>2017-07-01 01:00:00</td>\n",
              "      <td>1</td>\n",
              "      <td>20170701011</td>\n",
              "      <td>1</td>\n",
              "      <td>5</td>\n",
              "      <td>1</td>\n",
              "      <td>7</td>\n",
              "      <td>2017</td>\n",
              "      <td>182</td>\n",
              "      <td>26</td>\n",
              "      <td>59.686611</td>\n",
              "    </tr>\n",
              "    <tr>\n",
              "      <th>2</th>\n",
              "      <td>2017-07-01 02:00:00</td>\n",
              "      <td>1</td>\n",
              "      <td>20170701021</td>\n",
              "      <td>1</td>\n",
              "      <td>5</td>\n",
              "      <td>2</td>\n",
              "      <td>7</td>\n",
              "      <td>2017</td>\n",
              "      <td>182</td>\n",
              "      <td>26</td>\n",
              "      <td>51.887848</td>\n",
              "    </tr>\n",
              "    <tr>\n",
              "      <th>3</th>\n",
              "      <td>2017-07-01 03:00:00</td>\n",
              "      <td>1</td>\n",
              "      <td>20170701031</td>\n",
              "      <td>1</td>\n",
              "      <td>5</td>\n",
              "      <td>3</td>\n",
              "      <td>7</td>\n",
              "      <td>2017</td>\n",
              "      <td>182</td>\n",
              "      <td>26</td>\n",
              "      <td>40.643528</td>\n",
              "    </tr>\n",
              "    <tr>\n",
              "      <th>4</th>\n",
              "      <td>2017-07-01 04:00:00</td>\n",
              "      <td>1</td>\n",
              "      <td>20170701041</td>\n",
              "      <td>1</td>\n",
              "      <td>5</td>\n",
              "      <td>4</td>\n",
              "      <td>7</td>\n",
              "      <td>2017</td>\n",
              "      <td>182</td>\n",
              "      <td>26</td>\n",
              "      <td>33.106750</td>\n",
              "    </tr>\n",
              "  </tbody>\n",
              "</table>\n",
              "</div>"
            ],
            "text/plain": [
              "             DateTime  Junction           ID  ...  dayofyear  weekofyear        out\n",
              "0 2017-07-01 00:00:00         1  20170701001  ...        182          26  70.404770\n",
              "1 2017-07-01 01:00:00         1  20170701011  ...        182          26  59.686611\n",
              "2 2017-07-01 02:00:00         1  20170701021  ...        182          26  51.887848\n",
              "3 2017-07-01 03:00:00         1  20170701031  ...        182          26  40.643528\n",
              "4 2017-07-01 04:00:00         1  20170701041  ...        182          26  33.106750\n",
              "\n",
              "[5 rows x 11 columns]"
            ]
          },
          "metadata": {
            "tags": []
          },
          "execution_count": 38
        }
      ]
    },
    {
      "cell_type": "code",
      "metadata": {
        "id": "VoK5YYJ0SihH",
        "colab_type": "code",
        "colab": {}
      },
      "source": [
        "sub['Vehicles']=result['out']"
      ],
      "execution_count": 0,
      "outputs": []
    },
    {
      "cell_type": "code",
      "metadata": {
        "id": "j2tWNbiJR_gR",
        "colab_type": "code",
        "outputId": "34dda2de-1f0b-40a3-f682-71dcb2b48148",
        "colab": {
          "base_uri": "https://localhost:8080/",
          "height": 195
        }
      },
      "source": [
        "sub.to_csv(\"output.csv\",index=False)\n",
        "output = pd.read_csv(\"output.csv\")\n",
        "output.head()"
      ],
      "execution_count": 40,
      "outputs": [
        {
          "output_type": "execute_result",
          "data": {
            "text/html": [
              "<div>\n",
              "<style scoped>\n",
              "    .dataframe tbody tr th:only-of-type {\n",
              "        vertical-align: middle;\n",
              "    }\n",
              "\n",
              "    .dataframe tbody tr th {\n",
              "        vertical-align: top;\n",
              "    }\n",
              "\n",
              "    .dataframe thead th {\n",
              "        text-align: right;\n",
              "    }\n",
              "</style>\n",
              "<table border=\"1\" class=\"dataframe\">\n",
              "  <thead>\n",
              "    <tr style=\"text-align: right;\">\n",
              "      <th></th>\n",
              "      <th>ID</th>\n",
              "      <th>Vehicles</th>\n",
              "    </tr>\n",
              "  </thead>\n",
              "  <tbody>\n",
              "    <tr>\n",
              "      <th>0</th>\n",
              "      <td>20170701001</td>\n",
              "      <td>70.404770</td>\n",
              "    </tr>\n",
              "    <tr>\n",
              "      <th>1</th>\n",
              "      <td>20170701011</td>\n",
              "      <td>59.686610</td>\n",
              "    </tr>\n",
              "    <tr>\n",
              "      <th>2</th>\n",
              "      <td>20170701021</td>\n",
              "      <td>51.887848</td>\n",
              "    </tr>\n",
              "    <tr>\n",
              "      <th>3</th>\n",
              "      <td>20170701031</td>\n",
              "      <td>40.643528</td>\n",
              "    </tr>\n",
              "    <tr>\n",
              "      <th>4</th>\n",
              "      <td>20170701041</td>\n",
              "      <td>33.106750</td>\n",
              "    </tr>\n",
              "  </tbody>\n",
              "</table>\n",
              "</div>"
            ],
            "text/plain": [
              "            ID   Vehicles\n",
              "0  20170701001  70.404770\n",
              "1  20170701011  59.686610\n",
              "2  20170701021  51.887848\n",
              "3  20170701031  40.643528\n",
              "4  20170701041  33.106750"
            ]
          },
          "metadata": {
            "tags": []
          },
          "execution_count": 40
        }
      ]
    },
    {
      "cell_type": "code",
      "metadata": {
        "id": "S1KUfJhC0l-G",
        "colab_type": "code",
        "colab": {}
      },
      "source": [
        "del jun1t['out']\n",
        "del jun2t['out'] \n",
        "del jun3t['out']\n",
        "del jun4t['out']"
      ],
      "execution_count": 0,
      "outputs": []
    }
  ]
}