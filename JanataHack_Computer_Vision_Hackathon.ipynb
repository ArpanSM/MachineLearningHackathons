{
  "nbformat": 4,
  "nbformat_minor": 0,
  "metadata": {
    "colab": {
      "name": "JanataHack: Computer Vision Hackathon.ipynb",
      "provenance": [],
      "authorship_tag": "ABX9TyPrG6IoYFbiupv2m5FKaQns",
      "include_colab_link": true
    },
    "kernelspec": {
      "name": "python3",
      "display_name": "Python 3"
    },
    "accelerator": "GPU"
  },
  "cells": [
    {
      "cell_type": "markdown",
      "metadata": {
        "id": "view-in-github",
        "colab_type": "text"
      },
      "source": [
        "<a href=\"https://colab.research.google.com/github/ArpanSM/MachineLearningHackathons/blob/master/JanataHack_Computer_Vision_Hackathon.ipynb\" target=\"_parent\"><img src=\"https://colab.research.google.com/assets/colab-badge.svg\" alt=\"Open In Colab\"/></a>"
      ]
    },
    {
      "cell_type": "code",
      "metadata": {
        "id": "lrhqBNEUyBZZ",
        "colab_type": "code",
        "colab": {}
      },
      "source": [
        "#download data\n",
        "!wget https://datahack-prod.s3.amazonaws.com/train_file/train_SOaYf6m.zip\n",
        "!wget https://datahack-prod.s3.amazonaws.com/test_file/test_vc2kHdQ.csv\n",
        "!wget https://datahack-prod.s3.amazonaws.com/sample_submission/sample_submission_yxjOnvz.csv\n",
        "!unzip /content/train_SOaYf6m.zip\n",
        "#libraries\n",
        "import pandas as pd\n",
        "import cv2\n",
        "import numpy as np\n",
        "#input data\n",
        "train=pd.read_csv(\"/content/train.csv\")\n",
        "test=pd.read_csv(\"/content/test_vc2kHdQ.csv\")\n",
        "sub=pd.read_csv(\"/content/sample_submission_yxjOnvz.csv\")\n",
        "#install\n",
        "!pip install livelossplot"
      ],
      "execution_count": null,
      "outputs": []
    },
    {
      "cell_type": "code",
      "metadata": {
        "id": "sYKf-SKiWQvh",
        "colab_type": "code",
        "colab": {}
      },
      "source": [
        "import keras\n",
        "from keras import optimizers\n",
        "from keras.utils import np_utils\n",
        "from keras.models import Model, Sequential\n",
        "from keras.layers import Convolution2D,Dense,MaxPool2D,Activation,Dropout,Flatten,GlobalAveragePooling2D\n",
        "from keras.optimizers import Adam\n",
        "from sklearn.model_selection import train_test_split\n",
        "from keras.layers.normalization import BatchNormalization\n",
        "from sklearn.model_selection import train_test_split\n",
        "from keras.preprocessing.image import ImageDataGenerator\n",
        "from livelossplot import PlotLossesKeras\n",
        "from keras.callbacks import ReduceLROnPlateau,ModelCheckpoint,EarlyStopping"
      ],
      "execution_count": null,
      "outputs": []
    },
    {
      "cell_type": "markdown",
      "metadata": {
        "id": "qtsWnRl6zdhm",
        "colab_type": "text"
      },
      "source": [
        "\n",
        "\n",
        "```\n",
        "#input shape according to pre trainied network\n",
        "# ResNet50 --> 384\n",
        "# VGG16 -- > 224\n",
        "# VGG19 --> 224\n",
        "# Xception --> 224\n",
        "# InceptionV3 --> 224\n",
        "```\n",
        "\n"
      ]
    },
    {
      "cell_type": "markdown",
      "metadata": {
        "id": "yJEDj3doVDyX",
        "colab_type": "text"
      },
      "source": [
        "## ResNet50"
      ]
    },
    {
      "cell_type": "code",
      "metadata": {
        "id": "Kynjzqg6eHKV",
        "colab_type": "code",
        "colab": {}
      },
      "source": [
        "img_size = 384"
      ],
      "execution_count": null,
      "outputs": []
    },
    {
      "cell_type": "code",
      "metadata": {
        "id": "Lh1yCS6ueHKY",
        "colab_type": "code",
        "colab": {
          "base_uri": "https://localhost:8080/",
          "height": 33
        },
        "outputId": "f6f25159-915e-4601-934e-b2b550012eee"
      },
      "source": [
        "#resizing and shaping images for transfer learning with ResNet50\n",
        "img=[]\n",
        "filename=train.image_names\n",
        "for file in filename:\n",
        "    image=cv2.imread(\"/content/images/\"+file)\n",
        "    res=cv2.resize(image,(img_size,img_size))\n",
        "    img.append(res)\n",
        "img=np.array(img)\n",
        "print(img.shape)"
      ],
      "execution_count": null,
      "outputs": [
        {
          "output_type": "stream",
          "text": [
            "(1646, 384, 384, 3)\n"
          ],
          "name": "stdout"
        }
      ]
    },
    {
      "cell_type": "code",
      "metadata": {
        "id": "Ar5ZIo5S0BUi",
        "colab_type": "code",
        "colab": {
          "base_uri": "https://localhost:8080/",
          "height": 67
        },
        "outputId": "74a083c9-de0c-4110-986b-9bf0d699ac5d"
      },
      "source": [
        "#splitting data for training and validation\n",
        "train, val = train_test_split(train, test_size = 0.2)\n",
        "\n",
        "#data augmentation\n",
        "train_datagen = ImageDataGenerator( horizontal_flip=True,\n",
        "                                    vertical_flip=True,\n",
        "                                    rotation_range=10,\n",
        "                                    width_shift_range=0.1,\n",
        "                                    height_shift_range=0.1,\n",
        "                                    zoom_range=.1,\n",
        "                                    fill_mode='nearest',\n",
        "                                    shear_range=0.1,\n",
        "                                    rescale=1/255)\n",
        "train_generator=train_datagen.flow_from_dataframe(train,directory='/content/images',\n",
        "                                                      target_size=(img_size,img_size),\n",
        "                                                      x_col=\"image_names\",\n",
        "                                                      y_col=\"emergency_or_not\",\n",
        "                                                      class_mode='raw',\n",
        "                                                      shuffle=False,\n",
        "                                                      subset='training',\n",
        "                                                      batch_size=5)\n",
        "\n",
        "val_datagen = ImageDataGenerator(rescale=1. / 255)\n",
        "val_generator=val_datagen.flow_from_dataframe(val,directory='/content/images',\n",
        "                                                      target_size=(img_size,img_size),\n",
        "                                                      x_col=\"image_names\",\n",
        "                                                      y_col=\"emergency_or_not\",\n",
        "                                                      class_mode='raw',\n",
        "                                                      shuffle=False,\n",
        "                                                      batch_size=5)\n",
        "\n",
        "test_datagen = ImageDataGenerator(rescale=1. / 255)\n",
        "test_generator=test_datagen.flow_from_dataframe(test,directory='/content/images',\n",
        "                                                      target_size=(img_size,img_size),\n",
        "                                                      x_col=\"image_names\",\n",
        "                                                      y_col=None,\n",
        "                                                      class_mode=None,\n",
        "                                                      shuffle=False,\n",
        "                                                      batch_size=5)"
      ],
      "execution_count": null,
      "outputs": [
        {
          "output_type": "stream",
          "text": [
            "Found 1316 validated image filenames.\n",
            "Found 330 validated image filenames.\n",
            "Found 706 validated image filenames.\n"
          ],
          "name": "stdout"
        }
      ]
    },
    {
      "cell_type": "code",
      "metadata": {
        "id": "oHdQzGmm1IDk",
        "colab_type": "code",
        "colab": {
          "base_uri": "https://localhost:8080/",
          "height": 104
        },
        "outputId": "b18d6465-39c3-4d15-895d-40bde0ee95ba"
      },
      "source": [
        "from keras.applications.resnet50 import ResNet50\n",
        "model_finetuned = ResNet50(include_top=False, weights='imagenet', input_shape=(img_size,img_size,3))"
      ],
      "execution_count": null,
      "outputs": [
        {
          "output_type": "stream",
          "text": [
            "/usr/local/lib/python3.6/dist-packages/keras_applications/resnet50.py:265: UserWarning: The output shape of `ResNet50(include_top=False)` has been changed since Keras 2.2.0.\n",
            "  warnings.warn('The output shape of `ResNet50(include_top=False)` '\n"
          ],
          "name": "stderr"
        },
        {
          "output_type": "stream",
          "text": [
            "Downloading data from https://github.com/fchollet/deep-learning-models/releases/download/v0.2/resnet50_weights_tf_dim_ordering_tf_kernels_notop.h5\n",
            "94658560/94653016 [==============================] - 7s 0us/step\n"
          ],
          "name": "stdout"
        }
      ]
    },
    {
      "cell_type": "code",
      "metadata": {
        "id": "LE8pfMI01KIH",
        "colab_type": "code",
        "colab": {}
      },
      "source": [
        "x = model_finetuned.output\n",
        "x = GlobalAveragePooling2D()(x)\n",
        "x = Dense(1024, activation=\"relu\")(x)\n",
        "x = Dropout(0.2)(x)\n",
        "x = Dense(512, activation=\"relu\")(x)\n",
        "x = Dropout(0.2)(x)\n",
        "predictions = Dense(1, activation=\"sigmoid\")(x)"
      ],
      "execution_count": null,
      "outputs": []
    },
    {
      "cell_type": "code",
      "metadata": {
        "id": "xhUCe_C426SO",
        "colab_type": "code",
        "colab": {}
      },
      "source": [
        "adam = keras.optimizers.Adam(learning_rate=0.000005, \n",
        "                             beta_1=0.9,\n",
        "                             beta_2=0.999,\n",
        "                             amsgrad=False)\n",
        "\n",
        "model_finetuned = Model(inputs=model_finetuned.input,\n",
        "                        outputs=predictions)\n",
        "\n",
        "model_finetuned.compile(optimizer=adam,\n",
        "                        loss = 'binary_crossentropy',\n",
        "                        metrics=['accuracy'])\n",
        "\n",
        "#model_finetuned.summary()"
      ],
      "execution_count": null,
      "outputs": []
    },
    {
      "cell_type": "code",
      "metadata": {
        "id": "toG2JY_s3B6u",
        "colab_type": "code",
        "colab": {}
      },
      "source": [
        "reduce_lr = ReduceLROnPlateau(monitor='val_loss', \n",
        "                              factor=0.3,\n",
        "                              patience=3,\n",
        "                              min_lr=0.000001)\n",
        "\n",
        "\n",
        "checkpoint = ModelCheckpoint(\"./model.{epoch:02d}-{val_loss:.2f}-{val_accuracy:.2f}.h5\",\n",
        "                             monitor=\"val_loss\",\n",
        "                             mode=\"auto\",\n",
        "                             save_best_only = True,\n",
        "                             verbose=1)\n",
        "\n",
        "callbacks = [PlotLossesKeras(),reduce_lr]"
      ],
      "execution_count": null,
      "outputs": []
    },
    {
      "cell_type": "code",
      "metadata": {
        "id": "377pIuvj3XNS",
        "colab_type": "code",
        "colab": {
          "base_uri": "https://localhost:8080/",
          "height": 755
        },
        "outputId": "a915e546-c80c-4497-9eab-785933865303"
      },
      "source": [
        "history = model_finetuned.fit_generator(train_generator,\n",
        "                                        steps_per_epoch=100,\n",
        "                                        epochs=25,\n",
        "                                        validation_data=val_generator,\n",
        "                                        validation_steps=100,\n",
        "                                        callbacks = callbacks,\n",
        "                                        use_multiprocessing=False,\n",
        "                                        shuffle=True)"
      ],
      "execution_count": null,
      "outputs": [
        {
          "output_type": "display_data",
          "data": {
            "image/png": "[encoded data removed]",
            "text/plain": [
              "<Figure size 864x864 with 3 Axes>"
            ]
          },
          "metadata": {
            "tags": [],
            "needs_background": "light"
          }
        },
        {
          "output_type": "stream",
          "text": [
            "accuracy\n",
            "\tvalidation       \t (min:    0.584, max:    0.942, cur:    0.938)\n",
            "\ttraining         \t (min:    0.634, max:    0.926, cur:    0.926)\n",
            "Loss\n",
            "\tvalidation       \t (min:    0.019, max:    0.699, cur:    0.476)\n",
            "\ttraining         \t (min:    0.190, max:    0.638, cur:    0.209)\n",
            "lr\n",
            "\tlr               \t (min:    0.000, max:    0.000, cur:    0.000)\n"
          ],
          "name": "stdout"
        }
      ]
    },
    {
      "cell_type": "code",
      "metadata": {
        "id": "W_OGdfow3u_y",
        "colab_type": "code",
        "colab": {
          "base_uri": "https://localhost:8080/",
          "height": 33
        },
        "outputId": "59c17e49-be76-4103-a347-976fd0ddf527"
      },
      "source": [
        "out = model_finetuned.predict(test_generator, verbose=1)\n",
        "out_proba = out"
      ],
      "execution_count": null,
      "outputs": [
        {
          "output_type": "stream",
          "text": [
            "142/142 [==============================] - 25s 179ms/step\n"
          ],
          "name": "stdout"
        }
      ]
    },
    {
      "cell_type": "code",
      "metadata": {
        "id": "RxY9xFck9LVD",
        "colab_type": "code",
        "colab": {}
      },
      "source": [
        "for i in range(len(out)):\n",
        "  if(out_proba[i]>0.5):\n",
        "    out[i]=1\n",
        "  else:\n",
        "    out[i]=0"
      ],
      "execution_count": null,
      "outputs": []
    },
    {
      "cell_type": "code",
      "metadata": {
        "id": "654V6MRX4DSG",
        "colab_type": "code",
        "colab": {
          "base_uri": "https://localhost:8080/",
          "height": 196
        },
        "outputId": "598ba8e6-7953-4f67-959a-7a54cb3dd6d3"
      },
      "source": [
        "sub['emergency_or_not'] = out.astype(int)\n",
        "sub.head()"
      ],
      "execution_count": null,
      "outputs": [
        {
          "output_type": "execute_result",
          "data": {
            "text/html": [
              "<div>\n",
              "<style scoped>\n",
              "    .dataframe tbody tr th:only-of-type {\n",
              "        vertical-align: middle;\n",
              "    }\n",
              "\n",
              "    .dataframe tbody tr th {\n",
              "        vertical-align: top;\n",
              "    }\n",
              "\n",
              "    .dataframe thead th {\n",
              "        text-align: right;\n",
              "    }\n",
              "</style>\n",
              "<table border=\"1\" class=\"dataframe\">\n",
              "  <thead>\n",
              "    <tr style=\"text-align: right;\">\n",
              "      <th></th>\n",
              "      <th>image_names</th>\n",
              "      <th>emergency_or_not</th>\n",
              "    </tr>\n",
              "  </thead>\n",
              "  <tbody>\n",
              "    <tr>\n",
              "      <th>0</th>\n",
              "      <td>1960.jpg</td>\n",
              "      <td>0</td>\n",
              "    </tr>\n",
              "    <tr>\n",
              "      <th>1</th>\n",
              "      <td>668.jpg</td>\n",
              "      <td>1</td>\n",
              "    </tr>\n",
              "    <tr>\n",
              "      <th>2</th>\n",
              "      <td>2082.jpg</td>\n",
              "      <td>0</td>\n",
              "    </tr>\n",
              "    <tr>\n",
              "      <th>3</th>\n",
              "      <td>808.jpg</td>\n",
              "      <td>1</td>\n",
              "    </tr>\n",
              "    <tr>\n",
              "      <th>4</th>\n",
              "      <td>1907.jpg</td>\n",
              "      <td>0</td>\n",
              "    </tr>\n",
              "  </tbody>\n",
              "</table>\n",
              "</div>"
            ],
            "text/plain": [
              "  image_names  emergency_or_not\n",
              "0    1960.jpg                 0\n",
              "1     668.jpg                 1\n",
              "2    2082.jpg                 0\n",
              "3     808.jpg                 1\n",
              "4    1907.jpg                 0"
            ]
          },
          "metadata": {
            "tags": []
          },
          "execution_count": 87
        }
      ]
    },
    {
      "cell_type": "code",
      "metadata": {
        "id": "WehjcZAv_j9v",
        "colab_type": "code",
        "colab": {}
      },
      "source": [
        "sub.to_csv('submission_RESNET.csv', index=False)"
      ],
      "execution_count": null,
      "outputs": []
    },
    {
      "cell_type": "code",
      "metadata": {
        "id": "kjb_ISHB9zpM",
        "colab_type": "code",
        "colab": {}
      },
      "source": [
        ""
      ],
      "execution_count": null,
      "outputs": []
    }
  ]
}